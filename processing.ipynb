{
  "nbformat": 4,
  "nbformat_minor": 0,
  "metadata": {
    "colab": {
      "name": "Untitled3.ipynb",
      "provenance": [],
      "include_colab_link": true
    },
    "kernelspec": {
      "name": "python3",
      "display_name": "Python 3"
    },
    "accelerator": "GPU"
  },
  "cells": [
    {
      "cell_type": "markdown",
      "metadata": {
        "id": "view-in-github",
        "colab_type": "text"
      },
      "source": [
        "<a href=\"https://colab.research.google.com/github/ErikSeguinte/movie_data/blob/master/processing.ipynb\" target=\"_parent\"><img src=\"https://colab.research.google.com/assets/colab-badge.svg\" alt=\"Open In Colab\"/></a>"
      ]
    },
    {
      "cell_type": "code",
      "metadata": {
        "id": "9KolpbjZRaoz",
        "colab_type": "code",
        "colab": {}
      },
      "source": [
        "import pandas as pd\n",
        "import cufflinks as cf\n",
        "import numpy as np\n",
        "import plotly.graph_objects as go\n",
        "import altair as alt\n",
        "import plotly.express as px"
      ],
      "execution_count": 0,
      "outputs": []
    },
    {
      "cell_type": "code",
      "metadata": {
        "id": "MSLNAouuRapG",
        "colab_type": "code",
        "colab": {}
      },
      "source": [
        "merge_keys = {'left_index':True, 'right_index':True}\n",
        "html_keys = {'full_html':False, 'include_plotlyjs':\"cdn\"}"
      ],
      "execution_count": 0,
      "outputs": []
    },
    {
      "cell_type": "markdown",
      "metadata": {
        "colab_type": "text",
        "id": "cHmXX2xrlfbZ"
      },
      "source": [
        "* I previously pulled CSV files from Kaggle, but the files were too big to host on github.\n",
        "* I imported the files I wanted into pandas, and then exported them back out as compressed pickles.\n",
        "* I was able to compress a 700MB csv to a 3 MB Pickle"
      ]
    },
    {
      "cell_type": "code",
      "metadata": {
        "id": "SEbJ8CP-RapS",
        "colab_type": "code",
        "outputId": "e0f71402-c0b4-46dd-9dd2-e44941bcabc0",
        "colab": {
          "base_uri": "https://localhost:8080/",
          "height": 573
        }
      },
      "source": [
        "#try: \n",
        "#    movies = pd.read_pickle('data/movies.pkl.xz')\n",
        "#    ratings = pd.read_pickle('data/ratings2.pkl.xz')\n",
        "#    cpi = pd.read_csv('data/cpi.csv')\n",
        "    \n",
        "#except FileNotFoundError                         :\n",
        "    \n",
        "# Download pickles from github\n",
        "cpi = pd.read_csv('https://datahub.io/core/cpi/r/cpi.csv')\n",
        "\n",
        "!wget 'https://github.com/ErikSeguinte/movie_data/raw/master/data/movies.pkl.xz'\n",
        "!wget 'https://github.com/ErikSeguinte/movie_data/raw/master/data/ratings2.pkl.xz'\n",
        "movies = pd.read_pickle('movies.pkl.xz')\n",
        "ratings = pd.read_pickle('ratings2.pkl.xz')"
      ],
      "execution_count": 3,
      "outputs": [
        {
          "output_type": "stream",
          "text": [
            "--2020-03-07 01:53:50--  https://github.com/ErikSeguinte/movie_data/raw/master/data/movies.pkl.xz\n",
            "Resolving github.com (github.com)... 140.82.118.3\n",
            "Connecting to github.com (github.com)|140.82.118.3|:443... connected.\n",
            "HTTP request sent, awaiting response... 302 Found\n",
            "Location: https://raw.githubusercontent.com/ErikSeguinte/movie_data/master/data/movies.pkl.xz [following]\n",
            "--2020-03-07 01:53:50--  https://raw.githubusercontent.com/ErikSeguinte/movie_data/master/data/movies.pkl.xz\n",
            "Resolving raw.githubusercontent.com (raw.githubusercontent.com)... 151.101.0.133, 151.101.64.133, 151.101.128.133, ...\n",
            "Connecting to raw.githubusercontent.com (raw.githubusercontent.com)|151.101.0.133|:443... connected.\n",
            "HTTP request sent, awaiting response... 200 OK\n",
            "Length: 7917036 (7.5M) [application/octet-stream]\n",
            "Saving to: ‘movies.pkl.xz’\n",
            "\n",
            "movies.pkl.xz       100%[===================>]   7.55M  --.-KB/s    in 0.06s   \n",
            "\n",
            "2020-03-07 01:53:51 (137 MB/s) - ‘movies.pkl.xz’ saved [7917036/7917036]\n",
            "\n",
            "--2020-03-07 01:53:53--  https://github.com/ErikSeguinte/movie_data/raw/master/data/ratings2.pkl.xz\n",
            "Resolving github.com (github.com)... 140.82.118.3\n",
            "Connecting to github.com (github.com)|140.82.118.3|:443... connected.\n",
            "HTTP request sent, awaiting response... 302 Found\n",
            "Location: https://raw.githubusercontent.com/ErikSeguinte/movie_data/master/data/ratings2.pkl.xz [following]\n",
            "--2020-03-07 01:53:53--  https://raw.githubusercontent.com/ErikSeguinte/movie_data/master/data/ratings2.pkl.xz\n",
            "Resolving raw.githubusercontent.com (raw.githubusercontent.com)... 151.101.0.133, 151.101.64.133, 151.101.128.133, ...\n",
            "Connecting to raw.githubusercontent.com (raw.githubusercontent.com)|151.101.0.133|:443... connected.\n",
            "HTTP request sent, awaiting response... 200 OK\n",
            "Length: 84484648 (81M) [application/octet-stream]\n",
            "Saving to: ‘ratings2.pkl.xz’\n",
            "\n",
            "ratings2.pkl.xz     100%[===================>]  80.57M   183MB/s    in 0.4s    \n",
            "\n",
            "2020-03-07 01:53:56 (183 MB/s) - ‘ratings2.pkl.xz’ saved [84484648/84484648]\n",
            "\n"
          ],
          "name": "stdout"
        }
      ]
    },
    {
      "cell_type": "markdown",
      "metadata": {
        "colab_type": "text",
        "id": "HiXoKaRQqYr9"
      },
      "source": [
        "## Clean Movie DF"
      ]
    },
    {
      "cell_type": "code",
      "metadata": {
        "id": "3WwVD84lRapc",
        "colab_type": "code",
        "outputId": "d75b4cdd-c9e6-4ba9-ab8f-cabbc1d5a863",
        "colab": {
          "base_uri": "https://localhost:8080/",
          "height": 451
        }
      },
      "source": [
        "movies.dtypes"
      ],
      "execution_count": 4,
      "outputs": [
        {
          "output_type": "execute_result",
          "data": {
            "text/plain": [
              "adult                     object\n",
              "belongs_to_collection     object\n",
              "budget                    object\n",
              "genres                    object\n",
              "homepage                  object\n",
              "id                        object\n",
              "imdb_id                   object\n",
              "original_language         object\n",
              "original_title            object\n",
              "overview                  object\n",
              "popularity                object\n",
              "poster_path               object\n",
              "production_companies      object\n",
              "production_countries      object\n",
              "release_date              object\n",
              "revenue                  float64\n",
              "runtime                  float64\n",
              "spoken_languages          object\n",
              "status                    object\n",
              "tagline                   object\n",
              "title                     object\n",
              "video                     object\n",
              "vote_average             float64\n",
              "vote_count               float64\n",
              "dtype: object"
            ]
          },
          "metadata": {
            "tags": []
          },
          "execution_count": 4
        }
      ]
    },
    {
      "cell_type": "markdown",
      "metadata": {
        "colab_type": "text",
        "id": "Y8o7MEkpmX3Z"
      },
      "source": [
        "* Movies Dataframe has malformed data. `id` Should be numeric.\n",
        "* After inspection, it looks like there are rows that are missing a comma somewhere, making columns not line up, and adding the wrong data to columns. Let's clean those up.\n",
        "* All malformed rows have strings for IDs instead of numeric, so we will coerce them into numeric columns, and strings will be returned as `NaN`, which we'll then drop.\n",
        "\n",
        "* `budget` and `revanue` should also be numeric, but Nans won't be dropped\n",
        "\n",
        "\n",
        "\n",
        "\n"
      ]
    },
    {
      "cell_type": "code",
      "metadata": {
        "id": "wkYmlDWsRapn",
        "colab_type": "code",
        "colab": {}
      },
      "source": [
        "movies['id'] = pd.to_numeric(movies['id'], errors='coerce')\n",
        "movies = movies[movies['id'].notnull()]\n",
        "movies = movies.set_index('id')"
      ],
      "execution_count": 0,
      "outputs": []
    },
    {
      "cell_type": "code",
      "metadata": {
        "id": "MpOmkX3BRapt",
        "colab_type": "code",
        "colab": {}
      },
      "source": [
        "def to_numeric(df, labels):\n",
        "    \n",
        "    for label in labels:\n",
        "        df[label] = pd.to_numeric(movies[label], errors='coerce').copy()\n",
        "    return df"
      ],
      "execution_count": 0,
      "outputs": []
    },
    {
      "cell_type": "code",
      "metadata": {
        "id": "v0hY0EC2Rapx",
        "colab_type": "code",
        "colab": {}
      },
      "source": [
        "movies = to_numeric(movies, ['budget', 'revenue', 'vote_average'])"
      ],
      "execution_count": 0,
      "outputs": []
    },
    {
      "cell_type": "code",
      "metadata": {
        "id": "gdtnsX1eRap5",
        "colab_type": "code",
        "colab": {}
      },
      "source": [
        "movies['release_date'] =pd.to_datetime(movies['release_date'], infer_datetime_format= True)"
      ],
      "execution_count": 0,
      "outputs": []
    },
    {
      "cell_type": "code",
      "metadata": {
        "id": "JAGppVkjRaqA",
        "colab_type": "code",
        "colab": {}
      },
      "source": [
        "movies['year'] = movies['release_date'].dt.year"
      ],
      "execution_count": 0,
      "outputs": []
    },
    {
      "cell_type": "code",
      "metadata": {
        "id": "AjjIBOvXRaqF",
        "colab_type": "code",
        "colab": {}
      },
      "source": [
        "clean_movies = movies[['title','genres', 'release_date','budget', 'revenue','year' ,'runtime', 'vote_average', 'vote_count']]"
      ],
      "execution_count": 0,
      "outputs": []
    },
    {
      "cell_type": "markdown",
      "metadata": {
        "colab_type": "text",
        "id": "iW-7lxUXqdJL"
      },
      "source": [
        "## Process User Reviews\n",
        "* User reviews come in a collection of individual reviews where a review gives a movie a score of 1 to 5.\n",
        "* We will take the mean ratings for each movie"
      ]
    },
    {
      "cell_type": "code",
      "metadata": {
        "id": "0d4fd9flRaqN",
        "colab_type": "code",
        "colab": {}
      },
      "source": [
        "# Aggregate mean ratings and number of votes per movie\n",
        "movie_ratings =pd.DataFrame(ratings.groupby('movieId')[['rating']].agg(['mean', 'count']))['rating']\n",
        "movie_ratings = movie_ratings.rename({'mean': 'rating', 'count': 'num_votes'}, axis = 1)\n"
      ],
      "execution_count": 0,
      "outputs": []
    },
    {
      "cell_type": "markdown",
      "metadata": {
        "colab_type": "text",
        "id": "NScOxazLtC9g"
      },
      "source": [
        "* Lets drop any movies with less than 100 votes. Those are more easily swayed by outliers and aren't reliable."
      ]
    },
    {
      "cell_type": "code",
      "metadata": {
        "id": "Hu2BzByDRaqW",
        "colab_type": "code",
        "colab": {}
      },
      "source": [
        "movie_ratings = movie_ratings[(movie_ratings['num_votes'] >= 100)]"
      ],
      "execution_count": 0,
      "outputs": []
    },
    {
      "cell_type": "markdown",
      "metadata": {
        "colab_type": "text",
        "id": "Ht36bnK3q0ra"
      },
      "source": [
        "* And now we merge the averaged ratings back with the movie database.\n",
        "* Note that not all movies are present in the user votings."
      ]
    },
    {
      "cell_type": "code",
      "metadata": {
        "id": "gcthJJMgRaqc",
        "colab_type": "code",
        "colab": {}
      },
      "source": [
        "clean_movies = clean_movies.merge(movie_ratings, left_index = True, right_index=True)"
      ],
      "execution_count": 0,
      "outputs": []
    },
    {
      "cell_type": "code",
      "metadata": {
        "id": "JJNe1k7CRaqh",
        "colab_type": "code",
        "outputId": "da72434d-c31d-40c1-bc22-360fccf528f6",
        "colab": {
          "base_uri": "https://localhost:8080/",
          "height": 254
        }
      },
      "source": [
        "clean_movies[['title', 'rating', 'num_votes']].nlargest(10, 'rating').style.hide_index().format(\n",
        "    {'rating':\"{:.2f}\",\n",
        "     'num_votes': \"{:,.0f}\"}\n",
        ")"
      ],
      "execution_count": 14,
      "outputs": [
        {
          "output_type": "execute_result",
          "data": {
            "text/html": [
              "<style  type=\"text/css\" >\n",
              "</style><table id=\"T_897acdbc_6016_11ea_bbe9_0242ac1c0002\" ><thead>    <tr>        <th class=\"col_heading level0 col0\" >title</th>        <th class=\"col_heading level0 col1\" >rating</th>        <th class=\"col_heading level0 col2\" >num_votes</th>    </tr></thead><tbody>\n",
              "                <tr>\n",
              "                                <td id=\"T_897acdbc_6016_11ea_bbe9_0242ac1c0002row0_col0\" class=\"data row0 col0\" >The Million Dollar Hotel</td>\n",
              "                        <td id=\"T_897acdbc_6016_11ea_bbe9_0242ac1c0002row0_col1\" class=\"data row0 col1\" >4.43</td>\n",
              "                        <td id=\"T_897acdbc_6016_11ea_bbe9_0242ac1c0002row0_col2\" class=\"data row0 col2\" >91,082</td>\n",
              "            </tr>\n",
              "            <tr>\n",
              "                                <td id=\"T_897acdbc_6016_11ea_bbe9_0242ac1c0002row1_col0\" class=\"data row1 col0\" >Sleepless in Seattle</td>\n",
              "                        <td id=\"T_897acdbc_6016_11ea_bbe9_0242ac1c0002row1_col1\" class=\"data row1 col1\" >4.34</td>\n",
              "                        <td id=\"T_897acdbc_6016_11ea_bbe9_0242ac1c0002row1_col2\" class=\"data row1 col2\" >57,070</td>\n",
              "            </tr>\n",
              "            <tr>\n",
              "                                <td id=\"T_897acdbc_6016_11ea_bbe9_0242ac1c0002row2_col0\" class=\"data row2 col0\" >Once Were Warriors</td>\n",
              "                        <td id=\"T_897acdbc_6016_11ea_bbe9_0242ac1c0002row2_col1\" class=\"data row2 col1\" >4.27</td>\n",
              "                        <td id=\"T_897acdbc_6016_11ea_bbe9_0242ac1c0002row2_col2\" class=\"data row2 col2\" >67,662</td>\n",
              "            </tr>\n",
              "            <tr>\n",
              "                                <td id=\"T_897acdbc_6016_11ea_bbe9_0242ac1c0002row3_col0\" class=\"data row3 col0\" >Hard Target</td>\n",
              "                        <td id=\"T_897acdbc_6016_11ea_bbe9_0242ac1c0002row3_col1\" class=\"data row3 col1\" >4.26</td>\n",
              "                        <td id=\"T_897acdbc_6016_11ea_bbe9_0242ac1c0002row3_col2\" class=\"data row3 col2\" >13,994</td>\n",
              "            </tr>\n",
              "            <tr>\n",
              "                                <td id=\"T_897acdbc_6016_11ea_bbe9_0242ac1c0002row4_col0\" class=\"data row4 col0\" >License to Wed</td>\n",
              "                        <td id=\"T_897acdbc_6016_11ea_bbe9_0242ac1c0002row4_col1\" class=\"data row4 col1\" >4.23</td>\n",
              "                        <td id=\"T_897acdbc_6016_11ea_bbe9_0242ac1c0002row4_col2\" class=\"data row4 col2\" >60,024</td>\n",
              "            </tr>\n",
              "            <tr>\n",
              "                                <td id=\"T_897acdbc_6016_11ea_bbe9_0242ac1c0002row5_col0\" class=\"data row5 col0\" >Five Dances</td>\n",
              "                        <td id=\"T_897acdbc_6016_11ea_bbe9_0242ac1c0002row5_col1\" class=\"data row5 col1\" >4.22</td>\n",
              "                        <td id=\"T_897acdbc_6016_11ea_bbe9_0242ac1c0002row5_col2\" class=\"data row5 col2\" >273</td>\n",
              "            </tr>\n",
              "            <tr>\n",
              "                                <td id=\"T_897acdbc_6016_11ea_bbe9_0242ac1c0002row6_col0\" class=\"data row6 col0\" >The Thomas Crown Affair</td>\n",
              "                        <td id=\"T_897acdbc_6016_11ea_bbe9_0242ac1c0002row6_col1\" class=\"data row6 col1\" >4.21</td>\n",
              "                        <td id=\"T_897acdbc_6016_11ea_bbe9_0242ac1c0002row6_col2\" class=\"data row6 col2\" >30,043</td>\n",
              "            </tr>\n",
              "            <tr>\n",
              "                                <td id=\"T_897acdbc_6016_11ea_bbe9_0242ac1c0002row7_col0\" class=\"data row7 col0\" >Murder She Said</td>\n",
              "                        <td id=\"T_897acdbc_6016_11ea_bbe9_0242ac1c0002row7_col1\" class=\"data row7 col1\" >4.21</td>\n",
              "                        <td id=\"T_897acdbc_6016_11ea_bbe9_0242ac1c0002row7_col2\" class=\"data row7 col2\" >28,280</td>\n",
              "            </tr>\n",
              "            <tr>\n",
              "                                <td id=\"T_897acdbc_6016_11ea_bbe9_0242ac1c0002row8_col0\" class=\"data row8 col0\" >Cousin, Cousine</td>\n",
              "                        <td id=\"T_897acdbc_6016_11ea_bbe9_0242ac1c0002row8_col1\" class=\"data row8 col1\" >4.20</td>\n",
              "                        <td id=\"T_897acdbc_6016_11ea_bbe9_0242ac1c0002row8_col2\" class=\"data row8 col2\" >20,855</td>\n",
              "            </tr>\n",
              "            <tr>\n",
              "                                <td id=\"T_897acdbc_6016_11ea_bbe9_0242ac1c0002row9_col0\" class=\"data row9 col0\" >Dead Man</td>\n",
              "                        <td id=\"T_897acdbc_6016_11ea_bbe9_0242ac1c0002row9_col1\" class=\"data row9 col1\" >4.20</td>\n",
              "                        <td id=\"T_897acdbc_6016_11ea_bbe9_0242ac1c0002row9_col2\" class=\"data row9 col2\" >7,930</td>\n",
              "            </tr>\n",
              "    </tbody></table>"
            ],
            "text/plain": [
              "<pandas.io.formats.style.Styler at 0x7f15400e0eb8>"
            ]
          },
          "metadata": {
            "tags": []
          },
          "execution_count": 14
        }
      ]
    },
    {
      "cell_type": "markdown",
      "metadata": {
        "colab_type": "text",
        "id": "N1eWDvY9tC9x"
      },
      "source": [
        "* The movie Database also provides a rating and suffer from a similar problem of some movies having a tiny sample size."
      ]
    },
    {
      "cell_type": "code",
      "metadata": {
        "id": "wM0HZNIrRaqn",
        "colab_type": "code",
        "outputId": "32d439cb-7818-463e-f1d4-d3cbb54ccc42",
        "colab": {
          "base_uri": "https://localhost:8080/",
          "height": 254
        }
      },
      "source": [
        "(clean_movies[clean_movies['vote_count'] >= 100]\n",
        "    [['title', 'vote_average', 'vote_count']]\n",
        "    .nlargest(10, 'vote_average')\n",
        "    .style\n",
        "    .hide_index()\n",
        "    .format({'vote_average':'{:.1f}', 'vote_count':'{:,.0f}'})\n",
        ")\n",
        " \n"
      ],
      "execution_count": 15,
      "outputs": [
        {
          "output_type": "execute_result",
          "data": {
            "text/html": [
              "<style  type=\"text/css\" >\n",
              "</style><table id=\"T_897eda88_6016_11ea_bbe9_0242ac1c0002\" ><thead>    <tr>        <th class=\"col_heading level0 col0\" >title</th>        <th class=\"col_heading level0 col1\" >vote_average</th>        <th class=\"col_heading level0 col2\" >vote_count</th>    </tr></thead><tbody>\n",
              "                <tr>\n",
              "                                <td id=\"T_897eda88_6016_11ea_bbe9_0242ac1c0002row0_col0\" class=\"data row0 col0\" >The Godfather</td>\n",
              "                        <td id=\"T_897eda88_6016_11ea_bbe9_0242ac1c0002row0_col1\" class=\"data row0 col1\" >8.5</td>\n",
              "                        <td id=\"T_897eda88_6016_11ea_bbe9_0242ac1c0002row0_col2\" class=\"data row0 col2\" >6,024</td>\n",
              "            </tr>\n",
              "            <tr>\n",
              "                                <td id=\"T_897eda88_6016_11ea_bbe9_0242ac1c0002row1_col0\" class=\"data row1 col0\" >The Shawshank Redemption</td>\n",
              "                        <td id=\"T_897eda88_6016_11ea_bbe9_0242ac1c0002row1_col1\" class=\"data row1 col1\" >8.5</td>\n",
              "                        <td id=\"T_897eda88_6016_11ea_bbe9_0242ac1c0002row1_col2\" class=\"data row1 col2\" >8,358</td>\n",
              "            </tr>\n",
              "            <tr>\n",
              "                                <td id=\"T_897eda88_6016_11ea_bbe9_0242ac1c0002row2_col0\" class=\"data row2 col0\" >Spirited Away</td>\n",
              "                        <td id=\"T_897eda88_6016_11ea_bbe9_0242ac1c0002row2_col1\" class=\"data row2 col1\" >8.3</td>\n",
              "                        <td id=\"T_897eda88_6016_11ea_bbe9_0242ac1c0002row2_col2\" class=\"data row2 col2\" >3,968</td>\n",
              "            </tr>\n",
              "            <tr>\n",
              "                                <td id=\"T_897eda88_6016_11ea_bbe9_0242ac1c0002row3_col0\" class=\"data row3 col0\" >The Dark Knight</td>\n",
              "                        <td id=\"T_897eda88_6016_11ea_bbe9_0242ac1c0002row3_col1\" class=\"data row3 col1\" >8.3</td>\n",
              "                        <td id=\"T_897eda88_6016_11ea_bbe9_0242ac1c0002row3_col2\" class=\"data row3 col2\" >12,269</td>\n",
              "            </tr>\n",
              "            <tr>\n",
              "                                <td id=\"T_897eda88_6016_11ea_bbe9_0242ac1c0002row4_col0\" class=\"data row4 col0\" >The Godfather: Part II</td>\n",
              "                        <td id=\"T_897eda88_6016_11ea_bbe9_0242ac1c0002row4_col1\" class=\"data row4 col1\" >8.3</td>\n",
              "                        <td id=\"T_897eda88_6016_11ea_bbe9_0242ac1c0002row4_col2\" class=\"data row4 col2\" >3,418</td>\n",
              "            </tr>\n",
              "            <tr>\n",
              "                                <td id=\"T_897eda88_6016_11ea_bbe9_0242ac1c0002row5_col0\" class=\"data row5 col0\" >Schindler's List</td>\n",
              "                        <td id=\"T_897eda88_6016_11ea_bbe9_0242ac1c0002row5_col1\" class=\"data row5 col1\" >8.3</td>\n",
              "                        <td id=\"T_897eda88_6016_11ea_bbe9_0242ac1c0002row5_col2\" class=\"data row5 col2\" >4,436</td>\n",
              "            </tr>\n",
              "            <tr>\n",
              "                                <td id=\"T_897eda88_6016_11ea_bbe9_0242ac1c0002row6_col0\" class=\"data row6 col0\" >One Flew Over the Cuckoo's Nest</td>\n",
              "                        <td id=\"T_897eda88_6016_11ea_bbe9_0242ac1c0002row6_col1\" class=\"data row6 col1\" >8.3</td>\n",
              "                        <td id=\"T_897eda88_6016_11ea_bbe9_0242ac1c0002row6_col2\" class=\"data row6 col2\" >3,001</td>\n",
              "            </tr>\n",
              "            <tr>\n",
              "                                <td id=\"T_897eda88_6016_11ea_bbe9_0242ac1c0002row7_col0\" class=\"data row7 col0\" >Psycho</td>\n",
              "                        <td id=\"T_897eda88_6016_11ea_bbe9_0242ac1c0002row7_col1\" class=\"data row7 col1\" >8.3</td>\n",
              "                        <td id=\"T_897eda88_6016_11ea_bbe9_0242ac1c0002row7_col2\" class=\"data row7 col2\" >2,405</td>\n",
              "            </tr>\n",
              "            <tr>\n",
              "                                <td id=\"T_897eda88_6016_11ea_bbe9_0242ac1c0002row8_col0\" class=\"data row8 col0\" >Fight Club</td>\n",
              "                        <td id=\"T_897eda88_6016_11ea_bbe9_0242ac1c0002row8_col1\" class=\"data row8 col1\" >8.3</td>\n",
              "                        <td id=\"T_897eda88_6016_11ea_bbe9_0242ac1c0002row8_col2\" class=\"data row8 col2\" >9,678</td>\n",
              "            </tr>\n",
              "            <tr>\n",
              "                                <td id=\"T_897eda88_6016_11ea_bbe9_0242ac1c0002row9_col0\" class=\"data row9 col0\" >Life Is Beautiful</td>\n",
              "                        <td id=\"T_897eda88_6016_11ea_bbe9_0242ac1c0002row9_col1\" class=\"data row9 col1\" >8.3</td>\n",
              "                        <td id=\"T_897eda88_6016_11ea_bbe9_0242ac1c0002row9_col2\" class=\"data row9 col2\" >3,643</td>\n",
              "            </tr>\n",
              "    </tbody></table>"
            ],
            "text/plain": [
              "<pandas.io.formats.style.Styler at 0x7f15400e0f60>"
            ]
          },
          "metadata": {
            "tags": []
          },
          "execution_count": 15
        }
      ]
    },
    {
      "cell_type": "code",
      "metadata": {
        "id": "RFFNjIPiRaqt",
        "colab_type": "code",
        "outputId": "dd1b149d-a79b-4ec0-a2fc-2d0721dde929",
        "colab": {
          "base_uri": "https://localhost:8080/",
          "height": 254
        }
      },
      "source": [
        "(clean_movies[['title', 'revenue']]\n",
        " .nlargest(10, 'revenue')\n",
        " .style\n",
        " .hide_index()\n",
        " .format({\n",
        "     \"revenue\":\"${:,.0f}\"\n",
        " }\n",
        " )\n",
        ")"
      ],
      "execution_count": 16,
      "outputs": [
        {
          "output_type": "execute_result",
          "data": {
            "text/html": [
              "<style  type=\"text/css\" >\n",
              "</style><table id=\"T_8981f8e4_6016_11ea_bbe9_0242ac1c0002\" ><thead>    <tr>        <th class=\"col_heading level0 col0\" >title</th>        <th class=\"col_heading level0 col1\" >revenue</th>    </tr></thead><tbody>\n",
              "                <tr>\n",
              "                                <td id=\"T_8981f8e4_6016_11ea_bbe9_0242ac1c0002row0_col0\" class=\"data row0 col0\" >Titanic</td>\n",
              "                        <td id=\"T_8981f8e4_6016_11ea_bbe9_0242ac1c0002row0_col1\" class=\"data row0 col1\" >$1,845,034,188</td>\n",
              "            </tr>\n",
              "            <tr>\n",
              "                                <td id=\"T_8981f8e4_6016_11ea_bbe9_0242ac1c0002row1_col0\" class=\"data row1 col0\" >The Lord of the Rings: The Return of the King</td>\n",
              "                        <td id=\"T_8981f8e4_6016_11ea_bbe9_0242ac1c0002row1_col1\" class=\"data row1 col1\" >$1,118,888,979</td>\n",
              "            </tr>\n",
              "            <tr>\n",
              "                                <td id=\"T_8981f8e4_6016_11ea_bbe9_0242ac1c0002row2_col0\" class=\"data row2 col0\" >Pirates of the Caribbean: Dead Man's Chest</td>\n",
              "                        <td id=\"T_8981f8e4_6016_11ea_bbe9_0242ac1c0002row2_col1\" class=\"data row2 col1\" >$1,065,659,812</td>\n",
              "            </tr>\n",
              "            <tr>\n",
              "                                <td id=\"T_8981f8e4_6016_11ea_bbe9_0242ac1c0002row3_col0\" class=\"data row3 col0\" >Pirates of the Caribbean: On Stranger Tides</td>\n",
              "                        <td id=\"T_8981f8e4_6016_11ea_bbe9_0242ac1c0002row3_col1\" class=\"data row3 col1\" >$1,045,713,802</td>\n",
              "            </tr>\n",
              "            <tr>\n",
              "                                <td id=\"T_8981f8e4_6016_11ea_bbe9_0242ac1c0002row4_col0\" class=\"data row4 col0\" >The Dark Knight</td>\n",
              "                        <td id=\"T_8981f8e4_6016_11ea_bbe9_0242ac1c0002row4_col1\" class=\"data row4 col1\" >$1,004,558,444</td>\n",
              "            </tr>\n",
              "            <tr>\n",
              "                                <td id=\"T_8981f8e4_6016_11ea_bbe9_0242ac1c0002row5_col0\" class=\"data row5 col0\" >Harry Potter and the Philosopher's Stone</td>\n",
              "                        <td id=\"T_8981f8e4_6016_11ea_bbe9_0242ac1c0002row5_col1\" class=\"data row5 col1\" >$976,475,550</td>\n",
              "            </tr>\n",
              "            <tr>\n",
              "                                <td id=\"T_8981f8e4_6016_11ea_bbe9_0242ac1c0002row6_col0\" class=\"data row6 col0\" >Finding Nemo</td>\n",
              "                        <td id=\"T_8981f8e4_6016_11ea_bbe9_0242ac1c0002row6_col1\" class=\"data row6 col1\" >$940,335,536</td>\n",
              "            </tr>\n",
              "            <tr>\n",
              "                                <td id=\"T_8981f8e4_6016_11ea_bbe9_0242ac1c0002row7_col0\" class=\"data row7 col0\" >Harry Potter and the Half-Blood Prince</td>\n",
              "                        <td id=\"T_8981f8e4_6016_11ea_bbe9_0242ac1c0002row7_col1\" class=\"data row7 col1\" >$933,959,197</td>\n",
              "            </tr>\n",
              "            <tr>\n",
              "                                <td id=\"T_8981f8e4_6016_11ea_bbe9_0242ac1c0002row8_col0\" class=\"data row8 col0\" >The Lord of the Rings: The Two Towers</td>\n",
              "                        <td id=\"T_8981f8e4_6016_11ea_bbe9_0242ac1c0002row8_col1\" class=\"data row8 col1\" >$926,287,400</td>\n",
              "            </tr>\n",
              "            <tr>\n",
              "                                <td id=\"T_8981f8e4_6016_11ea_bbe9_0242ac1c0002row9_col0\" class=\"data row9 col0\" >Star Wars: Episode I - The Phantom Menace</td>\n",
              "                        <td id=\"T_8981f8e4_6016_11ea_bbe9_0242ac1c0002row9_col1\" class=\"data row9 col1\" >$924,317,558</td>\n",
              "            </tr>\n",
              "    </tbody></table>"
            ],
            "text/plain": [
              "<pandas.io.formats.style.Styler at 0x7f153ffce0b8>"
            ]
          },
          "metadata": {
            "tags": []
          },
          "execution_count": 16
        }
      ]
    },
    {
      "cell_type": "markdown",
      "metadata": {
        "colab_type": "text",
        "id": "r-9nL1-6tC97"
      },
      "source": [
        "## Inflation\n",
        "* Inflation means that a 1940 dollar is worth more than a 2020 dollar. Let's adjust Revenue for that.\n",
        "* The Consumer price index can be used to convert to standarized dollars.\n",
        "* Here, we'll be using 2014 dollars.\n",
        "* Years later than 2014 will not be adjusted.\n",
        "$$ \\textrm{adjusted dollars} = \\frac{\\textrm{New CPI}}{\\textrm{Base CPI}}$$\n",
        "* where x is the current cpi and y is the cpi of that year "
      ]
    },
    {
      "cell_type": "code",
      "metadata": {
        "id": "Y9Zf0JqiRaqz",
        "colab_type": "code",
        "colab": {}
      },
      "source": [
        "cpi = cpi[cpi['Country Name'] == 'United States'][['Year', 'CPI']]"
      ],
      "execution_count": 0,
      "outputs": []
    },
    {
      "cell_type": "code",
      "metadata": {
        "id": "x4W8alavRaq3",
        "colab_type": "code",
        "colab": {}
      },
      "source": [
        "cpi = cpi.set_index(cpi['Year'])"
      ],
      "execution_count": 0,
      "outputs": []
    },
    {
      "cell_type": "code",
      "metadata": {
        "id": "zwC70VFIRaq7",
        "colab_type": "code",
        "colab": {}
      },
      "source": [
        "def adjust_dollars(value, year):\n",
        "    year = int(year)\n",
        "    try:\n",
        "        current = cpi.loc[2014,'CPI']\n",
        "        base = cpi.loc[year,'CPI']\n",
        "        adjusted_value = value * (current/base)\n",
        "        return adjusted_value\n",
        "    except: \n",
        "        return value"
      ],
      "execution_count": 0,
      "outputs": []
    },
    {
      "cell_type": "code",
      "metadata": {
        "id": "dFDxxX6PRarB",
        "colab_type": "code",
        "colab": {}
      },
      "source": [
        "clean_movies['year']= clean_movies['release_date'].dt.year"
      ],
      "execution_count": 0,
      "outputs": []
    },
    {
      "cell_type": "code",
      "metadata": {
        "id": "1pZYohCWRarE",
        "colab_type": "code",
        "colab": {}
      },
      "source": [
        "df = clean_movies[clean_movies['revenue'].notnull() & clean_movies['year'].notnull()]"
      ],
      "execution_count": 0,
      "outputs": []
    },
    {
      "cell_type": "code",
      "metadata": {
        "id": "nluoOR6oRarJ",
        "colab_type": "code",
        "colab": {}
      },
      "source": [
        "adjusted = pd.DataFrame([adjust_dollars(x,y) for x,y in zip(df['revenue'], df['year'])], index = df.index, columns = ['adjusted_revenue'])"
      ],
      "execution_count": 0,
      "outputs": []
    },
    {
      "cell_type": "code",
      "metadata": {
        "id": "XOta_0M8RarN",
        "colab_type": "code",
        "colab": {}
      },
      "source": [
        "clean_movies = clean_movies.merge(adjusted, left_index=True, right_index=True)"
      ],
      "execution_count": 0,
      "outputs": []
    },
    {
      "cell_type": "code",
      "metadata": {
        "id": "IHlPLSqrRarR",
        "colab_type": "code",
        "outputId": "ee875506-7d90-411f-fbbd-57a3bd78d40b",
        "colab": {
          "base_uri": "https://localhost:8080/",
          "height": 0
        }
      },
      "source": [
        "(clean_movies[['title', 'adjusted_revenue']]\n",
        " .nlargest(10, 'adjusted_revenue')\n",
        " .style\n",
        " .hide_index()\n",
        " .format({\n",
        "     \"adjusted_revenue\":\"${:,.0f}\"\n",
        " }\n",
        " )\n",
        ")"
      ],
      "execution_count": 24,
      "outputs": [
        {
          "output_type": "execute_result",
          "data": {
            "text/html": [
              "<style  type=\"text/css\" >\n",
              "</style><table id=\"T_899ece56_6016_11ea_bbe9_0242ac1c0002\" ><thead>    <tr>        <th class=\"col_heading level0 col0\" >title</th>        <th class=\"col_heading level0 col1\" >adjusted_revenue</th>    </tr></thead><tbody>\n",
              "                <tr>\n",
              "                                <td id=\"T_899ece56_6016_11ea_bbe9_0242ac1c0002row0_col0\" class=\"data row0 col0\" >Star Wars</td>\n",
              "                        <td id=\"T_899ece56_6016_11ea_bbe9_0242ac1c0002row0_col1\" class=\"data row0 col1\" >$3,028,727,803</td>\n",
              "            </tr>\n",
              "            <tr>\n",
              "                                <td id=\"T_899ece56_6016_11ea_bbe9_0242ac1c0002row1_col0\" class=\"data row1 col0\" >Titanic</td>\n",
              "                        <td id=\"T_899ece56_6016_11ea_bbe9_0242ac1c0002row1_col1\" class=\"data row1 col1\" >$2,721,127,532</td>\n",
              "            </tr>\n",
              "            <tr>\n",
              "                                <td id=\"T_899ece56_6016_11ea_bbe9_0242ac1c0002row2_col0\" class=\"data row2 col0\" >E.T. the Extra-Terrestrial</td>\n",
              "                        <td id=\"T_899ece56_6016_11ea_bbe9_0242ac1c0002row2_col1\" class=\"data row2 col1\" >$1,945,321,985</td>\n",
              "            </tr>\n",
              "            <tr>\n",
              "                                <td id=\"T_899ece56_6016_11ea_bbe9_0242ac1c0002row3_col0\" class=\"data row3 col0\" >The Empire Strikes Back</td>\n",
              "                        <td id=\"T_899ece56_6016_11ea_bbe9_0242ac1c0002row3_col1\" class=\"data row3 col1\" >$1,546,829,516</td>\n",
              "            </tr>\n",
              "            <tr>\n",
              "                                <td id=\"T_899ece56_6016_11ea_bbe9_0242ac1c0002row4_col0\" class=\"data row4 col0\" >Jurassic Park</td>\n",
              "                        <td id=\"T_899ece56_6016_11ea_bbe9_0242ac1c0002row4_col1\" class=\"data row4 col1\" >$1,507,846,186</td>\n",
              "            </tr>\n",
              "            <tr>\n",
              "                                <td id=\"T_899ece56_6016_11ea_bbe9_0242ac1c0002row5_col0\" class=\"data row5 col0\" >The Lord of the Rings: The Return of the King</td>\n",
              "                        <td id=\"T_899ece56_6016_11ea_bbe9_0242ac1c0002row5_col1\" class=\"data row5 col1\" >$1,439,899,368</td>\n",
              "            </tr>\n",
              "            <tr>\n",
              "                                <td id=\"T_899ece56_6016_11ea_bbe9_0242ac1c0002row6_col0\" class=\"data row6 col0\" >The Godfather</td>\n",
              "                        <td id=\"T_899ece56_6016_11ea_bbe9_0242ac1c0002row6_col1\" class=\"data row6 col1\" >$1,387,267,307</td>\n",
              "            </tr>\n",
              "            <tr>\n",
              "                                <td id=\"T_899ece56_6016_11ea_bbe9_0242ac1c0002row7_col0\" class=\"data row7 col0\" >Return of the Jedi</td>\n",
              "                        <td id=\"T_899ece56_6016_11ea_bbe9_0242ac1c0002row7_col1\" class=\"data row7 col1\" >$1,361,232,958</td>\n",
              "            </tr>\n",
              "            <tr>\n",
              "                                <td id=\"T_899ece56_6016_11ea_bbe9_0242ac1c0002row8_col0\" class=\"data row8 col0\" >Star Wars: Episode I - The Phantom Menace</td>\n",
              "                        <td id=\"T_899ece56_6016_11ea_bbe9_0242ac1c0002row8_col1\" class=\"data row8 col1\" >$1,313,638,874</td>\n",
              "            </tr>\n",
              "            <tr>\n",
              "                                <td id=\"T_899ece56_6016_11ea_bbe9_0242ac1c0002row9_col0\" class=\"data row9 col0\" >Harry Potter and the Philosopher's Stone</td>\n",
              "                        <td id=\"T_899ece56_6016_11ea_bbe9_0242ac1c0002row9_col1\" class=\"data row9 col1\" >$1,305,536,965</td>\n",
              "            </tr>\n",
              "    </tbody></table>"
            ],
            "text/plain": [
              "<pandas.io.formats.style.Styler at 0x7f1540cdd470>"
            ]
          },
          "metadata": {
            "tags": []
          },
          "execution_count": 24
        }
      ]
    },
    {
      "cell_type": "code",
      "metadata": {
        "id": "XJ8hq3MORarU",
        "colab_type": "code",
        "colab": {}
      },
      "source": [
        "clean_movies['decade'] = [x - (x%10) for x in clean_movies['year']]"
      ],
      "execution_count": 0,
      "outputs": []
    },
    {
      "cell_type": "code",
      "metadata": {
        "id": "sOMH1gpMbAS8",
        "colab_type": "code",
        "outputId": "ad305f07-1fc4-4871-f4f7-4e9b8472ff79",
        "colab": {
          "base_uri": "https://localhost:8080/",
          "height": 0
        }
      },
      "source": [
        "px.line(clean_movies.groupby('year')['vote_average'].mean().reset_index(), \n",
        "       x ='year',\n",
        "       y = 'vote_average' )"
      ],
      "execution_count": 26,
      "outputs": [
        {
          "output_type": "display_data",
          "data": {
            "text/html": [
              "<html>\n",
              "<head><meta charset=\"utf-8\" /></head>\n",
              "<body>\n",
              "    <div>\n",
              "            <script src=\"https://cdnjs.cloudflare.com/ajax/libs/mathjax/2.7.5/MathJax.js?config=TeX-AMS-MML_SVG\"></script><script type=\"text/javascript\">if (window.MathJax) {MathJax.Hub.Config({SVG: {font: \"STIX-Web\"}});}</script>\n",
              "                <script type=\"text/javascript\">window.PlotlyConfig = {MathJaxConfig: 'local'};</script>\n",
              "        <script src=\"https://cdn.plot.ly/plotly-latest.min.js\"></script>    \n",
              "            <div id=\"23c2face-4f52-4d81-9bca-c4cfa21d79a1\" class=\"plotly-graph-div\" style=\"height:525px; width:100%;\"></div>\n",
              "            <script type=\"text/javascript\">\n",
              "                \n",
              "                    window.PLOTLYENV=window.PLOTLYENV || {};\n",
              "                    \n",
              "                if (document.getElementById(\"23c2face-4f52-4d81-9bca-c4cfa21d79a1\")) {\n",
              "                    Plotly.newPlot(\n",
              "                        '23c2face-4f52-4d81-9bca-c4cfa21d79a1',\n",
              "                        [{\"hoverlabel\": {\"namelength\": 0}, \"hovertemplate\": \"year=%{x}<br>vote_average=%{y}\", \"legendgroup\": \"\", \"line\": {\"color\": \"#636efa\", \"dash\": \"solid\"}, \"mode\": \"lines\", \"name\": \"\", \"showlegend\": false, \"type\": \"scatter\", \"x\": [1915.0, 1925.0, 1927.0, 1930.0, 1931.0, 1932.0, 1933.0, 1934.0, 1936.0, 1937.0, 1939.0, 1940.0, 1941.0, 1942.0, 1944.0, 1945.0, 1946.0, 1948.0, 1949.0, 1950.0, 1951.0, 1952.0, 1953.0, 1954.0, 1955.0, 1956.0, 1957.0, 1958.0, 1959.0, 1960.0, 1961.0, 1962.0, 1963.0, 1964.0, 1965.0, 1966.0, 1967.0, 1968.0, 1969.0, 1970.0, 1971.0, 1972.0, 1973.0, 1974.0, 1975.0, 1976.0, 1977.0, 1978.0, 1979.0, 1980.0, 1981.0, 1982.0, 1983.0, 1984.0, 1985.0, 1986.0, 1987.0, 1988.0, 1989.0, 1990.0, 1991.0, 1992.0, 1993.0, 1994.0, 1995.0, 1996.0, 1997.0, 1998.0, 1999.0, 2000.0, 2001.0, 2002.0, 2003.0, 2004.0, 2005.0, 2006.0, 2007.0, 2008.0, 2009.0, 2010.0, 2011.0, 2012.0, 2013.0, 2014.0, 2015.0], \"xaxis\": \"x\", \"y\": [6.4, 7.35, 7.95, 6.7, 7.566666666666666, 7.5, 6.9, 7.550000000000001, 8.1, 6.9, 7.533333333333334, 7.666666666666667, 7.9, 7.9, 7.8, 7.35, 7.9, 7.666666666666667, 7.9, 7.8, 7.3, 7.6, 7.3, 7.720000000000001, 7.550000000000001, 7.279999999999999, 8.2, 7.699999999999999, 7.8199999999999985, 7.475, 7.142857142857143, 7.542857142857144, 7.1, 7.214285714285714, 7.040000000000001, 7.12, 6.966666666666667, 7.088888888888889, 6.866666666666667, 5.699999999999999, 7.0625, 6.966666666666667, 6.779999999999999, 7.3, 7.300000000000001, 7.3500000000000005, 6.785714285714286, 6.983333333333333, 7.177777777777777, 6.853846153846154, 7.028571428571429, 6.757142857142857, 6.664705882352941, 6.638888888888889, 6.6499999999999995, 6.499999999999998, 6.603448275862069, 6.545833333333334, 6.650000000000001, 6.692857142857141, 6.645714285714284, 6.616666666666667, 6.3999999999999995, 6.3575, 6.736363636363635, 6.667857142857144, 6.37446808510638, 6.545945945945946, 6.5950000000000015, 6.3647058823529425, 6.569387755102041, 6.588888888888891, 6.683636363636366, 6.690163934426227, 6.444615384615386, 6.537179487179488, 6.489583333333335, 6.321428571428572, 6.073333333333333, 6.166666666666668, 6.393750000000001, 5.1, 5.4, 6.3, 5.7], \"yaxis\": \"y\"}],\n",
              "                        {\"legend\": {\"tracegroupgap\": 0}, \"margin\": {\"t\": 60}, \"template\": {\"data\": {\"bar\": [{\"error_x\": {\"color\": \"#2a3f5f\"}, \"error_y\": {\"color\": \"#2a3f5f\"}, \"marker\": {\"line\": {\"color\": \"#E5ECF6\", \"width\": 0.5}}, \"type\": \"bar\"}], \"barpolar\": [{\"marker\": {\"line\": {\"color\": \"#E5ECF6\", \"width\": 0.5}}, \"type\": \"barpolar\"}], \"carpet\": [{\"aaxis\": {\"endlinecolor\": \"#2a3f5f\", \"gridcolor\": \"white\", \"linecolor\": \"white\", \"minorgridcolor\": \"white\", \"startlinecolor\": \"#2a3f5f\"}, \"baxis\": {\"endlinecolor\": \"#2a3f5f\", \"gridcolor\": \"white\", \"linecolor\": \"white\", \"minorgridcolor\": \"white\", \"startlinecolor\": \"#2a3f5f\"}, \"type\": \"carpet\"}], \"choropleth\": [{\"colorbar\": {\"outlinewidth\": 0, \"ticks\": \"\"}, \"type\": \"choropleth\"}], \"contour\": [{\"colorbar\": {\"outlinewidth\": 0, \"ticks\": \"\"}, \"colorscale\": [[0.0, \"#0d0887\"], [0.1111111111111111, \"#46039f\"], [0.2222222222222222, \"#7201a8\"], [0.3333333333333333, \"#9c179e\"], [0.4444444444444444, \"#bd3786\"], [0.5555555555555556, \"#d8576b\"], [0.6666666666666666, \"#ed7953\"], [0.7777777777777778, \"#fb9f3a\"], [0.8888888888888888, \"#fdca26\"], [1.0, \"#f0f921\"]], \"type\": \"contour\"}], \"contourcarpet\": [{\"colorbar\": {\"outlinewidth\": 0, \"ticks\": \"\"}, \"type\": \"contourcarpet\"}], \"heatmap\": [{\"colorbar\": {\"outlinewidth\": 0, \"ticks\": \"\"}, \"colorscale\": [[0.0, \"#0d0887\"], [0.1111111111111111, \"#46039f\"], [0.2222222222222222, \"#7201a8\"], [0.3333333333333333, \"#9c179e\"], [0.4444444444444444, \"#bd3786\"], [0.5555555555555556, \"#d8576b\"], [0.6666666666666666, \"#ed7953\"], [0.7777777777777778, \"#fb9f3a\"], [0.8888888888888888, \"#fdca26\"], [1.0, \"#f0f921\"]], \"type\": \"heatmap\"}], \"heatmapgl\": [{\"colorbar\": {\"outlinewidth\": 0, \"ticks\": \"\"}, \"colorscale\": [[0.0, \"#0d0887\"], [0.1111111111111111, \"#46039f\"], [0.2222222222222222, \"#7201a8\"], [0.3333333333333333, \"#9c179e\"], [0.4444444444444444, \"#bd3786\"], [0.5555555555555556, \"#d8576b\"], [0.6666666666666666, \"#ed7953\"], [0.7777777777777778, \"#fb9f3a\"], [0.8888888888888888, \"#fdca26\"], [1.0, \"#f0f921\"]], \"type\": \"heatmapgl\"}], \"histogram\": [{\"marker\": {\"colorbar\": {\"outlinewidth\": 0, \"ticks\": \"\"}}, \"type\": \"histogram\"}], \"histogram2d\": [{\"colorbar\": {\"outlinewidth\": 0, \"ticks\": \"\"}, \"colorscale\": [[0.0, \"#0d0887\"], [0.1111111111111111, \"#46039f\"], [0.2222222222222222, \"#7201a8\"], [0.3333333333333333, \"#9c179e\"], [0.4444444444444444, \"#bd3786\"], [0.5555555555555556, \"#d8576b\"], [0.6666666666666666, \"#ed7953\"], [0.7777777777777778, \"#fb9f3a\"], [0.8888888888888888, \"#fdca26\"], [1.0, \"#f0f921\"]], \"type\": \"histogram2d\"}], \"histogram2dcontour\": [{\"colorbar\": {\"outlinewidth\": 0, \"ticks\": \"\"}, \"colorscale\": [[0.0, \"#0d0887\"], [0.1111111111111111, \"#46039f\"], [0.2222222222222222, \"#7201a8\"], [0.3333333333333333, \"#9c179e\"], [0.4444444444444444, \"#bd3786\"], [0.5555555555555556, \"#d8576b\"], [0.6666666666666666, \"#ed7953\"], [0.7777777777777778, \"#fb9f3a\"], [0.8888888888888888, \"#fdca26\"], [1.0, \"#f0f921\"]], \"type\": \"histogram2dcontour\"}], \"mesh3d\": [{\"colorbar\": {\"outlinewidth\": 0, \"ticks\": \"\"}, \"type\": \"mesh3d\"}], \"parcoords\": [{\"line\": {\"colorbar\": {\"outlinewidth\": 0, \"ticks\": \"\"}}, \"type\": \"parcoords\"}], \"pie\": [{\"automargin\": true, \"type\": \"pie\"}], \"scatter\": [{\"marker\": {\"colorbar\": {\"outlinewidth\": 0, \"ticks\": \"\"}}, \"type\": \"scatter\"}], \"scatter3d\": [{\"line\": {\"colorbar\": {\"outlinewidth\": 0, \"ticks\": \"\"}}, \"marker\": {\"colorbar\": {\"outlinewidth\": 0, \"ticks\": \"\"}}, \"type\": \"scatter3d\"}], \"scattercarpet\": [{\"marker\": {\"colorbar\": {\"outlinewidth\": 0, \"ticks\": \"\"}}, \"type\": \"scattercarpet\"}], \"scattergeo\": [{\"marker\": {\"colorbar\": {\"outlinewidth\": 0, \"ticks\": \"\"}}, \"type\": \"scattergeo\"}], \"scattergl\": [{\"marker\": {\"colorbar\": {\"outlinewidth\": 0, \"ticks\": \"\"}}, \"type\": \"scattergl\"}], \"scattermapbox\": [{\"marker\": {\"colorbar\": {\"outlinewidth\": 0, \"ticks\": \"\"}}, \"type\": \"scattermapbox\"}], \"scatterpolar\": [{\"marker\": {\"colorbar\": {\"outlinewidth\": 0, \"ticks\": \"\"}}, \"type\": \"scatterpolar\"}], \"scatterpolargl\": [{\"marker\": {\"colorbar\": {\"outlinewidth\": 0, \"ticks\": \"\"}}, \"type\": \"scatterpolargl\"}], \"scatterternary\": [{\"marker\": {\"colorbar\": {\"outlinewidth\": 0, \"ticks\": \"\"}}, \"type\": \"scatterternary\"}], \"surface\": [{\"colorbar\": {\"outlinewidth\": 0, \"ticks\": \"\"}, \"colorscale\": [[0.0, \"#0d0887\"], [0.1111111111111111, \"#46039f\"], [0.2222222222222222, \"#7201a8\"], [0.3333333333333333, \"#9c179e\"], [0.4444444444444444, \"#bd3786\"], [0.5555555555555556, \"#d8576b\"], [0.6666666666666666, \"#ed7953\"], [0.7777777777777778, \"#fb9f3a\"], [0.8888888888888888, \"#fdca26\"], [1.0, \"#f0f921\"]], \"type\": \"surface\"}], \"table\": [{\"cells\": {\"fill\": {\"color\": \"#EBF0F8\"}, \"line\": {\"color\": \"white\"}}, \"header\": {\"fill\": {\"color\": \"#C8D4E3\"}, \"line\": {\"color\": \"white\"}}, \"type\": \"table\"}]}, \"layout\": {\"annotationdefaults\": {\"arrowcolor\": \"#2a3f5f\", \"arrowhead\": 0, \"arrowwidth\": 1}, \"coloraxis\": {\"colorbar\": {\"outlinewidth\": 0, \"ticks\": \"\"}}, \"colorscale\": {\"diverging\": [[0, \"#8e0152\"], [0.1, \"#c51b7d\"], [0.2, \"#de77ae\"], [0.3, \"#f1b6da\"], [0.4, \"#fde0ef\"], [0.5, \"#f7f7f7\"], [0.6, \"#e6f5d0\"], [0.7, \"#b8e186\"], [0.8, \"#7fbc41\"], [0.9, \"#4d9221\"], [1, \"#276419\"]], \"sequential\": [[0.0, \"#0d0887\"], [0.1111111111111111, \"#46039f\"], [0.2222222222222222, \"#7201a8\"], [0.3333333333333333, \"#9c179e\"], [0.4444444444444444, \"#bd3786\"], [0.5555555555555556, \"#d8576b\"], [0.6666666666666666, \"#ed7953\"], [0.7777777777777778, \"#fb9f3a\"], [0.8888888888888888, \"#fdca26\"], [1.0, \"#f0f921\"]], \"sequentialminus\": [[0.0, \"#0d0887\"], [0.1111111111111111, \"#46039f\"], [0.2222222222222222, \"#7201a8\"], [0.3333333333333333, \"#9c179e\"], [0.4444444444444444, \"#bd3786\"], [0.5555555555555556, \"#d8576b\"], [0.6666666666666666, \"#ed7953\"], [0.7777777777777778, \"#fb9f3a\"], [0.8888888888888888, \"#fdca26\"], [1.0, \"#f0f921\"]]}, \"colorway\": [\"#636efa\", \"#EF553B\", \"#00cc96\", \"#ab63fa\", \"#FFA15A\", \"#19d3f3\", \"#FF6692\", \"#B6E880\", \"#FF97FF\", \"#FECB52\"], \"font\": {\"color\": \"#2a3f5f\"}, \"geo\": {\"bgcolor\": \"white\", \"lakecolor\": \"white\", \"landcolor\": \"#E5ECF6\", \"showlakes\": true, \"showland\": true, \"subunitcolor\": \"white\"}, \"hoverlabel\": {\"align\": \"left\"}, \"hovermode\": \"closest\", \"mapbox\": {\"style\": \"light\"}, \"paper_bgcolor\": \"white\", \"plot_bgcolor\": \"#E5ECF6\", \"polar\": {\"angularaxis\": {\"gridcolor\": \"white\", \"linecolor\": \"white\", \"ticks\": \"\"}, \"bgcolor\": \"#E5ECF6\", \"radialaxis\": {\"gridcolor\": \"white\", \"linecolor\": \"white\", \"ticks\": \"\"}}, \"scene\": {\"xaxis\": {\"backgroundcolor\": \"#E5ECF6\", \"gridcolor\": \"white\", \"gridwidth\": 2, \"linecolor\": \"white\", \"showbackground\": true, \"ticks\": \"\", \"zerolinecolor\": \"white\"}, \"yaxis\": {\"backgroundcolor\": \"#E5ECF6\", \"gridcolor\": \"white\", \"gridwidth\": 2, \"linecolor\": \"white\", \"showbackground\": true, \"ticks\": \"\", \"zerolinecolor\": \"white\"}, \"zaxis\": {\"backgroundcolor\": \"#E5ECF6\", \"gridcolor\": \"white\", \"gridwidth\": 2, \"linecolor\": \"white\", \"showbackground\": true, \"ticks\": \"\", \"zerolinecolor\": \"white\"}}, \"shapedefaults\": {\"line\": {\"color\": \"#2a3f5f\"}}, \"ternary\": {\"aaxis\": {\"gridcolor\": \"white\", \"linecolor\": \"white\", \"ticks\": \"\"}, \"baxis\": {\"gridcolor\": \"white\", \"linecolor\": \"white\", \"ticks\": \"\"}, \"bgcolor\": \"#E5ECF6\", \"caxis\": {\"gridcolor\": \"white\", \"linecolor\": \"white\", \"ticks\": \"\"}}, \"title\": {\"x\": 0.05}, \"xaxis\": {\"automargin\": true, \"gridcolor\": \"white\", \"linecolor\": \"white\", \"ticks\": \"\", \"title\": {\"standoff\": 15}, \"zerolinecolor\": \"white\", \"zerolinewidth\": 2}, \"yaxis\": {\"automargin\": true, \"gridcolor\": \"white\", \"linecolor\": \"white\", \"ticks\": \"\", \"title\": {\"standoff\": 15}, \"zerolinecolor\": \"white\", \"zerolinewidth\": 2}}}, \"xaxis\": {\"anchor\": \"y\", \"domain\": [0.0, 1.0], \"title\": {\"text\": \"year\"}}, \"yaxis\": {\"anchor\": \"x\", \"domain\": [0.0, 1.0], \"title\": {\"text\": \"vote_average\"}}},\n",
              "                        {\"responsive\": true}\n",
              "                    ).then(function(){\n",
              "                            \n",
              "var gd = document.getElementById('23c2face-4f52-4d81-9bca-c4cfa21d79a1');\n",
              "var x = new MutationObserver(function (mutations, observer) {{\n",
              "        var display = window.getComputedStyle(gd).display;\n",
              "        if (!display || display === 'none') {{\n",
              "            console.log([gd, 'removed!']);\n",
              "            Plotly.purge(gd);\n",
              "            observer.disconnect();\n",
              "        }}\n",
              "}});\n",
              "\n",
              "// Listen for the removal of the full notebook cells\n",
              "var notebookContainer = gd.closest('#notebook-container');\n",
              "if (notebookContainer) {{\n",
              "    x.observe(notebookContainer, {childList: true});\n",
              "}}\n",
              "\n",
              "// Listen for the clearing of the current output cell\n",
              "var outputEl = gd.closest('.output');\n",
              "if (outputEl) {{\n",
              "    x.observe(outputEl, {childList: true});\n",
              "}}\n",
              "\n",
              "                        })\n",
              "                };\n",
              "                \n",
              "            </script>\n",
              "        </div>\n",
              "</body>\n",
              "</html>"
            ]
          },
          "metadata": {
            "tags": []
          }
        }
      ]
    },
    {
      "cell_type": "code",
      "metadata": {
        "id": "pDPd05scE3Kt",
        "colab_type": "code",
        "outputId": "6fe3c489-29e0-4967-e57d-461ebbcb4100",
        "colab": {
          "base_uri": "https://localhost:8080/",
          "height": 0
        }
      },
      "source": [
        "px.line(clean_movies.groupby('year')['rating'].mean().reset_index(), \n",
        "       x ='year',\n",
        "       y = 'rating' )"
      ],
      "execution_count": 27,
      "outputs": [
        {
          "output_type": "display_data",
          "data": {
            "text/html": [
              "<html>\n",
              "<head><meta charset=\"utf-8\" /></head>\n",
              "<body>\n",
              "    <div>\n",
              "            <script src=\"https://cdnjs.cloudflare.com/ajax/libs/mathjax/2.7.5/MathJax.js?config=TeX-AMS-MML_SVG\"></script><script type=\"text/javascript\">if (window.MathJax) {MathJax.Hub.Config({SVG: {font: \"STIX-Web\"}});}</script>\n",
              "                <script type=\"text/javascript\">window.PlotlyConfig = {MathJaxConfig: 'local'};</script>\n",
              "        <script src=\"https://cdn.plot.ly/plotly-latest.min.js\"></script>    \n",
              "            <div id=\"5d0ecf07-fbeb-4a71-b808-52716f927437\" class=\"plotly-graph-div\" style=\"height:525px; width:100%;\"></div>\n",
              "            <script type=\"text/javascript\">\n",
              "                \n",
              "                    window.PLOTLYENV=window.PLOTLYENV || {};\n",
              "                    \n",
              "                if (document.getElementById(\"5d0ecf07-fbeb-4a71-b808-52716f927437\")) {\n",
              "                    Plotly.newPlot(\n",
              "                        '5d0ecf07-fbeb-4a71-b808-52716f927437',\n",
              "                        [{\"hoverlabel\": {\"namelength\": 0}, \"hovertemplate\": \"year=%{x}<br>rating=%{y}\", \"legendgroup\": \"\", \"line\": {\"color\": \"#636efa\", \"dash\": \"solid\"}, \"mode\": \"lines\", \"name\": \"\", \"showlegend\": false, \"type\": \"scatter\", \"x\": [1915.0, 1925.0, 1927.0, 1930.0, 1931.0, 1932.0, 1933.0, 1934.0, 1936.0, 1937.0, 1939.0, 1940.0, 1941.0, 1942.0, 1944.0, 1945.0, 1946.0, 1948.0, 1949.0, 1950.0, 1951.0, 1952.0, 1953.0, 1954.0, 1955.0, 1956.0, 1957.0, 1958.0, 1959.0, 1960.0, 1961.0, 1962.0, 1963.0, 1964.0, 1965.0, 1966.0, 1967.0, 1968.0, 1969.0, 1970.0, 1971.0, 1972.0, 1973.0, 1974.0, 1975.0, 1976.0, 1977.0, 1978.0, 1979.0, 1980.0, 1981.0, 1982.0, 1983.0, 1984.0, 1985.0, 1986.0, 1987.0, 1988.0, 1989.0, 1990.0, 1991.0, 1992.0, 1993.0, 1994.0, 1995.0, 1996.0, 1997.0, 1998.0, 1999.0, 2000.0, 2001.0, 2002.0, 2003.0, 2004.0, 2005.0, 2006.0, 2007.0, 2008.0, 2009.0, 2010.0, 2011.0, 2012.0, 2013.0, 2014.0, 2015.0], \"xaxis\": \"x\", \"y\": [2.737467018469657, 3.577952912213322, 2.69600226961307, 2.117283950617284, 3.650490279011406, 3.1638418079096047, 3.1274096005711014, 3.442964756524079, 3.2011004784688994, 3.2330028328611897, 3.656915840164343, 3.6296766412802604, 3.1359671830985913, 3.358924858924859, 3.5479281251507695, 3.6327351685030327, 3.183787974759184, 3.9160108076958497, 3.3524774774774775, 3.547859152082544, 3.429126426853513, 3.2725836293664887, 3.157834752962643, 3.2895287992426994, 3.2089559022659087, 3.342106147782876, 3.490566037735849, 3.3338961598962733, 3.655297541461375, 3.3737962920635556, 3.240885633145519, 3.5959723566515356, 3.55361991349221, 3.266760104050365, 3.284021733318937, 3.243774230336952, 3.378736565546594, 3.4094744624870525, 3.7011797293576847, 3.4379114691614694, 3.349564873584301, 3.3283997834793086, 3.393975654495088, 3.131461511731851, 3.2025228094778857, 3.0877068148431026, 3.3881545266405118, 3.619179953872731, 3.363842404734514, 3.1530778559782084, 3.300769420855887, 3.299872879178815, 3.462406912244079, 3.4372523303671727, 3.330654595435668, 3.387942987169287, 3.3051783052906147, 3.3826416723678334, 3.2562302351229278, 3.3499370526201537, 3.2767487511605546, 3.252159307184676, 3.260443675906512, 3.303436907775531, 3.2078364221874565, 3.2204291286243754, 3.2182327871719982, 3.229527030863675, 3.445322253739829, 3.176040828855585, 3.276378386844544, 3.3122617530364615, 3.309482402679525, 3.30628822248817, 3.1854596009721474, 3.356551907264409, 3.237742396574097, 3.2986825042982213, 3.340853891863943, 3.1330433364940187, 3.2841023476886346, 3.012557104310687, 3.330188679245283, 3.007288629737609, 2.8439450686641696], \"yaxis\": \"y\"}],\n",
              "                        {\"legend\": {\"tracegroupgap\": 0}, \"margin\": {\"t\": 60}, \"template\": {\"data\": {\"bar\": [{\"error_x\": {\"color\": \"#2a3f5f\"}, \"error_y\": {\"color\": \"#2a3f5f\"}, \"marker\": {\"line\": {\"color\": \"#E5ECF6\", \"width\": 0.5}}, \"type\": \"bar\"}], \"barpolar\": [{\"marker\": {\"line\": {\"color\": \"#E5ECF6\", \"width\": 0.5}}, \"type\": \"barpolar\"}], \"carpet\": [{\"aaxis\": {\"endlinecolor\": \"#2a3f5f\", \"gridcolor\": \"white\", \"linecolor\": \"white\", \"minorgridcolor\": \"white\", \"startlinecolor\": \"#2a3f5f\"}, \"baxis\": {\"endlinecolor\": \"#2a3f5f\", \"gridcolor\": \"white\", \"linecolor\": \"white\", \"minorgridcolor\": \"white\", \"startlinecolor\": \"#2a3f5f\"}, \"type\": \"carpet\"}], \"choropleth\": [{\"colorbar\": {\"outlinewidth\": 0, \"ticks\": \"\"}, \"type\": \"choropleth\"}], \"contour\": [{\"colorbar\": {\"outlinewidth\": 0, \"ticks\": \"\"}, \"colorscale\": [[0.0, \"#0d0887\"], [0.1111111111111111, \"#46039f\"], [0.2222222222222222, \"#7201a8\"], [0.3333333333333333, \"#9c179e\"], [0.4444444444444444, \"#bd3786\"], [0.5555555555555556, \"#d8576b\"], [0.6666666666666666, \"#ed7953\"], [0.7777777777777778, \"#fb9f3a\"], [0.8888888888888888, \"#fdca26\"], [1.0, \"#f0f921\"]], \"type\": \"contour\"}], \"contourcarpet\": [{\"colorbar\": {\"outlinewidth\": 0, \"ticks\": \"\"}, \"type\": \"contourcarpet\"}], \"heatmap\": [{\"colorbar\": {\"outlinewidth\": 0, \"ticks\": \"\"}, \"colorscale\": [[0.0, \"#0d0887\"], [0.1111111111111111, \"#46039f\"], [0.2222222222222222, \"#7201a8\"], [0.3333333333333333, \"#9c179e\"], [0.4444444444444444, \"#bd3786\"], [0.5555555555555556, \"#d8576b\"], [0.6666666666666666, \"#ed7953\"], [0.7777777777777778, \"#fb9f3a\"], [0.8888888888888888, \"#fdca26\"], [1.0, \"#f0f921\"]], \"type\": \"heatmap\"}], \"heatmapgl\": [{\"colorbar\": {\"outlinewidth\": 0, \"ticks\": \"\"}, \"colorscale\": [[0.0, \"#0d0887\"], [0.1111111111111111, \"#46039f\"], [0.2222222222222222, \"#7201a8\"], [0.3333333333333333, \"#9c179e\"], [0.4444444444444444, \"#bd3786\"], [0.5555555555555556, \"#d8576b\"], [0.6666666666666666, \"#ed7953\"], [0.7777777777777778, \"#fb9f3a\"], [0.8888888888888888, \"#fdca26\"], [1.0, \"#f0f921\"]], \"type\": \"heatmapgl\"}], \"histogram\": [{\"marker\": {\"colorbar\": {\"outlinewidth\": 0, \"ticks\": \"\"}}, \"type\": \"histogram\"}], \"histogram2d\": [{\"colorbar\": {\"outlinewidth\": 0, \"ticks\": \"\"}, \"colorscale\": [[0.0, \"#0d0887\"], [0.1111111111111111, \"#46039f\"], [0.2222222222222222, \"#7201a8\"], [0.3333333333333333, \"#9c179e\"], [0.4444444444444444, \"#bd3786\"], [0.5555555555555556, \"#d8576b\"], [0.6666666666666666, \"#ed7953\"], [0.7777777777777778, \"#fb9f3a\"], [0.8888888888888888, \"#fdca26\"], [1.0, \"#f0f921\"]], \"type\": \"histogram2d\"}], \"histogram2dcontour\": [{\"colorbar\": {\"outlinewidth\": 0, \"ticks\": \"\"}, \"colorscale\": [[0.0, \"#0d0887\"], [0.1111111111111111, \"#46039f\"], [0.2222222222222222, \"#7201a8\"], [0.3333333333333333, \"#9c179e\"], [0.4444444444444444, \"#bd3786\"], [0.5555555555555556, \"#d8576b\"], [0.6666666666666666, \"#ed7953\"], [0.7777777777777778, \"#fb9f3a\"], [0.8888888888888888, \"#fdca26\"], [1.0, \"#f0f921\"]], \"type\": \"histogram2dcontour\"}], \"mesh3d\": [{\"colorbar\": {\"outlinewidth\": 0, \"ticks\": \"\"}, \"type\": \"mesh3d\"}], \"parcoords\": [{\"line\": {\"colorbar\": {\"outlinewidth\": 0, \"ticks\": \"\"}}, \"type\": \"parcoords\"}], \"pie\": [{\"automargin\": true, \"type\": \"pie\"}], \"scatter\": [{\"marker\": {\"colorbar\": {\"outlinewidth\": 0, \"ticks\": \"\"}}, \"type\": \"scatter\"}], \"scatter3d\": [{\"line\": {\"colorbar\": {\"outlinewidth\": 0, \"ticks\": \"\"}}, \"marker\": {\"colorbar\": {\"outlinewidth\": 0, \"ticks\": \"\"}}, \"type\": \"scatter3d\"}], \"scattercarpet\": [{\"marker\": {\"colorbar\": {\"outlinewidth\": 0, \"ticks\": \"\"}}, \"type\": \"scattercarpet\"}], \"scattergeo\": [{\"marker\": {\"colorbar\": {\"outlinewidth\": 0, \"ticks\": \"\"}}, \"type\": \"scattergeo\"}], \"scattergl\": [{\"marker\": {\"colorbar\": {\"outlinewidth\": 0, \"ticks\": \"\"}}, \"type\": \"scattergl\"}], \"scattermapbox\": [{\"marker\": {\"colorbar\": {\"outlinewidth\": 0, \"ticks\": \"\"}}, \"type\": \"scattermapbox\"}], \"scatterpolar\": [{\"marker\": {\"colorbar\": {\"outlinewidth\": 0, \"ticks\": \"\"}}, \"type\": \"scatterpolar\"}], \"scatterpolargl\": [{\"marker\": {\"colorbar\": {\"outlinewidth\": 0, \"ticks\": \"\"}}, \"type\": \"scatterpolargl\"}], \"scatterternary\": [{\"marker\": {\"colorbar\": {\"outlinewidth\": 0, \"ticks\": \"\"}}, \"type\": \"scatterternary\"}], \"surface\": [{\"colorbar\": {\"outlinewidth\": 0, \"ticks\": \"\"}, \"colorscale\": [[0.0, \"#0d0887\"], [0.1111111111111111, \"#46039f\"], [0.2222222222222222, \"#7201a8\"], [0.3333333333333333, \"#9c179e\"], [0.4444444444444444, \"#bd3786\"], [0.5555555555555556, \"#d8576b\"], [0.6666666666666666, \"#ed7953\"], [0.7777777777777778, \"#fb9f3a\"], [0.8888888888888888, \"#fdca26\"], [1.0, \"#f0f921\"]], \"type\": \"surface\"}], \"table\": [{\"cells\": {\"fill\": {\"color\": \"#EBF0F8\"}, \"line\": {\"color\": \"white\"}}, \"header\": {\"fill\": {\"color\": \"#C8D4E3\"}, \"line\": {\"color\": \"white\"}}, \"type\": \"table\"}]}, \"layout\": {\"annotationdefaults\": {\"arrowcolor\": \"#2a3f5f\", \"arrowhead\": 0, \"arrowwidth\": 1}, \"coloraxis\": {\"colorbar\": {\"outlinewidth\": 0, \"ticks\": \"\"}}, \"colorscale\": {\"diverging\": [[0, \"#8e0152\"], [0.1, \"#c51b7d\"], [0.2, \"#de77ae\"], [0.3, \"#f1b6da\"], [0.4, \"#fde0ef\"], [0.5, \"#f7f7f7\"], [0.6, \"#e6f5d0\"], [0.7, \"#b8e186\"], [0.8, \"#7fbc41\"], [0.9, \"#4d9221\"], [1, \"#276419\"]], \"sequential\": [[0.0, \"#0d0887\"], [0.1111111111111111, \"#46039f\"], [0.2222222222222222, \"#7201a8\"], [0.3333333333333333, \"#9c179e\"], [0.4444444444444444, \"#bd3786\"], [0.5555555555555556, \"#d8576b\"], [0.6666666666666666, \"#ed7953\"], [0.7777777777777778, \"#fb9f3a\"], [0.8888888888888888, \"#fdca26\"], [1.0, \"#f0f921\"]], \"sequentialminus\": [[0.0, \"#0d0887\"], [0.1111111111111111, \"#46039f\"], [0.2222222222222222, \"#7201a8\"], [0.3333333333333333, \"#9c179e\"], [0.4444444444444444, \"#bd3786\"], [0.5555555555555556, \"#d8576b\"], [0.6666666666666666, \"#ed7953\"], [0.7777777777777778, \"#fb9f3a\"], [0.8888888888888888, \"#fdca26\"], [1.0, \"#f0f921\"]]}, \"colorway\": [\"#636efa\", \"#EF553B\", \"#00cc96\", \"#ab63fa\", \"#FFA15A\", \"#19d3f3\", \"#FF6692\", \"#B6E880\", \"#FF97FF\", \"#FECB52\"], \"font\": {\"color\": \"#2a3f5f\"}, \"geo\": {\"bgcolor\": \"white\", \"lakecolor\": \"white\", \"landcolor\": \"#E5ECF6\", \"showlakes\": true, \"showland\": true, \"subunitcolor\": \"white\"}, \"hoverlabel\": {\"align\": \"left\"}, \"hovermode\": \"closest\", \"mapbox\": {\"style\": \"light\"}, \"paper_bgcolor\": \"white\", \"plot_bgcolor\": \"#E5ECF6\", \"polar\": {\"angularaxis\": {\"gridcolor\": \"white\", \"linecolor\": \"white\", \"ticks\": \"\"}, \"bgcolor\": \"#E5ECF6\", \"radialaxis\": {\"gridcolor\": \"white\", \"linecolor\": \"white\", \"ticks\": \"\"}}, \"scene\": {\"xaxis\": {\"backgroundcolor\": \"#E5ECF6\", \"gridcolor\": \"white\", \"gridwidth\": 2, \"linecolor\": \"white\", \"showbackground\": true, \"ticks\": \"\", \"zerolinecolor\": \"white\"}, \"yaxis\": {\"backgroundcolor\": \"#E5ECF6\", \"gridcolor\": \"white\", \"gridwidth\": 2, \"linecolor\": \"white\", \"showbackground\": true, \"ticks\": \"\", \"zerolinecolor\": \"white\"}, \"zaxis\": {\"backgroundcolor\": \"#E5ECF6\", \"gridcolor\": \"white\", \"gridwidth\": 2, \"linecolor\": \"white\", \"showbackground\": true, \"ticks\": \"\", \"zerolinecolor\": \"white\"}}, \"shapedefaults\": {\"line\": {\"color\": \"#2a3f5f\"}}, \"ternary\": {\"aaxis\": {\"gridcolor\": \"white\", \"linecolor\": \"white\", \"ticks\": \"\"}, \"baxis\": {\"gridcolor\": \"white\", \"linecolor\": \"white\", \"ticks\": \"\"}, \"bgcolor\": \"#E5ECF6\", \"caxis\": {\"gridcolor\": \"white\", \"linecolor\": \"white\", \"ticks\": \"\"}}, \"title\": {\"x\": 0.05}, \"xaxis\": {\"automargin\": true, \"gridcolor\": \"white\", \"linecolor\": \"white\", \"ticks\": \"\", \"title\": {\"standoff\": 15}, \"zerolinecolor\": \"white\", \"zerolinewidth\": 2}, \"yaxis\": {\"automargin\": true, \"gridcolor\": \"white\", \"linecolor\": \"white\", \"ticks\": \"\", \"title\": {\"standoff\": 15}, \"zerolinecolor\": \"white\", \"zerolinewidth\": 2}}}, \"xaxis\": {\"anchor\": \"y\", \"domain\": [0.0, 1.0], \"title\": {\"text\": \"year\"}}, \"yaxis\": {\"anchor\": \"x\", \"domain\": [0.0, 1.0], \"title\": {\"text\": \"rating\"}}},\n",
              "                        {\"responsive\": true}\n",
              "                    ).then(function(){\n",
              "                            \n",
              "var gd = document.getElementById('5d0ecf07-fbeb-4a71-b808-52716f927437');\n",
              "var x = new MutationObserver(function (mutations, observer) {{\n",
              "        var display = window.getComputedStyle(gd).display;\n",
              "        if (!display || display === 'none') {{\n",
              "            console.log([gd, 'removed!']);\n",
              "            Plotly.purge(gd);\n",
              "            observer.disconnect();\n",
              "        }}\n",
              "}});\n",
              "\n",
              "// Listen for the removal of the full notebook cells\n",
              "var notebookContainer = gd.closest('#notebook-container');\n",
              "if (notebookContainer) {{\n",
              "    x.observe(notebookContainer, {childList: true});\n",
              "}}\n",
              "\n",
              "// Listen for the clearing of the current output cell\n",
              "var outputEl = gd.closest('.output');\n",
              "if (outputEl) {{\n",
              "    x.observe(outputEl, {childList: true});\n",
              "}}\n",
              "\n",
              "                        })\n",
              "                };\n",
              "                \n",
              "            </script>\n",
              "        </div>\n",
              "</body>\n",
              "</html>"
            ]
          },
          "metadata": {
            "tags": []
          }
        }
      ]
    },
    {
      "cell_type": "markdown",
      "metadata": {
        "colab_type": "text",
        "id": "pz4qcRPrtC-6"
      },
      "source": [
        "* I'd like to compare the votes from TMB to the user ratings, but they are on different scales. We'll use standard scaler to normalize them so we can more easily compare."
      ]
    },
    {
      "cell_type": "code",
      "metadata": {
        "id": "7NkQusqxRar9",
        "colab_type": "code",
        "colab": {}
      },
      "source": [
        "from sklearn.preprocessing import StandardScaler\n",
        "scaler = StandardScaler()\n",
        "to_scale = clean_movies[['vote_average', 'rating']].dropna()\n",
        "scaled = scaler.fit_transform(to_scale)\n",
        "clean_movies = clean_movies.merge(\n",
        "    pd.DataFrame(\n",
        "        scaled,\n",
        "        index = to_scale.index,\n",
        "        columns = ['scaled_tmdb_vote', 'scaled_user_rating']\n",
        "    ),\n",
        "    left_index = True,\n",
        "    right_index = True,\n",
        ")"
      ],
      "execution_count": 0,
      "outputs": []
    },
    {
      "cell_type": "code",
      "metadata": {
        "id": "vuunYLwGRasA",
        "colab_type": "code",
        "outputId": "2c799857-8e31-4ee9-f524-f9815240a130",
        "colab": {
          "base_uri": "https://localhost:8080/",
          "height": 0
        }
      },
      "source": [
        "traces = [\n",
        "    go.Bar(name='TMDB rating',\n",
        "        x = clean_movies.groupby('decade')['scaled_tmdb_vote'].mean().index,\n",
        "        y = clean_movies.groupby('decade')['scaled_tmdb_vote'].mean()\n",
        "    ),\n",
        "        go.Bar(name='user rating',\n",
        "        x = clean_movies.groupby('decade')['scaled_user_rating'].mean().index,\n",
        "        y = clean_movies.groupby('decade')['scaled_user_rating'].mean()\n",
        "    )\n",
        "]\n",
        "\n",
        "go.Figure(data = traces,\n",
        "    layout_xaxis_tick0 = 1890\n",
        ")"
      ],
      "execution_count": 29,
      "outputs": [
        {
          "output_type": "display_data",
          "data": {
            "text/html": [
              "<html>\n",
              "<head><meta charset=\"utf-8\" /></head>\n",
              "<body>\n",
              "    <div>\n",
              "            <script src=\"https://cdnjs.cloudflare.com/ajax/libs/mathjax/2.7.5/MathJax.js?config=TeX-AMS-MML_SVG\"></script><script type=\"text/javascript\">if (window.MathJax) {MathJax.Hub.Config({SVG: {font: \"STIX-Web\"}});}</script>\n",
              "                <script type=\"text/javascript\">window.PlotlyConfig = {MathJaxConfig: 'local'};</script>\n",
              "        <script src=\"https://cdn.plot.ly/plotly-latest.min.js\"></script>    \n",
              "            <div id=\"e6394f38-4aa4-48f6-b4bd-6150bbf788f2\" class=\"plotly-graph-div\" style=\"height:525px; width:100%;\"></div>\n",
              "            <script type=\"text/javascript\">\n",
              "                \n",
              "                    window.PLOTLYENV=window.PLOTLYENV || {};\n",
              "                    \n",
              "                if (document.getElementById(\"e6394f38-4aa4-48f6-b4bd-6150bbf788f2\")) {\n",
              "                    Plotly.newPlot(\n",
              "                        'e6394f38-4aa4-48f6-b4bd-6150bbf788f2',\n",
              "                        [{\"name\": \"TMDB rating\", \"type\": \"bar\", \"x\": [1910.0, 1920.0, 1930.0, 1940.0, 1950.0, 1960.0, 1970.0, 1980.0, 1990.0, 2000.0, 2010.0], \"y\": [-0.29051442295697294, 1.1806165751891118, 0.8695774498667966, 1.2762400900686073, 1.1186742173724347, 0.6008462605099008, 0.46089402532687357, 0.010693415307512949, -0.11882478176157135, -0.1496614550493693, -0.7465650323822598]}, {\"name\": \"user rating\", \"type\": \"bar\", \"x\": [1910.0, 1920.0, 1930.0, 1940.0, 1950.0, 1960.0, 1970.0, 1980.0, 1990.0, 2000.0, 2010.0], \"y\": [-1.0992281197140972, -0.31038957053339955, 0.09304700026368908, 0.4495089183479862, 0.15383609644985824, 0.190340171353303, 0.05603818553594675, 0.07626328140597549, -0.03142326523591651, -0.029073662731155782, -0.23449815390861695]}],\n",
              "                        {\"template\": {\"data\": {\"bar\": [{\"error_x\": {\"color\": \"#2a3f5f\"}, \"error_y\": {\"color\": \"#2a3f5f\"}, \"marker\": {\"line\": {\"color\": \"#E5ECF6\", \"width\": 0.5}}, \"type\": \"bar\"}], \"barpolar\": [{\"marker\": {\"line\": {\"color\": \"#E5ECF6\", \"width\": 0.5}}, \"type\": \"barpolar\"}], \"carpet\": [{\"aaxis\": {\"endlinecolor\": \"#2a3f5f\", \"gridcolor\": \"white\", \"linecolor\": \"white\", \"minorgridcolor\": \"white\", \"startlinecolor\": \"#2a3f5f\"}, \"baxis\": {\"endlinecolor\": \"#2a3f5f\", \"gridcolor\": \"white\", \"linecolor\": \"white\", \"minorgridcolor\": \"white\", \"startlinecolor\": \"#2a3f5f\"}, \"type\": \"carpet\"}], \"choropleth\": [{\"colorbar\": {\"outlinewidth\": 0, \"ticks\": \"\"}, \"type\": \"choropleth\"}], \"contour\": [{\"colorbar\": {\"outlinewidth\": 0, \"ticks\": \"\"}, \"colorscale\": [[0.0, \"#0d0887\"], [0.1111111111111111, \"#46039f\"], [0.2222222222222222, \"#7201a8\"], [0.3333333333333333, \"#9c179e\"], [0.4444444444444444, \"#bd3786\"], [0.5555555555555556, \"#d8576b\"], [0.6666666666666666, \"#ed7953\"], [0.7777777777777778, \"#fb9f3a\"], [0.8888888888888888, \"#fdca26\"], [1.0, \"#f0f921\"]], \"type\": \"contour\"}], \"contourcarpet\": [{\"colorbar\": {\"outlinewidth\": 0, \"ticks\": \"\"}, \"type\": \"contourcarpet\"}], \"heatmap\": [{\"colorbar\": {\"outlinewidth\": 0, \"ticks\": \"\"}, \"colorscale\": [[0.0, \"#0d0887\"], [0.1111111111111111, \"#46039f\"], [0.2222222222222222, \"#7201a8\"], [0.3333333333333333, \"#9c179e\"], [0.4444444444444444, \"#bd3786\"], [0.5555555555555556, \"#d8576b\"], [0.6666666666666666, \"#ed7953\"], [0.7777777777777778, \"#fb9f3a\"], [0.8888888888888888, \"#fdca26\"], [1.0, \"#f0f921\"]], \"type\": \"heatmap\"}], \"heatmapgl\": [{\"colorbar\": {\"outlinewidth\": 0, \"ticks\": \"\"}, \"colorscale\": [[0.0, \"#0d0887\"], [0.1111111111111111, \"#46039f\"], [0.2222222222222222, \"#7201a8\"], [0.3333333333333333, \"#9c179e\"], [0.4444444444444444, \"#bd3786\"], [0.5555555555555556, \"#d8576b\"], [0.6666666666666666, \"#ed7953\"], [0.7777777777777778, \"#fb9f3a\"], [0.8888888888888888, \"#fdca26\"], [1.0, \"#f0f921\"]], \"type\": \"heatmapgl\"}], \"histogram\": [{\"marker\": {\"colorbar\": {\"outlinewidth\": 0, \"ticks\": \"\"}}, \"type\": \"histogram\"}], \"histogram2d\": [{\"colorbar\": {\"outlinewidth\": 0, \"ticks\": \"\"}, \"colorscale\": [[0.0, \"#0d0887\"], [0.1111111111111111, \"#46039f\"], [0.2222222222222222, \"#7201a8\"], [0.3333333333333333, \"#9c179e\"], [0.4444444444444444, \"#bd3786\"], [0.5555555555555556, \"#d8576b\"], [0.6666666666666666, \"#ed7953\"], [0.7777777777777778, \"#fb9f3a\"], [0.8888888888888888, \"#fdca26\"], [1.0, \"#f0f921\"]], \"type\": \"histogram2d\"}], \"histogram2dcontour\": [{\"colorbar\": {\"outlinewidth\": 0, \"ticks\": \"\"}, \"colorscale\": [[0.0, \"#0d0887\"], [0.1111111111111111, \"#46039f\"], [0.2222222222222222, \"#7201a8\"], [0.3333333333333333, \"#9c179e\"], [0.4444444444444444, \"#bd3786\"], [0.5555555555555556, \"#d8576b\"], [0.6666666666666666, \"#ed7953\"], [0.7777777777777778, \"#fb9f3a\"], [0.8888888888888888, \"#fdca26\"], [1.0, \"#f0f921\"]], \"type\": \"histogram2dcontour\"}], \"mesh3d\": [{\"colorbar\": {\"outlinewidth\": 0, \"ticks\": \"\"}, \"type\": \"mesh3d\"}], \"parcoords\": [{\"line\": {\"colorbar\": {\"outlinewidth\": 0, \"ticks\": \"\"}}, \"type\": \"parcoords\"}], \"pie\": [{\"automargin\": true, \"type\": \"pie\"}], \"scatter\": [{\"marker\": {\"colorbar\": {\"outlinewidth\": 0, \"ticks\": \"\"}}, \"type\": \"scatter\"}], \"scatter3d\": [{\"line\": {\"colorbar\": {\"outlinewidth\": 0, \"ticks\": \"\"}}, \"marker\": {\"colorbar\": {\"outlinewidth\": 0, \"ticks\": \"\"}}, \"type\": \"scatter3d\"}], \"scattercarpet\": [{\"marker\": {\"colorbar\": {\"outlinewidth\": 0, \"ticks\": \"\"}}, \"type\": \"scattercarpet\"}], \"scattergeo\": [{\"marker\": {\"colorbar\": {\"outlinewidth\": 0, \"ticks\": \"\"}}, \"type\": \"scattergeo\"}], \"scattergl\": [{\"marker\": {\"colorbar\": {\"outlinewidth\": 0, \"ticks\": \"\"}}, \"type\": \"scattergl\"}], \"scattermapbox\": [{\"marker\": {\"colorbar\": {\"outlinewidth\": 0, \"ticks\": \"\"}}, \"type\": \"scattermapbox\"}], \"scatterpolar\": [{\"marker\": {\"colorbar\": {\"outlinewidth\": 0, \"ticks\": \"\"}}, \"type\": \"scatterpolar\"}], \"scatterpolargl\": [{\"marker\": {\"colorbar\": {\"outlinewidth\": 0, \"ticks\": \"\"}}, \"type\": \"scatterpolargl\"}], \"scatterternary\": [{\"marker\": {\"colorbar\": {\"outlinewidth\": 0, \"ticks\": \"\"}}, \"type\": \"scatterternary\"}], \"surface\": [{\"colorbar\": {\"outlinewidth\": 0, \"ticks\": \"\"}, \"colorscale\": [[0.0, \"#0d0887\"], [0.1111111111111111, \"#46039f\"], [0.2222222222222222, \"#7201a8\"], [0.3333333333333333, \"#9c179e\"], [0.4444444444444444, \"#bd3786\"], [0.5555555555555556, \"#d8576b\"], [0.6666666666666666, \"#ed7953\"], [0.7777777777777778, \"#fb9f3a\"], [0.8888888888888888, \"#fdca26\"], [1.0, \"#f0f921\"]], \"type\": \"surface\"}], \"table\": [{\"cells\": {\"fill\": {\"color\": \"#EBF0F8\"}, \"line\": {\"color\": \"white\"}}, \"header\": {\"fill\": {\"color\": \"#C8D4E3\"}, \"line\": {\"color\": \"white\"}}, \"type\": \"table\"}]}, \"layout\": {\"annotationdefaults\": {\"arrowcolor\": \"#2a3f5f\", \"arrowhead\": 0, \"arrowwidth\": 1}, \"coloraxis\": {\"colorbar\": {\"outlinewidth\": 0, \"ticks\": \"\"}}, \"colorscale\": {\"diverging\": [[0, \"#8e0152\"], [0.1, \"#c51b7d\"], [0.2, \"#de77ae\"], [0.3, \"#f1b6da\"], [0.4, \"#fde0ef\"], [0.5, \"#f7f7f7\"], [0.6, \"#e6f5d0\"], [0.7, \"#b8e186\"], [0.8, \"#7fbc41\"], [0.9, \"#4d9221\"], [1, \"#276419\"]], \"sequential\": [[0.0, \"#0d0887\"], [0.1111111111111111, \"#46039f\"], [0.2222222222222222, \"#7201a8\"], [0.3333333333333333, \"#9c179e\"], [0.4444444444444444, \"#bd3786\"], [0.5555555555555556, \"#d8576b\"], [0.6666666666666666, \"#ed7953\"], [0.7777777777777778, \"#fb9f3a\"], [0.8888888888888888, \"#fdca26\"], [1.0, \"#f0f921\"]], \"sequentialminus\": [[0.0, \"#0d0887\"], [0.1111111111111111, \"#46039f\"], [0.2222222222222222, \"#7201a8\"], [0.3333333333333333, \"#9c179e\"], [0.4444444444444444, \"#bd3786\"], [0.5555555555555556, \"#d8576b\"], [0.6666666666666666, \"#ed7953\"], [0.7777777777777778, \"#fb9f3a\"], [0.8888888888888888, \"#fdca26\"], [1.0, \"#f0f921\"]]}, \"colorway\": [\"#636efa\", \"#EF553B\", \"#00cc96\", \"#ab63fa\", \"#FFA15A\", \"#19d3f3\", \"#FF6692\", \"#B6E880\", \"#FF97FF\", \"#FECB52\"], \"font\": {\"color\": \"#2a3f5f\"}, \"geo\": {\"bgcolor\": \"white\", \"lakecolor\": \"white\", \"landcolor\": \"#E5ECF6\", \"showlakes\": true, \"showland\": true, \"subunitcolor\": \"white\"}, \"hoverlabel\": {\"align\": \"left\"}, \"hovermode\": \"closest\", \"mapbox\": {\"style\": \"light\"}, \"paper_bgcolor\": \"white\", \"plot_bgcolor\": \"#E5ECF6\", \"polar\": {\"angularaxis\": {\"gridcolor\": \"white\", \"linecolor\": \"white\", \"ticks\": \"\"}, \"bgcolor\": \"#E5ECF6\", \"radialaxis\": {\"gridcolor\": \"white\", \"linecolor\": \"white\", \"ticks\": \"\"}}, \"scene\": {\"xaxis\": {\"backgroundcolor\": \"#E5ECF6\", \"gridcolor\": \"white\", \"gridwidth\": 2, \"linecolor\": \"white\", \"showbackground\": true, \"ticks\": \"\", \"zerolinecolor\": \"white\"}, \"yaxis\": {\"backgroundcolor\": \"#E5ECF6\", \"gridcolor\": \"white\", \"gridwidth\": 2, \"linecolor\": \"white\", \"showbackground\": true, \"ticks\": \"\", \"zerolinecolor\": \"white\"}, \"zaxis\": {\"backgroundcolor\": \"#E5ECF6\", \"gridcolor\": \"white\", \"gridwidth\": 2, \"linecolor\": \"white\", \"showbackground\": true, \"ticks\": \"\", \"zerolinecolor\": \"white\"}}, \"shapedefaults\": {\"line\": {\"color\": \"#2a3f5f\"}}, \"ternary\": {\"aaxis\": {\"gridcolor\": \"white\", \"linecolor\": \"white\", \"ticks\": \"\"}, \"baxis\": {\"gridcolor\": \"white\", \"linecolor\": \"white\", \"ticks\": \"\"}, \"bgcolor\": \"#E5ECF6\", \"caxis\": {\"gridcolor\": \"white\", \"linecolor\": \"white\", \"ticks\": \"\"}}, \"title\": {\"x\": 0.05}, \"xaxis\": {\"automargin\": true, \"gridcolor\": \"white\", \"linecolor\": \"white\", \"ticks\": \"\", \"title\": {\"standoff\": 15}, \"zerolinecolor\": \"white\", \"zerolinewidth\": 2}, \"yaxis\": {\"automargin\": true, \"gridcolor\": \"white\", \"linecolor\": \"white\", \"ticks\": \"\", \"title\": {\"standoff\": 15}, \"zerolinecolor\": \"white\", \"zerolinewidth\": 2}}}, \"xaxis\": {\"tick0\": 1890}},\n",
              "                        {\"responsive\": true}\n",
              "                    ).then(function(){\n",
              "                            \n",
              "var gd = document.getElementById('e6394f38-4aa4-48f6-b4bd-6150bbf788f2');\n",
              "var x = new MutationObserver(function (mutations, observer) {{\n",
              "        var display = window.getComputedStyle(gd).display;\n",
              "        if (!display || display === 'none') {{\n",
              "            console.log([gd, 'removed!']);\n",
              "            Plotly.purge(gd);\n",
              "            observer.disconnect();\n",
              "        }}\n",
              "}});\n",
              "\n",
              "// Listen for the removal of the full notebook cells\n",
              "var notebookContainer = gd.closest('#notebook-container');\n",
              "if (notebookContainer) {{\n",
              "    x.observe(notebookContainer, {childList: true});\n",
              "}}\n",
              "\n",
              "// Listen for the clearing of the current output cell\n",
              "var outputEl = gd.closest('.output');\n",
              "if (outputEl) {{\n",
              "    x.observe(outputEl, {childList: true});\n",
              "}}\n",
              "\n",
              "                        })\n",
              "                };\n",
              "                \n",
              "            </script>\n",
              "        </div>\n",
              "</body>\n",
              "</html>"
            ]
          },
          "metadata": {
            "tags": []
          }
        }
      ]
    },
    {
      "cell_type": "code",
      "metadata": {
        "id": "NS8rv_JVRasE",
        "colab_type": "code",
        "colab": {}
      },
      "source": [
        "from sklearn.decomposition import PCA\n",
        "\n",
        "pca = PCA(1)\n",
        "\n",
        "to_scale = clean_movies[['vote_average', 'rating', 'adjusted_revenue']].dropna()\n",
        "scaled = scaler.fit_transform(to_scale)\n",
        "\n",
        "pca_df = pd.DataFrame(pca.fit_transform(scaled), index=to_scale.index, columns = ['PCA'])\n",
        "\n",
        "clean_movies = clean_movies.merge(pca_df, left_index = True, right_index = True)"
      ],
      "execution_count": 0,
      "outputs": []
    },
    {
      "cell_type": "code",
      "metadata": {
        "id": "dOT_Q_CzRasG",
        "colab_type": "code",
        "outputId": "1c57ebcd-9d58-492d-aac9-a386c863a41f",
        "colab": {
          "base_uri": "https://localhost:8080/",
          "height": 0
        }
      },
      "source": [
        "(clean_movies[['title', 'PCA']]\n",
        " .nlargest(10, 'PCA')\n",
        " .style\n",
        " .hide_index()\n",
        " .format({\n",
        "     'PCA':'{:.2f}'\n",
        " })\n",
        ")"
      ],
      "execution_count": 31,
      "outputs": [
        {
          "output_type": "execute_result",
          "data": {
            "text/html": [
              "<style  type=\"text/css\" >\n",
              "</style><table id=\"T_8aed7e2e_6016_11ea_bbe9_0242ac1c0002\" ><thead>    <tr>        <th class=\"col_heading level0 col0\" >title</th>        <th class=\"col_heading level0 col1\" >PCA</th>    </tr></thead><tbody>\n",
              "                <tr>\n",
              "                                <td id=\"T_8aed7e2e_6016_11ea_bbe9_0242ac1c0002row0_col0\" class=\"data row0 col0\" >Star Wars</td>\n",
              "                        <td id=\"T_8aed7e2e_6016_11ea_bbe9_0242ac1c0002row0_col1\" class=\"data row0 col1\" >8.87</td>\n",
              "            </tr>\n",
              "            <tr>\n",
              "                                <td id=\"T_8aed7e2e_6016_11ea_bbe9_0242ac1c0002row1_col0\" class=\"data row1 col0\" >Titanic</td>\n",
              "                        <td id=\"T_8aed7e2e_6016_11ea_bbe9_0242ac1c0002row1_col1\" class=\"data row1 col1\" >7.51</td>\n",
              "            </tr>\n",
              "            <tr>\n",
              "                                <td id=\"T_8aed7e2e_6016_11ea_bbe9_0242ac1c0002row2_col0\" class=\"data row2 col0\" >E.T. the Extra-Terrestrial</td>\n",
              "                        <td id=\"T_8aed7e2e_6016_11ea_bbe9_0242ac1c0002row2_col1\" class=\"data row2 col1\" >5.27</td>\n",
              "            </tr>\n",
              "            <tr>\n",
              "                                <td id=\"T_8aed7e2e_6016_11ea_bbe9_0242ac1c0002row3_col0\" class=\"data row3 col0\" >The Empire Strikes Back</td>\n",
              "                        <td id=\"T_8aed7e2e_6016_11ea_bbe9_0242ac1c0002row3_col1\" class=\"data row3 col1\" >4.82</td>\n",
              "            </tr>\n",
              "            <tr>\n",
              "                                <td id=\"T_8aed7e2e_6016_11ea_bbe9_0242ac1c0002row4_col0\" class=\"data row4 col0\" >The Godfather</td>\n",
              "                        <td id=\"T_8aed7e2e_6016_11ea_bbe9_0242ac1c0002row4_col1\" class=\"data row4 col1\" >4.76</td>\n",
              "            </tr>\n",
              "            <tr>\n",
              "                                <td id=\"T_8aed7e2e_6016_11ea_bbe9_0242ac1c0002row5_col0\" class=\"data row5 col0\" >The Lord of the Rings: The Return of the King</td>\n",
              "                        <td id=\"T_8aed7e2e_6016_11ea_bbe9_0242ac1c0002row5_col1\" class=\"data row5 col1\" >4.51</td>\n",
              "            </tr>\n",
              "            <tr>\n",
              "                                <td id=\"T_8aed7e2e_6016_11ea_bbe9_0242ac1c0002row6_col0\" class=\"data row6 col0\" >Jurassic Park</td>\n",
              "                        <td id=\"T_8aed7e2e_6016_11ea_bbe9_0242ac1c0002row6_col1\" class=\"data row6 col1\" >4.35</td>\n",
              "            </tr>\n",
              "            <tr>\n",
              "                                <td id=\"T_8aed7e2e_6016_11ea_bbe9_0242ac1c0002row7_col0\" class=\"data row7 col0\" >Return of the Jedi</td>\n",
              "                        <td id=\"T_8aed7e2e_6016_11ea_bbe9_0242ac1c0002row7_col1\" class=\"data row7 col1\" >4.22</td>\n",
              "            </tr>\n",
              "            <tr>\n",
              "                                <td id=\"T_8aed7e2e_6016_11ea_bbe9_0242ac1c0002row8_col0\" class=\"data row8 col0\" >The Lord of the Rings: The Two Towers</td>\n",
              "                        <td id=\"T_8aed7e2e_6016_11ea_bbe9_0242ac1c0002row8_col1\" class=\"data row8 col1\" >3.98</td>\n",
              "            </tr>\n",
              "            <tr>\n",
              "                                <td id=\"T_8aed7e2e_6016_11ea_bbe9_0242ac1c0002row9_col0\" class=\"data row9 col0\" >The Dark Knight</td>\n",
              "                        <td id=\"T_8aed7e2e_6016_11ea_bbe9_0242ac1c0002row9_col1\" class=\"data row9 col1\" >3.87</td>\n",
              "            </tr>\n",
              "    </tbody></table>"
            ],
            "text/plain": [
              "<pandas.io.formats.style.Styler at 0x7f153b6410b8>"
            ]
          },
          "metadata": {
            "tags": []
          },
          "execution_count": 31
        }
      ]
    },
    {
      "cell_type": "markdown",
      "metadata": {
        "id": "DvycT1DCVz6y",
        "colab_type": "text"
      },
      "source": [
        "## Budget\n"
      ]
    },
    {
      "cell_type": "code",
      "metadata": {
        "id": "5ukRHhNeV5rE",
        "colab_type": "code",
        "outputId": "5ed0986d-da5c-49e4-cd66-353b50480ff8",
        "colab": {
          "base_uri": "https://localhost:8080/",
          "height": 126
        }
      },
      "source": [
        "budget_dict = {'no-budget':[0, 500000],\n",
        " 'low-budget':[500000, 40000000],\n",
        " 'medium-budget': [40000000, 100000000],\n",
        " 'High-budget:':[100000000, 1000000000000]\n",
        " }\n",
        "\n",
        "(pd.DataFrame.from_dict(budget_dict, orient='index', columns = ['low-end', 'high-end'])\n",
        " .style\n",
        " .format('{:,.0f}')\n",
        ")"
      ],
      "execution_count": 32,
      "outputs": [
        {
          "output_type": "execute_result",
          "data": {
            "text/html": [
              "<style  type=\"text/css\" >\n",
              "</style><table id=\"T_8af267b8_6016_11ea_bbe9_0242ac1c0002\" ><thead>    <tr>        <th class=\"blank level0\" ></th>        <th class=\"col_heading level0 col0\" >low-end</th>        <th class=\"col_heading level0 col1\" >high-end</th>    </tr></thead><tbody>\n",
              "                <tr>\n",
              "                        <th id=\"T_8af267b8_6016_11ea_bbe9_0242ac1c0002level0_row0\" class=\"row_heading level0 row0\" >no-budget</th>\n",
              "                        <td id=\"T_8af267b8_6016_11ea_bbe9_0242ac1c0002row0_col0\" class=\"data row0 col0\" >0</td>\n",
              "                        <td id=\"T_8af267b8_6016_11ea_bbe9_0242ac1c0002row0_col1\" class=\"data row0 col1\" >500,000</td>\n",
              "            </tr>\n",
              "            <tr>\n",
              "                        <th id=\"T_8af267b8_6016_11ea_bbe9_0242ac1c0002level0_row1\" class=\"row_heading level0 row1\" >low-budget</th>\n",
              "                        <td id=\"T_8af267b8_6016_11ea_bbe9_0242ac1c0002row1_col0\" class=\"data row1 col0\" >500,000</td>\n",
              "                        <td id=\"T_8af267b8_6016_11ea_bbe9_0242ac1c0002row1_col1\" class=\"data row1 col1\" >40,000,000</td>\n",
              "            </tr>\n",
              "            <tr>\n",
              "                        <th id=\"T_8af267b8_6016_11ea_bbe9_0242ac1c0002level0_row2\" class=\"row_heading level0 row2\" >medium-budget</th>\n",
              "                        <td id=\"T_8af267b8_6016_11ea_bbe9_0242ac1c0002row2_col0\" class=\"data row2 col0\" >40,000,000</td>\n",
              "                        <td id=\"T_8af267b8_6016_11ea_bbe9_0242ac1c0002row2_col1\" class=\"data row2 col1\" >100,000,000</td>\n",
              "            </tr>\n",
              "            <tr>\n",
              "                        <th id=\"T_8af267b8_6016_11ea_bbe9_0242ac1c0002level0_row3\" class=\"row_heading level0 row3\" >High-budget:</th>\n",
              "                        <td id=\"T_8af267b8_6016_11ea_bbe9_0242ac1c0002row3_col0\" class=\"data row3 col0\" >100,000,000</td>\n",
              "                        <td id=\"T_8af267b8_6016_11ea_bbe9_0242ac1c0002row3_col1\" class=\"data row3 col1\" >1,000,000,000,000</td>\n",
              "            </tr>\n",
              "    </tbody></table>"
            ],
            "text/plain": [
              "<pandas.io.formats.style.Styler at 0x7f153bdb1f98>"
            ]
          },
          "metadata": {
            "tags": []
          },
          "execution_count": 32
        }
      ]
    },
    {
      "cell_type": "code",
      "metadata": {
        "id": "OvoZ4Q_CZaBW",
        "colab_type": "code",
        "colab": {}
      },
      "source": [
        "low = []\n",
        "hi = []\n",
        "for v in budget_dict.values():\n",
        "    low.append(v[0])\n",
        "    hi.append(v[1])"
      ],
      "execution_count": 0,
      "outputs": []
    },
    {
      "cell_type": "code",
      "metadata": {
        "id": "xBQCSLs5Z5JZ",
        "colab_type": "code",
        "colab": {}
      },
      "source": [
        "budget_intervals = pd.IntervalIndex.from_arrays(low, hi, closed = 'left')"
      ],
      "execution_count": 0,
      "outputs": []
    },
    {
      "cell_type": "code",
      "metadata": {
        "id": "u-JGpD2PbcCj",
        "colab_type": "code",
        "outputId": "76af0efc-500c-44cb-b5f5-3a4481dcf5b3",
        "colab": {
          "base_uri": "https://localhost:8080/",
          "height": 34
        }
      },
      "source": [
        "list(budget_dict.keys())"
      ],
      "execution_count": 35,
      "outputs": [
        {
          "output_type": "execute_result",
          "data": {
            "text/plain": [
              "['no-budget', 'low-budget', 'medium-budget', 'High-budget:']"
            ]
          },
          "metadata": {
            "tags": []
          },
          "execution_count": 35
        }
      ]
    },
    {
      "cell_type": "code",
      "metadata": {
        "id": "EATHbCCFaSjK",
        "colab_type": "code",
        "colab": {}
      },
      "source": [
        "clean_movies['budget-cat'] = pd.cut(clean_movies['budget'], budget_intervals, labels = list(budget_dict.keys()))"
      ],
      "execution_count": 0,
      "outputs": []
    },
    {
      "cell_type": "code",
      "metadata": {
        "id": "MXPgBWDkcFAt",
        "colab_type": "code",
        "outputId": "5ea44581-1450-4426-9b14-52fb362ee347",
        "colab": {
          "base_uri": "https://localhost:8080/",
          "height": 206
        }
      },
      "source": [
        "clean_movies[['title', 'budget-cat', 'PCA']].groupby('budget-cat').mean()"
      ],
      "execution_count": 37,
      "outputs": [
        {
          "output_type": "execute_result",
          "data": {
            "text/html": [
              "<div>\n",
              "<style scoped>\n",
              "    .dataframe tbody tr th:only-of-type {\n",
              "        vertical-align: middle;\n",
              "    }\n",
              "\n",
              "    .dataframe tbody tr th {\n",
              "        vertical-align: top;\n",
              "    }\n",
              "\n",
              "    .dataframe thead th {\n",
              "        text-align: right;\n",
              "    }\n",
              "</style>\n",
              "<table border=\"1\" class=\"dataframe\">\n",
              "  <thead>\n",
              "    <tr style=\"text-align: right;\">\n",
              "      <th></th>\n",
              "      <th>PCA</th>\n",
              "    </tr>\n",
              "    <tr>\n",
              "      <th>budget-cat</th>\n",
              "      <th></th>\n",
              "    </tr>\n",
              "  </thead>\n",
              "  <tbody>\n",
              "    <tr>\n",
              "      <th>[0, 500000)</th>\n",
              "      <td>-0.149724</td>\n",
              "    </tr>\n",
              "    <tr>\n",
              "      <th>[500000, 40000000)</th>\n",
              "      <td>-0.059581</td>\n",
              "    </tr>\n",
              "    <tr>\n",
              "      <th>[40000000, 100000000)</th>\n",
              "      <td>0.038098</td>\n",
              "    </tr>\n",
              "    <tr>\n",
              "      <th>[100000000, 1000000000000)</th>\n",
              "      <td>0.700114</td>\n",
              "    </tr>\n",
              "  </tbody>\n",
              "</table>\n",
              "</div>"
            ],
            "text/plain": [
              "                                 PCA\n",
              "budget-cat                          \n",
              "[0, 500000)                -0.149724\n",
              "[500000, 40000000)         -0.059581\n",
              "[40000000, 100000000)       0.038098\n",
              "[100000000, 1000000000000)  0.700114"
            ]
          },
          "metadata": {
            "tags": []
          },
          "execution_count": 37
        }
      ]
    },
    {
      "cell_type": "code",
      "metadata": {
        "id": "58_po4epRasJ",
        "colab_type": "code",
        "outputId": "ce35033f-41e1-471f-b4e2-b4d51bc90da3",
        "colab": {
          "base_uri": "https://localhost:8080/",
          "height": 124
        }
      },
      "source": [
        "budget_quantiles = pd.qcut(clean_movies[clean_movies['budget']>500000]['budget'], q = 5, \n",
        "#labels = ['vlow', 'low', 'med', 'high', 'vhigh']\n",
        ")\n",
        "budget_quantiles.values"
      ],
      "execution_count": 38,
      "outputs": [
        {
          "output_type": "execute_result",
          "data": {
            "text/plain": [
              "[(549999.999, 8000000.0], (8000000.0, 23400000.0], (51400000.0, 380000000.0], (51400000.0, 380000000.0], (8000000.0, 23400000.0], ..., (23400000.0, 30000000.0], (549999.999, 8000000.0], (30000000.0, 51400000.0], (549999.999, 8000000.0], (51400000.0, 380000000.0]]\n",
              "Length: 1327\n",
              "Categories (5, interval[float64]): [(549999.999, 8000000.0] < (8000000.0, 23400000.0] <\n",
              "                                    (23400000.0, 30000000.0] < (30000000.0, 51400000.0] <\n",
              "                                    (51400000.0, 380000000.0]]"
            ]
          },
          "metadata": {
            "tags": []
          },
          "execution_count": 38
        }
      ]
    },
    {
      "cell_type": "code",
      "metadata": {
        "id": "0fgQw0UCRasM",
        "colab_type": "code",
        "colab": {}
      },
      "source": [
        "budget_ratings = clean_movies[['title','budget-cat', 'budget', 'revenue','PCA']].dropna()"
      ],
      "execution_count": 0,
      "outputs": []
    },
    {
      "cell_type": "code",
      "metadata": {
        "id": "YN0KPyqAKgc7",
        "colab_type": "code",
        "colab": {}
      },
      "source": [
        "quantiles=budget_ratings.groupby('budget-cat').mean()\n",
        "\n"
      ],
      "execution_count": 0,
      "outputs": []
    },
    {
      "cell_type": "code",
      "metadata": {
        "id": "pTMkbF3AvAqK",
        "colab_type": "code",
        "colab": {
          "base_uri": "https://localhost:8080/",
          "height": 147
        },
        "outputId": "6634ec6c-06b9-4f86-cee5-546e2c31650e"
      },
      "source": [
        "(quantiles\n",
        " .style\n",
        " .format({\n",
        "     \"budget\":\"${:,.0f}\",\n",
        "     \"revenue\":\"${:,.0f}\",\n",
        "     \"PCA\":\"{:.2f}\"\n",
        " })\n",
        " #.render()\n",
        ")"
      ],
      "execution_count": 69,
      "outputs": [
        {
          "output_type": "execute_result",
          "data": {
            "text/html": [
              "<style  type=\"text/css\" >\n",
              "</style><table id=\"T_be6eb142_601a_11ea_bbe9_0242ac1c0002\" ><thead>    <tr>        <th class=\"blank level0\" ></th>        <th class=\"col_heading level0 col0\" >budget</th>        <th class=\"col_heading level0 col1\" >revenue</th>        <th class=\"col_heading level0 col2\" >PCA</th>    </tr>    <tr>        <th class=\"index_name level0\" >budget-cat</th>        <th class=\"blank\" ></th>        <th class=\"blank\" ></th>        <th class=\"blank\" ></th>    </tr></thead><tbody>\n",
              "                <tr>\n",
              "                        <th id=\"T_be6eb142_601a_11ea_bbe9_0242ac1c0002level0_row0\" class=\"row_heading level0 row0\" >[0, 500000)</th>\n",
              "                        <td id=\"T_be6eb142_601a_11ea_bbe9_0242ac1c0002row0_col0\" class=\"data row0 col0\" >$197,962</td>\n",
              "                        <td id=\"T_be6eb142_601a_11ea_bbe9_0242ac1c0002row0_col1\" class=\"data row0 col1\" >$15,368,653</td>\n",
              "                        <td id=\"T_be6eb142_601a_11ea_bbe9_0242ac1c0002row0_col2\" class=\"data row0 col2\" >-0.15</td>\n",
              "            </tr>\n",
              "            <tr>\n",
              "                        <th id=\"T_be6eb142_601a_11ea_bbe9_0242ac1c0002level0_row1\" class=\"row_heading level0 row1\" >[500000, 40000000)</th>\n",
              "                        <td id=\"T_be6eb142_601a_11ea_bbe9_0242ac1c0002row1_col0\" class=\"data row1 col0\" >$18,500,755</td>\n",
              "                        <td id=\"T_be6eb142_601a_11ea_bbe9_0242ac1c0002row1_col1\" class=\"data row1 col1\" >$61,334,171</td>\n",
              "                        <td id=\"T_be6eb142_601a_11ea_bbe9_0242ac1c0002row1_col2\" class=\"data row1 col2\" >-0.06</td>\n",
              "            </tr>\n",
              "            <tr>\n",
              "                        <th id=\"T_be6eb142_601a_11ea_bbe9_0242ac1c0002level0_row2\" class=\"row_heading level0 row2\" >[40000000, 100000000)</th>\n",
              "                        <td id=\"T_be6eb142_601a_11ea_bbe9_0242ac1c0002row2_col0\" class=\"data row2 col0\" >$61,415,816</td>\n",
              "                        <td id=\"T_be6eb142_601a_11ea_bbe9_0242ac1c0002row2_col1\" class=\"data row2 col1\" >$186,069,871</td>\n",
              "                        <td id=\"T_be6eb142_601a_11ea_bbe9_0242ac1c0002row2_col2\" class=\"data row2 col2\" >0.04</td>\n",
              "            </tr>\n",
              "            <tr>\n",
              "                        <th id=\"T_be6eb142_601a_11ea_bbe9_0242ac1c0002level0_row3\" class=\"row_heading level0 row3\" >[100000000, 1000000000000)</th>\n",
              "                        <td id=\"T_be6eb142_601a_11ea_bbe9_0242ac1c0002row3_col0\" class=\"data row3 col0\" >$141,292,135</td>\n",
              "                        <td id=\"T_be6eb142_601a_11ea_bbe9_0242ac1c0002row3_col1\" class=\"data row3 col1\" >$436,756,768</td>\n",
              "                        <td id=\"T_be6eb142_601a_11ea_bbe9_0242ac1c0002row3_col2\" class=\"data row3 col2\" >0.70</td>\n",
              "            </tr>\n",
              "    </tbody></table>"
            ],
            "text/plain": [
              "<pandas.io.formats.style.Styler at 0x7f153510af98>"
            ]
          },
          "metadata": {
            "tags": []
          },
          "execution_count": 69
        }
      ]
    },
    {
      "cell_type": "code",
      "metadata": {
        "id": "M5_mQAkteCUQ",
        "colab_type": "code",
        "outputId": "f64d64cc-2014-4f5d-cb03-a51b7af4a381",
        "colab": {
          "base_uri": "https://localhost:8080/",
          "height": 542
        }
      },
      "source": [
        "(px.bar(quantiles.reset_index(),\n",
        "       x = list(budget_dict.keys()),\n",
        "       y = 'PCA').update_xaxes(\n",
        "           categoryorder='array',\n",
        "           #categoryarray=['vlow', 'low', 'med', 'high', 'vhigh'],\n",
        "           title = \"Budget vs PCA rating\"\n",
        "           )\n",
        "       #.to_html(full_html=False, include_plotlyjs=\"cdn\")\n",
        "\n",
        ")"
      ],
      "execution_count": 68,
      "outputs": [
        {
          "output_type": "display_data",
          "data": {
            "text/html": [
              "<html>\n",
              "<head><meta charset=\"utf-8\" /></head>\n",
              "<body>\n",
              "    <div>\n",
              "            <script src=\"https://cdnjs.cloudflare.com/ajax/libs/mathjax/2.7.5/MathJax.js?config=TeX-AMS-MML_SVG\"></script><script type=\"text/javascript\">if (window.MathJax) {MathJax.Hub.Config({SVG: {font: \"STIX-Web\"}});}</script>\n",
              "                <script type=\"text/javascript\">window.PlotlyConfig = {MathJaxConfig: 'local'};</script>\n",
              "        <script src=\"https://cdn.plot.ly/plotly-latest.min.js\"></script>    \n",
              "            <div id=\"120886eb-dcf6-4cbf-a02f-2ae42c578657\" class=\"plotly-graph-div\" style=\"height:525px; width:100%;\"></div>\n",
              "            <script type=\"text/javascript\">\n",
              "                \n",
              "                    window.PLOTLYENV=window.PLOTLYENV || {};\n",
              "                    \n",
              "                if (document.getElementById(\"120886eb-dcf6-4cbf-a02f-2ae42c578657\")) {\n",
              "                    Plotly.newPlot(\n",
              "                        '120886eb-dcf6-4cbf-a02f-2ae42c578657',\n",
              "                        [{\"alignmentgroup\": \"True\", \"hoverlabel\": {\"namelength\": 0}, \"hovertemplate\": \"x=%{x}<br>PCA=%{y}\", \"legendgroup\": \"\", \"marker\": {\"color\": \"#636efa\"}, \"name\": \"\", \"offsetgroup\": \"\", \"orientation\": \"v\", \"showlegend\": false, \"textposition\": \"auto\", \"type\": \"bar\", \"x\": [\"no-budget\", \"low-budget\", \"medium-budget\", \"High-budget:\"], \"xaxis\": \"x\", \"y\": [-0.14972424762827316, -0.05958098183317546, 0.038098032355617546, 0.7001137621595251], \"yaxis\": \"y\"}],\n",
              "                        {\"barmode\": \"relative\", \"legend\": {\"tracegroupgap\": 0}, \"margin\": {\"t\": 60}, \"template\": {\"data\": {\"bar\": [{\"error_x\": {\"color\": \"#2a3f5f\"}, \"error_y\": {\"color\": \"#2a3f5f\"}, \"marker\": {\"line\": {\"color\": \"#E5ECF6\", \"width\": 0.5}}, \"type\": \"bar\"}], \"barpolar\": [{\"marker\": {\"line\": {\"color\": \"#E5ECF6\", \"width\": 0.5}}, \"type\": \"barpolar\"}], \"carpet\": [{\"aaxis\": {\"endlinecolor\": \"#2a3f5f\", \"gridcolor\": \"white\", \"linecolor\": \"white\", \"minorgridcolor\": \"white\", \"startlinecolor\": \"#2a3f5f\"}, \"baxis\": {\"endlinecolor\": \"#2a3f5f\", \"gridcolor\": \"white\", \"linecolor\": \"white\", \"minorgridcolor\": \"white\", \"startlinecolor\": \"#2a3f5f\"}, \"type\": \"carpet\"}], \"choropleth\": [{\"colorbar\": {\"outlinewidth\": 0, \"ticks\": \"\"}, \"type\": \"choropleth\"}], \"contour\": [{\"colorbar\": {\"outlinewidth\": 0, \"ticks\": \"\"}, \"colorscale\": [[0.0, \"#0d0887\"], [0.1111111111111111, \"#46039f\"], [0.2222222222222222, \"#7201a8\"], [0.3333333333333333, \"#9c179e\"], [0.4444444444444444, \"#bd3786\"], [0.5555555555555556, \"#d8576b\"], [0.6666666666666666, \"#ed7953\"], [0.7777777777777778, \"#fb9f3a\"], [0.8888888888888888, \"#fdca26\"], [1.0, \"#f0f921\"]], \"type\": \"contour\"}], \"contourcarpet\": [{\"colorbar\": {\"outlinewidth\": 0, \"ticks\": \"\"}, \"type\": \"contourcarpet\"}], \"heatmap\": [{\"colorbar\": {\"outlinewidth\": 0, \"ticks\": \"\"}, \"colorscale\": [[0.0, \"#0d0887\"], [0.1111111111111111, \"#46039f\"], [0.2222222222222222, \"#7201a8\"], [0.3333333333333333, \"#9c179e\"], [0.4444444444444444, \"#bd3786\"], [0.5555555555555556, \"#d8576b\"], [0.6666666666666666, \"#ed7953\"], [0.7777777777777778, \"#fb9f3a\"], [0.8888888888888888, \"#fdca26\"], [1.0, \"#f0f921\"]], \"type\": \"heatmap\"}], \"heatmapgl\": [{\"colorbar\": {\"outlinewidth\": 0, \"ticks\": \"\"}, \"colorscale\": [[0.0, \"#0d0887\"], [0.1111111111111111, \"#46039f\"], [0.2222222222222222, \"#7201a8\"], [0.3333333333333333, \"#9c179e\"], [0.4444444444444444, \"#bd3786\"], [0.5555555555555556, \"#d8576b\"], [0.6666666666666666, \"#ed7953\"], [0.7777777777777778, \"#fb9f3a\"], [0.8888888888888888, \"#fdca26\"], [1.0, \"#f0f921\"]], \"type\": \"heatmapgl\"}], \"histogram\": [{\"marker\": {\"colorbar\": {\"outlinewidth\": 0, \"ticks\": \"\"}}, \"type\": \"histogram\"}], \"histogram2d\": [{\"colorbar\": {\"outlinewidth\": 0, \"ticks\": \"\"}, \"colorscale\": [[0.0, \"#0d0887\"], [0.1111111111111111, \"#46039f\"], [0.2222222222222222, \"#7201a8\"], [0.3333333333333333, \"#9c179e\"], [0.4444444444444444, \"#bd3786\"], [0.5555555555555556, \"#d8576b\"], [0.6666666666666666, \"#ed7953\"], [0.7777777777777778, \"#fb9f3a\"], [0.8888888888888888, \"#fdca26\"], [1.0, \"#f0f921\"]], \"type\": \"histogram2d\"}], \"histogram2dcontour\": [{\"colorbar\": {\"outlinewidth\": 0, \"ticks\": \"\"}, \"colorscale\": [[0.0, \"#0d0887\"], [0.1111111111111111, \"#46039f\"], [0.2222222222222222, \"#7201a8\"], [0.3333333333333333, \"#9c179e\"], [0.4444444444444444, \"#bd3786\"], [0.5555555555555556, \"#d8576b\"], [0.6666666666666666, \"#ed7953\"], [0.7777777777777778, \"#fb9f3a\"], [0.8888888888888888, \"#fdca26\"], [1.0, \"#f0f921\"]], \"type\": \"histogram2dcontour\"}], \"mesh3d\": [{\"colorbar\": {\"outlinewidth\": 0, \"ticks\": \"\"}, \"type\": \"mesh3d\"}], \"parcoords\": [{\"line\": {\"colorbar\": {\"outlinewidth\": 0, \"ticks\": \"\"}}, \"type\": \"parcoords\"}], \"pie\": [{\"automargin\": true, \"type\": \"pie\"}], \"scatter\": [{\"marker\": {\"colorbar\": {\"outlinewidth\": 0, \"ticks\": \"\"}}, \"type\": \"scatter\"}], \"scatter3d\": [{\"line\": {\"colorbar\": {\"outlinewidth\": 0, \"ticks\": \"\"}}, \"marker\": {\"colorbar\": {\"outlinewidth\": 0, \"ticks\": \"\"}}, \"type\": \"scatter3d\"}], \"scattercarpet\": [{\"marker\": {\"colorbar\": {\"outlinewidth\": 0, \"ticks\": \"\"}}, \"type\": \"scattercarpet\"}], \"scattergeo\": [{\"marker\": {\"colorbar\": {\"outlinewidth\": 0, \"ticks\": \"\"}}, \"type\": \"scattergeo\"}], \"scattergl\": [{\"marker\": {\"colorbar\": {\"outlinewidth\": 0, \"ticks\": \"\"}}, \"type\": \"scattergl\"}], \"scattermapbox\": [{\"marker\": {\"colorbar\": {\"outlinewidth\": 0, \"ticks\": \"\"}}, \"type\": \"scattermapbox\"}], \"scatterpolar\": [{\"marker\": {\"colorbar\": {\"outlinewidth\": 0, \"ticks\": \"\"}}, \"type\": \"scatterpolar\"}], \"scatterpolargl\": [{\"marker\": {\"colorbar\": {\"outlinewidth\": 0, \"ticks\": \"\"}}, \"type\": \"scatterpolargl\"}], \"scatterternary\": [{\"marker\": {\"colorbar\": {\"outlinewidth\": 0, \"ticks\": \"\"}}, \"type\": \"scatterternary\"}], \"surface\": [{\"colorbar\": {\"outlinewidth\": 0, \"ticks\": \"\"}, \"colorscale\": [[0.0, \"#0d0887\"], [0.1111111111111111, \"#46039f\"], [0.2222222222222222, \"#7201a8\"], [0.3333333333333333, \"#9c179e\"], [0.4444444444444444, \"#bd3786\"], [0.5555555555555556, \"#d8576b\"], [0.6666666666666666, \"#ed7953\"], [0.7777777777777778, \"#fb9f3a\"], [0.8888888888888888, \"#fdca26\"], [1.0, \"#f0f921\"]], \"type\": \"surface\"}], \"table\": [{\"cells\": {\"fill\": {\"color\": \"#EBF0F8\"}, \"line\": {\"color\": \"white\"}}, \"header\": {\"fill\": {\"color\": \"#C8D4E3\"}, \"line\": {\"color\": \"white\"}}, \"type\": \"table\"}]}, \"layout\": {\"annotationdefaults\": {\"arrowcolor\": \"#2a3f5f\", \"arrowhead\": 0, \"arrowwidth\": 1}, \"coloraxis\": {\"colorbar\": {\"outlinewidth\": 0, \"ticks\": \"\"}}, \"colorscale\": {\"diverging\": [[0, \"#8e0152\"], [0.1, \"#c51b7d\"], [0.2, \"#de77ae\"], [0.3, \"#f1b6da\"], [0.4, \"#fde0ef\"], [0.5, \"#f7f7f7\"], [0.6, \"#e6f5d0\"], [0.7, \"#b8e186\"], [0.8, \"#7fbc41\"], [0.9, \"#4d9221\"], [1, \"#276419\"]], \"sequential\": [[0.0, \"#0d0887\"], [0.1111111111111111, \"#46039f\"], [0.2222222222222222, \"#7201a8\"], [0.3333333333333333, \"#9c179e\"], [0.4444444444444444, \"#bd3786\"], [0.5555555555555556, \"#d8576b\"], [0.6666666666666666, \"#ed7953\"], [0.7777777777777778, \"#fb9f3a\"], [0.8888888888888888, \"#fdca26\"], [1.0, \"#f0f921\"]], \"sequentialminus\": [[0.0, \"#0d0887\"], [0.1111111111111111, \"#46039f\"], [0.2222222222222222, \"#7201a8\"], [0.3333333333333333, \"#9c179e\"], [0.4444444444444444, \"#bd3786\"], [0.5555555555555556, \"#d8576b\"], [0.6666666666666666, \"#ed7953\"], [0.7777777777777778, \"#fb9f3a\"], [0.8888888888888888, \"#fdca26\"], [1.0, \"#f0f921\"]]}, \"colorway\": [\"#636efa\", \"#EF553B\", \"#00cc96\", \"#ab63fa\", \"#FFA15A\", \"#19d3f3\", \"#FF6692\", \"#B6E880\", \"#FF97FF\", \"#FECB52\"], \"font\": {\"color\": \"#2a3f5f\"}, \"geo\": {\"bgcolor\": \"white\", \"lakecolor\": \"white\", \"landcolor\": \"#E5ECF6\", \"showlakes\": true, \"showland\": true, \"subunitcolor\": \"white\"}, \"hoverlabel\": {\"align\": \"left\"}, \"hovermode\": \"closest\", \"mapbox\": {\"style\": \"light\"}, \"paper_bgcolor\": \"white\", \"plot_bgcolor\": \"#E5ECF6\", \"polar\": {\"angularaxis\": {\"gridcolor\": \"white\", \"linecolor\": \"white\", \"ticks\": \"\"}, \"bgcolor\": \"#E5ECF6\", \"radialaxis\": {\"gridcolor\": \"white\", \"linecolor\": \"white\", \"ticks\": \"\"}}, \"scene\": {\"xaxis\": {\"backgroundcolor\": \"#E5ECF6\", \"gridcolor\": \"white\", \"gridwidth\": 2, \"linecolor\": \"white\", \"showbackground\": true, \"ticks\": \"\", \"zerolinecolor\": \"white\"}, \"yaxis\": {\"backgroundcolor\": \"#E5ECF6\", \"gridcolor\": \"white\", \"gridwidth\": 2, \"linecolor\": \"white\", \"showbackground\": true, \"ticks\": \"\", \"zerolinecolor\": \"white\"}, \"zaxis\": {\"backgroundcolor\": \"#E5ECF6\", \"gridcolor\": \"white\", \"gridwidth\": 2, \"linecolor\": \"white\", \"showbackground\": true, \"ticks\": \"\", \"zerolinecolor\": \"white\"}}, \"shapedefaults\": {\"line\": {\"color\": \"#2a3f5f\"}}, \"ternary\": {\"aaxis\": {\"gridcolor\": \"white\", \"linecolor\": \"white\", \"ticks\": \"\"}, \"baxis\": {\"gridcolor\": \"white\", \"linecolor\": \"white\", \"ticks\": \"\"}, \"bgcolor\": \"#E5ECF6\", \"caxis\": {\"gridcolor\": \"white\", \"linecolor\": \"white\", \"ticks\": \"\"}}, \"title\": {\"x\": 0.05}, \"xaxis\": {\"automargin\": true, \"gridcolor\": \"white\", \"linecolor\": \"white\", \"ticks\": \"\", \"title\": {\"standoff\": 15}, \"zerolinecolor\": \"white\", \"zerolinewidth\": 2}, \"yaxis\": {\"automargin\": true, \"gridcolor\": \"white\", \"linecolor\": \"white\", \"ticks\": \"\", \"title\": {\"standoff\": 15}, \"zerolinecolor\": \"white\", \"zerolinewidth\": 2}}}, \"xaxis\": {\"anchor\": \"y\", \"categoryorder\": \"array\", \"domain\": [0.0, 1.0], \"title\": {\"text\": \"Budget vs PCA rating\"}}, \"yaxis\": {\"anchor\": \"x\", \"domain\": [0.0, 1.0], \"title\": {\"text\": \"PCA\"}}},\n",
              "                        {\"responsive\": true}\n",
              "                    ).then(function(){\n",
              "                            \n",
              "var gd = document.getElementById('120886eb-dcf6-4cbf-a02f-2ae42c578657');\n",
              "var x = new MutationObserver(function (mutations, observer) {{\n",
              "        var display = window.getComputedStyle(gd).display;\n",
              "        if (!display || display === 'none') {{\n",
              "            console.log([gd, 'removed!']);\n",
              "            Plotly.purge(gd);\n",
              "            observer.disconnect();\n",
              "        }}\n",
              "}});\n",
              "\n",
              "// Listen for the removal of the full notebook cells\n",
              "var notebookContainer = gd.closest('#notebook-container');\n",
              "if (notebookContainer) {{\n",
              "    x.observe(notebookContainer, {childList: true});\n",
              "}}\n",
              "\n",
              "// Listen for the clearing of the current output cell\n",
              "var outputEl = gd.closest('.output');\n",
              "if (outputEl) {{\n",
              "    x.observe(outputEl, {childList: true});\n",
              "}}\n",
              "\n",
              "                        })\n",
              "                };\n",
              "                \n",
              "            </script>\n",
              "        </div>\n",
              "</body>\n",
              "</html>"
            ]
          },
          "metadata": {
            "tags": []
          }
        }
      ]
    },
    {
      "cell_type": "code",
      "metadata": {
        "id": "SsdSnLhORasU",
        "colab_type": "code",
        "colab": {}
      },
      "source": [
        "trace = go.Scatter(\n",
        "    y = budget_ratings['vote_average'],\n",
        "    x = budget_ratings['revenue'],\n",
        "    mode = 'markers'\n",
        ")\n",
        "\n",
        "go.Figure(\n",
        "    trace,\n",
        "    layout_xaxis_title = \"Budget\",\n",
        "    layout_yaxis_title = \"Movie Rating\",\n",
        "    layout_title = \"Movie Ratings by budget\",\n",
        "    \n",
        ")"
      ],
      "execution_count": 0,
      "outputs": []
    },
    {
      "cell_type": "code",
      "metadata": {
        "id": "FmSXwsiqRasX",
        "colab_type": "code",
        "colab": {}
      },
      "source": [
        "from sklearn.preprocessing import StandardScaler\n",
        "from sklearn.decomposition import PCA"
      ],
      "execution_count": 0,
      "outputs": []
    },
    {
      "cell_type": "markdown",
      "metadata": {
        "colab_type": "text",
        "id": "rIGUfYG9tDAi"
      },
      "source": [
        "## Genre"
      ]
    },
    {
      "cell_type": "code",
      "metadata": {
        "id": "HrYgMFYiRasc",
        "colab_type": "code",
        "colab": {}
      },
      "source": [
        "genres = clean_movies[['title','genres']]"
      ],
      "execution_count": 0,
      "outputs": []
    },
    {
      "cell_type": "code",
      "metadata": {
        "id": "19x_EzK0Rasg",
        "colab_type": "code",
        "colab": {}
      },
      "source": [
        "import ast"
      ],
      "execution_count": 0,
      "outputs": []
    },
    {
      "cell_type": "code",
      "metadata": {
        "id": "W3j61q6fRasj",
        "colab_type": "code",
        "colab": {}
      },
      "source": [
        "bad_genres = [\n",
        "           'Aniplex',\n",
        " 'BROSTA TV',\n",
        " 'Carousel Productions',   \n",
        "  'GoHands',\n",
        "   'Mardock Scramble Production Committee',\n",
        "    'Odyssey Media',\n",
        "     'Pulser Productions',\n",
        " 'Rogue State',\n",
        "  'Sentai Filmworks',\n",
        "   'Telescene Film Group Productions',\n",
        " 'The Cartel',\n",
        "  'Vision View Entertainment',\n",
        "]\n",
        "\n",
        "#genre_set = genre_set.difference(bad_genres)"
      ],
      "execution_count": 0,
      "outputs": []
    },
    {
      "cell_type": "code",
      "metadata": {
        "id": "ZDSvnyI1Rasm",
        "colab_type": "code",
        "colab": {}
      },
      "source": [
        "genres['genres_ls'] = [\n",
        "                    [d['name'] for d in ast.literal_eval(x) if d['name'] not in bad_genres ]\n",
        "                    for x in genres['genres']\n",
        "                    ]\n",
        "genres['genres_ls']"
      ],
      "execution_count": 0,
      "outputs": []
    },
    {
      "cell_type": "code",
      "metadata": {
        "id": "CeWsgHmoRasp",
        "colab_type": "code",
        "colab": {}
      },
      "source": [
        "from sklearn.preprocessing import MultiLabelBinarizer"
      ],
      "execution_count": 0,
      "outputs": []
    },
    {
      "cell_type": "code",
      "metadata": {
        "id": "zw9fcbigRass",
        "colab_type": "code",
        "colab": {}
      },
      "source": [
        "mlb = MultiLabelBinarizer()"
      ],
      "execution_count": 0,
      "outputs": []
    },
    {
      "cell_type": "code",
      "metadata": {
        "id": "aRKx3lrtRast",
        "colab_type": "code",
        "colab": {}
      },
      "source": [
        "mlb_ = mlb.fit_transform(genres['genres_ls'])"
      ],
      "execution_count": 0,
      "outputs": []
    },
    {
      "cell_type": "code",
      "metadata": {
        "id": "aS9oLntdRasx",
        "colab_type": "code",
        "colab": {}
      },
      "source": [
        "encoded_genres = pd.DataFrame(mlb_, columns = mlb.classes_, index = genres.index)\n",
        "encoded_genres"
      ],
      "execution_count": 0,
      "outputs": []
    },
    {
      "cell_type": "code",
      "metadata": {
        "id": "-Wt3kgUaRas0",
        "colab_type": "code",
        "colab": {}
      },
      "source": [
        "encoded_genres = clean_movies.merge(encoded_genres, **merge_keys)\n",
        "encoded_genres"
      ],
      "execution_count": 0,
      "outputs": []
    },
    {
      "cell_type": "code",
      "metadata": {
        "id": "UOsevz0_Ras2",
        "colab_type": "code",
        "colab": {}
      },
      "source": [
        "for genre in mlb.classes_:\n",
        "    print(genre, encoded_genres[encoded_genres[genre] == 1]['vote_average'].mean())"
      ],
      "execution_count": 0,
      "outputs": []
    },
    {
      "cell_type": "code",
      "metadata": {
        "id": "OwR_0K-MRas5",
        "colab_type": "code",
        "colab": {}
      },
      "source": [
        "d = {g: [encoded_genres[encoded_genres[g] == 1]['PCA'].mean(),\n",
        "         encoded_genres[encoded_genres[g] == 1]['adjusted_revenue'].sum()]\n",
        "     for g in mlb.classes_}"
      ],
      "execution_count": 0,
      "outputs": []
    },
    {
      "cell_type": "code",
      "metadata": {
        "id": "eDmkCJQRRas7",
        "colab_type": "code",
        "colab": {}
      },
      "source": [
        "df = pd.DataFrame.from_dict(d, orient='index',  columns = ['pca rating', 'total revenue'])\n",
        "df"
      ],
      "execution_count": 0,
      "outputs": []
    },
    {
      "cell_type": "code",
      "metadata": {
        "id": "AnbfFWwPRas_",
        "colab_type": "code",
        "colab": {}
      },
      "source": [
        "trace = go.Bar(\n",
        "    x=df.index,\n",
        "    y=df['pca rating']\n",
        ")\n",
        "\n",
        "fig = go.Figure(\n",
        "    data = trace,\n",
        "    #layout_x)\n",
        ")\n",
        "fig.update_xaxes(tickangle=45)\n",
        "fig.update_layout(\n",
        "    title_text = \"PCA Rating by Genre\"\n",
        ")"
      ],
      "execution_count": 0,
      "outputs": []
    },
    {
      "cell_type": "code",
      "metadata": {
        "id": "VnOA4Z83RatB",
        "colab_type": "code",
        "colab": {}
      },
      "source": [
        "melted = df.reset_index().melt(id_vars='index')\n",
        "melted"
      ],
      "execution_count": 0,
      "outputs": []
    },
    {
      "cell_type": "code",
      "metadata": {
        "id": "UEw6kLmYRatE",
        "colab_type": "code",
        "colab": {}
      },
      "source": [
        ""
      ],
      "execution_count": 0,
      "outputs": []
    }
  ]
}