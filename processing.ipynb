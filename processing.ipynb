{
  "nbformat": 4,
  "nbformat_minor": 0,
  "metadata": {
    "colab": {
      "name": "Untitled3.ipynb",
      "provenance": [],
      "include_colab_link": true
    },
    "kernelspec": {
      "name": "python3",
      "display_name": "Python 3"
    },
    "accelerator": "GPU"
  },
  "cells": [
    {
      "cell_type": "markdown",
      "metadata": {
        "id": "view-in-github",
        "colab_type": "text"
      },
      "source": [
        "<a href=\"https://colab.research.google.com/github/ErikSeguinte/movie_data/blob/master/processing.ipynb\" target=\"_parent\"><img src=\"https://colab.research.google.com/assets/colab-badge.svg\" alt=\"Open In Colab\"/></a>"
      ]
    },
    {
      "cell_type": "code",
      "metadata": {
        "id": "9KolpbjZRaoz",
        "colab_type": "code",
        "colab": {}
      },
      "source": [
        "import pandas as pd\n",
        "import cufflinks as cf\n",
        "import numpy as np\n",
        "import plotly.graph_objects as go\n",
        "import altair as alt\n",
        "import plotly.express as px"
      ],
      "execution_count": 0,
      "outputs": []
    },
    {
      "cell_type": "code",
      "metadata": {
        "id": "MSLNAouuRapG",
        "colab_type": "code",
        "colab": {}
      },
      "source": [
        "merge_keys = {'left_index':True, 'right_index':True}"
      ],
      "execution_count": 0,
      "outputs": []
    },
    {
      "cell_type": "markdown",
      "metadata": {
        "colab_type": "text",
        "id": "cHmXX2xrlfbZ"
      },
      "source": [
        "* I previously pulled CSV files from Kaggle, but the files were too big to host on github.\n",
        "* I imported the files I wanted into pandas, and then exported them back out as compressed pickles.\n",
        "* I was able to compress a 700MB csv to a 3 MB Pickle"
      ]
    },
    {
      "cell_type": "code",
      "metadata": {
        "id": "SEbJ8CP-RapS",
        "colab_type": "code",
        "colab": {
          "base_uri": "https://localhost:8080/",
          "height": 573
        },
        "outputId": "d907b6a8-d02b-4039-8314-0190bbb37d85"
      },
      "source": [
        "#try: \n",
        "#    movies = pd.read_pickle('data/movies.pkl.xz')\n",
        "#    ratings = pd.read_pickle('data/ratings2.pkl.xz')\n",
        "#    cpi = pd.read_csv('data/cpi.csv')\n",
        "    \n",
        "#except FileNotFoundError                         :\n",
        "    \n",
        "# Download pickles from github\n",
        "cpi = pd.read_csv('https://datahub.io/core/cpi/r/cpi.csv')\n",
        "\n",
        "!wget 'https://github.com/ErikSeguinte/movie_data/raw/master/data/movies.pkl.xz'\n",
        "!wget 'https://github.com/ErikSeguinte/movie_data/raw/master/data/ratings2.pkl.xz'\n",
        "movies = pd.read_pickle('movies.pkl.xz')\n",
        "ratings = pd.read_pickle('ratings2.pkl.xz')"
      ],
      "execution_count": 3,
      "outputs": [
        {
          "output_type": "stream",
          "text": [
            "--2020-03-06 03:41:35--  https://github.com/ErikSeguinte/movie_data/raw/master/data/movies.pkl.xz\n",
            "Resolving github.com (github.com)... 52.74.223.119\n",
            "Connecting to github.com (github.com)|52.74.223.119|:443... connected.\n",
            "HTTP request sent, awaiting response... 302 Found\n",
            "Location: https://raw.githubusercontent.com/ErikSeguinte/movie_data/master/data/movies.pkl.xz [following]\n",
            "--2020-03-06 03:41:36--  https://raw.githubusercontent.com/ErikSeguinte/movie_data/master/data/movies.pkl.xz\n",
            "Resolving raw.githubusercontent.com (raw.githubusercontent.com)... 151.101.0.133, 151.101.64.133, 151.101.128.133, ...\n",
            "Connecting to raw.githubusercontent.com (raw.githubusercontent.com)|151.101.0.133|:443... connected.\n",
            "HTTP request sent, awaiting response... 200 OK\n",
            "Length: 7917036 (7.5M) [application/octet-stream]\n",
            "Saving to: ‘movies.pkl.xz’\n",
            "\n",
            "movies.pkl.xz       100%[===================>]   7.55M  --.-KB/s    in 0.06s   \n",
            "\n",
            "2020-03-06 03:41:38 (131 MB/s) - ‘movies.pkl.xz’ saved [7917036/7917036]\n",
            "\n",
            "--2020-03-06 03:41:40--  https://github.com/ErikSeguinte/movie_data/raw/master/data/ratings2.pkl.xz\n",
            "Resolving github.com (github.com)... 52.74.223.119\n",
            "Connecting to github.com (github.com)|52.74.223.119|:443... connected.\n",
            "HTTP request sent, awaiting response... 302 Found\n",
            "Location: https://raw.githubusercontent.com/ErikSeguinte/movie_data/master/data/ratings2.pkl.xz [following]\n",
            "--2020-03-06 03:41:41--  https://raw.githubusercontent.com/ErikSeguinte/movie_data/master/data/ratings2.pkl.xz\n",
            "Resolving raw.githubusercontent.com (raw.githubusercontent.com)... 151.101.0.133, 151.101.64.133, 151.101.128.133, ...\n",
            "Connecting to raw.githubusercontent.com (raw.githubusercontent.com)|151.101.0.133|:443... connected.\n",
            "HTTP request sent, awaiting response... 200 OK\n",
            "Length: 84484648 (81M) [application/octet-stream]\n",
            "Saving to: ‘ratings2.pkl.xz’\n",
            "\n",
            "ratings2.pkl.xz     100%[===================>]  80.57M   268MB/s    in 0.3s    \n",
            "\n",
            "2020-03-06 03:41:47 (268 MB/s) - ‘ratings2.pkl.xz’ saved [84484648/84484648]\n",
            "\n"
          ],
          "name": "stdout"
        }
      ]
    },
    {
      "cell_type": "markdown",
      "metadata": {
        "colab_type": "text",
        "id": "HiXoKaRQqYr9"
      },
      "source": [
        "## Clean Movie DF"
      ]
    },
    {
      "cell_type": "code",
      "metadata": {
        "id": "3WwVD84lRapc",
        "colab_type": "code",
        "outputId": "20fa141d-fc5a-4bc3-d6f6-2cc3437c888b",
        "colab": {
          "base_uri": "https://localhost:8080/",
          "height": 451
        }
      },
      "source": [
        "movies.dtypes"
      ],
      "execution_count": 4,
      "outputs": [
        {
          "output_type": "execute_result",
          "data": {
            "text/plain": [
              "adult                     object\n",
              "belongs_to_collection     object\n",
              "budget                    object\n",
              "genres                    object\n",
              "homepage                  object\n",
              "id                        object\n",
              "imdb_id                   object\n",
              "original_language         object\n",
              "original_title            object\n",
              "overview                  object\n",
              "popularity                object\n",
              "poster_path               object\n",
              "production_companies      object\n",
              "production_countries      object\n",
              "release_date              object\n",
              "revenue                  float64\n",
              "runtime                  float64\n",
              "spoken_languages          object\n",
              "status                    object\n",
              "tagline                   object\n",
              "title                     object\n",
              "video                     object\n",
              "vote_average             float64\n",
              "vote_count               float64\n",
              "dtype: object"
            ]
          },
          "metadata": {
            "tags": []
          },
          "execution_count": 4
        }
      ]
    },
    {
      "cell_type": "markdown",
      "metadata": {
        "colab_type": "text",
        "id": "Y8o7MEkpmX3Z"
      },
      "source": [
        "* Movies Dataframe has malformed data. `id` Should be numeric.\n",
        "* After inspection, it looks like there are rows that are missing a comma somewhere, making columns not line up, and adding the wrong data to columns. Let's clean those up.\n",
        "* All malformed rows have strings for IDs instead of numeric, so we will coerce them into numeric columns, and strings will be returned as `NaN`, which we'll then drop.\n",
        "\n",
        "* `budget` and `revanue` should also be numeric, but Nans won't be dropped\n",
        "\n",
        "\n",
        "\n",
        "\n"
      ]
    },
    {
      "cell_type": "code",
      "metadata": {
        "id": "wkYmlDWsRapn",
        "colab_type": "code",
        "colab": {}
      },
      "source": [
        "movies['id'] = pd.to_numeric(movies['id'], errors='coerce')\n",
        "movies = movies[movies['id'].notnull()]\n",
        "movies = movies.set_index('id')"
      ],
      "execution_count": 0,
      "outputs": []
    },
    {
      "cell_type": "code",
      "metadata": {
        "id": "MpOmkX3BRapt",
        "colab_type": "code",
        "colab": {}
      },
      "source": [
        "def to_numeric(df, labels):\n",
        "    \n",
        "    for label in labels:\n",
        "        df[label] = pd.to_numeric(movies[label], errors='coerce').copy()\n",
        "    return df"
      ],
      "execution_count": 0,
      "outputs": []
    },
    {
      "cell_type": "code",
      "metadata": {
        "id": "v0hY0EC2Rapx",
        "colab_type": "code",
        "colab": {}
      },
      "source": [
        "movies = to_numeric(movies, ['budget', 'revenue', 'vote_average'])"
      ],
      "execution_count": 0,
      "outputs": []
    },
    {
      "cell_type": "code",
      "metadata": {
        "id": "gdtnsX1eRap5",
        "colab_type": "code",
        "colab": {}
      },
      "source": [
        "movies['release_date'] =pd.to_datetime(movies['release_date'], infer_datetime_format= True)"
      ],
      "execution_count": 0,
      "outputs": []
    },
    {
      "cell_type": "code",
      "metadata": {
        "id": "JAGppVkjRaqA",
        "colab_type": "code",
        "colab": {}
      },
      "source": [
        "movies['year'] = movies['release_date'].dt.year"
      ],
      "execution_count": 0,
      "outputs": []
    },
    {
      "cell_type": "code",
      "metadata": {
        "id": "AjjIBOvXRaqF",
        "colab_type": "code",
        "colab": {}
      },
      "source": [
        "clean_movies = movies[['title','genres', 'release_date','budget', 'revenue','year' ,'runtime', 'vote_average', 'vote_count']]"
      ],
      "execution_count": 0,
      "outputs": []
    },
    {
      "cell_type": "markdown",
      "metadata": {
        "colab_type": "text",
        "id": "iW-7lxUXqdJL"
      },
      "source": [
        "## Process User Reviews\n",
        "* User reviews come in a collection of individual reviews where a review gives a movie a score of 1 to 5.\n",
        "* We will take the mean ratings for each movie"
      ]
    },
    {
      "cell_type": "code",
      "metadata": {
        "id": "0d4fd9flRaqN",
        "colab_type": "code",
        "colab": {}
      },
      "source": [
        "# Aggregate mean ratings and number of votes per movie\n",
        "movie_ratings =pd.DataFrame(ratings.groupby('movieId')[['rating']].agg(['mean', 'count']))['rating']\n",
        "movie_ratings = movie_ratings.rename({'mean': 'rating', 'count': 'num_votes'}, axis = 1)\n"
      ],
      "execution_count": 0,
      "outputs": []
    },
    {
      "cell_type": "markdown",
      "metadata": {
        "colab_type": "text",
        "id": "NScOxazLtC9g"
      },
      "source": [
        "* Lets drop any movies with less than 100 votes. Those are more easily swayed by outliers and aren't reliable."
      ]
    },
    {
      "cell_type": "code",
      "metadata": {
        "id": "Hu2BzByDRaqW",
        "colab_type": "code",
        "colab": {}
      },
      "source": [
        "movie_ratings = movie_ratings[(movie_ratings['num_votes'] >= 100)]"
      ],
      "execution_count": 0,
      "outputs": []
    },
    {
      "cell_type": "markdown",
      "metadata": {
        "colab_type": "text",
        "id": "Ht36bnK3q0ra"
      },
      "source": [
        "* And now we merge the averaged ratings back with the movie database.\n",
        "* Note that not all movies are present in the user votings."
      ]
    },
    {
      "cell_type": "code",
      "metadata": {
        "id": "gcthJJMgRaqc",
        "colab_type": "code",
        "colab": {}
      },
      "source": [
        "clean_movies = clean_movies.merge(movie_ratings, left_index = True, right_index=True)"
      ],
      "execution_count": 0,
      "outputs": []
    },
    {
      "cell_type": "code",
      "metadata": {
        "id": "JJNe1k7CRaqh",
        "colab_type": "code",
        "outputId": "7ea22b70-2286-4b46-affa-3c75d631373f",
        "colab": {
          "base_uri": "https://localhost:8080/",
          "height": 254
        }
      },
      "source": [
        "clean_movies[['title', 'rating', 'num_votes']].nlargest(10, 'rating').style.hide_index().format(\n",
        "    {'rating':\"{:.2f}\",\n",
        "     'num_votes': \"{:,.0f}\"}\n",
        ")"
      ],
      "execution_count": 65,
      "outputs": [
        {
          "output_type": "execute_result",
          "data": {
            "text/html": [
              "<style  type=\"text/css\" >\n",
              "</style><table id=\"T_d99bdac0_5f5d_11ea_b484_0242ac1c0002\" ><thead>    <tr>        <th class=\"col_heading level0 col0\" >title</th>        <th class=\"col_heading level0 col1\" >rating</th>        <th class=\"col_heading level0 col2\" >num_votes</th>    </tr></thead><tbody>\n",
              "                <tr>\n",
              "                                <td id=\"T_d99bdac0_5f5d_11ea_b484_0242ac1c0002row0_col0\" class=\"data row0 col0\" >Sleepless in Seattle</td>\n",
              "                        <td id=\"T_d99bdac0_5f5d_11ea_b484_0242ac1c0002row0_col1\" class=\"data row0 col1\" >4.34</td>\n",
              "                        <td id=\"T_d99bdac0_5f5d_11ea_b484_0242ac1c0002row0_col2\" class=\"data row0 col2\" >57,070</td>\n",
              "            </tr>\n",
              "            <tr>\n",
              "                                <td id=\"T_d99bdac0_5f5d_11ea_b484_0242ac1c0002row1_col0\" class=\"data row1 col0\" >Once Were Warriors</td>\n",
              "                        <td id=\"T_d99bdac0_5f5d_11ea_b484_0242ac1c0002row1_col1\" class=\"data row1 col1\" >4.27</td>\n",
              "                        <td id=\"T_d99bdac0_5f5d_11ea_b484_0242ac1c0002row1_col2\" class=\"data row1 col2\" >67,662</td>\n",
              "            </tr>\n",
              "            <tr>\n",
              "                                <td id=\"T_d99bdac0_5f5d_11ea_b484_0242ac1c0002row2_col0\" class=\"data row2 col0\" >Hard Target</td>\n",
              "                        <td id=\"T_d99bdac0_5f5d_11ea_b484_0242ac1c0002row2_col1\" class=\"data row2 col1\" >4.26</td>\n",
              "                        <td id=\"T_d99bdac0_5f5d_11ea_b484_0242ac1c0002row2_col2\" class=\"data row2 col2\" >13,994</td>\n",
              "            </tr>\n",
              "            <tr>\n",
              "                                <td id=\"T_d99bdac0_5f5d_11ea_b484_0242ac1c0002row3_col0\" class=\"data row3 col0\" >License to Wed</td>\n",
              "                        <td id=\"T_d99bdac0_5f5d_11ea_b484_0242ac1c0002row3_col1\" class=\"data row3 col1\" >4.23</td>\n",
              "                        <td id=\"T_d99bdac0_5f5d_11ea_b484_0242ac1c0002row3_col2\" class=\"data row3 col2\" >60,024</td>\n",
              "            </tr>\n",
              "            <tr>\n",
              "                                <td id=\"T_d99bdac0_5f5d_11ea_b484_0242ac1c0002row4_col0\" class=\"data row4 col0\" >The Talented Mr. Ripley</td>\n",
              "                        <td id=\"T_d99bdac0_5f5d_11ea_b484_0242ac1c0002row4_col1\" class=\"data row4 col1\" >4.18</td>\n",
              "                        <td id=\"T_d99bdac0_5f5d_11ea_b484_0242ac1c0002row4_col2\" class=\"data row4 col2\" >33,987</td>\n",
              "            </tr>\n",
              "            <tr>\n",
              "                                <td id=\"T_d99bdac0_5f5d_11ea_b484_0242ac1c0002row5_col0\" class=\"data row5 col0\" >Galaxy Quest</td>\n",
              "                        <td id=\"T_d99bdac0_5f5d_11ea_b484_0242ac1c0002row5_col1\" class=\"data row5 col1\" >4.17</td>\n",
              "                        <td id=\"T_d99bdac0_5f5d_11ea_b484_0242ac1c0002row5_col2\" class=\"data row5 col2\" >5,453</td>\n",
              "            </tr>\n",
              "            <tr>\n",
              "                                <td id=\"T_d99bdac0_5f5d_11ea_b484_0242ac1c0002row6_col0\" class=\"data row6 col0\" >Terminator 3: Rise of the Machines</td>\n",
              "                        <td id=\"T_d99bdac0_5f5d_11ea_b484_0242ac1c0002row6_col1\" class=\"data row6 col1\" >4.17</td>\n",
              "                        <td id=\"T_d99bdac0_5f5d_11ea_b484_0242ac1c0002row6_col2\" class=\"data row6 col2\" >87,901</td>\n",
              "            </tr>\n",
              "            <tr>\n",
              "                                <td id=\"T_d99bdac0_5f5d_11ea_b484_0242ac1c0002row7_col0\" class=\"data row7 col0\" >Local Color</td>\n",
              "                        <td id=\"T_d99bdac0_5f5d_11ea_b484_0242ac1c0002row7_col1\" class=\"data row7 col1\" >4.17</td>\n",
              "                        <td id=\"T_d99bdac0_5f5d_11ea_b484_0242ac1c0002row7_col2\" class=\"data row7 col2\" >25,245</td>\n",
              "            </tr>\n",
              "            <tr>\n",
              "                                <td id=\"T_d99bdac0_5f5d_11ea_b484_0242ac1c0002row8_col0\" class=\"data row8 col0\" >Hannibal Rising</td>\n",
              "                        <td id=\"T_d99bdac0_5f5d_11ea_b484_0242ac1c0002row8_col1\" class=\"data row8 col1\" >4.16</td>\n",
              "                        <td id=\"T_d99bdac0_5f5d_11ea_b484_0242ac1c0002row8_col2\" class=\"data row8 col2\" >5,199</td>\n",
              "            </tr>\n",
              "            <tr>\n",
              "                                <td id=\"T_d99bdac0_5f5d_11ea_b484_0242ac1c0002row9_col0\" class=\"data row9 col0\" >Ice Age: The Meltdown</td>\n",
              "                        <td id=\"T_d99bdac0_5f5d_11ea_b484_0242ac1c0002row9_col1\" class=\"data row9 col1\" >4.15</td>\n",
              "                        <td id=\"T_d99bdac0_5f5d_11ea_b484_0242ac1c0002row9_col2\" class=\"data row9 col2\" >3,628</td>\n",
              "            </tr>\n",
              "    </tbody></table>"
            ],
            "text/plain": [
              "<pandas.io.formats.style.Styler at 0x7fe2b502bf60>"
            ]
          },
          "metadata": {
            "tags": []
          },
          "execution_count": 65
        }
      ]
    },
    {
      "cell_type": "markdown",
      "metadata": {
        "colab_type": "text",
        "id": "N1eWDvY9tC9x"
      },
      "source": [
        "* The movie Database also provides a rating and suffer from a similar problem of some movies having a tiny sample size."
      ]
    },
    {
      "cell_type": "code",
      "metadata": {
        "id": "wM0HZNIrRaqn",
        "colab_type": "code",
        "outputId": "05506684-7fb4-4982-84b3-bc1c0a198451",
        "colab": {
          "base_uri": "https://localhost:8080/",
          "height": 254
        }
      },
      "source": [
        "(clean_movies[clean_movies['vote_count'] >= 100]\n",
        "    [['title', 'vote_average', 'vote_count']]\n",
        "    .nlargest(10, 'vote_average')\n",
        "    .style\n",
        "    .hide_index()\n",
        "    .format({'vote_average':'{:.1f}', 'vote_count':'{:,.0f}'})\n",
        ")\n",
        " \n"
      ],
      "execution_count": 72,
      "outputs": [
        {
          "output_type": "execute_result",
          "data": {
            "text/html": [
              "<style  type=\"text/css\" >\n",
              "</style><table id=\"T_5f3cb536_5f5f_11ea_b484_0242ac1c0002\" ><thead>    <tr>        <th class=\"col_heading level0 col0\" >title</th>        <th class=\"col_heading level0 col1\" >vote_average</th>        <th class=\"col_heading level0 col2\" >vote_count</th>    </tr></thead><tbody>\n",
              "                <tr>\n",
              "                                <td id=\"T_5f3cb536_5f5f_11ea_b484_0242ac1c0002row0_col0\" class=\"data row0 col0\" >The Godfather</td>\n",
              "                        <td id=\"T_5f3cb536_5f5f_11ea_b484_0242ac1c0002row0_col1\" class=\"data row0 col1\" >8.5</td>\n",
              "                        <td id=\"T_5f3cb536_5f5f_11ea_b484_0242ac1c0002row0_col2\" class=\"data row0 col2\" >6,024</td>\n",
              "            </tr>\n",
              "            <tr>\n",
              "                                <td id=\"T_5f3cb536_5f5f_11ea_b484_0242ac1c0002row1_col0\" class=\"data row1 col0\" >The Shawshank Redemption</td>\n",
              "                        <td id=\"T_5f3cb536_5f5f_11ea_b484_0242ac1c0002row1_col1\" class=\"data row1 col1\" >8.5</td>\n",
              "                        <td id=\"T_5f3cb536_5f5f_11ea_b484_0242ac1c0002row1_col2\" class=\"data row1 col2\" >8,358</td>\n",
              "            </tr>\n",
              "            <tr>\n",
              "                                <td id=\"T_5f3cb536_5f5f_11ea_b484_0242ac1c0002row2_col0\" class=\"data row2 col0\" >Spirited Away</td>\n",
              "                        <td id=\"T_5f3cb536_5f5f_11ea_b484_0242ac1c0002row2_col1\" class=\"data row2 col1\" >8.3</td>\n",
              "                        <td id=\"T_5f3cb536_5f5f_11ea_b484_0242ac1c0002row2_col2\" class=\"data row2 col2\" >3,968</td>\n",
              "            </tr>\n",
              "            <tr>\n",
              "                                <td id=\"T_5f3cb536_5f5f_11ea_b484_0242ac1c0002row3_col0\" class=\"data row3 col0\" >The Dark Knight</td>\n",
              "                        <td id=\"T_5f3cb536_5f5f_11ea_b484_0242ac1c0002row3_col1\" class=\"data row3 col1\" >8.3</td>\n",
              "                        <td id=\"T_5f3cb536_5f5f_11ea_b484_0242ac1c0002row3_col2\" class=\"data row3 col2\" >12,269</td>\n",
              "            </tr>\n",
              "            <tr>\n",
              "                                <td id=\"T_5f3cb536_5f5f_11ea_b484_0242ac1c0002row4_col0\" class=\"data row4 col0\" >The Godfather: Part II</td>\n",
              "                        <td id=\"T_5f3cb536_5f5f_11ea_b484_0242ac1c0002row4_col1\" class=\"data row4 col1\" >8.3</td>\n",
              "                        <td id=\"T_5f3cb536_5f5f_11ea_b484_0242ac1c0002row4_col2\" class=\"data row4 col2\" >3,418</td>\n",
              "            </tr>\n",
              "            <tr>\n",
              "                                <td id=\"T_5f3cb536_5f5f_11ea_b484_0242ac1c0002row5_col0\" class=\"data row5 col0\" >Schindler's List</td>\n",
              "                        <td id=\"T_5f3cb536_5f5f_11ea_b484_0242ac1c0002row5_col1\" class=\"data row5 col1\" >8.3</td>\n",
              "                        <td id=\"T_5f3cb536_5f5f_11ea_b484_0242ac1c0002row5_col2\" class=\"data row5 col2\" >4,436</td>\n",
              "            </tr>\n",
              "            <tr>\n",
              "                                <td id=\"T_5f3cb536_5f5f_11ea_b484_0242ac1c0002row6_col0\" class=\"data row6 col0\" >One Flew Over the Cuckoo's Nest</td>\n",
              "                        <td id=\"T_5f3cb536_5f5f_11ea_b484_0242ac1c0002row6_col1\" class=\"data row6 col1\" >8.3</td>\n",
              "                        <td id=\"T_5f3cb536_5f5f_11ea_b484_0242ac1c0002row6_col2\" class=\"data row6 col2\" >3,001</td>\n",
              "            </tr>\n",
              "            <tr>\n",
              "                                <td id=\"T_5f3cb536_5f5f_11ea_b484_0242ac1c0002row7_col0\" class=\"data row7 col0\" >Psycho</td>\n",
              "                        <td id=\"T_5f3cb536_5f5f_11ea_b484_0242ac1c0002row7_col1\" class=\"data row7 col1\" >8.3</td>\n",
              "                        <td id=\"T_5f3cb536_5f5f_11ea_b484_0242ac1c0002row7_col2\" class=\"data row7 col2\" >2,405</td>\n",
              "            </tr>\n",
              "            <tr>\n",
              "                                <td id=\"T_5f3cb536_5f5f_11ea_b484_0242ac1c0002row8_col0\" class=\"data row8 col0\" >Fight Club</td>\n",
              "                        <td id=\"T_5f3cb536_5f5f_11ea_b484_0242ac1c0002row8_col1\" class=\"data row8 col1\" >8.3</td>\n",
              "                        <td id=\"T_5f3cb536_5f5f_11ea_b484_0242ac1c0002row8_col2\" class=\"data row8 col2\" >9,678</td>\n",
              "            </tr>\n",
              "            <tr>\n",
              "                                <td id=\"T_5f3cb536_5f5f_11ea_b484_0242ac1c0002row9_col0\" class=\"data row9 col0\" >Life Is Beautiful</td>\n",
              "                        <td id=\"T_5f3cb536_5f5f_11ea_b484_0242ac1c0002row9_col1\" class=\"data row9 col1\" >8.3</td>\n",
              "                        <td id=\"T_5f3cb536_5f5f_11ea_b484_0242ac1c0002row9_col2\" class=\"data row9 col2\" >3,643</td>\n",
              "            </tr>\n",
              "    </tbody></table>"
            ],
            "text/plain": [
              "<pandas.io.formats.style.Styler at 0x7fe2b4ea5780>"
            ]
          },
          "metadata": {
            "tags": []
          },
          "execution_count": 72
        }
      ]
    },
    {
      "cell_type": "code",
      "metadata": {
        "id": "RFFNjIPiRaqt",
        "colab_type": "code",
        "outputId": "1758dd74-18a6-4e54-dcfc-1b4249a5ce12",
        "colab": {
          "base_uri": "https://localhost:8080/",
          "height": 254
        }
      },
      "source": [
        "(clean_movies[['title', 'revenue']]\n",
        " .nlargest(10, 'revenue')\n",
        " .style\n",
        " .hide_index()\n",
        " .format({\n",
        "     \"revenue\":\"${:,.0f}\"\n",
        " }\n",
        " )\n",
        ")"
      ],
      "execution_count": 74,
      "outputs": [
        {
          "output_type": "execute_result",
          "data": {
            "text/html": [
              "<style  type=\"text/css\" >\n",
              "</style><table id=\"T_14b33552_5f60_11ea_b484_0242ac1c0002\" ><thead>    <tr>        <th class=\"col_heading level0 col0\" >title</th>        <th class=\"col_heading level0 col1\" >revenue</th>    </tr></thead><tbody>\n",
              "                <tr>\n",
              "                                <td id=\"T_14b33552_5f60_11ea_b484_0242ac1c0002row0_col0\" class=\"data row0 col0\" >Titanic</td>\n",
              "                        <td id=\"T_14b33552_5f60_11ea_b484_0242ac1c0002row0_col1\" class=\"data row0 col1\" >$1,845,034,188</td>\n",
              "            </tr>\n",
              "            <tr>\n",
              "                                <td id=\"T_14b33552_5f60_11ea_b484_0242ac1c0002row1_col0\" class=\"data row1 col0\" >The Lord of the Rings: The Return of the King</td>\n",
              "                        <td id=\"T_14b33552_5f60_11ea_b484_0242ac1c0002row1_col1\" class=\"data row1 col1\" >$1,118,888,979</td>\n",
              "            </tr>\n",
              "            <tr>\n",
              "                                <td id=\"T_14b33552_5f60_11ea_b484_0242ac1c0002row2_col0\" class=\"data row2 col0\" >Pirates of the Caribbean: Dead Man's Chest</td>\n",
              "                        <td id=\"T_14b33552_5f60_11ea_b484_0242ac1c0002row2_col1\" class=\"data row2 col1\" >$1,065,659,812</td>\n",
              "            </tr>\n",
              "            <tr>\n",
              "                                <td id=\"T_14b33552_5f60_11ea_b484_0242ac1c0002row3_col0\" class=\"data row3 col0\" >Pirates of the Caribbean: On Stranger Tides</td>\n",
              "                        <td id=\"T_14b33552_5f60_11ea_b484_0242ac1c0002row3_col1\" class=\"data row3 col1\" >$1,045,713,802</td>\n",
              "            </tr>\n",
              "            <tr>\n",
              "                                <td id=\"T_14b33552_5f60_11ea_b484_0242ac1c0002row4_col0\" class=\"data row4 col0\" >The Dark Knight</td>\n",
              "                        <td id=\"T_14b33552_5f60_11ea_b484_0242ac1c0002row4_col1\" class=\"data row4 col1\" >$1,004,558,444</td>\n",
              "            </tr>\n",
              "            <tr>\n",
              "                                <td id=\"T_14b33552_5f60_11ea_b484_0242ac1c0002row5_col0\" class=\"data row5 col0\" >Harry Potter and the Philosopher's Stone</td>\n",
              "                        <td id=\"T_14b33552_5f60_11ea_b484_0242ac1c0002row5_col1\" class=\"data row5 col1\" >$976,475,550</td>\n",
              "            </tr>\n",
              "            <tr>\n",
              "                                <td id=\"T_14b33552_5f60_11ea_b484_0242ac1c0002row6_col0\" class=\"data row6 col0\" >Finding Nemo</td>\n",
              "                        <td id=\"T_14b33552_5f60_11ea_b484_0242ac1c0002row6_col1\" class=\"data row6 col1\" >$940,335,536</td>\n",
              "            </tr>\n",
              "            <tr>\n",
              "                                <td id=\"T_14b33552_5f60_11ea_b484_0242ac1c0002row7_col0\" class=\"data row7 col0\" >Harry Potter and the Half-Blood Prince</td>\n",
              "                        <td id=\"T_14b33552_5f60_11ea_b484_0242ac1c0002row7_col1\" class=\"data row7 col1\" >$933,959,197</td>\n",
              "            </tr>\n",
              "            <tr>\n",
              "                                <td id=\"T_14b33552_5f60_11ea_b484_0242ac1c0002row8_col0\" class=\"data row8 col0\" >The Lord of the Rings: The Two Towers</td>\n",
              "                        <td id=\"T_14b33552_5f60_11ea_b484_0242ac1c0002row8_col1\" class=\"data row8 col1\" >$926,287,400</td>\n",
              "            </tr>\n",
              "            <tr>\n",
              "                                <td id=\"T_14b33552_5f60_11ea_b484_0242ac1c0002row9_col0\" class=\"data row9 col0\" >Star Wars: Episode I - The Phantom Menace</td>\n",
              "                        <td id=\"T_14b33552_5f60_11ea_b484_0242ac1c0002row9_col1\" class=\"data row9 col1\" >$924,317,558</td>\n",
              "            </tr>\n",
              "    </tbody></table>"
            ],
            "text/plain": [
              "<pandas.io.formats.style.Styler at 0x7fe2b4e24080>"
            ]
          },
          "metadata": {
            "tags": []
          },
          "execution_count": 74
        }
      ]
    },
    {
      "cell_type": "markdown",
      "metadata": {
        "colab_type": "text",
        "id": "r-9nL1-6tC97"
      },
      "source": [
        "## Inflation\n",
        "* Inflation means that a 1940 dollar is worth more than a 2020 dollar. Let's adjust Revenue for that.\n",
        "* The Consumer price index can be used to convert to standarized dollars.\n",
        "* Here, we'll be using 2014 dollars.\n",
        "* Years later than 2014 will not be adjusted.\n",
        "$$ \\textrm{adjusted dollars} = \\frac{\\textrm{New CPI}}{\\textrm{Base CPI}}$$\n",
        "* where x is the current cpi and y is the cpi of that year "
      ]
    },
    {
      "cell_type": "code",
      "metadata": {
        "id": "Y9Zf0JqiRaqz",
        "colab_type": "code",
        "colab": {}
      },
      "source": [
        "cpi = cpi[cpi['Country Name'] == 'United States'][['Year', 'CPI']]"
      ],
      "execution_count": 0,
      "outputs": []
    },
    {
      "cell_type": "code",
      "metadata": {
        "id": "x4W8alavRaq3",
        "colab_type": "code",
        "colab": {}
      },
      "source": [
        "cpi = cpi.set_index(cpi['Year'])"
      ],
      "execution_count": 0,
      "outputs": []
    },
    {
      "cell_type": "code",
      "metadata": {
        "id": "zwC70VFIRaq7",
        "colab_type": "code",
        "colab": {}
      },
      "source": [
        "def adjust_dollars(value, year):\n",
        "    year = int(year)\n",
        "    try:\n",
        "        current = cpi.loc[2014,'CPI']\n",
        "        base = cpi.loc[year,'CPI']\n",
        "        adjusted_value = value * (current/base)\n",
        "        return adjusted_value\n",
        "    except: \n",
        "        return value"
      ],
      "execution_count": 0,
      "outputs": []
    },
    {
      "cell_type": "code",
      "metadata": {
        "id": "dFDxxX6PRarB",
        "colab_type": "code",
        "colab": {}
      },
      "source": [
        "clean_movies['year']= clean_movies['release_date'].dt.year"
      ],
      "execution_count": 0,
      "outputs": []
    },
    {
      "cell_type": "code",
      "metadata": {
        "id": "1pZYohCWRarE",
        "colab_type": "code",
        "colab": {}
      },
      "source": [
        "df = clean_movies[clean_movies['revenue'].notnull() & clean_movies['year'].notnull()]"
      ],
      "execution_count": 0,
      "outputs": []
    },
    {
      "cell_type": "code",
      "metadata": {
        "id": "nluoOR6oRarJ",
        "colab_type": "code",
        "colab": {}
      },
      "source": [
        "adjusted = pd.DataFrame([adjust_dollars(x,y) for x,y in zip(df['revenue'], df['year'])], index = df.index, columns = ['adjusted_revenue'])"
      ],
      "execution_count": 0,
      "outputs": []
    },
    {
      "cell_type": "code",
      "metadata": {
        "id": "XOta_0M8RarN",
        "colab_type": "code",
        "colab": {}
      },
      "source": [
        "clean_movies = clean_movies.merge(adjusted, left_index=True, right_index=True)"
      ],
      "execution_count": 0,
      "outputs": []
    },
    {
      "cell_type": "code",
      "metadata": {
        "id": "IHlPLSqrRarR",
        "colab_type": "code",
        "outputId": "63d0bb11-09ef-4285-d4aa-9d4bc928f2dd",
        "colab": {
          "base_uri": "https://localhost:8080/",
          "height": 254
        }
      },
      "source": [
        "(clean_movies[['title', 'adjusted_revenue']]\n",
        " .nlargest(10, 'adjusted_revenue')\n",
        " .style\n",
        " .hide_index()\n",
        " .format({\n",
        "     \"adjusted_revenue\":\"${:,.0f}\"\n",
        " }\n",
        " )\n",
        ")"
      ],
      "execution_count": 76,
      "outputs": [
        {
          "output_type": "execute_result",
          "data": {
            "text/html": [
              "<style  type=\"text/css\" >\n",
              "</style><table id=\"T_8c09d0b0_5f61_11ea_b484_0242ac1c0002\" ><thead>    <tr>        <th class=\"col_heading level0 col0\" >title</th>        <th class=\"col_heading level0 col1\" >adjusted_revenue</th>    </tr></thead><tbody>\n",
              "                <tr>\n",
              "                                <td id=\"T_8c09d0b0_5f61_11ea_b484_0242ac1c0002row0_col0\" class=\"data row0 col0\" >Star Wars</td>\n",
              "                        <td id=\"T_8c09d0b0_5f61_11ea_b484_0242ac1c0002row0_col1\" class=\"data row0 col1\" >$3,028,727,803</td>\n",
              "            </tr>\n",
              "            <tr>\n",
              "                                <td id=\"T_8c09d0b0_5f61_11ea_b484_0242ac1c0002row1_col0\" class=\"data row1 col0\" >Titanic</td>\n",
              "                        <td id=\"T_8c09d0b0_5f61_11ea_b484_0242ac1c0002row1_col1\" class=\"data row1 col1\" >$2,721,127,532</td>\n",
              "            </tr>\n",
              "            <tr>\n",
              "                                <td id=\"T_8c09d0b0_5f61_11ea_b484_0242ac1c0002row2_col0\" class=\"data row2 col0\" >E.T. the Extra-Terrestrial</td>\n",
              "                        <td id=\"T_8c09d0b0_5f61_11ea_b484_0242ac1c0002row2_col1\" class=\"data row2 col1\" >$1,945,321,985</td>\n",
              "            </tr>\n",
              "            <tr>\n",
              "                                <td id=\"T_8c09d0b0_5f61_11ea_b484_0242ac1c0002row3_col0\" class=\"data row3 col0\" >The Empire Strikes Back</td>\n",
              "                        <td id=\"T_8c09d0b0_5f61_11ea_b484_0242ac1c0002row3_col1\" class=\"data row3 col1\" >$1,546,829,516</td>\n",
              "            </tr>\n",
              "            <tr>\n",
              "                                <td id=\"T_8c09d0b0_5f61_11ea_b484_0242ac1c0002row4_col0\" class=\"data row4 col0\" >Jurassic Park</td>\n",
              "                        <td id=\"T_8c09d0b0_5f61_11ea_b484_0242ac1c0002row4_col1\" class=\"data row4 col1\" >$1,507,846,186</td>\n",
              "            </tr>\n",
              "            <tr>\n",
              "                                <td id=\"T_8c09d0b0_5f61_11ea_b484_0242ac1c0002row5_col0\" class=\"data row5 col0\" >The Lord of the Rings: The Return of the King</td>\n",
              "                        <td id=\"T_8c09d0b0_5f61_11ea_b484_0242ac1c0002row5_col1\" class=\"data row5 col1\" >$1,439,899,368</td>\n",
              "            </tr>\n",
              "            <tr>\n",
              "                                <td id=\"T_8c09d0b0_5f61_11ea_b484_0242ac1c0002row6_col0\" class=\"data row6 col0\" >The Godfather</td>\n",
              "                        <td id=\"T_8c09d0b0_5f61_11ea_b484_0242ac1c0002row6_col1\" class=\"data row6 col1\" >$1,387,267,307</td>\n",
              "            </tr>\n",
              "            <tr>\n",
              "                                <td id=\"T_8c09d0b0_5f61_11ea_b484_0242ac1c0002row7_col0\" class=\"data row7 col0\" >Return of the Jedi</td>\n",
              "                        <td id=\"T_8c09d0b0_5f61_11ea_b484_0242ac1c0002row7_col1\" class=\"data row7 col1\" >$1,361,232,958</td>\n",
              "            </tr>\n",
              "            <tr>\n",
              "                                <td id=\"T_8c09d0b0_5f61_11ea_b484_0242ac1c0002row8_col0\" class=\"data row8 col0\" >Star Wars: Episode I - The Phantom Menace</td>\n",
              "                        <td id=\"T_8c09d0b0_5f61_11ea_b484_0242ac1c0002row8_col1\" class=\"data row8 col1\" >$1,313,638,874</td>\n",
              "            </tr>\n",
              "            <tr>\n",
              "                                <td id=\"T_8c09d0b0_5f61_11ea_b484_0242ac1c0002row9_col0\" class=\"data row9 col0\" >Harry Potter and the Philosopher's Stone</td>\n",
              "                        <td id=\"T_8c09d0b0_5f61_11ea_b484_0242ac1c0002row9_col1\" class=\"data row9 col1\" >$1,305,536,965</td>\n",
              "            </tr>\n",
              "    </tbody></table>"
            ],
            "text/plain": [
              "<pandas.io.formats.style.Styler at 0x7fe2b4ea5c18>"
            ]
          },
          "metadata": {
            "tags": []
          },
          "execution_count": 76
        }
      ]
    },
    {
      "cell_type": "code",
      "metadata": {
        "id": "XJ8hq3MORarU",
        "colab_type": "code",
        "colab": {}
      },
      "source": [
        "clean_movies['decade'] = [x - (x%10) for x in clean_movies['year']]"
      ],
      "execution_count": 0,
      "outputs": []
    },
    {
      "cell_type": "code",
      "metadata": {
        "id": "sOMH1gpMbAS8",
        "colab_type": "code",
        "outputId": "1b0c34c4-6291-4d1e-aa70-76e790b98cce",
        "colab": {
          "base_uri": "https://localhost:8080/",
          "height": 542
        }
      },
      "source": [
        "px.line(clean_movies.groupby('year')['vote_average'].mean().reset_index(), \n",
        "       x ='year',\n",
        "       y = 'vote_average' )"
      ],
      "execution_count": 78,
      "outputs": [
        {
          "output_type": "display_data",
          "data": {
            "text/html": [
              "<html>\n",
              "<head><meta charset=\"utf-8\" /></head>\n",
              "<body>\n",
              "    <div>\n",
              "            <script src=\"https://cdnjs.cloudflare.com/ajax/libs/mathjax/2.7.5/MathJax.js?config=TeX-AMS-MML_SVG\"></script><script type=\"text/javascript\">if (window.MathJax) {MathJax.Hub.Config({SVG: {font: \"STIX-Web\"}});}</script>\n",
              "                <script type=\"text/javascript\">window.PlotlyConfig = {MathJaxConfig: 'local'};</script>\n",
              "        <script src=\"https://cdn.plot.ly/plotly-latest.min.js\"></script>    \n",
              "            <div id=\"babc6f33-b3d9-4f3d-b2aa-212e90b5efd8\" class=\"plotly-graph-div\" style=\"height:525px; width:100%;\"></div>\n",
              "            <script type=\"text/javascript\">\n",
              "                \n",
              "                    window.PLOTLYENV=window.PLOTLYENV || {};\n",
              "                    \n",
              "                if (document.getElementById(\"babc6f33-b3d9-4f3d-b2aa-212e90b5efd8\")) {\n",
              "                    Plotly.newPlot(\n",
              "                        'babc6f33-b3d9-4f3d-b2aa-212e90b5efd8',\n",
              "                        [{\"hoverlabel\": {\"namelength\": 0}, \"hovertemplate\": \"year=%{x}<br>vote_average=%{y}\", \"legendgroup\": \"\", \"line\": {\"color\": \"#636efa\", \"dash\": \"solid\"}, \"mode\": \"lines\", \"name\": \"\", \"showlegend\": false, \"type\": \"scatter\", \"x\": [1915.0, 1925.0, 1927.0, 1930.0, 1931.0, 1932.0, 1933.0, 1934.0, 1936.0, 1937.0, 1939.0, 1940.0, 1941.0, 1942.0, 1944.0, 1945.0, 1946.0, 1948.0, 1949.0, 1950.0, 1951.0, 1952.0, 1953.0, 1954.0, 1955.0, 1956.0, 1957.0, 1958.0, 1959.0, 1960.0, 1961.0, 1962.0, 1963.0, 1964.0, 1965.0, 1966.0, 1967.0, 1968.0, 1969.0, 1970.0, 1971.0, 1972.0, 1973.0, 1974.0, 1975.0, 1976.0, 1977.0, 1978.0, 1979.0, 1980.0, 1981.0, 1982.0, 1983.0, 1984.0, 1985.0, 1986.0, 1987.0, 1988.0, 1989.0, 1990.0, 1991.0, 1992.0, 1993.0, 1994.0, 1995.0, 1996.0, 1997.0, 1998.0, 1999.0, 2000.0, 2001.0, 2002.0, 2003.0, 2004.0, 2005.0, 2006.0, 2007.0, 2008.0, 2009.0, 2010.0, 2011.0, 2012.0, 2013.0, 2014.0, 2015.0], \"xaxis\": \"x\", \"y\": [6.4, 7.35, 7.95, 6.7, 7.566666666666666, 7.5, 6.9, 7.550000000000001, 8.1, 6.9, 7.533333333333334, 7.666666666666667, 7.9, 7.9, 7.8, 7.35, 7.9, 7.666666666666667, 7.9, 7.8, 7.3, 7.6, 7.3, 7.720000000000001, 7.550000000000001, 7.279999999999999, 8.2, 7.699999999999999, 7.8199999999999985, 7.475, 7.142857142857143, 7.542857142857144, 7.1, 7.214285714285714, 7.040000000000001, 7.12, 6.966666666666667, 7.088888888888889, 6.866666666666667, 5.699999999999999, 7.0625, 6.966666666666667, 6.779999999999999, 7.3, 7.300000000000001, 7.3500000000000005, 6.785714285714286, 6.983333333333333, 7.177777777777777, 6.853846153846154, 7.028571428571429, 6.757142857142857, 6.664705882352941, 6.638888888888889, 6.6499999999999995, 6.499999999999998, 6.603448275862069, 6.545833333333334, 6.650000000000001, 6.692857142857141, 6.645714285714284, 6.616666666666667, 6.3999999999999995, 6.3575, 6.736363636363635, 6.667857142857144, 6.37446808510638, 6.545945945945946, 6.5950000000000015, 6.3647058823529425, 6.569387755102041, 6.59803921568624, 6.683636363636366, 6.690163934426227, 6.444615384615386, 6.537179487179488, 6.489583333333335, 6.321428571428572, 6.073333333333333, 6.166666666666668, 6.393750000000001, 5.1, 5.4, 6.3, 5.7], \"yaxis\": \"y\"}],\n",
              "                        {\"legend\": {\"tracegroupgap\": 0}, \"margin\": {\"t\": 60}, \"template\": {\"data\": {\"bar\": [{\"error_x\": {\"color\": \"#2a3f5f\"}, \"error_y\": {\"color\": \"#2a3f5f\"}, \"marker\": {\"line\": {\"color\": \"#E5ECF6\", \"width\": 0.5}}, \"type\": \"bar\"}], \"barpolar\": [{\"marker\": {\"line\": {\"color\": \"#E5ECF6\", \"width\": 0.5}}, \"type\": \"barpolar\"}], \"carpet\": [{\"aaxis\": {\"endlinecolor\": \"#2a3f5f\", \"gridcolor\": \"white\", \"linecolor\": \"white\", \"minorgridcolor\": \"white\", \"startlinecolor\": \"#2a3f5f\"}, \"baxis\": {\"endlinecolor\": \"#2a3f5f\", \"gridcolor\": \"white\", \"linecolor\": \"white\", \"minorgridcolor\": \"white\", \"startlinecolor\": \"#2a3f5f\"}, \"type\": \"carpet\"}], \"choropleth\": [{\"colorbar\": {\"outlinewidth\": 0, \"ticks\": \"\"}, \"type\": \"choropleth\"}], \"contour\": [{\"colorbar\": {\"outlinewidth\": 0, \"ticks\": \"\"}, \"colorscale\": [[0.0, \"#0d0887\"], [0.1111111111111111, \"#46039f\"], [0.2222222222222222, \"#7201a8\"], [0.3333333333333333, \"#9c179e\"], [0.4444444444444444, \"#bd3786\"], [0.5555555555555556, \"#d8576b\"], [0.6666666666666666, \"#ed7953\"], [0.7777777777777778, \"#fb9f3a\"], [0.8888888888888888, \"#fdca26\"], [1.0, \"#f0f921\"]], \"type\": \"contour\"}], \"contourcarpet\": [{\"colorbar\": {\"outlinewidth\": 0, \"ticks\": \"\"}, \"type\": \"contourcarpet\"}], \"heatmap\": [{\"colorbar\": {\"outlinewidth\": 0, \"ticks\": \"\"}, \"colorscale\": [[0.0, \"#0d0887\"], [0.1111111111111111, \"#46039f\"], [0.2222222222222222, \"#7201a8\"], [0.3333333333333333, \"#9c179e\"], [0.4444444444444444, \"#bd3786\"], [0.5555555555555556, \"#d8576b\"], [0.6666666666666666, \"#ed7953\"], [0.7777777777777778, \"#fb9f3a\"], [0.8888888888888888, \"#fdca26\"], [1.0, \"#f0f921\"]], \"type\": \"heatmap\"}], \"heatmapgl\": [{\"colorbar\": {\"outlinewidth\": 0, \"ticks\": \"\"}, \"colorscale\": [[0.0, \"#0d0887\"], [0.1111111111111111, \"#46039f\"], [0.2222222222222222, \"#7201a8\"], [0.3333333333333333, \"#9c179e\"], [0.4444444444444444, \"#bd3786\"], [0.5555555555555556, \"#d8576b\"], [0.6666666666666666, \"#ed7953\"], [0.7777777777777778, \"#fb9f3a\"], [0.8888888888888888, \"#fdca26\"], [1.0, \"#f0f921\"]], \"type\": \"heatmapgl\"}], \"histogram\": [{\"marker\": {\"colorbar\": {\"outlinewidth\": 0, \"ticks\": \"\"}}, \"type\": \"histogram\"}], \"histogram2d\": [{\"colorbar\": {\"outlinewidth\": 0, \"ticks\": \"\"}, \"colorscale\": [[0.0, \"#0d0887\"], [0.1111111111111111, \"#46039f\"], [0.2222222222222222, \"#7201a8\"], [0.3333333333333333, \"#9c179e\"], [0.4444444444444444, \"#bd3786\"], [0.5555555555555556, \"#d8576b\"], [0.6666666666666666, \"#ed7953\"], [0.7777777777777778, \"#fb9f3a\"], [0.8888888888888888, \"#fdca26\"], [1.0, \"#f0f921\"]], \"type\": \"histogram2d\"}], \"histogram2dcontour\": [{\"colorbar\": {\"outlinewidth\": 0, \"ticks\": \"\"}, \"colorscale\": [[0.0, \"#0d0887\"], [0.1111111111111111, \"#46039f\"], [0.2222222222222222, \"#7201a8\"], [0.3333333333333333, \"#9c179e\"], [0.4444444444444444, \"#bd3786\"], [0.5555555555555556, \"#d8576b\"], [0.6666666666666666, \"#ed7953\"], [0.7777777777777778, \"#fb9f3a\"], [0.8888888888888888, \"#fdca26\"], [1.0, \"#f0f921\"]], \"type\": \"histogram2dcontour\"}], \"mesh3d\": [{\"colorbar\": {\"outlinewidth\": 0, \"ticks\": \"\"}, \"type\": \"mesh3d\"}], \"parcoords\": [{\"line\": {\"colorbar\": {\"outlinewidth\": 0, \"ticks\": \"\"}}, \"type\": \"parcoords\"}], \"pie\": [{\"automargin\": true, \"type\": \"pie\"}], \"scatter\": [{\"marker\": {\"colorbar\": {\"outlinewidth\": 0, \"ticks\": \"\"}}, \"type\": \"scatter\"}], \"scatter3d\": [{\"line\": {\"colorbar\": {\"outlinewidth\": 0, \"ticks\": \"\"}}, \"marker\": {\"colorbar\": {\"outlinewidth\": 0, \"ticks\": \"\"}}, \"type\": \"scatter3d\"}], \"scattercarpet\": [{\"marker\": {\"colorbar\": {\"outlinewidth\": 0, \"ticks\": \"\"}}, \"type\": \"scattercarpet\"}], \"scattergeo\": [{\"marker\": {\"colorbar\": {\"outlinewidth\": 0, \"ticks\": \"\"}}, \"type\": \"scattergeo\"}], \"scattergl\": [{\"marker\": {\"colorbar\": {\"outlinewidth\": 0, \"ticks\": \"\"}}, \"type\": \"scattergl\"}], \"scattermapbox\": [{\"marker\": {\"colorbar\": {\"outlinewidth\": 0, \"ticks\": \"\"}}, \"type\": \"scattermapbox\"}], \"scatterpolar\": [{\"marker\": {\"colorbar\": {\"outlinewidth\": 0, \"ticks\": \"\"}}, \"type\": \"scatterpolar\"}], \"scatterpolargl\": [{\"marker\": {\"colorbar\": {\"outlinewidth\": 0, \"ticks\": \"\"}}, \"type\": \"scatterpolargl\"}], \"scatterternary\": [{\"marker\": {\"colorbar\": {\"outlinewidth\": 0, \"ticks\": \"\"}}, \"type\": \"scatterternary\"}], \"surface\": [{\"colorbar\": {\"outlinewidth\": 0, \"ticks\": \"\"}, \"colorscale\": [[0.0, \"#0d0887\"], [0.1111111111111111, \"#46039f\"], [0.2222222222222222, \"#7201a8\"], [0.3333333333333333, \"#9c179e\"], [0.4444444444444444, \"#bd3786\"], [0.5555555555555556, \"#d8576b\"], [0.6666666666666666, \"#ed7953\"], [0.7777777777777778, \"#fb9f3a\"], [0.8888888888888888, \"#fdca26\"], [1.0, \"#f0f921\"]], \"type\": \"surface\"}], \"table\": [{\"cells\": {\"fill\": {\"color\": \"#EBF0F8\"}, \"line\": {\"color\": \"white\"}}, \"header\": {\"fill\": {\"color\": \"#C8D4E3\"}, \"line\": {\"color\": \"white\"}}, \"type\": \"table\"}]}, \"layout\": {\"annotationdefaults\": {\"arrowcolor\": \"#2a3f5f\", \"arrowhead\": 0, \"arrowwidth\": 1}, \"coloraxis\": {\"colorbar\": {\"outlinewidth\": 0, \"ticks\": \"\"}}, \"colorscale\": {\"diverging\": [[0, \"#8e0152\"], [0.1, \"#c51b7d\"], [0.2, \"#de77ae\"], [0.3, \"#f1b6da\"], [0.4, \"#fde0ef\"], [0.5, \"#f7f7f7\"], [0.6, \"#e6f5d0\"], [0.7, \"#b8e186\"], [0.8, \"#7fbc41\"], [0.9, \"#4d9221\"], [1, \"#276419\"]], \"sequential\": [[0.0, \"#0d0887\"], [0.1111111111111111, \"#46039f\"], [0.2222222222222222, \"#7201a8\"], [0.3333333333333333, \"#9c179e\"], [0.4444444444444444, \"#bd3786\"], [0.5555555555555556, \"#d8576b\"], [0.6666666666666666, \"#ed7953\"], [0.7777777777777778, \"#fb9f3a\"], [0.8888888888888888, \"#fdca26\"], [1.0, \"#f0f921\"]], \"sequentialminus\": [[0.0, \"#0d0887\"], [0.1111111111111111, \"#46039f\"], [0.2222222222222222, \"#7201a8\"], [0.3333333333333333, \"#9c179e\"], [0.4444444444444444, \"#bd3786\"], [0.5555555555555556, \"#d8576b\"], [0.6666666666666666, \"#ed7953\"], [0.7777777777777778, \"#fb9f3a\"], [0.8888888888888888, \"#fdca26\"], [1.0, \"#f0f921\"]]}, \"colorway\": [\"#636efa\", \"#EF553B\", \"#00cc96\", \"#ab63fa\", \"#FFA15A\", \"#19d3f3\", \"#FF6692\", \"#B6E880\", \"#FF97FF\", \"#FECB52\"], \"font\": {\"color\": \"#2a3f5f\"}, \"geo\": {\"bgcolor\": \"white\", \"lakecolor\": \"white\", \"landcolor\": \"#E5ECF6\", \"showlakes\": true, \"showland\": true, \"subunitcolor\": \"white\"}, \"hoverlabel\": {\"align\": \"left\"}, \"hovermode\": \"closest\", \"mapbox\": {\"style\": \"light\"}, \"paper_bgcolor\": \"white\", \"plot_bgcolor\": \"#E5ECF6\", \"polar\": {\"angularaxis\": {\"gridcolor\": \"white\", \"linecolor\": \"white\", \"ticks\": \"\"}, \"bgcolor\": \"#E5ECF6\", \"radialaxis\": {\"gridcolor\": \"white\", \"linecolor\": \"white\", \"ticks\": \"\"}}, \"scene\": {\"xaxis\": {\"backgroundcolor\": \"#E5ECF6\", \"gridcolor\": \"white\", \"gridwidth\": 2, \"linecolor\": \"white\", \"showbackground\": true, \"ticks\": \"\", \"zerolinecolor\": \"white\"}, \"yaxis\": {\"backgroundcolor\": \"#E5ECF6\", \"gridcolor\": \"white\", \"gridwidth\": 2, \"linecolor\": \"white\", \"showbackground\": true, \"ticks\": \"\", \"zerolinecolor\": \"white\"}, \"zaxis\": {\"backgroundcolor\": \"#E5ECF6\", \"gridcolor\": \"white\", \"gridwidth\": 2, \"linecolor\": \"white\", \"showbackground\": true, \"ticks\": \"\", \"zerolinecolor\": \"white\"}}, \"shapedefaults\": {\"line\": {\"color\": \"#2a3f5f\"}}, \"ternary\": {\"aaxis\": {\"gridcolor\": \"white\", \"linecolor\": \"white\", \"ticks\": \"\"}, \"baxis\": {\"gridcolor\": \"white\", \"linecolor\": \"white\", \"ticks\": \"\"}, \"bgcolor\": \"#E5ECF6\", \"caxis\": {\"gridcolor\": \"white\", \"linecolor\": \"white\", \"ticks\": \"\"}}, \"title\": {\"x\": 0.05}, \"xaxis\": {\"automargin\": true, \"gridcolor\": \"white\", \"linecolor\": \"white\", \"ticks\": \"\", \"title\": {\"standoff\": 15}, \"zerolinecolor\": \"white\", \"zerolinewidth\": 2}, \"yaxis\": {\"automargin\": true, \"gridcolor\": \"white\", \"linecolor\": \"white\", \"ticks\": \"\", \"title\": {\"standoff\": 15}, \"zerolinecolor\": \"white\", \"zerolinewidth\": 2}}}, \"xaxis\": {\"anchor\": \"y\", \"domain\": [0.0, 1.0], \"title\": {\"text\": \"year\"}}, \"yaxis\": {\"anchor\": \"x\", \"domain\": [0.0, 1.0], \"title\": {\"text\": \"vote_average\"}}},\n",
              "                        {\"responsive\": true}\n",
              "                    ).then(function(){\n",
              "                            \n",
              "var gd = document.getElementById('babc6f33-b3d9-4f3d-b2aa-212e90b5efd8');\n",
              "var x = new MutationObserver(function (mutations, observer) {{\n",
              "        var display = window.getComputedStyle(gd).display;\n",
              "        if (!display || display === 'none') {{\n",
              "            console.log([gd, 'removed!']);\n",
              "            Plotly.purge(gd);\n",
              "            observer.disconnect();\n",
              "        }}\n",
              "}});\n",
              "\n",
              "// Listen for the removal of the full notebook cells\n",
              "var notebookContainer = gd.closest('#notebook-container');\n",
              "if (notebookContainer) {{\n",
              "    x.observe(notebookContainer, {childList: true});\n",
              "}}\n",
              "\n",
              "// Listen for the clearing of the current output cell\n",
              "var outputEl = gd.closest('.output');\n",
              "if (outputEl) {{\n",
              "    x.observe(outputEl, {childList: true});\n",
              "}}\n",
              "\n",
              "                        })\n",
              "                };\n",
              "                \n",
              "            </script>\n",
              "        </div>\n",
              "</body>\n",
              "</html>"
            ]
          },
          "metadata": {
            "tags": []
          }
        }
      ]
    },
    {
      "cell_type": "code",
      "metadata": {
        "id": "pDPd05scE3Kt",
        "colab_type": "code",
        "colab": {
          "base_uri": "https://localhost:8080/",
          "height": 542
        },
        "outputId": "57df3aa1-6bbc-4d22-95cd-e3b0069a43d0"
      },
      "source": [
        "px.line(clean_movies.groupby('year')['rating'].mean().reset_index(), \n",
        "       x ='year',\n",
        "       y = 'rating' )"
      ],
      "execution_count": 79,
      "outputs": [
        {
          "output_type": "display_data",
          "data": {
            "text/html": [
              "<html>\n",
              "<head><meta charset=\"utf-8\" /></head>\n",
              "<body>\n",
              "    <div>\n",
              "            <script src=\"https://cdnjs.cloudflare.com/ajax/libs/mathjax/2.7.5/MathJax.js?config=TeX-AMS-MML_SVG\"></script><script type=\"text/javascript\">if (window.MathJax) {MathJax.Hub.Config({SVG: {font: \"STIX-Web\"}});}</script>\n",
              "                <script type=\"text/javascript\">window.PlotlyConfig = {MathJaxConfig: 'local'};</script>\n",
              "        <script src=\"https://cdn.plot.ly/plotly-latest.min.js\"></script>    \n",
              "            <div id=\"b8f129a0-943d-4452-a659-953686283566\" class=\"plotly-graph-div\" style=\"height:525px; width:100%;\"></div>\n",
              "            <script type=\"text/javascript\">\n",
              "                \n",
              "                    window.PLOTLYENV=window.PLOTLYENV || {};\n",
              "                    \n",
              "                if (document.getElementById(\"b8f129a0-943d-4452-a659-953686283566\")) {\n",
              "                    Plotly.newPlot(\n",
              "                        'b8f129a0-943d-4452-a659-953686283566',\n",
              "                        [{\"hoverlabel\": {\"namelength\": 0}, \"hovertemplate\": \"year=%{x}<br>rating=%{y}\", \"legendgroup\": \"\", \"line\": {\"color\": \"#636efa\", \"dash\": \"solid\"}, \"mode\": \"lines\", \"name\": \"\", \"showlegend\": false, \"type\": \"scatter\", \"x\": [1915.0, 1925.0, 1927.0, 1930.0, 1931.0, 1932.0, 1933.0, 1934.0, 1936.0, 1937.0, 1939.0, 1940.0, 1941.0, 1942.0, 1944.0, 1945.0, 1946.0, 1948.0, 1949.0, 1950.0, 1951.0, 1952.0, 1953.0, 1954.0, 1955.0, 1956.0, 1957.0, 1958.0, 1959.0, 1960.0, 1961.0, 1962.0, 1963.0, 1964.0, 1965.0, 1966.0, 1967.0, 1968.0, 1969.0, 1970.0, 1971.0, 1972.0, 1973.0, 1974.0, 1975.0, 1976.0, 1977.0, 1978.0, 1979.0, 1980.0, 1981.0, 1982.0, 1983.0, 1984.0, 1985.0, 1986.0, 1987.0, 1988.0, 1989.0, 1990.0, 1991.0, 1992.0, 1993.0, 1994.0, 1995.0, 1996.0, 1997.0, 1998.0, 1999.0, 2000.0, 2001.0, 2002.0, 2003.0, 2004.0, 2005.0, 2006.0, 2007.0, 2008.0, 2009.0, 2010.0, 2011.0, 2012.0, 2013.0, 2014.0, 2015.0], \"xaxis\": \"x\", \"y\": [2.737467018469657, 3.577952912213322, 2.69600226961307, 2.117283950617284, 3.650490279011406, 3.1638418079096047, 3.1274096005711014, 3.442964756524079, 3.2011004784688994, 3.2330028328611897, 3.656915840164343, 3.6296766412802604, 3.1359671830985913, 3.358924858924859, 3.5479281251507695, 3.6327351685030327, 3.183787974759184, 3.9160108076958497, 3.3524774774774775, 3.547859152082544, 3.429126426853513, 3.2725836293664887, 3.157834752962643, 3.2895287992426994, 3.2089559022659087, 3.342106147782876, 3.490566037735849, 3.3338961598962733, 3.655297541461375, 3.3737962920635556, 3.240885633145519, 3.5959723566515356, 3.55361991349221, 3.266760104050365, 3.284021733318937, 3.243774230336952, 3.378736565546594, 3.4094744624870525, 3.7011797293576847, 3.4379114691614694, 3.349564873584301, 3.3283997834793086, 3.393975654495088, 3.131461511731851, 3.2025228094778857, 3.0877068148431026, 3.3881545266405118, 3.619179953872731, 3.363842404734514, 3.1530778559782084, 3.300769420855887, 3.299872879178815, 3.462406912244079, 3.4372523303671727, 3.330654595435668, 3.387942987169287, 3.3051783052906147, 3.3826416723678334, 3.2562302351229278, 3.3499370526201537, 3.2767487511605546, 3.252159307184676, 3.260443675906512, 3.303436907775531, 3.2078364221874565, 3.2204291286243754, 3.2182327871719982, 3.229527030863675, 3.445322253739829, 3.176040828855585, 3.276378386844544, 3.51168462984618, 3.309482402679525, 3.30628822248817, 3.1854596009721474, 3.356551907264409, 3.237742396574097, 3.288128204503489, 3.340853891863943, 3.1330433364940187, 3.2841023476886346, 3.012557104310687, 3.330188679245283, 3.007288629737609, 2.8439450686641696], \"yaxis\": \"y\"}],\n",
              "                        {\"legend\": {\"tracegroupgap\": 0}, \"margin\": {\"t\": 60}, \"template\": {\"data\": {\"bar\": [{\"error_x\": {\"color\": \"#2a3f5f\"}, \"error_y\": {\"color\": \"#2a3f5f\"}, \"marker\": {\"line\": {\"color\": \"#E5ECF6\", \"width\": 0.5}}, \"type\": \"bar\"}], \"barpolar\": [{\"marker\": {\"line\": {\"color\": \"#E5ECF6\", \"width\": 0.5}}, \"type\": \"barpolar\"}], \"carpet\": [{\"aaxis\": {\"endlinecolor\": \"#2a3f5f\", \"gridcolor\": \"white\", \"linecolor\": \"white\", \"minorgridcolor\": \"white\", \"startlinecolor\": \"#2a3f5f\"}, \"baxis\": {\"endlinecolor\": \"#2a3f5f\", \"gridcolor\": \"white\", \"linecolor\": \"white\", \"minorgridcolor\": \"white\", \"startlinecolor\": \"#2a3f5f\"}, \"type\": \"carpet\"}], \"choropleth\": [{\"colorbar\": {\"outlinewidth\": 0, \"ticks\": \"\"}, \"type\": \"choropleth\"}], \"contour\": [{\"colorbar\": {\"outlinewidth\": 0, \"ticks\": \"\"}, \"colorscale\": [[0.0, \"#0d0887\"], [0.1111111111111111, \"#46039f\"], [0.2222222222222222, \"#7201a8\"], [0.3333333333333333, \"#9c179e\"], [0.4444444444444444, \"#bd3786\"], [0.5555555555555556, \"#d8576b\"], [0.6666666666666666, \"#ed7953\"], [0.7777777777777778, \"#fb9f3a\"], [0.8888888888888888, \"#fdca26\"], [1.0, \"#f0f921\"]], \"type\": \"contour\"}], \"contourcarpet\": [{\"colorbar\": {\"outlinewidth\": 0, \"ticks\": \"\"}, \"type\": \"contourcarpet\"}], \"heatmap\": [{\"colorbar\": {\"outlinewidth\": 0, \"ticks\": \"\"}, \"colorscale\": [[0.0, \"#0d0887\"], [0.1111111111111111, \"#46039f\"], [0.2222222222222222, \"#7201a8\"], [0.3333333333333333, \"#9c179e\"], [0.4444444444444444, \"#bd3786\"], [0.5555555555555556, \"#d8576b\"], [0.6666666666666666, \"#ed7953\"], [0.7777777777777778, \"#fb9f3a\"], [0.8888888888888888, \"#fdca26\"], [1.0, \"#f0f921\"]], \"type\": \"heatmap\"}], \"heatmapgl\": [{\"colorbar\": {\"outlinewidth\": 0, \"ticks\": \"\"}, \"colorscale\": [[0.0, \"#0d0887\"], [0.1111111111111111, \"#46039f\"], [0.2222222222222222, \"#7201a8\"], [0.3333333333333333, \"#9c179e\"], [0.4444444444444444, \"#bd3786\"], [0.5555555555555556, \"#d8576b\"], [0.6666666666666666, \"#ed7953\"], [0.7777777777777778, \"#fb9f3a\"], [0.8888888888888888, \"#fdca26\"], [1.0, \"#f0f921\"]], \"type\": \"heatmapgl\"}], \"histogram\": [{\"marker\": {\"colorbar\": {\"outlinewidth\": 0, \"ticks\": \"\"}}, \"type\": \"histogram\"}], \"histogram2d\": [{\"colorbar\": {\"outlinewidth\": 0, \"ticks\": \"\"}, \"colorscale\": [[0.0, \"#0d0887\"], [0.1111111111111111, \"#46039f\"], [0.2222222222222222, \"#7201a8\"], [0.3333333333333333, \"#9c179e\"], [0.4444444444444444, \"#bd3786\"], [0.5555555555555556, \"#d8576b\"], [0.6666666666666666, \"#ed7953\"], [0.7777777777777778, \"#fb9f3a\"], [0.8888888888888888, \"#fdca26\"], [1.0, \"#f0f921\"]], \"type\": \"histogram2d\"}], \"histogram2dcontour\": [{\"colorbar\": {\"outlinewidth\": 0, \"ticks\": \"\"}, \"colorscale\": [[0.0, \"#0d0887\"], [0.1111111111111111, \"#46039f\"], [0.2222222222222222, \"#7201a8\"], [0.3333333333333333, \"#9c179e\"], [0.4444444444444444, \"#bd3786\"], [0.5555555555555556, \"#d8576b\"], [0.6666666666666666, \"#ed7953\"], [0.7777777777777778, \"#fb9f3a\"], [0.8888888888888888, \"#fdca26\"], [1.0, \"#f0f921\"]], \"type\": \"histogram2dcontour\"}], \"mesh3d\": [{\"colorbar\": {\"outlinewidth\": 0, \"ticks\": \"\"}, \"type\": \"mesh3d\"}], \"parcoords\": [{\"line\": {\"colorbar\": {\"outlinewidth\": 0, \"ticks\": \"\"}}, \"type\": \"parcoords\"}], \"pie\": [{\"automargin\": true, \"type\": \"pie\"}], \"scatter\": [{\"marker\": {\"colorbar\": {\"outlinewidth\": 0, \"ticks\": \"\"}}, \"type\": \"scatter\"}], \"scatter3d\": [{\"line\": {\"colorbar\": {\"outlinewidth\": 0, \"ticks\": \"\"}}, \"marker\": {\"colorbar\": {\"outlinewidth\": 0, \"ticks\": \"\"}}, \"type\": \"scatter3d\"}], \"scattercarpet\": [{\"marker\": {\"colorbar\": {\"outlinewidth\": 0, \"ticks\": \"\"}}, \"type\": \"scattercarpet\"}], \"scattergeo\": [{\"marker\": {\"colorbar\": {\"outlinewidth\": 0, \"ticks\": \"\"}}, \"type\": \"scattergeo\"}], \"scattergl\": [{\"marker\": {\"colorbar\": {\"outlinewidth\": 0, \"ticks\": \"\"}}, \"type\": \"scattergl\"}], \"scattermapbox\": [{\"marker\": {\"colorbar\": {\"outlinewidth\": 0, \"ticks\": \"\"}}, \"type\": \"scattermapbox\"}], \"scatterpolar\": [{\"marker\": {\"colorbar\": {\"outlinewidth\": 0, \"ticks\": \"\"}}, \"type\": \"scatterpolar\"}], \"scatterpolargl\": [{\"marker\": {\"colorbar\": {\"outlinewidth\": 0, \"ticks\": \"\"}}, \"type\": \"scatterpolargl\"}], \"scatterternary\": [{\"marker\": {\"colorbar\": {\"outlinewidth\": 0, \"ticks\": \"\"}}, \"type\": \"scatterternary\"}], \"surface\": [{\"colorbar\": {\"outlinewidth\": 0, \"ticks\": \"\"}, \"colorscale\": [[0.0, \"#0d0887\"], [0.1111111111111111, \"#46039f\"], [0.2222222222222222, \"#7201a8\"], [0.3333333333333333, \"#9c179e\"], [0.4444444444444444, \"#bd3786\"], [0.5555555555555556, \"#d8576b\"], [0.6666666666666666, \"#ed7953\"], [0.7777777777777778, \"#fb9f3a\"], [0.8888888888888888, \"#fdca26\"], [1.0, \"#f0f921\"]], \"type\": \"surface\"}], \"table\": [{\"cells\": {\"fill\": {\"color\": \"#EBF0F8\"}, \"line\": {\"color\": \"white\"}}, \"header\": {\"fill\": {\"color\": \"#C8D4E3\"}, \"line\": {\"color\": \"white\"}}, \"type\": \"table\"}]}, \"layout\": {\"annotationdefaults\": {\"arrowcolor\": \"#2a3f5f\", \"arrowhead\": 0, \"arrowwidth\": 1}, \"coloraxis\": {\"colorbar\": {\"outlinewidth\": 0, \"ticks\": \"\"}}, \"colorscale\": {\"diverging\": [[0, \"#8e0152\"], [0.1, \"#c51b7d\"], [0.2, \"#de77ae\"], [0.3, \"#f1b6da\"], [0.4, \"#fde0ef\"], [0.5, \"#f7f7f7\"], [0.6, \"#e6f5d0\"], [0.7, \"#b8e186\"], [0.8, \"#7fbc41\"], [0.9, \"#4d9221\"], [1, \"#276419\"]], \"sequential\": [[0.0, \"#0d0887\"], [0.1111111111111111, \"#46039f\"], [0.2222222222222222, \"#7201a8\"], [0.3333333333333333, \"#9c179e\"], [0.4444444444444444, \"#bd3786\"], [0.5555555555555556, \"#d8576b\"], [0.6666666666666666, \"#ed7953\"], [0.7777777777777778, \"#fb9f3a\"], [0.8888888888888888, \"#fdca26\"], [1.0, \"#f0f921\"]], \"sequentialminus\": [[0.0, \"#0d0887\"], [0.1111111111111111, \"#46039f\"], [0.2222222222222222, \"#7201a8\"], [0.3333333333333333, \"#9c179e\"], [0.4444444444444444, \"#bd3786\"], [0.5555555555555556, \"#d8576b\"], [0.6666666666666666, \"#ed7953\"], [0.7777777777777778, \"#fb9f3a\"], [0.8888888888888888, \"#fdca26\"], [1.0, \"#f0f921\"]]}, \"colorway\": [\"#636efa\", \"#EF553B\", \"#00cc96\", \"#ab63fa\", \"#FFA15A\", \"#19d3f3\", \"#FF6692\", \"#B6E880\", \"#FF97FF\", \"#FECB52\"], \"font\": {\"color\": \"#2a3f5f\"}, \"geo\": {\"bgcolor\": \"white\", \"lakecolor\": \"white\", \"landcolor\": \"#E5ECF6\", \"showlakes\": true, \"showland\": true, \"subunitcolor\": \"white\"}, \"hoverlabel\": {\"align\": \"left\"}, \"hovermode\": \"closest\", \"mapbox\": {\"style\": \"light\"}, \"paper_bgcolor\": \"white\", \"plot_bgcolor\": \"#E5ECF6\", \"polar\": {\"angularaxis\": {\"gridcolor\": \"white\", \"linecolor\": \"white\", \"ticks\": \"\"}, \"bgcolor\": \"#E5ECF6\", \"radialaxis\": {\"gridcolor\": \"white\", \"linecolor\": \"white\", \"ticks\": \"\"}}, \"scene\": {\"xaxis\": {\"backgroundcolor\": \"#E5ECF6\", \"gridcolor\": \"white\", \"gridwidth\": 2, \"linecolor\": \"white\", \"showbackground\": true, \"ticks\": \"\", \"zerolinecolor\": \"white\"}, \"yaxis\": {\"backgroundcolor\": \"#E5ECF6\", \"gridcolor\": \"white\", \"gridwidth\": 2, \"linecolor\": \"white\", \"showbackground\": true, \"ticks\": \"\", \"zerolinecolor\": \"white\"}, \"zaxis\": {\"backgroundcolor\": \"#E5ECF6\", \"gridcolor\": \"white\", \"gridwidth\": 2, \"linecolor\": \"white\", \"showbackground\": true, \"ticks\": \"\", \"zerolinecolor\": \"white\"}}, \"shapedefaults\": {\"line\": {\"color\": \"#2a3f5f\"}}, \"ternary\": {\"aaxis\": {\"gridcolor\": \"white\", \"linecolor\": \"white\", \"ticks\": \"\"}, \"baxis\": {\"gridcolor\": \"white\", \"linecolor\": \"white\", \"ticks\": \"\"}, \"bgcolor\": \"#E5ECF6\", \"caxis\": {\"gridcolor\": \"white\", \"linecolor\": \"white\", \"ticks\": \"\"}}, \"title\": {\"x\": 0.05}, \"xaxis\": {\"automargin\": true, \"gridcolor\": \"white\", \"linecolor\": \"white\", \"ticks\": \"\", \"title\": {\"standoff\": 15}, \"zerolinecolor\": \"white\", \"zerolinewidth\": 2}, \"yaxis\": {\"automargin\": true, \"gridcolor\": \"white\", \"linecolor\": \"white\", \"ticks\": \"\", \"title\": {\"standoff\": 15}, \"zerolinecolor\": \"white\", \"zerolinewidth\": 2}}}, \"xaxis\": {\"anchor\": \"y\", \"domain\": [0.0, 1.0], \"title\": {\"text\": \"year\"}}, \"yaxis\": {\"anchor\": \"x\", \"domain\": [0.0, 1.0], \"title\": {\"text\": \"rating\"}}},\n",
              "                        {\"responsive\": true}\n",
              "                    ).then(function(){\n",
              "                            \n",
              "var gd = document.getElementById('b8f129a0-943d-4452-a659-953686283566');\n",
              "var x = new MutationObserver(function (mutations, observer) {{\n",
              "        var display = window.getComputedStyle(gd).display;\n",
              "        if (!display || display === 'none') {{\n",
              "            console.log([gd, 'removed!']);\n",
              "            Plotly.purge(gd);\n",
              "            observer.disconnect();\n",
              "        }}\n",
              "}});\n",
              "\n",
              "// Listen for the removal of the full notebook cells\n",
              "var notebookContainer = gd.closest('#notebook-container');\n",
              "if (notebookContainer) {{\n",
              "    x.observe(notebookContainer, {childList: true});\n",
              "}}\n",
              "\n",
              "// Listen for the clearing of the current output cell\n",
              "var outputEl = gd.closest('.output');\n",
              "if (outputEl) {{\n",
              "    x.observe(outputEl, {childList: true});\n",
              "}}\n",
              "\n",
              "                        })\n",
              "                };\n",
              "                \n",
              "            </script>\n",
              "        </div>\n",
              "</body>\n",
              "</html>"
            ]
          },
          "metadata": {
            "tags": []
          }
        }
      ]
    },
    {
      "cell_type": "markdown",
      "metadata": {
        "colab_type": "text",
        "id": "pz4qcRPrtC-6"
      },
      "source": [
        "* I'd like to compare the votes from TMB to the user ratings, but they are on different scales. We'll use standard scaler to normalize them so we can more easily compare."
      ]
    },
    {
      "cell_type": "code",
      "metadata": {
        "id": "7NkQusqxRar9",
        "colab_type": "code",
        "colab": {}
      },
      "source": [
        "from sklearn.preprocessing import StandardScaler\n",
        "scaler = StandardScaler()\n",
        "to_scale = clean_movies[['vote_average', 'rating']].dropna()\n",
        "scaled = scaler.fit_transform(to_scale)\n",
        "clean_movies = clean_movies.merge(\n",
        "    pd.DataFrame(\n",
        "        scaled,\n",
        "        index = to_scale.index,\n",
        "        columns = ['scaled_tmdb_vote', 'scaled_user_rating']\n",
        "    ),\n",
        "    left_index = True,\n",
        "    right_index = True,\n",
        ")"
      ],
      "execution_count": 0,
      "outputs": []
    },
    {
      "cell_type": "code",
      "metadata": {
        "id": "vuunYLwGRasA",
        "colab_type": "code",
        "outputId": "29a5cf5c-020c-42e6-ec45-22e0ce655a26",
        "colab": {
          "base_uri": "https://localhost:8080/",
          "height": 542
        }
      },
      "source": [
        "traces = [\n",
        "    go.Bar(name='TMDB rating',\n",
        "        x = clean_movies.groupby('decade')['scaled_tmdb_vote'].mean().index,\n",
        "        y = clean_movies.groupby('decade')['scaled_tmdb_vote'].mean()\n",
        "    ),\n",
        "        go.Bar(name='user rating',\n",
        "        x = clean_movies.groupby('decade')['scaled_user_rating'].mean().index,\n",
        "        y = clean_movies.groupby('decade')['scaled_user_rating'].mean()\n",
        "    )\n",
        "]\n",
        "\n",
        "go.Figure(data = traces,\n",
        "    layout_xaxis_tick0 = 1890\n",
        ")"
      ],
      "execution_count": 34,
      "outputs": [
        {
          "output_type": "display_data",
          "data": {
            "text/html": [
              "<html>\n",
              "<head><meta charset=\"utf-8\" /></head>\n",
              "<body>\n",
              "    <div>\n",
              "            <script src=\"https://cdnjs.cloudflare.com/ajax/libs/mathjax/2.7.5/MathJax.js?config=TeX-AMS-MML_SVG\"></script><script type=\"text/javascript\">if (window.MathJax) {MathJax.Hub.Config({SVG: {font: \"STIX-Web\"}});}</script>\n",
              "                <script type=\"text/javascript\">window.PlotlyConfig = {MathJaxConfig: 'local'};</script>\n",
              "        <script src=\"https://cdn.plot.ly/plotly-latest.min.js\"></script>    \n",
              "            <div id=\"1578650e-4624-4855-89c4-22afe4e9d90f\" class=\"plotly-graph-div\" style=\"height:525px; width:100%;\"></div>\n",
              "            <script type=\"text/javascript\">\n",
              "                \n",
              "                    window.PLOTLYENV=window.PLOTLYENV || {};\n",
              "                    \n",
              "                if (document.getElementById(\"1578650e-4624-4855-89c4-22afe4e9d90f\")) {\n",
              "                    Plotly.newPlot(\n",
              "                        '1578650e-4624-4855-89c4-22afe4e9d90f',\n",
              "                        [{\"name\": \"TMDB rating\", \"type\": \"bar\", \"x\": [1910.0, 1920.0, 1930.0, 1940.0, 1950.0, 1960.0, 1970.0, 1980.0, 1990.0, 2000.0, 2010.0], \"y\": [-0.29051442295697294, 1.1806165751891118, 0.8695774498667966, 1.2762400900686073, 1.1186742173724347, 0.6008462605099008, 0.46089402532687357, 0.010693415307512949, -0.11882478176157135, -0.1496614550493693, -0.7465650323822598]}, {\"name\": \"user rating\", \"type\": \"bar\", \"x\": [1910.0, 1920.0, 1930.0, 1940.0, 1950.0, 1960.0, 1970.0, 1980.0, 1990.0, 2000.0, 2010.0], \"y\": [-1.0992281197140972, -0.31038957053339955, 0.09304700026368908, 0.4495089183479862, 0.15383609644985824, 0.190340171353303, 0.05603818553594675, 0.07626328140597549, -0.03142326523591651, -0.029073662731155782, -0.23449815390861695]}],\n",
              "                        {\"template\": {\"data\": {\"bar\": [{\"error_x\": {\"color\": \"#2a3f5f\"}, \"error_y\": {\"color\": \"#2a3f5f\"}, \"marker\": {\"line\": {\"color\": \"#E5ECF6\", \"width\": 0.5}}, \"type\": \"bar\"}], \"barpolar\": [{\"marker\": {\"line\": {\"color\": \"#E5ECF6\", \"width\": 0.5}}, \"type\": \"barpolar\"}], \"carpet\": [{\"aaxis\": {\"endlinecolor\": \"#2a3f5f\", \"gridcolor\": \"white\", \"linecolor\": \"white\", \"minorgridcolor\": \"white\", \"startlinecolor\": \"#2a3f5f\"}, \"baxis\": {\"endlinecolor\": \"#2a3f5f\", \"gridcolor\": \"white\", \"linecolor\": \"white\", \"minorgridcolor\": \"white\", \"startlinecolor\": \"#2a3f5f\"}, \"type\": \"carpet\"}], \"choropleth\": [{\"colorbar\": {\"outlinewidth\": 0, \"ticks\": \"\"}, \"type\": \"choropleth\"}], \"contour\": [{\"colorbar\": {\"outlinewidth\": 0, \"ticks\": \"\"}, \"colorscale\": [[0.0, \"#0d0887\"], [0.1111111111111111, \"#46039f\"], [0.2222222222222222, \"#7201a8\"], [0.3333333333333333, \"#9c179e\"], [0.4444444444444444, \"#bd3786\"], [0.5555555555555556, \"#d8576b\"], [0.6666666666666666, \"#ed7953\"], [0.7777777777777778, \"#fb9f3a\"], [0.8888888888888888, \"#fdca26\"], [1.0, \"#f0f921\"]], \"type\": \"contour\"}], \"contourcarpet\": [{\"colorbar\": {\"outlinewidth\": 0, \"ticks\": \"\"}, \"type\": \"contourcarpet\"}], \"heatmap\": [{\"colorbar\": {\"outlinewidth\": 0, \"ticks\": \"\"}, \"colorscale\": [[0.0, \"#0d0887\"], [0.1111111111111111, \"#46039f\"], [0.2222222222222222, \"#7201a8\"], [0.3333333333333333, \"#9c179e\"], [0.4444444444444444, \"#bd3786\"], [0.5555555555555556, \"#d8576b\"], [0.6666666666666666, \"#ed7953\"], [0.7777777777777778, \"#fb9f3a\"], [0.8888888888888888, \"#fdca26\"], [1.0, \"#f0f921\"]], \"type\": \"heatmap\"}], \"heatmapgl\": [{\"colorbar\": {\"outlinewidth\": 0, \"ticks\": \"\"}, \"colorscale\": [[0.0, \"#0d0887\"], [0.1111111111111111, \"#46039f\"], [0.2222222222222222, \"#7201a8\"], [0.3333333333333333, \"#9c179e\"], [0.4444444444444444, \"#bd3786\"], [0.5555555555555556, \"#d8576b\"], [0.6666666666666666, \"#ed7953\"], [0.7777777777777778, \"#fb9f3a\"], [0.8888888888888888, \"#fdca26\"], [1.0, \"#f0f921\"]], \"type\": \"heatmapgl\"}], \"histogram\": [{\"marker\": {\"colorbar\": {\"outlinewidth\": 0, \"ticks\": \"\"}}, \"type\": \"histogram\"}], \"histogram2d\": [{\"colorbar\": {\"outlinewidth\": 0, \"ticks\": \"\"}, \"colorscale\": [[0.0, \"#0d0887\"], [0.1111111111111111, \"#46039f\"], [0.2222222222222222, \"#7201a8\"], [0.3333333333333333, \"#9c179e\"], [0.4444444444444444, \"#bd3786\"], [0.5555555555555556, \"#d8576b\"], [0.6666666666666666, \"#ed7953\"], [0.7777777777777778, \"#fb9f3a\"], [0.8888888888888888, \"#fdca26\"], [1.0, \"#f0f921\"]], \"type\": \"histogram2d\"}], \"histogram2dcontour\": [{\"colorbar\": {\"outlinewidth\": 0, \"ticks\": \"\"}, \"colorscale\": [[0.0, \"#0d0887\"], [0.1111111111111111, \"#46039f\"], [0.2222222222222222, \"#7201a8\"], [0.3333333333333333, \"#9c179e\"], [0.4444444444444444, \"#bd3786\"], [0.5555555555555556, \"#d8576b\"], [0.6666666666666666, \"#ed7953\"], [0.7777777777777778, \"#fb9f3a\"], [0.8888888888888888, \"#fdca26\"], [1.0, \"#f0f921\"]], \"type\": \"histogram2dcontour\"}], \"mesh3d\": [{\"colorbar\": {\"outlinewidth\": 0, \"ticks\": \"\"}, \"type\": \"mesh3d\"}], \"parcoords\": [{\"line\": {\"colorbar\": {\"outlinewidth\": 0, \"ticks\": \"\"}}, \"type\": \"parcoords\"}], \"pie\": [{\"automargin\": true, \"type\": \"pie\"}], \"scatter\": [{\"marker\": {\"colorbar\": {\"outlinewidth\": 0, \"ticks\": \"\"}}, \"type\": \"scatter\"}], \"scatter3d\": [{\"line\": {\"colorbar\": {\"outlinewidth\": 0, \"ticks\": \"\"}}, \"marker\": {\"colorbar\": {\"outlinewidth\": 0, \"ticks\": \"\"}}, \"type\": \"scatter3d\"}], \"scattercarpet\": [{\"marker\": {\"colorbar\": {\"outlinewidth\": 0, \"ticks\": \"\"}}, \"type\": \"scattercarpet\"}], \"scattergeo\": [{\"marker\": {\"colorbar\": {\"outlinewidth\": 0, \"ticks\": \"\"}}, \"type\": \"scattergeo\"}], \"scattergl\": [{\"marker\": {\"colorbar\": {\"outlinewidth\": 0, \"ticks\": \"\"}}, \"type\": \"scattergl\"}], \"scattermapbox\": [{\"marker\": {\"colorbar\": {\"outlinewidth\": 0, \"ticks\": \"\"}}, \"type\": \"scattermapbox\"}], \"scatterpolar\": [{\"marker\": {\"colorbar\": {\"outlinewidth\": 0, \"ticks\": \"\"}}, \"type\": \"scatterpolar\"}], \"scatterpolargl\": [{\"marker\": {\"colorbar\": {\"outlinewidth\": 0, \"ticks\": \"\"}}, \"type\": \"scatterpolargl\"}], \"scatterternary\": [{\"marker\": {\"colorbar\": {\"outlinewidth\": 0, \"ticks\": \"\"}}, \"type\": \"scatterternary\"}], \"surface\": [{\"colorbar\": {\"outlinewidth\": 0, \"ticks\": \"\"}, \"colorscale\": [[0.0, \"#0d0887\"], [0.1111111111111111, \"#46039f\"], [0.2222222222222222, \"#7201a8\"], [0.3333333333333333, \"#9c179e\"], [0.4444444444444444, \"#bd3786\"], [0.5555555555555556, \"#d8576b\"], [0.6666666666666666, \"#ed7953\"], [0.7777777777777778, \"#fb9f3a\"], [0.8888888888888888, \"#fdca26\"], [1.0, \"#f0f921\"]], \"type\": \"surface\"}], \"table\": [{\"cells\": {\"fill\": {\"color\": \"#EBF0F8\"}, \"line\": {\"color\": \"white\"}}, \"header\": {\"fill\": {\"color\": \"#C8D4E3\"}, \"line\": {\"color\": \"white\"}}, \"type\": \"table\"}]}, \"layout\": {\"annotationdefaults\": {\"arrowcolor\": \"#2a3f5f\", \"arrowhead\": 0, \"arrowwidth\": 1}, \"coloraxis\": {\"colorbar\": {\"outlinewidth\": 0, \"ticks\": \"\"}}, \"colorscale\": {\"diverging\": [[0, \"#8e0152\"], [0.1, \"#c51b7d\"], [0.2, \"#de77ae\"], [0.3, \"#f1b6da\"], [0.4, \"#fde0ef\"], [0.5, \"#f7f7f7\"], [0.6, \"#e6f5d0\"], [0.7, \"#b8e186\"], [0.8, \"#7fbc41\"], [0.9, \"#4d9221\"], [1, \"#276419\"]], \"sequential\": [[0.0, \"#0d0887\"], [0.1111111111111111, \"#46039f\"], [0.2222222222222222, \"#7201a8\"], [0.3333333333333333, \"#9c179e\"], [0.4444444444444444, \"#bd3786\"], [0.5555555555555556, \"#d8576b\"], [0.6666666666666666, \"#ed7953\"], [0.7777777777777778, \"#fb9f3a\"], [0.8888888888888888, \"#fdca26\"], [1.0, \"#f0f921\"]], \"sequentialminus\": [[0.0, \"#0d0887\"], [0.1111111111111111, \"#46039f\"], [0.2222222222222222, \"#7201a8\"], [0.3333333333333333, \"#9c179e\"], [0.4444444444444444, \"#bd3786\"], [0.5555555555555556, \"#d8576b\"], [0.6666666666666666, \"#ed7953\"], [0.7777777777777778, \"#fb9f3a\"], [0.8888888888888888, \"#fdca26\"], [1.0, \"#f0f921\"]]}, \"colorway\": [\"#636efa\", \"#EF553B\", \"#00cc96\", \"#ab63fa\", \"#FFA15A\", \"#19d3f3\", \"#FF6692\", \"#B6E880\", \"#FF97FF\", \"#FECB52\"], \"font\": {\"color\": \"#2a3f5f\"}, \"geo\": {\"bgcolor\": \"white\", \"lakecolor\": \"white\", \"landcolor\": \"#E5ECF6\", \"showlakes\": true, \"showland\": true, \"subunitcolor\": \"white\"}, \"hoverlabel\": {\"align\": \"left\"}, \"hovermode\": \"closest\", \"mapbox\": {\"style\": \"light\"}, \"paper_bgcolor\": \"white\", \"plot_bgcolor\": \"#E5ECF6\", \"polar\": {\"angularaxis\": {\"gridcolor\": \"white\", \"linecolor\": \"white\", \"ticks\": \"\"}, \"bgcolor\": \"#E5ECF6\", \"radialaxis\": {\"gridcolor\": \"white\", \"linecolor\": \"white\", \"ticks\": \"\"}}, \"scene\": {\"xaxis\": {\"backgroundcolor\": \"#E5ECF6\", \"gridcolor\": \"white\", \"gridwidth\": 2, \"linecolor\": \"white\", \"showbackground\": true, \"ticks\": \"\", \"zerolinecolor\": \"white\"}, \"yaxis\": {\"backgroundcolor\": \"#E5ECF6\", \"gridcolor\": \"white\", \"gridwidth\": 2, \"linecolor\": \"white\", \"showbackground\": true, \"ticks\": \"\", \"zerolinecolor\": \"white\"}, \"zaxis\": {\"backgroundcolor\": \"#E5ECF6\", \"gridcolor\": \"white\", \"gridwidth\": 2, \"linecolor\": \"white\", \"showbackground\": true, \"ticks\": \"\", \"zerolinecolor\": \"white\"}}, \"shapedefaults\": {\"line\": {\"color\": \"#2a3f5f\"}}, \"ternary\": {\"aaxis\": {\"gridcolor\": \"white\", \"linecolor\": \"white\", \"ticks\": \"\"}, \"baxis\": {\"gridcolor\": \"white\", \"linecolor\": \"white\", \"ticks\": \"\"}, \"bgcolor\": \"#E5ECF6\", \"caxis\": {\"gridcolor\": \"white\", \"linecolor\": \"white\", \"ticks\": \"\"}}, \"title\": {\"x\": 0.05}, \"xaxis\": {\"automargin\": true, \"gridcolor\": \"white\", \"linecolor\": \"white\", \"ticks\": \"\", \"title\": {\"standoff\": 15}, \"zerolinecolor\": \"white\", \"zerolinewidth\": 2}, \"yaxis\": {\"automargin\": true, \"gridcolor\": \"white\", \"linecolor\": \"white\", \"ticks\": \"\", \"title\": {\"standoff\": 15}, \"zerolinecolor\": \"white\", \"zerolinewidth\": 2}}}, \"xaxis\": {\"tick0\": 1890}},\n",
              "                        {\"responsive\": true}\n",
              "                    ).then(function(){\n",
              "                            \n",
              "var gd = document.getElementById('1578650e-4624-4855-89c4-22afe4e9d90f');\n",
              "var x = new MutationObserver(function (mutations, observer) {{\n",
              "        var display = window.getComputedStyle(gd).display;\n",
              "        if (!display || display === 'none') {{\n",
              "            console.log([gd, 'removed!']);\n",
              "            Plotly.purge(gd);\n",
              "            observer.disconnect();\n",
              "        }}\n",
              "}});\n",
              "\n",
              "// Listen for the removal of the full notebook cells\n",
              "var notebookContainer = gd.closest('#notebook-container');\n",
              "if (notebookContainer) {{\n",
              "    x.observe(notebookContainer, {childList: true});\n",
              "}}\n",
              "\n",
              "// Listen for the clearing of the current output cell\n",
              "var outputEl = gd.closest('.output');\n",
              "if (outputEl) {{\n",
              "    x.observe(outputEl, {childList: true});\n",
              "}}\n",
              "\n",
              "                        })\n",
              "                };\n",
              "                \n",
              "            </script>\n",
              "        </div>\n",
              "</body>\n",
              "</html>"
            ]
          },
          "metadata": {
            "tags": []
          }
        }
      ]
    },
    {
      "cell_type": "code",
      "metadata": {
        "id": "NS8rv_JVRasE",
        "colab_type": "code",
        "colab": {}
      },
      "source": [
        "from sklearn.decomposition import PCA\n",
        "\n",
        "pca = PCA(1)\n",
        "\n",
        "to_scale = clean_movies[['vote_average', 'rating', 'adjusted_revenue']].dropna()\n",
        "scaled = scaler.fit_transform(to_scale)\n",
        "\n",
        "pca_df = pd.DataFrame(pca.fit_transform(scaled), index=to_scale.index, columns = ['PCA'])\n",
        "\n",
        "clean_movies = clean_movies.merge(pca_df, left_index = True, right_index = True)"
      ],
      "execution_count": 0,
      "outputs": []
    },
    {
      "cell_type": "code",
      "metadata": {
        "id": "dOT_Q_CzRasG",
        "colab_type": "code",
        "outputId": "4a32ec99-d4f8-4ae8-faba-7086267a9c35",
        "colab": {
          "base_uri": "https://localhost:8080/",
          "height": 254
        }
      },
      "source": [
        "(clean_movies[['title', 'PCA']]\n",
        " .nlargest(10, 'PCA')\n",
        " .style\n",
        " .hide_index()\n",
        " .format({\n",
        "     'PCA':'{:.2f}'\n",
        " })\n",
        ")"
      ],
      "execution_count": 80,
      "outputs": [
        {
          "output_type": "execute_result",
          "data": {
            "text/html": [
              "<style  type=\"text/css\" >\n",
              "</style><table id=\"T_59aa2a60_5f62_11ea_b484_0242ac1c0002\" ><thead>    <tr>        <th class=\"col_heading level0 col0\" >title</th>        <th class=\"col_heading level0 col1\" >PCA</th>    </tr></thead><tbody>\n",
              "                <tr>\n",
              "                                <td id=\"T_59aa2a60_5f62_11ea_b484_0242ac1c0002row0_col0\" class=\"data row0 col0\" >Star Wars</td>\n",
              "                        <td id=\"T_59aa2a60_5f62_11ea_b484_0242ac1c0002row0_col1\" class=\"data row0 col1\" >8.87</td>\n",
              "            </tr>\n",
              "            <tr>\n",
              "                                <td id=\"T_59aa2a60_5f62_11ea_b484_0242ac1c0002row1_col0\" class=\"data row1 col0\" >Titanic</td>\n",
              "                        <td id=\"T_59aa2a60_5f62_11ea_b484_0242ac1c0002row1_col1\" class=\"data row1 col1\" >7.51</td>\n",
              "            </tr>\n",
              "            <tr>\n",
              "                                <td id=\"T_59aa2a60_5f62_11ea_b484_0242ac1c0002row2_col0\" class=\"data row2 col0\" >E.T. the Extra-Terrestrial</td>\n",
              "                        <td id=\"T_59aa2a60_5f62_11ea_b484_0242ac1c0002row2_col1\" class=\"data row2 col1\" >5.27</td>\n",
              "            </tr>\n",
              "            <tr>\n",
              "                                <td id=\"T_59aa2a60_5f62_11ea_b484_0242ac1c0002row3_col0\" class=\"data row3 col0\" >The Empire Strikes Back</td>\n",
              "                        <td id=\"T_59aa2a60_5f62_11ea_b484_0242ac1c0002row3_col1\" class=\"data row3 col1\" >4.82</td>\n",
              "            </tr>\n",
              "            <tr>\n",
              "                                <td id=\"T_59aa2a60_5f62_11ea_b484_0242ac1c0002row4_col0\" class=\"data row4 col0\" >The Godfather</td>\n",
              "                        <td id=\"T_59aa2a60_5f62_11ea_b484_0242ac1c0002row4_col1\" class=\"data row4 col1\" >4.76</td>\n",
              "            </tr>\n",
              "            <tr>\n",
              "                                <td id=\"T_59aa2a60_5f62_11ea_b484_0242ac1c0002row5_col0\" class=\"data row5 col0\" >The Lord of the Rings: The Return of the King</td>\n",
              "                        <td id=\"T_59aa2a60_5f62_11ea_b484_0242ac1c0002row5_col1\" class=\"data row5 col1\" >4.51</td>\n",
              "            </tr>\n",
              "            <tr>\n",
              "                                <td id=\"T_59aa2a60_5f62_11ea_b484_0242ac1c0002row6_col0\" class=\"data row6 col0\" >Jurassic Park</td>\n",
              "                        <td id=\"T_59aa2a60_5f62_11ea_b484_0242ac1c0002row6_col1\" class=\"data row6 col1\" >4.35</td>\n",
              "            </tr>\n",
              "            <tr>\n",
              "                                <td id=\"T_59aa2a60_5f62_11ea_b484_0242ac1c0002row7_col0\" class=\"data row7 col0\" >Return of the Jedi</td>\n",
              "                        <td id=\"T_59aa2a60_5f62_11ea_b484_0242ac1c0002row7_col1\" class=\"data row7 col1\" >4.22</td>\n",
              "            </tr>\n",
              "            <tr>\n",
              "                                <td id=\"T_59aa2a60_5f62_11ea_b484_0242ac1c0002row8_col0\" class=\"data row8 col0\" >The Lord of the Rings: The Two Towers</td>\n",
              "                        <td id=\"T_59aa2a60_5f62_11ea_b484_0242ac1c0002row8_col1\" class=\"data row8 col1\" >3.98</td>\n",
              "            </tr>\n",
              "            <tr>\n",
              "                                <td id=\"T_59aa2a60_5f62_11ea_b484_0242ac1c0002row9_col0\" class=\"data row9 col0\" >The Dark Knight</td>\n",
              "                        <td id=\"T_59aa2a60_5f62_11ea_b484_0242ac1c0002row9_col1\" class=\"data row9 col1\" >3.87</td>\n",
              "            </tr>\n",
              "    </tbody></table>"
            ],
            "text/plain": [
              "<pandas.io.formats.style.Styler at 0x7fe2b4ea5ac8>"
            ]
          },
          "metadata": {
            "tags": []
          },
          "execution_count": 80
        }
      ]
    },
    {
      "cell_type": "markdown",
      "metadata": {
        "id": "DvycT1DCVz6y",
        "colab_type": "text"
      },
      "source": [
        "## Budget\n"
      ]
    },
    {
      "cell_type": "code",
      "metadata": {
        "id": "5ukRHhNeV5rE",
        "colab_type": "code",
        "colab": {
          "base_uri": "https://localhost:8080/",
          "height": 126
        },
        "outputId": "185221cc-50c4-4069-d74b-782287124c15"
      },
      "source": [
        "budget_dict = {'no-budget':[0, 500000],\n",
        " 'low-budget':[500000, 40000000],\n",
        " 'medium-budget': [40000000, 100000000],\n",
        " 'High-budget:':[100000000, 1000000000000]\n",
        " }\n",
        "\n",
        "(pd.DataFrame.from_dict(budget_dict, orient='index', columns = ['low-end', 'high-end'])\n",
        " .style\n",
        " .format('{:,.0f}')\n",
        ")"
      ],
      "execution_count": 116,
      "outputs": [
        {
          "output_type": "execute_result",
          "data": {
            "text/html": [
              "<style  type=\"text/css\" >\n",
              "</style><table id=\"T_6fdb38d6_5f6e_11ea_b484_0242ac1c0002\" ><thead>    <tr>        <th class=\"blank level0\" ></th>        <th class=\"col_heading level0 col0\" >low-end</th>        <th class=\"col_heading level0 col1\" >high-end</th>    </tr></thead><tbody>\n",
              "                <tr>\n",
              "                        <th id=\"T_6fdb38d6_5f6e_11ea_b484_0242ac1c0002level0_row0\" class=\"row_heading level0 row0\" >no-budget</th>\n",
              "                        <td id=\"T_6fdb38d6_5f6e_11ea_b484_0242ac1c0002row0_col0\" class=\"data row0 col0\" >0</td>\n",
              "                        <td id=\"T_6fdb38d6_5f6e_11ea_b484_0242ac1c0002row0_col1\" class=\"data row0 col1\" >500,000</td>\n",
              "            </tr>\n",
              "            <tr>\n",
              "                        <th id=\"T_6fdb38d6_5f6e_11ea_b484_0242ac1c0002level0_row1\" class=\"row_heading level0 row1\" >low-budget</th>\n",
              "                        <td id=\"T_6fdb38d6_5f6e_11ea_b484_0242ac1c0002row1_col0\" class=\"data row1 col0\" >500,000</td>\n",
              "                        <td id=\"T_6fdb38d6_5f6e_11ea_b484_0242ac1c0002row1_col1\" class=\"data row1 col1\" >40,000,000</td>\n",
              "            </tr>\n",
              "            <tr>\n",
              "                        <th id=\"T_6fdb38d6_5f6e_11ea_b484_0242ac1c0002level0_row2\" class=\"row_heading level0 row2\" >medium-budget</th>\n",
              "                        <td id=\"T_6fdb38d6_5f6e_11ea_b484_0242ac1c0002row2_col0\" class=\"data row2 col0\" >40,000,000</td>\n",
              "                        <td id=\"T_6fdb38d6_5f6e_11ea_b484_0242ac1c0002row2_col1\" class=\"data row2 col1\" >100,000,000</td>\n",
              "            </tr>\n",
              "            <tr>\n",
              "                        <th id=\"T_6fdb38d6_5f6e_11ea_b484_0242ac1c0002level0_row3\" class=\"row_heading level0 row3\" >High-budget:</th>\n",
              "                        <td id=\"T_6fdb38d6_5f6e_11ea_b484_0242ac1c0002row3_col0\" class=\"data row3 col0\" >100,000,000</td>\n",
              "                        <td id=\"T_6fdb38d6_5f6e_11ea_b484_0242ac1c0002row3_col1\" class=\"data row3 col1\" >1,000,000,000,000</td>\n",
              "            </tr>\n",
              "    </tbody></table>"
            ],
            "text/plain": [
              "<pandas.io.formats.style.Styler at 0x7fe2b2a518d0>"
            ]
          },
          "metadata": {
            "tags": []
          },
          "execution_count": 116
        }
      ]
    },
    {
      "cell_type": "code",
      "metadata": {
        "id": "OvoZ4Q_CZaBW",
        "colab_type": "code",
        "colab": {}
      },
      "source": [
        "low = []\n",
        "hi = []\n",
        "for v in budget_dict.values():\n",
        "    low.append(v[0])\n",
        "    hi.append(v[1])"
      ],
      "execution_count": 0,
      "outputs": []
    },
    {
      "cell_type": "code",
      "metadata": {
        "id": "xBQCSLs5Z5JZ",
        "colab_type": "code",
        "colab": {}
      },
      "source": [
        "budget_intervals = pd.IntervalIndex.from_arrays(low, hi, closed = 'left')"
      ],
      "execution_count": 0,
      "outputs": []
    },
    {
      "cell_type": "code",
      "metadata": {
        "id": "u-JGpD2PbcCj",
        "colab_type": "code",
        "colab": {
          "base_uri": "https://localhost:8080/",
          "height": 34
        },
        "outputId": "e3280359-d338-4825-9f10-697571c00b31"
      },
      "source": [
        "list(budget_dict.keys())"
      ],
      "execution_count": 128,
      "outputs": [
        {
          "output_type": "execute_result",
          "data": {
            "text/plain": [
              "['no-budget', 'low-budget', 'medium-budget', 'High-budget:']"
            ]
          },
          "metadata": {
            "tags": []
          },
          "execution_count": 128
        }
      ]
    },
    {
      "cell_type": "code",
      "metadata": {
        "id": "EATHbCCFaSjK",
        "colab_type": "code",
        "colab": {}
      },
      "source": [
        "clean_movies['budget-cat'] = pd.cut(clean_movies['budget'], budget_intervals, labels = list(budget_dict.keys()))"
      ],
      "execution_count": 0,
      "outputs": []
    },
    {
      "cell_type": "code",
      "metadata": {
        "id": "MXPgBWDkcFAt",
        "colab_type": "code",
        "colab": {
          "base_uri": "https://localhost:8080/",
          "height": 206
        },
        "outputId": "a0458699-8da7-4f9b-b93e-1ec869e3553d"
      },
      "source": [
        "clean_movies[['title', 'budget-cat', 'PCA']].groupby('budget-cat').mean()"
      ],
      "execution_count": 131,
      "outputs": [
        {
          "output_type": "execute_result",
          "data": {
            "text/html": [
              "<div>\n",
              "<style scoped>\n",
              "    .dataframe tbody tr th:only-of-type {\n",
              "        vertical-align: middle;\n",
              "    }\n",
              "\n",
              "    .dataframe tbody tr th {\n",
              "        vertical-align: top;\n",
              "    }\n",
              "\n",
              "    .dataframe thead th {\n",
              "        text-align: right;\n",
              "    }\n",
              "</style>\n",
              "<table border=\"1\" class=\"dataframe\">\n",
              "  <thead>\n",
              "    <tr style=\"text-align: right;\">\n",
              "      <th></th>\n",
              "      <th>PCA</th>\n",
              "    </tr>\n",
              "    <tr>\n",
              "      <th>budget-cat</th>\n",
              "      <th></th>\n",
              "    </tr>\n",
              "  </thead>\n",
              "  <tbody>\n",
              "    <tr>\n",
              "      <th>[0, 500000)</th>\n",
              "      <td>-0.149724</td>\n",
              "    </tr>\n",
              "    <tr>\n",
              "      <th>[500000, 40000000)</th>\n",
              "      <td>-0.059581</td>\n",
              "    </tr>\n",
              "    <tr>\n",
              "      <th>[40000000, 100000000)</th>\n",
              "      <td>0.038098</td>\n",
              "    </tr>\n",
              "    <tr>\n",
              "      <th>[100000000, 1000000000000)</th>\n",
              "      <td>0.700114</td>\n",
              "    </tr>\n",
              "  </tbody>\n",
              "</table>\n",
              "</div>"
            ],
            "text/plain": [
              "                                 PCA\n",
              "budget-cat                          \n",
              "[0, 500000)                -0.149724\n",
              "[500000, 40000000)         -0.059581\n",
              "[40000000, 100000000)       0.038098\n",
              "[100000000, 1000000000000)  0.700114"
            ]
          },
          "metadata": {
            "tags": []
          },
          "execution_count": 131
        }
      ]
    },
    {
      "cell_type": "code",
      "metadata": {
        "id": "58_po4epRasJ",
        "colab_type": "code",
        "colab": {
          "base_uri": "https://localhost:8080/",
          "height": 124
        },
        "outputId": "722fbac9-fd6c-47cd-bf9b-ae87b2445fb4"
      },
      "source": [
        "budget_quantiles = pd.qcut(clean_movies[clean_movies['budget']>500000]['budget'], q = 5, \n",
        "#labels = ['vlow', 'low', 'med', 'high', 'vhigh']\n",
        ")\n",
        "budget_quantiles.values"
      ],
      "execution_count": 106,
      "outputs": [
        {
          "output_type": "execute_result",
          "data": {
            "text/plain": [
              "[(549999.999, 8000000.0], (8000000.0, 23400000.0], (51400000.0, 380000000.0], (51400000.0, 380000000.0], (8000000.0, 23400000.0], ..., (23400000.0, 30000000.0], (549999.999, 8000000.0], (30000000.0, 51400000.0], (549999.999, 8000000.0], (51400000.0, 380000000.0]]\n",
              "Length: 1327\n",
              "Categories (5, interval[float64]): [(549999.999, 8000000.0] < (8000000.0, 23400000.0] <\n",
              "                                    (23400000.0, 30000000.0] < (30000000.0, 51400000.0] <\n",
              "                                    (51400000.0, 380000000.0]]"
            ]
          },
          "metadata": {
            "tags": []
          },
          "execution_count": 106
        }
      ]
    },
    {
      "cell_type": "code",
      "metadata": {
        "id": "0fgQw0UCRasM",
        "colab_type": "code",
        "colab": {}
      },
      "source": [
        "budget_ratings = clean_movies[['title','q_budget','budget-cat', 'budget', 'revenue','PCA']].dropna()"
      ],
      "execution_count": 0,
      "outputs": []
    },
    {
      "cell_type": "code",
      "metadata": {
        "id": "YN0KPyqAKgc7",
        "colab_type": "code",
        "colab": {
          "base_uri": "https://localhost:8080/",
          "height": 206
        },
        "outputId": "6add1be6-18d9-42e1-ae2b-e4b38bcd5215"
      },
      "source": [
        "quantiles=budget_ratings.groupby('budget-cat').mean()\n",
        "quantiles"
      ],
      "execution_count": 134,
      "outputs": [
        {
          "output_type": "execute_result",
          "data": {
            "text/html": [
              "<div>\n",
              "<style scoped>\n",
              "    .dataframe tbody tr th:only-of-type {\n",
              "        vertical-align: middle;\n",
              "    }\n",
              "\n",
              "    .dataframe tbody tr th {\n",
              "        vertical-align: top;\n",
              "    }\n",
              "\n",
              "    .dataframe thead th {\n",
              "        text-align: right;\n",
              "    }\n",
              "</style>\n",
              "<table border=\"1\" class=\"dataframe\">\n",
              "  <thead>\n",
              "    <tr style=\"text-align: right;\">\n",
              "      <th></th>\n",
              "      <th>budget</th>\n",
              "      <th>revenue</th>\n",
              "      <th>PCA</th>\n",
              "    </tr>\n",
              "    <tr>\n",
              "      <th>budget-cat</th>\n",
              "      <th></th>\n",
              "      <th></th>\n",
              "      <th></th>\n",
              "    </tr>\n",
              "  </thead>\n",
              "  <tbody>\n",
              "    <tr>\n",
              "      <th>[0, 500000)</th>\n",
              "      <td>1.979617e+05</td>\n",
              "      <td>1.536865e+07</td>\n",
              "      <td>-0.149724</td>\n",
              "    </tr>\n",
              "    <tr>\n",
              "      <th>[500000, 40000000)</th>\n",
              "      <td>1.850076e+07</td>\n",
              "      <td>6.133417e+07</td>\n",
              "      <td>-0.059581</td>\n",
              "    </tr>\n",
              "    <tr>\n",
              "      <th>[40000000, 100000000)</th>\n",
              "      <td>6.141582e+07</td>\n",
              "      <td>1.860699e+08</td>\n",
              "      <td>0.038098</td>\n",
              "    </tr>\n",
              "    <tr>\n",
              "      <th>[100000000, 1000000000000)</th>\n",
              "      <td>1.412921e+08</td>\n",
              "      <td>4.367568e+08</td>\n",
              "      <td>0.700114</td>\n",
              "    </tr>\n",
              "  </tbody>\n",
              "</table>\n",
              "</div>"
            ],
            "text/plain": [
              "                                  budget       revenue       PCA\n",
              "budget-cat                                                      \n",
              "[0, 500000)                 1.979617e+05  1.536865e+07 -0.149724\n",
              "[500000, 40000000)          1.850076e+07  6.133417e+07 -0.059581\n",
              "[40000000, 100000000)       6.141582e+07  1.860699e+08  0.038098\n",
              "[100000000, 1000000000000)  1.412921e+08  4.367568e+08  0.700114"
            ]
          },
          "metadata": {
            "tags": []
          },
          "execution_count": 134
        }
      ]
    },
    {
      "cell_type": "code",
      "metadata": {
        "id": "M5_mQAkteCUQ",
        "colab_type": "code",
        "outputId": "2f7371f4-ac55-48e8-a6ab-c97d23fa1bc9",
        "colab": {
          "base_uri": "https://localhost:8080/",
          "height": 401
        }
      },
      "source": [
        "(px.bar(quantiles.reset_index(),\n",
        "       x = 'budget-cat',\n",
        "       y = 'PCA').update_xaxes(\n",
        "           categoryorder='array',\n",
        "           categoryarray=['vlow', 'low', 'med', 'high', 'vhigh'],\n",
        "           ).write_html('quantiles.html', full_html=False, include_plotlyjs=\"cdn\")\n",
        "\n",
        ")"
      ],
      "execution_count": 137,
      "outputs": [
        {
          "output_type": "error",
          "ename": "ValueError",
          "evalue": "ignored",
          "traceback": [
            "\u001b[0;31m---------------------------------------------------------------------------\u001b[0m",
            "\u001b[0;31mValueError\u001b[0m                                Traceback (most recent call last)",
            "\u001b[0;32m<ipython-input-137-67b20c82d023>\u001b[0m in \u001b[0;36m<module>\u001b[0;34m()\u001b[0m\n\u001b[1;32m      1\u001b[0m (px.bar(quantiles.reset_index(),\n\u001b[1;32m      2\u001b[0m        \u001b[0mx\u001b[0m \u001b[0;34m=\u001b[0m \u001b[0;34m'str(budget-cat)'\u001b[0m\u001b[0;34m,\u001b[0m\u001b[0;34m\u001b[0m\u001b[0;34m\u001b[0m\u001b[0m\n\u001b[0;32m----> 3\u001b[0;31m        \u001b[0my\u001b[0m \u001b[0;34m=\u001b[0m \u001b[0;34m'PCA'\u001b[0m\u001b[0;34m)\u001b[0m\u001b[0;34m.\u001b[0m\u001b[0mupdate_xaxes\u001b[0m\u001b[0;34m(\u001b[0m\u001b[0;34m\u001b[0m\u001b[0;34m\u001b[0m\u001b[0m\n\u001b[0m\u001b[1;32m      4\u001b[0m            \u001b[0mcategoryorder\u001b[0m\u001b[0;34m=\u001b[0m\u001b[0;34m'array'\u001b[0m\u001b[0;34m,\u001b[0m\u001b[0;34m\u001b[0m\u001b[0;34m\u001b[0m\u001b[0m\n\u001b[1;32m      5\u001b[0m            \u001b[0mcategoryarray\u001b[0m\u001b[0;34m=\u001b[0m\u001b[0;34m[\u001b[0m\u001b[0;34m'vlow'\u001b[0m\u001b[0;34m,\u001b[0m \u001b[0;34m'low'\u001b[0m\u001b[0;34m,\u001b[0m \u001b[0;34m'med'\u001b[0m\u001b[0;34m,\u001b[0m \u001b[0;34m'high'\u001b[0m\u001b[0;34m,\u001b[0m \u001b[0;34m'vhigh'\u001b[0m\u001b[0;34m]\u001b[0m\u001b[0;34m,\u001b[0m\u001b[0;34m\u001b[0m\u001b[0;34m\u001b[0m\u001b[0m\n",
            "\u001b[0;32m/usr/local/lib/python3.6/dist-packages/plotly/express/_chart_types.py\u001b[0m in \u001b[0;36mbar\u001b[0;34m(data_frame, x, y, color, facet_row, facet_col, facet_col_wrap, hover_name, hover_data, custom_data, text, error_x, error_x_minus, error_y, error_y_minus, animation_frame, animation_group, category_orders, labels, color_discrete_sequence, color_discrete_map, color_continuous_scale, range_color, color_continuous_midpoint, opacity, orientation, barmode, log_x, log_y, range_x, range_y, title, template, width, height)\u001b[0m\n\u001b[1;32m    311\u001b[0m         \u001b[0mconstructor\u001b[0m\u001b[0;34m=\u001b[0m\u001b[0mgo\u001b[0m\u001b[0;34m.\u001b[0m\u001b[0mBar\u001b[0m\u001b[0;34m,\u001b[0m\u001b[0;34m\u001b[0m\u001b[0;34m\u001b[0m\u001b[0m\n\u001b[1;32m    312\u001b[0m         \u001b[0mtrace_patch\u001b[0m\u001b[0;34m=\u001b[0m\u001b[0mdict\u001b[0m\u001b[0;34m(\u001b[0m\u001b[0morientation\u001b[0m\u001b[0;34m=\u001b[0m\u001b[0morientation\u001b[0m\u001b[0;34m,\u001b[0m \u001b[0mtextposition\u001b[0m\u001b[0;34m=\u001b[0m\u001b[0;34m\"auto\"\u001b[0m\u001b[0;34m)\u001b[0m\u001b[0;34m,\u001b[0m\u001b[0;34m\u001b[0m\u001b[0;34m\u001b[0m\u001b[0m\n\u001b[0;32m--> 313\u001b[0;31m         \u001b[0mlayout_patch\u001b[0m\u001b[0;34m=\u001b[0m\u001b[0mdict\u001b[0m\u001b[0;34m(\u001b[0m\u001b[0mbarmode\u001b[0m\u001b[0;34m=\u001b[0m\u001b[0mbarmode\u001b[0m\u001b[0;34m)\u001b[0m\u001b[0;34m,\u001b[0m\u001b[0;34m\u001b[0m\u001b[0;34m\u001b[0m\u001b[0m\n\u001b[0m\u001b[1;32m    314\u001b[0m     )\n\u001b[1;32m    315\u001b[0m \u001b[0;34m\u001b[0m\u001b[0m\n",
            "\u001b[0;32m/usr/local/lib/python3.6/dist-packages/plotly/express/_core.py\u001b[0m in \u001b[0;36mmake_figure\u001b[0;34m(args, constructor, trace_patch, layout_patch)\u001b[0m\n\u001b[1;32m   1170\u001b[0m \u001b[0;34m\u001b[0m\u001b[0m\n\u001b[1;32m   1171\u001b[0m     args, trace_specs, grouped_mappings, sizeref, show_colorbar = infer_config(\n\u001b[0;32m-> 1172\u001b[0;31m         \u001b[0margs\u001b[0m\u001b[0;34m,\u001b[0m \u001b[0mconstructor\u001b[0m\u001b[0;34m,\u001b[0m \u001b[0mtrace_patch\u001b[0m\u001b[0;34m\u001b[0m\u001b[0;34m\u001b[0m\u001b[0m\n\u001b[0m\u001b[1;32m   1173\u001b[0m     )\n\u001b[1;32m   1174\u001b[0m     \u001b[0mgrouper\u001b[0m \u001b[0;34m=\u001b[0m \u001b[0;34m[\u001b[0m\u001b[0mx\u001b[0m\u001b[0;34m.\u001b[0m\u001b[0mgrouper\u001b[0m \u001b[0;32mor\u001b[0m \u001b[0mone_group\u001b[0m \u001b[0;32mfor\u001b[0m \u001b[0mx\u001b[0m \u001b[0;32min\u001b[0m \u001b[0mgrouped_mappings\u001b[0m\u001b[0;34m]\u001b[0m \u001b[0;32mor\u001b[0m \u001b[0;34m[\u001b[0m\u001b[0mone_group\u001b[0m\u001b[0;34m]\u001b[0m\u001b[0;34m\u001b[0m\u001b[0;34m\u001b[0m\u001b[0m\n",
            "\u001b[0;32m/usr/local/lib/python3.6/dist-packages/plotly/express/_core.py\u001b[0m in \u001b[0;36minfer_config\u001b[0;34m(args, constructor, trace_patch)\u001b[0m\n\u001b[1;32m   1026\u001b[0m             \u001b[0mall_attrables\u001b[0m \u001b[0;34m+=\u001b[0m \u001b[0;34m[\u001b[0m\u001b[0mgroup_attr\u001b[0m\u001b[0;34m]\u001b[0m\u001b[0;34m\u001b[0m\u001b[0;34m\u001b[0m\u001b[0m\n\u001b[1;32m   1027\u001b[0m \u001b[0;34m\u001b[0m\u001b[0m\n\u001b[0;32m-> 1028\u001b[0;31m     \u001b[0margs\u001b[0m \u001b[0;34m=\u001b[0m \u001b[0mbuild_dataframe\u001b[0m\u001b[0;34m(\u001b[0m\u001b[0margs\u001b[0m\u001b[0;34m,\u001b[0m \u001b[0mall_attrables\u001b[0m\u001b[0;34m,\u001b[0m \u001b[0marray_attrables\u001b[0m\u001b[0;34m)\u001b[0m\u001b[0;34m\u001b[0m\u001b[0;34m\u001b[0m\u001b[0m\n\u001b[0m\u001b[1;32m   1029\u001b[0m \u001b[0;34m\u001b[0m\u001b[0m\n\u001b[1;32m   1030\u001b[0m     \u001b[0mattrs\u001b[0m \u001b[0;34m=\u001b[0m \u001b[0;34m[\u001b[0m\u001b[0mk\u001b[0m \u001b[0;32mfor\u001b[0m \u001b[0mk\u001b[0m \u001b[0;32min\u001b[0m \u001b[0mattrables\u001b[0m \u001b[0;32mif\u001b[0m \u001b[0mk\u001b[0m \u001b[0;32min\u001b[0m \u001b[0margs\u001b[0m\u001b[0;34m]\u001b[0m\u001b[0;34m\u001b[0m\u001b[0;34m\u001b[0m\u001b[0m\n",
            "\u001b[0;32m/usr/local/lib/python3.6/dist-packages/plotly/express/_core.py\u001b[0m in \u001b[0;36mbuild_dataframe\u001b[0;34m(args, attrables, array_attrables)\u001b[0m\n\u001b[1;32m    944\u001b[0m                             \u001b[0;34m\"\\n To use the index, pass it in directly as `df.index`.\"\u001b[0m\u001b[0;34m\u001b[0m\u001b[0;34m\u001b[0m\u001b[0m\n\u001b[1;32m    945\u001b[0m                         )\n\u001b[0;32m--> 946\u001b[0;31m                     \u001b[0;32mraise\u001b[0m \u001b[0mValueError\u001b[0m\u001b[0;34m(\u001b[0m\u001b[0merr_msg\u001b[0m\u001b[0;34m)\u001b[0m\u001b[0;34m\u001b[0m\u001b[0;34m\u001b[0m\u001b[0m\n\u001b[0m\u001b[1;32m    947\u001b[0m                 \u001b[0;32mif\u001b[0m \u001b[0mlength\u001b[0m \u001b[0;32mand\u001b[0m \u001b[0mlen\u001b[0m\u001b[0;34m(\u001b[0m\u001b[0mdf_input\u001b[0m\u001b[0;34m[\u001b[0m\u001b[0margument\u001b[0m\u001b[0;34m]\u001b[0m\u001b[0;34m)\u001b[0m \u001b[0;34m!=\u001b[0m \u001b[0mlength\u001b[0m\u001b[0;34m:\u001b[0m\u001b[0;34m\u001b[0m\u001b[0;34m\u001b[0m\u001b[0m\n\u001b[1;32m    948\u001b[0m                     raise ValueError(\n",
            "\u001b[0;31mValueError\u001b[0m: Value of 'x' is not the name of a column in 'data_frame'. Expected one of ['budget-cat', 'budget', 'revenue', 'PCA'] but received: str(budget-cat)"
          ]
        }
      ]
    },
    {
      "cell_type": "code",
      "metadata": {
        "id": "SsdSnLhORasU",
        "colab_type": "code",
        "outputId": "031476ac-535c-49fc-f391-7cef0de6adf6",
        "colab": {
          "base_uri": "https://localhost:8080/",
          "height": 542
        }
      },
      "source": [
        "trace = go.Scatter(\n",
        "    y = budget_ratings['vote_average'],\n",
        "    x = budget_ratings['revenue'],\n",
        "    mode = 'markers'\n",
        ")\n",
        "\n",
        "go.Figure(\n",
        "    trace,\n",
        "    layout_xaxis_title = \"Budget\",\n",
        "    layout_yaxis_title = \"Movie Rating\",\n",
        "    layout_title = \"Movie Ratings by budget\",\n",
        "    \n",
        ")"
      ],
      "execution_count": 41,
      "outputs": [
        {
          "output_type": "display_data",
          "data": {
            "text/html": [
              "<html>\n",
              "<head><meta charset=\"utf-8\" /></head>\n",
              "<body>\n",
              "    <div>\n",
              "            <script src=\"https://cdnjs.cloudflare.com/ajax/libs/mathjax/2.7.5/MathJax.js?config=TeX-AMS-MML_SVG\"></script><script type=\"text/javascript\">if (window.MathJax) {MathJax.Hub.Config({SVG: {font: \"STIX-Web\"}});}</script>\n",
              "                <script type=\"text/javascript\">window.PlotlyConfig = {MathJaxConfig: 'local'};</script>\n",
              "        <script src=\"https://cdn.plot.ly/plotly-latest.min.js\"></script>    \n",
              "            <div id=\"4daca5b7-725a-40cc-bfc7-f0de2dffd4c5\" class=\"plotly-graph-div\" style=\"height:525px; width:100%;\"></div>\n",
              "            <script type=\"text/javascript\">\n",
              "                \n",
              "                    window.PLOTLYENV=window.PLOTLYENV || {};\n",
              "                    \n",
              "                if (document.getElementById(\"4daca5b7-725a-40cc-bfc7-f0de2dffd4c5\")) {\n",
              "                    Plotly.newPlot(\n",
              "                        '4daca5b7-725a-40cc-bfc7-f0de2dffd4c5',\n",
              "                        [{\"mode\": \"markers\", \"type\": \"scatter\", \"x\": [4300000.0, 775398007.0, 940335536.0, 677945399.0, 356296601.0, 23217674.0, 40031879.0, 263920180.0, 650422.0, 655011224.0, 180949000.0, 96889998.0, 1574623.0, 89460381.0, 527068851.0, 72258126.0, 20908467.0, 1065659812.0, 60740827.0, 68700000.0, 168840000.0, 51001550.0, 215000000.0, 50068310.0, 186438883.0, 216763646.0, 110000000.0, 23875127.0, 591739379.0, 101371017.0, 5535405.0, 39723096.0, 33139618.0, 177394432.0, 15992615.0, 3301446.0, 163794509.0, 54667954.0, 389925971.0, 333000000.0, 213954274.0, 474171806.0, 316360478.0, 553799566.0, 299965036.0, 33000000.0, 67872296.0, 3897569.0, 45284974.0, 28262574.0, 7267585.0, 381109762.0, 98235548.0, 83557872.0, 65884703.0, 463000000.0, 85306374.0, 76270454.0, 474968763.0, 871368364.0, 926287400.0, 1118888979.0, 30471420.0, 274925095.0, 70906973.0, 1012189.0, 40266982.0, 1270522.0, 3200000.0, 213525736.0, 553171.0, 78868508.0, 139000000.0, 119723856.0, 96800000.0, 1004558444.0, 87000000.0, 450717150.0, 53000000.0, 362744280.0, 9500000.0, 332000000.0, 133000000.0, 57120318.0, 82719885.0, 70200000.0, 28200000.0, 96900000.0, 103911669.0, 41895491.0, 162944923.0, 358372926.0, 5914908.0, 14278900.0, 39673162.0, 26589000.0, 56308881.0, 158733820.0, 39407616.0, 120000000.0, 173921954.0, 244527583.0, 210000000.0, 150000000.0, 118000000.0, 67312826.0, 3000000.0, 38000000.0, 235860116.0, 13275000.0, 163876815.0, 152925093.0, 786636033.0, 78371200.0, 85582407.0, 5.0, 6000000.0, 33697647.0, 94000000.0, 2494480.0, 52287414.0, 15119639.0, 2500000.0, 245066411.0, 25000000.0, 47542841.0, 50282766.0, 136766062.0, 47126295.0, 10000000.0, 129000000.0, 5000000.0, 505000000.0, 4000000.0, 161777836.0, 550000000.0, 42093706.0, 17570324.0, 528428.0, 411348924.0, 374218673.0, 272742922.0, 60611975.0, 95708457.0, 28341469.0, 51973029.0, 520000000.0, 7959291.0, 50888000.0, 8000000.0, 10462500.0, 6153939.0, 3166000.0, 11718595.0, 2400000.0, 435000000.0, 142940100.0, 311312624.0, 9524340.0, 22441323.0, 24464742.0, 119208989.0, 45742101.0, 484572835.0, 1381665.0, 82102379.0, 12281551.0, 113714830.0, 3031801.0, 156822020.0, 62022014.0, 15250000.0, 920100000.0, 229074524.0, 368780809.0, 48451803.0, 5321508.0, 79384880.0, 2015810.0, 2697930.0, 162091208.0, 271841.0, 104931801.0, 326551094.0, 280000000.0, 25504513.0, 29180280.0, 5080409.0, 412800000.0, 8750000.0, 85000000.0, 184376254.0, 1000000.0, 14500000.0, 152500343.0, 152159461.0, 184925486.0, 231976425.0, 748806957.0, 336529144.0, 238207122.0, 34808403.0, 120072577.0, 321365567.0, 383257136.0, 28000000.0, 6000000.0, 4000000.0, 501818.0, 102272727.0, 544272402.0, 41797066.0, 705308.0, 28000000.0, 49800000.0, 7235.0, 313542341.0, 147298761.0, 76578641.0, 256271286.0, 60427839.0, 3221152.0, 50700000.0, 4729352.0, 107196498.0, 12121618.0, 14560247.0, 10750000.0, 225933435.0, 22863596.0, 10000000.0, 1458000.0, 261572744.0, 284600000.0, 14661007.0, 181674817.0, 60378584.0, 7237794.0, 7000000.0, 418961.0, 244931766.0, 363889678.0, 108981275.0, 31584901.0, 3000000.0, 5887457.0, 116112375.0, 115229890.0, 18432000.0, 192452832.0, 371353001.0, 92921203.0, 32000000.0, 369884651.0, 13350369.0, 186883563.0, 96568.0, 3011195.0, 100853753.0, 84563118.0, 16680836.0, 783766341.0, 230884728.0, 140767956.0, 121214377.0, 415885488.0, 249348933.0, 36764313.0, 355237933.0, 11403529.0, 12600000.0, 10250000.0, 21284514.0, 51881013.0, 424208848.0, 70000000.0, 20045115.0, 562816256.0, 64256513.0, 122919055.0, 97607453.0, 41597830.0, 4420000.0, 219417255.0, 13129846.0, 1845034188.0, 30641770.0, 5000000.0, 46357676.0, 792965326.0, 816969268.0, 463517383.0, 424988211.0, 128499205.0, 441818803.0, 122200000.0, 130358911.0, 92180910.0, 611899420.0, 456758981.0, 67200000.0, 11000000.0, 411006740.0, 181813770.0, 16491080.0, 223664608.0, 33754967.0, 281929795.0, 17185632.0, 229400000.0, 3675201.0, 92823546.0, 352114312.0, 7390108.0, 57504069.0, 141195658.0, 139352633.0, 494471524.0, 146900000.0, 5596708.0, 111584787.0, 81974493.0, 14980005.0, 976475550.0, 789804554.0, 895921036.0, 213928762.0, 116019547.0, 39363635.0, 182016617.0, 185438673.0, 6000000.0, 44017374.0, 210308099.0, 187500000.0, 8000000.0, 38251425.0, 12299668.0, 63463.0, 152427960.0, 191185897.0, 156167015.0, 352194034.0, 80049764.0, 254700832.0, 116700000.0, 333011068.0, 672806292.0, 43984230.0, 30039392.0, 245676146.0, 25836616.0, 83320000.0, 5028948.0, 29400000.0, 5923044.0, 933959197.0, 46836394.0, 476684675.0, 12532777.0, 77737889.0, 47383689.0, 441286195.0, 21378361.0, 46201432.0, 8551228.0, 60922980.0, 198685114.0, 123922370.0, 9250000.0, 12000000.0, 33395426.0, 119188334.0, 327311859.0, 484409218.0, 919838758.0, 798958165.0, 83453539.0, 296655431.0, 179213434.0, 30000000.0, 3250000.0, 111340801.0, 2120439.0, 140000000.0, 303788635.0, 30925690.0, 19271312.0, 189198313.0, 57269863.0, 14110013.0, 16519460.0, 96976270.0, 351583407.0, 227799884.0, 79567667.0, 261317921.0, 373554033.0, 38122105.0, 116766556.0, 116300000.0, 362211740.0, 300854823.0, 243240178.0, 341631208.0, 59468275.0, 70600000.0, 1794187.0, 3100000.0, 19181.0, 1738611.0, 16217773.0, 111858363.0, 124305181.0, 11000000.0, 42300873.0, 39321715.0, 461983149.0, 108539911.0, 55000000.0, 102356381.0, 37295445.0, 90683916.0, 153083102.0, 41482207.0, 379014294.0, 9440272.0, 15000000.0, 120207127.0, 227853986.0, 321731527.0, 285444603.0, 69995385.0, 70000000.0, 187436818.0, 660940780.0, 201957688.0, 532680671.0, 457696359.0, 546388105.0, 397850012.0, 38119483.0, 2500000.0, 1000000.0, 4905000.0, 60000000.0, 46665856.0, 96105910.0, 35976000.0, 51718367.0, 7600000.0, 3251794.0, 2500000.0, 20117339.0, 3049135.0, 41158757.0, 41400000.0, 83531958.0, 18564088.0, 19629760.0, 50244700.0, 22889018.0, 109676311.0, 154937680.0, 2500000.0, 135330182.0, 128798265.0, 23237911.0, 155721132.0, 59908565.0, 82169884.0, 228738393.0, 68673228.0, 88489643.0, 49469904.0, 53653224.0, 137587063.0, 65569869.0, 169332978.0, 229736344.0, 422610419.0, 32017803.0, 95608995.0, 15121165.0, 251212670.0, 34266564.0, 44909486.0, 117235147.0, 200182160.0, 300400432.0, 189015611.0, 270000000.0, 170877916.0, 300473716.0, 119946358.0, 5179037.0, 1615018.0, 15304890.0, 77745568.0, 33616692.0, 3515061.0, 179033791.0, 10017322.0, 1277401.0, 742898.0, 83258226.0, 289847354.0, 132180323.0, 98185582.0, 13060843.0, 35564473.0, 14821658.0, 5549200.0, 2247465.0, 99318987.0, 212000000.0, 211643158.0, 1193062.0, 78000000.0, 202000000.0, 42000000.0, 48027970.0, 30822861.0, 143049560.0, 94935764.0, 217764291.0, 45361000.0, 12827813.0, 32222567.0, 61489265.0, 64238440.0, 383531464.0, 366101666.0, 240031094.0, 306776732.0, 2200000.0, 194168700.0, 131282949.0, 9644124.0, 92913171.0, 10032765.0, 90449929.0, 102616183.0, 574480841.0, 330444045.0, 182300000.0, 14.0, 19125401.0, 99965753.0, 90400000.0, 302710615.0, 24517.0, 34604000.0, 119418501.0, 162949164.0, 164508066.0, 98410061.0, 93888180.0, 110627965.0, 36144000.0, 152266007.0, 41170784.0, 40485039.0, 45300000.0, 142400065.0, 127392239.0, 199200000.0, 124731534.0, 62771059.0, 12348905.0, 9700000.0, 4858139.0, 80578934.0, 2023414.0, 224012234.0, 32482682.0, 88545092.0, 9450897.0, 62112895.0, 43656822.0, 585174222.0, 127906624.0, 433013274.0, 401128639.0, 16900000.0, 370569774.0, 119114517.0, 6706368.0, 80035402.0, 9801375.0, 33828318.0, 10012022.0, 2049595.0, 196482882.0, 16057580.0, 23727301.0, 24362772.0, 31670620.0, 2000000.0, 212404396.0, 47434430.0, 5849647.0, 709709780.0, 2279000.0, 1045713802.0, 10680275.0, 56666667.0, 38376497.0, 48169908.0, 90815558.0, 60474340.0, 538400000.0, 572700000.0, 924317558.0, 649398328.0, 850000000.0, 207515725.0, 368234.0, 162242962.0, 144056873.0, 22200000.0, 61698899.0, 38535221.0, 65754228.0, 4160851.0, 300218018.0, 245360480.0, 75511123.0, 289317794.0, 2000000.0, 21750000.0, 106683817.0, 2856712.0, 18618284.0, 42931041.0, 84785914.0, 674918.0, 96060858.0, 26010864.0, 51801187.0, 173066.0, 128038368.0, 167298192.0, 10496317.0, 183474602.0, 39143839.0, 38610009.0, 289047763.0, 82466670.0, 18928871.0, 21786738.0, 25037897.0, 274703340.0, 156505388.0, 62172050.0, 54926886.0, 231605150.0, 1185783.0, 19777647.0, 17804565.0, 22963701.0, 94728529.0, 74189677.0, 36911617.0, 171269535.0, 108103450.0, 215294342.0, 77944725.0, 104876233.0, 105178561.0, 114830111.0, 12008642.0, 347234916.0, 68296293.0, 8679814.0, 35402320.0, 347451894.0, 623722818.0, 182057016.0, 60874615.0, 106371651.0, 11511031.0, 14702438.0, 373062864.0, 80253908.0, 91036760.0, 8175346.0, 3275585.0, 16209459.0, 27642707.0, 30002758.0, 235483004.0, 51525171.0, 244386864.0, 161626121.0, 85131830.0, 55495563.0, 126216940.0, 157920733.0, 26155781.0, 149270999.0, 19726050.0, 325756637.0, 123729176.0, 64437847.0, 44862187.0, 25928721.0, 13273595.0, 32168970.0, 136159423.0, 7000000.0, 12000000.0, 11263966.0, 50159144.0, 196567262.0, 295206.0, 23619609.0, 13405595.0, 8493890.0, 46.0, 65664721.0, 3916303.0, 60641.0, 55112356.0, 200276000.0, 12021272.0, 4857367.0, 372234864.0, 38862717.0, 149705852.0, 151668774.0, 115505027.0, 173013509.0, 25965144.0, 3151130.0, 33788161.0, 26888376.0, 250200000.0, 195735876.0, 121969216.0, 21486757.0, 32788.0, 65497208.0, 22222308.0, 24538513.0, 26330482.0, 6000000.0, 132900000.0, 15473333.0, 2341309.0, 7434726.0, 419651413.0, 30857814.0, 214034224.0, 288500217.0, 442824138.0, 55041367.0, 102000000.0, 28008462.0, 11588205.0, 15379253.0, 79258538.0, 43455230.0, 15945534.0, 36609995.0, 55157539.0, 10686841.0, 93354918.0, 109423648.0, 7022209.0, 8946600.0, 155464351.0, 16829545.0, 27200316.0, 248000000.0, 206071502.0, 8613462.0, 8690429.0, 408247917.0, 14358033.0, 56359980.0, 105834556.0, 90000098.0, 32801173.0, 4500000.0, 287553595.0, 7411659.0, 53187659.0, 20079850.0, 115772733.0, 88933562.0, 42000000.0, 314178011.0, 19598588.0, 191502426.0, 152368585.0, 116400000.0, 69307224.0, 90450008.0, 37311672.0, 215394738.0, 2000000.0, 2000000.0, 94679598.0, 6451628.0, 86273333.0, 12000000.0, 112006296.0, 32000000.0, 107217396.0, 294456605.0, 50000000.0, 22000000.0, 2281000.0, 4500000.0, 8500000.0, 9600000.0, 9012000.0, 4307000.0, 38629478.0, 25800.0, 20000000.0, 65977295.0, 20000000.0, 25000000.0, 5638000.0, 41637263.0, 16930884.0, 7659918.0, 104324083.0, 103173635.0, 1423000.0, 127666415.0, 186072214.0, 22231658.0, 113020255.0, 11300653.0, 77566815.0, 125586134.0, 40002112.0, 27107960.0, 92601050.0, 16757163.0, 65900249.0, 2849142.0, 117195061.0, 13167232.0, 374111707.0, 50907422.0, 73326666.0, 416925.0, 45892212.0, 43928932.0, 83282296.0, 26820641.0, 181001478.0, 75225693.0, 7000000.0, 44566.0, 7179298.0, 173046663.0, 172363301.0, 161834276.0, 278019771.0, 141220678.0, 29385320.0, 220673217.0, 264105545.0, 129266061.0, 86658558.0, 170128460.0, 40400657.0, 105316267.0, 148336445.0, 160638883.0, 140807547.0, 266614059.0, 59754601.0, 14711793.0, 63215872.0, 74237563.0, 82150642.0, 340487652.0, 8203235.0, 415252786.0, 92991835.0, 135000000.0, 35419397.0, 22942221.0, 49718611.0, 193000000.0, 46474.0, 80573774.0, 55011732.0, 1954937.0, 1500000.0, 428868.0, 374743.0, 34619699.0, 309457509.0, 13474588.0, 159330280.0, 11850214.0, 9237470.0, 33013805.0, 33013805.0, 33013805.0, 33013805.0, 33013805.0, 33013805.0, 33013805.0, 33013805.0, 33013805.0, 33013805.0, 33013805.0, 33013805.0, 33013805.0, 33013805.0, 33013805.0, 33013805.0, 33013805.0, 33013805.0, 33013805.0, 33013805.0, 33013805.0, 33013805.0, 33013805.0, 33013805.0, 33013805.0, 33013805.0, 33013805.0, 33013805.0, 33013805.0, 33013805.0, 33013805.0, 33013805.0, 33013805.0, 33013805.0, 33013805.0, 33013805.0, 33013805.0, 33013805.0, 33013805.0, 33013805.0, 33013805.0, 33013805.0, 33013805.0, 33013805.0, 33013805.0, 33013805.0, 33013805.0, 33013805.0, 33013805.0, 33013805.0, 33013805.0, 33013805.0, 33013805.0, 33013805.0, 33013805.0, 33013805.0, 33013805.0, 33013805.0, 33013805.0, 33013805.0, 33013805.0, 33013805.0, 33013805.0, 33013805.0, 33013805.0, 33013805.0, 33013805.0, 33013805.0, 33013805.0, 33013805.0, 33013805.0, 33013805.0, 33013805.0, 33013805.0, 33013805.0, 33013805.0, 33013805.0, 33013805.0, 33013805.0, 33013805.0, 33013805.0, 33013805.0, 33013805.0, 33013805.0, 33013805.0, 33013805.0, 33013805.0, 33013805.0, 33013805.0, 33013805.0, 33013805.0, 33013805.0, 33013805.0, 33013805.0, 33013805.0, 33013805.0, 33013805.0, 33013805.0, 33013805.0, 33013805.0, 33013805.0, 33013805.0, 33013805.0, 33013805.0, 33013805.0, 33013805.0, 33013805.0, 33013805.0, 33013805.0, 33013805.0, 33013805.0, 33013805.0, 33013805.0, 33013805.0, 33013805.0, 33013805.0, 33013805.0, 33013805.0, 33013805.0, 33013805.0, 33013805.0, 33013805.0, 33013805.0, 33013805.0, 33013805.0, 33013805.0, 33013805.0, 33013805.0, 33013805.0, 33013805.0, 33013805.0, 33013805.0, 33013805.0, 33013805.0, 33013805.0, 33013805.0, 33013805.0, 33013805.0, 33013805.0, 33013805.0, 33013805.0, 33013805.0, 33013805.0, 33013805.0, 33013805.0, 33013805.0, 33013805.0, 33013805.0, 33013805.0, 33013805.0, 33013805.0, 33013805.0, 33013805.0, 33013805.0, 33013805.0, 33013805.0, 33013805.0, 33013805.0, 33013805.0, 33013805.0, 33013805.0, 33013805.0, 33013805.0, 33013805.0, 33013805.0, 33013805.0, 33013805.0, 33013805.0, 33013805.0, 33013805.0, 33013805.0, 33013805.0, 33013805.0, 33013805.0, 33013805.0, 33013805.0, 33013805.0, 33013805.0, 33013805.0, 33013805.0, 33013805.0, 33013805.0, 33013805.0, 33013805.0, 33013805.0, 33013805.0, 33013805.0, 33013805.0, 33013805.0, 33013805.0, 33013805.0, 33013805.0, 33013805.0, 33013805.0, 33013805.0, 33013805.0, 33013805.0, 33013805.0, 33013805.0, 33013805.0, 33013805.0, 33013805.0, 33013805.0, 33013805.0, 33013805.0, 33013805.0, 33013805.0, 33013805.0, 33013805.0, 33013805.0, 33013805.0, 33013805.0, 33013805.0, 33013805.0, 33013805.0, 33013805.0, 33013805.0, 33013805.0, 33013805.0, 33013805.0, 33013805.0, 33013805.0, 33013805.0, 33013805.0, 33013805.0, 33013805.0, 33013805.0, 33013805.0, 33013805.0, 33013805.0, 33013805.0, 33013805.0, 33013805.0, 33013805.0, 33013805.0, 33013805.0, 33013805.0, 33013805.0, 33013805.0, 33013805.0, 33013805.0, 33013805.0, 33013805.0, 33013805.0, 33013805.0, 33013805.0, 33013805.0, 33013805.0, 33013805.0, 33013805.0, 33013805.0, 33013805.0, 33013805.0, 33013805.0, 33013805.0, 33013805.0, 870751.0, 6800000.0, 163720069.0, 53478166.0, 39459427.0, 60161391.0, 25480490.0, 219076518.0, 37036004.0, 141591324.0, 84542002.0, 43008075.0, 43101594.0, 96408652.0, 12800000.0, 66122026.0, 24748670.0, 57958696.0, 11130889.0, 305875730.0, 87754044.0, 10289.0, 670774.0, 97838349.0, 1531251.0, 368875760.0, 53000000.0, 10696210.0, 58853106.0, 28607524.0, 6000000.0, 40000000.0, 20710513.0, 37600000.0, 13000000.0, 77920346.0, 71320000.0, 29700000.0, 7900000.0, 57096190.0, 8914881.0, 50750000.0, 56255142.0, 58831997.0, 20000000.0, 29400000.0, 156835339.0, 215862692.0, 100000000.0, 57319029.0, 37000000.0, 122417389.0, 42313354.0, 22540359.0, 114908830.0, 361366633.0, 53208180.0, 110803676.0, 119000410.0, 4152230.0, 11293663.0, 10000000.0, 4607608.0, 6000000.0, 5926410.0, 21633874.0, 122700000.0, 256697520.0, 189859560.0, 109449237.0, 47175038.0, 12482775.0, 29541790.0, 171600000.0, 11000000.0, 447741.0, 725131.0, 58620973.0, 68377859.0, 30000000.0, 5359645.0, 154906693.0, 9500000.0, 36733909.0, 231411584.0, 33800000.0, 77208711.0, 119269486.0, 174999005.0, 43318349.0, 36754634.0, 277448382.0, 104478416.0, 93945766.0, 197309027.0, 95696996.0, 266000000.0, 33000000.0, 73276047.0, 93525586.0, 65796862.0, 15556340.0, 36800000.0, 115101622.0, 27400000.0, 41610884.0, 25105255.0, 5367030.0, 231449203.0, 27515786.0, 13008928.0, 19844979.0, 121463226.0, 390493908.0, 836297228.0, 41627431.0, 222104681.0, 30218387.0, 16140822.0, 56932305.0, 13401952.0, 144216468.0, 163403799.0, 140464664.0, 35168966.0, 24600832.0, 55987321.0, 101646581.0, 11260366.0, 141774679.0, 68369434.0, 287928194.0, 262797249.0, 64822796.0, 1686429.0, 73180723.0, 31987563.0, 33463969.0, 121697323.0, 299288605.0, 11125849.0, 73648228.0, 19258519.0, 171757863.0, 200804534.0, 273339556.0, 157387195.0, 392616625.0, 54674226.0, 67192859.0, 29000000.0, 2000000.0, 35294470.0, 27165581.0, 214015089.0, 13368437.0, 57479076.0, 8720000.0, 47536959.0, 10329747.0, 801000.0, 3661757.0, 589304.0, 28202109.0, 12308521.0, 27206120.0, 215283742.0, 3000000.0, 21500000.0, 3779620.0, 100655.0, 18409891.0, 2057193.0, 226497209.0, 6746000.0, 6582052.0, 37672350.0, 4270000.0, 8178569.0, 3000000.0, 52604.0, 16504936.0, 4.0, 202466756.0, 27462041.0, 559852396.0, 61648500.0, 31083599.0, 173930596.0, 17479.0, 117000000.0, 3983912.0, 340147.0, 33662874.0, 288383523.0, 11411644.0, 23057115.0, 8493728.0, 114956699.0, 18050000.0, 63100000.0, 49000000.0, 88058786.0, 24591.0, 2039000.0, 95000.0, 73706.0], \"y\": [6.5, 8.1, 7.6, 8.2, 7.9, 8.0, 7.7, 7.3, 8.0, 7.5, 7.7, 6.6, 5.1, 8.0, 6.9, 7.9, 7.6, 7.0, 6.9, 7.9, 7.4, 7.5, 6.8, 6.4, 7.3, 7.7, 7.4, 8.2, 6.2, 6.1, 7.7, 8.1, 7.9, 7.3, 7.6, 7.7, 5.7, 5.3, 7.7, 7.1, 7.1, 7.6, 6.8, 6.5, 6.1, 6.6, 7.4, 7.5, 8.2, 8.1, 7.2, 8.0, 7.3, 7.7, 8.0, 7.0, 7.2, 7.6, 6.7, 8.0, 8.0, 8.1, 6.1, 8.3, 7.4, 7.2, 7.1, 7.7, 7.5, 7.2, 7.8, 6.5, 6.2, 7.3, 7.3, 8.3, 6.4, 7.2, 7.5, 6.4, 7.6, 7.4, 6.9, 6.0, 7.1, 5.6, 6.9, 6.7, 7.2, 7.2, 6.2, 7.1, 5.9, 6.1, 7.3, 8.0, 7.4, 7.2, 6.3, 6.4, 7.8, 7.1, 7.7, 7.0, 6.3, 6.1, 7.2, 7.5, 8.1, 7.8, 6.1, 6.3, 5.7, 7.4, 7.3, 7.5, 7.7, 6.9, 6.3, 6.8, 7.8, 6.9, 5.9, 8.5, 8.0, 8.3, 6.9, 7.1, 7.0, 7.7, 6.6, 7.3, 6.9, 7.4, 6.4, 6.6, 6.7, 7.6, 7.5, 7.0, 7.5, 8.1, 7.7, 6.6, 8.5, 7.8, 7.7, 6.8, 6.6, 7.6, 7.9, 7.4, 7.6, 6.5, 6.7, 5.9, 6.9, 6.5, 6.8, 6.5, 7.8, 5.5, 6.8, 6.4, 7.3, 4.2, 7.5, 6.8, 5.6, 7.6, 5.1, 6.8, 7.6, 6.2, 5.7, 7.5, 8.1, 7.4, 7.5, 7.4, 7.1, 8.2, 7.9, 7.0, 6.6, 7.2, 7.2, 7.5, 7.6, 7.1, 7.9, 7.3, 8.2, 7.6, 6.8, 7.7, 6.9, 7.0, 6.7, 5.2, 4.2, 7.1, 8.1, 8.3, 7.1, 8.0, 8.1, 7.6, 6.9, 7.4, 6.2, 4.9, 6.1, 6.0, 7.1, 6.7, 7.7, 6.7, 6.2, 7.1, 7.2, 7.1, 7.6, 7.0, 5.5, 6.5, 7.0, 7.4, 7.9, 7.3, 6.1, 5.4, 6.5, 8.2, 8.1, 5.5, 7.0, 6.1, 7.2, 6.1, 7.0, 7.0, 8.3, 6.4, 7.9, 7.3, 7.8, 7.5, 6.8, 6.8, 5.9, 6.1, 8.3, 6.5, 6.9, 6.7, 8.0, 6.6, 8.3, 7.3, 7.6, 6.7, 6.6, 7.5, 6.7, 6.6, 6.5, 8.2, 7.3, 7.3, 7.2, 7.3, 6.7, 3.5, 7.6, 7.9, 7.7, 7.5, 6.7, 7.6, 6.3, 7.0, 7.5, 7.1, 7.9, 7.5, 8.2, 8.2, 7.9, 7.3, 6.7, 7.9, 6.4, 7.0, 6.1, 7.1, 7.0, 7.7, 6.9, 7.3, 6.3, 6.4, 6.2, 7.2, 7.8, 7.2, 7.4, 6.6, 7.0, 8.3, 7.5, 7.3, 7.7, 7.9, 7.4, 6.5, 5.9, 6.1, 7.5, 7.6, 6.5, 6.5, 8.0, 7.5, 7.7, 7.5, 8.3, 6.3, 7.3, 7.3, 6.6, 6.2, 8.1, 5.9, 6.2, 7.6, 7.8, 7.3, 8.0, 6.0, 6.2, 5.9, 6.6, 7.0, 6.6, 7.1, 6.0, 7.7, 7.4, 7.5, 6.8, 6.9, 7.2, 7.8, 7.3, 7.5, 7.4, 8.2, 7.1, 7.5, 7.4, 7.4, 7.0, 6.4, 3.8, 7.7, 7.2, 6.5, 7.1, 7.3, 7.8, 7.5, 5.3, 8.1, 7.3, 6.7, 6.0, 7.1, 5.9, 7.4, 7.9, 7.2, 6.4, 7.1, 6.9, 7.2, 6.5, 6.9, 6.6, 6.9, 6.5, 5.8, 7.2, 6.6, 6.5, 7.0, 7.1, 7.7, 6.4, 7.2, 4.9, 5.6, 6.7, 7.1, 5.0, 4.4, 7.6, 7.4, 7.0, 8.2, 7.6, 7.7, 7.4, 6.7, 8.1, 7.0, 5.6, 6.6, 7.3, 7.4, 6.8, 7.6, 6.9, 6.9, 6.3, 5.3, 8.0, 7.8, 7.0, 6.7, 6.4, 6.3, 7.8, 7.4, 7.7, 6.5, 5.8, 6.6, 6.7, 5.9, 6.5, 6.7, 7.7, 7.8, 7.4, 7.3, 7.6, 7.7, 7.4, 7.0, 7.6, 7.2, 8.0, 7.7, 6.9, 7.4, 7.1, 6.9, 6.8, 7.8, 6.9, 7.1, 8.0, 6.6, 7.5, 6.9, 7.1, 7.5, 6.5, 6.3, 6.0, 5.2, 7.2, 6.7, 6.9, 7.1, 7.0, 6.3, 6.7, 6.1, 7.0, 7.0, 6.0, 7.2, 6.3, 7.3, 6.6, 7.5, 6.9, 6.3, 5.7, 6.6, 7.4, 6.6, 5.3, 6.3, 6.6, 6.8, 6.5, 7.3, 6.7, 6.2, 5.7, 6.4, 5.9, 7.6, 7.9, 7.1, 6.2, 7.2, 7.3, 6.9, 5.5, 7.6, 6.5, 6.1, 6.6, 4.7, 5.8, 6.5, 5.1, 7.4, 5.4, 6.8, 5.9, 7.0, 7.2, 7.4, 6.8, 6.3, 6.5, 6.4, 6.9, 6.6, 6.9, 7.8, 6.7, 6.8, 8.0, 6.4, 7.5, 5.8, 7.4, 6.4, 6.6, 7.0, 5.9, 6.4, 5.9, 7.1, 6.4, 7.6, 7.4, 7.6, 6.5, 4.1, 7.2, 5.1, 5.6, 7.1, 7.0, 7.6, 6.7, 7.5, 5.9, 6.9, 7.2, 7.2, 5.4, 6.3, 6.1, 6.0, 5.7, 7.0, 6.5, 6.0, 6.9, 5.7, 5.6, 7.0, 7.4, 6.3, 6.0, 5.2, 6.8, 6.6, 6.9, 7.4, 6.4, 7.2, 5.1, 7.0, 6.7, 6.6, 5.7, 6.8, 4.3, 6.7, 6.8, 6.0, 6.9, 7.1, 6.6, 7.3, 6.4, 7.2, 7.6, 6.4, 7.3, 6.9, 6.5, 8.2, 7.9, 6.4, 6.4, 7.1, 6.9, 7.4, 7.3, 6.3, 6.3, 6.4, 7.2, 6.4, 7.3, 6.9, 5.3, 6.1, 6.8, 7.6, 6.9, 6.1, 6.7, 6.7, 6.6, 7.3, 6.9, 7.3, 7.9, 6.2, 5.9, 6.3, 5.6, 5.8, 5.8, 5.3, 5.3, 5.4, 6.9, 6.7, 6.1, 6.7, 5.7, 5.5, 6.9, 6.5, 6.5, 7.4, 7.5, 6.6, 6.7, 5.4, 6.1, 4.5, 5.6, 6.5, 6.8, 6.2, 7.3, 6.1, 6.5, 6.4, 6.7, 7.0, 7.4, 5.8, 6.4, 7.5, 6.5, 5.7, 6.3, 6.1, 6.3, 6.2, 5.9, 6.0, 6.1, 5.7, 5.5, 7.0, 5.9, 6.4, 7.8, 6.8, 6.7, 5.9, 6.1, 7.7, 5.9, 5.5, 6.1, 5.4, 6.2, 5.8, 6.4, 6.6, 6.5, 4.5, 5.3, 5.0, 5.4, 6.7, 5.3, 6.6, 6.8, 6.4, 5.4, 6.5, 6.3, 6.9, 6.2, 5.5, 6.8, 7.2, 6.7, 6.7, 6.7, 5.8, 6.2, 6.1, 6.9, 6.7, 6.7, 7.3, 7.4, 6.4, 6.9, 6.5, 5.5, 5.8, 5.8, 6.1, 5.5, 7.1, 7.3, 6.3, 6.1, 5.0, 6.5, 3.9, 6.1, 6.3, 7.6, 7.3, 7.2, 7.3, 5.8, 7.0, 6.2, 5.7, 6.1, 6.6, 6.4, 5.3, 6.1, 6.1, 7.3, 5.9, 7.5, 6.8, 7.1, 6.3, 6.0, 7.2, 6.3, 6.9, 6.5, 6.9, 6.4, 5.7, 5.7, 6.7, 7.1, 7.3, 6.9, 6.0, 5.3, 6.7, 6.5, 6.3, 5.3, 6.5, 7.2, 5.5, 6.7, 6.4, 6.5, 5.3, 6.5, 6.9, 6.3, 5.9, 5.6, 6.5, 6.8, 7.7, 7.3, 6.1, 6.3, 6.4, 5.4, 6.7, 7.0, 6.1, 7.7, 8.1, 7.9, 7.3, 7.9, 4.6, 7.8, 7.3, 5.4, 7.7, 7.3, 7.4, 6.8, 5.7, 6.8, 5.6, 6.5, 7.4, 6.1, 5.8, 6.7, 7.3, 5.3, 6.3, 5.6, 5.1, 6.1, 6.1, 5.5, 6.7, 6.7, 7.2, 5.9, 6.1, 6.6, 7.1, 6.8, 6.2, 6.6, 7.4, 6.3, 7.3, 6.8, 7.3, 7.3, 7.6, 7.0, 6.1, 5.7, 6.0, 5.4, 7.5, 5.8, 5.6, 7.4, 6.5, 5.9, 6.6, 5.6, 6.8, 7.2, 5.9, 5.8, 6.4, 7.0, 6.0, 6.6, 7.2, 6.6, 7.3, 6.0, 6.6, 7.2, 6.5, 5.5, 5.9, 5.9, 6.2, 7.4, 6.8, 7.3, 5.6, 5.8, 5.2, 7.2, 5.8, 7.7, 6.1, 7.0, 6.5, 6.6, 6.6, 6.6, 6.6, 6.6, 6.6, 6.6, 6.6, 6.6, 6.6, 6.6, 6.6, 6.6, 6.6, 6.6, 6.6, 6.6, 6.6, 6.6, 6.6, 6.6, 6.6, 6.6, 6.6, 6.6, 6.6, 6.6, 6.6, 6.6, 6.6, 6.6, 6.6, 6.6, 6.6, 6.6, 6.6, 6.6, 6.6, 6.6, 6.6, 6.6, 6.6, 6.6, 6.6, 6.6, 6.6, 6.6, 6.6, 6.6, 6.6, 6.6, 6.6, 6.6, 6.6, 6.6, 6.6, 6.6, 6.6, 6.6, 6.6, 6.6, 6.6, 6.6, 6.6, 6.6, 6.6, 6.6, 6.6, 6.6, 6.6, 6.6, 6.6, 6.6, 6.6, 6.6, 6.6, 6.6, 6.6, 6.6, 6.6, 6.6, 6.6, 6.6, 6.6, 6.6, 6.6, 6.6, 6.6, 6.6, 6.6, 6.6, 6.6, 6.6, 6.6, 6.6, 6.6, 6.6, 6.6, 6.6, 6.6, 6.6, 6.6, 6.6, 6.6, 6.6, 6.6, 6.6, 6.6, 6.6, 6.6, 6.6, 6.6, 6.6, 6.6, 6.6, 6.6, 6.6, 6.6, 6.6, 6.6, 6.6, 6.6, 6.6, 6.6, 6.6, 6.6, 6.6, 6.6, 6.6, 6.6, 6.6, 6.6, 6.6, 6.6, 6.6, 6.6, 6.6, 6.6, 6.6, 6.6, 6.6, 6.6, 6.6, 6.6, 6.6, 6.6, 6.6, 6.6, 6.6, 6.6, 6.6, 6.6, 6.6, 6.6, 6.6, 6.6, 6.6, 6.6, 6.6, 6.6, 6.6, 6.6, 6.6, 6.6, 6.6, 6.6, 6.6, 6.6, 6.6, 6.6, 6.6, 6.6, 6.6, 6.6, 6.6, 6.6, 6.6, 6.6, 6.6, 6.6, 6.6, 6.6, 6.6, 6.6, 6.6, 6.6, 6.6, 6.6, 6.6, 6.6, 6.6, 6.6, 6.6, 6.6, 6.6, 6.6, 6.6, 6.6, 6.6, 6.6, 6.6, 6.6, 6.6, 6.6, 6.6, 6.6, 6.6, 6.6, 6.6, 6.6, 6.6, 6.6, 6.6, 6.6, 6.6, 6.6, 6.6, 6.6, 6.6, 6.6, 6.6, 6.6, 6.6, 6.6, 6.6, 6.6, 6.6, 6.6, 6.6, 6.6, 6.6, 6.6, 6.6, 6.6, 6.6, 6.6, 6.6, 6.6, 6.6, 6.6, 6.6, 6.6, 6.6, 6.6, 6.6, 6.6, 6.6, 6.6, 6.6, 6.6, 6.6, 6.6, 6.6, 6.6, 6.6, 6.6, 5.7, 6.7, 6.5, 7.3, 6.4, 6.0, 5.7, 6.2, 5.9, 5.8, 6.6, 6.4, 7.5, 6.7, 6.4, 7.2, 6.2, 5.7, 6.2, 6.4, 6.8, 6.1, 6.9, 5.5, 4.4, 7.2, 7.1, 4.2, 5.8, 7.1, 5.5, 6.6, 7.4, 6.1, 6.4, 5.8, 7.1, 5.5, 6.7, 6.7, 3.4, 7.0, 7.8, 7.0, 7.2, 6.6, 7.0, 7.1, 4.7, 5.9, 4.7, 6.2, 5.9, 5.9, 5.8, 5.5, 6.2, 5.1, 6.5, 6.1, 7.1, 7.4, 6.5, 7.2, 6.5, 5.6, 7.5, 6.2, 6.4, 6.2, 6.2, 6.0, 6.6, 7.7, 7.1, 5.7, 6.0, 5.9, 6.5, 5.8, 6.9, 5.6, 7.0, 6.7, 7.0, 7.0, 7.9, 5.7, 6.1, 6.8, 6.3, 5.8, 6.6, 5.7, 6.1, 6.9, 5.1, 6.2, 7.3, 6.6, 7.6, 4.5, 4.5, 6.4, 6.0, 6.8, 6.3, 6.6, 6.0, 6.9, 7.1, 6.4, 7.0, 6.6, 6.0, 6.5, 5.1, 6.4, 6.3, 6.2, 6.6, 6.3, 4.9, 5.9, 6.1, 7.3, 5.0, 5.5, 7.5, 6.2, 5.5, 6.0, 6.9, 6.6, 4.2, 5.3, 5.3, 5.4, 6.5, 6.4, 7.8, 5.6, 5.4, 6.0, 5.2, 6.3, 7.0, 5.8, 6.5, 4.6, 5.1, 6.8, 6.0, 6.8, 5.9, 5.1, 6.1, 5.0, 6.9, 6.7, 5.6, 5.9, 6.7, 4.9, 4.3, 5.3, 5.9, 4.2, 5.3, 8.2, 7.5, 6.2, 5.4, 6.0, 6.9, 6.2, 6.0, 7.1, 5.5, 4.8, 5.6, 6.2, 6.8, 5.5, 6.2, 5.8, 5.4, 6.2, 6.7, 5.8, 6.4, 5.2, 5.9, 6.5, 6.5, 5.6, 7.7, 4.1, 6.2, 6.5, 6.1, 6.7, 5.6, 5.9, 7.0, 5.5, 2.3]}],\n",
              "                        {\"template\": {\"data\": {\"bar\": [{\"error_x\": {\"color\": \"#2a3f5f\"}, \"error_y\": {\"color\": \"#2a3f5f\"}, \"marker\": {\"line\": {\"color\": \"#E5ECF6\", \"width\": 0.5}}, \"type\": \"bar\"}], \"barpolar\": [{\"marker\": {\"line\": {\"color\": \"#E5ECF6\", \"width\": 0.5}}, \"type\": \"barpolar\"}], \"carpet\": [{\"aaxis\": {\"endlinecolor\": \"#2a3f5f\", \"gridcolor\": \"white\", \"linecolor\": \"white\", \"minorgridcolor\": \"white\", \"startlinecolor\": \"#2a3f5f\"}, \"baxis\": {\"endlinecolor\": \"#2a3f5f\", \"gridcolor\": \"white\", \"linecolor\": \"white\", \"minorgridcolor\": \"white\", \"startlinecolor\": \"#2a3f5f\"}, \"type\": \"carpet\"}], \"choropleth\": [{\"colorbar\": {\"outlinewidth\": 0, \"ticks\": \"\"}, \"type\": \"choropleth\"}], \"contour\": [{\"colorbar\": {\"outlinewidth\": 0, \"ticks\": \"\"}, \"colorscale\": [[0.0, \"#0d0887\"], [0.1111111111111111, \"#46039f\"], [0.2222222222222222, \"#7201a8\"], [0.3333333333333333, \"#9c179e\"], [0.4444444444444444, \"#bd3786\"], [0.5555555555555556, \"#d8576b\"], [0.6666666666666666, \"#ed7953\"], [0.7777777777777778, \"#fb9f3a\"], [0.8888888888888888, \"#fdca26\"], [1.0, \"#f0f921\"]], \"type\": \"contour\"}], \"contourcarpet\": [{\"colorbar\": {\"outlinewidth\": 0, \"ticks\": \"\"}, \"type\": \"contourcarpet\"}], \"heatmap\": [{\"colorbar\": {\"outlinewidth\": 0, \"ticks\": \"\"}, \"colorscale\": [[0.0, \"#0d0887\"], [0.1111111111111111, \"#46039f\"], [0.2222222222222222, \"#7201a8\"], [0.3333333333333333, \"#9c179e\"], [0.4444444444444444, \"#bd3786\"], [0.5555555555555556, \"#d8576b\"], [0.6666666666666666, \"#ed7953\"], [0.7777777777777778, \"#fb9f3a\"], [0.8888888888888888, \"#fdca26\"], [1.0, \"#f0f921\"]], \"type\": \"heatmap\"}], \"heatmapgl\": [{\"colorbar\": {\"outlinewidth\": 0, \"ticks\": \"\"}, \"colorscale\": [[0.0, \"#0d0887\"], [0.1111111111111111, \"#46039f\"], [0.2222222222222222, \"#7201a8\"], [0.3333333333333333, \"#9c179e\"], [0.4444444444444444, \"#bd3786\"], [0.5555555555555556, \"#d8576b\"], [0.6666666666666666, \"#ed7953\"], [0.7777777777777778, \"#fb9f3a\"], [0.8888888888888888, \"#fdca26\"], [1.0, \"#f0f921\"]], \"type\": \"heatmapgl\"}], \"histogram\": [{\"marker\": {\"colorbar\": {\"outlinewidth\": 0, \"ticks\": \"\"}}, \"type\": \"histogram\"}], \"histogram2d\": [{\"colorbar\": {\"outlinewidth\": 0, \"ticks\": \"\"}, \"colorscale\": [[0.0, \"#0d0887\"], [0.1111111111111111, \"#46039f\"], [0.2222222222222222, \"#7201a8\"], [0.3333333333333333, \"#9c179e\"], [0.4444444444444444, \"#bd3786\"], [0.5555555555555556, \"#d8576b\"], [0.6666666666666666, \"#ed7953\"], [0.7777777777777778, \"#fb9f3a\"], [0.8888888888888888, \"#fdca26\"], [1.0, \"#f0f921\"]], \"type\": \"histogram2d\"}], \"histogram2dcontour\": [{\"colorbar\": {\"outlinewidth\": 0, \"ticks\": \"\"}, \"colorscale\": [[0.0, \"#0d0887\"], [0.1111111111111111, \"#46039f\"], [0.2222222222222222, \"#7201a8\"], [0.3333333333333333, \"#9c179e\"], [0.4444444444444444, \"#bd3786\"], [0.5555555555555556, \"#d8576b\"], [0.6666666666666666, \"#ed7953\"], [0.7777777777777778, \"#fb9f3a\"], [0.8888888888888888, \"#fdca26\"], [1.0, \"#f0f921\"]], \"type\": \"histogram2dcontour\"}], \"mesh3d\": [{\"colorbar\": {\"outlinewidth\": 0, \"ticks\": \"\"}, \"type\": \"mesh3d\"}], \"parcoords\": [{\"line\": {\"colorbar\": {\"outlinewidth\": 0, \"ticks\": \"\"}}, \"type\": \"parcoords\"}], \"pie\": [{\"automargin\": true, \"type\": \"pie\"}], \"scatter\": [{\"marker\": {\"colorbar\": {\"outlinewidth\": 0, \"ticks\": \"\"}}, \"type\": \"scatter\"}], \"scatter3d\": [{\"line\": {\"colorbar\": {\"outlinewidth\": 0, \"ticks\": \"\"}}, \"marker\": {\"colorbar\": {\"outlinewidth\": 0, \"ticks\": \"\"}}, \"type\": \"scatter3d\"}], \"scattercarpet\": [{\"marker\": {\"colorbar\": {\"outlinewidth\": 0, \"ticks\": \"\"}}, \"type\": \"scattercarpet\"}], \"scattergeo\": [{\"marker\": {\"colorbar\": {\"outlinewidth\": 0, \"ticks\": \"\"}}, \"type\": \"scattergeo\"}], \"scattergl\": [{\"marker\": {\"colorbar\": {\"outlinewidth\": 0, \"ticks\": \"\"}}, \"type\": \"scattergl\"}], \"scattermapbox\": [{\"marker\": {\"colorbar\": {\"outlinewidth\": 0, \"ticks\": \"\"}}, \"type\": \"scattermapbox\"}], \"scatterpolar\": [{\"marker\": {\"colorbar\": {\"outlinewidth\": 0, \"ticks\": \"\"}}, \"type\": \"scatterpolar\"}], \"scatterpolargl\": [{\"marker\": {\"colorbar\": {\"outlinewidth\": 0, \"ticks\": \"\"}}, \"type\": \"scatterpolargl\"}], \"scatterternary\": [{\"marker\": {\"colorbar\": {\"outlinewidth\": 0, \"ticks\": \"\"}}, \"type\": \"scatterternary\"}], \"surface\": [{\"colorbar\": {\"outlinewidth\": 0, \"ticks\": \"\"}, \"colorscale\": [[0.0, \"#0d0887\"], [0.1111111111111111, \"#46039f\"], [0.2222222222222222, \"#7201a8\"], [0.3333333333333333, \"#9c179e\"], [0.4444444444444444, \"#bd3786\"], [0.5555555555555556, \"#d8576b\"], [0.6666666666666666, \"#ed7953\"], [0.7777777777777778, \"#fb9f3a\"], [0.8888888888888888, \"#fdca26\"], [1.0, \"#f0f921\"]], \"type\": \"surface\"}], \"table\": [{\"cells\": {\"fill\": {\"color\": \"#EBF0F8\"}, \"line\": {\"color\": \"white\"}}, \"header\": {\"fill\": {\"color\": \"#C8D4E3\"}, \"line\": {\"color\": \"white\"}}, \"type\": \"table\"}]}, \"layout\": {\"annotationdefaults\": {\"arrowcolor\": \"#2a3f5f\", \"arrowhead\": 0, \"arrowwidth\": 1}, \"coloraxis\": {\"colorbar\": {\"outlinewidth\": 0, \"ticks\": \"\"}}, \"colorscale\": {\"diverging\": [[0, \"#8e0152\"], [0.1, \"#c51b7d\"], [0.2, \"#de77ae\"], [0.3, \"#f1b6da\"], [0.4, \"#fde0ef\"], [0.5, \"#f7f7f7\"], [0.6, \"#e6f5d0\"], [0.7, \"#b8e186\"], [0.8, \"#7fbc41\"], [0.9, \"#4d9221\"], [1, \"#276419\"]], \"sequential\": [[0.0, \"#0d0887\"], [0.1111111111111111, \"#46039f\"], [0.2222222222222222, \"#7201a8\"], [0.3333333333333333, \"#9c179e\"], [0.4444444444444444, \"#bd3786\"], [0.5555555555555556, \"#d8576b\"], [0.6666666666666666, \"#ed7953\"], [0.7777777777777778, \"#fb9f3a\"], [0.8888888888888888, \"#fdca26\"], [1.0, \"#f0f921\"]], \"sequentialminus\": [[0.0, \"#0d0887\"], [0.1111111111111111, \"#46039f\"], [0.2222222222222222, \"#7201a8\"], [0.3333333333333333, \"#9c179e\"], [0.4444444444444444, \"#bd3786\"], [0.5555555555555556, \"#d8576b\"], [0.6666666666666666, \"#ed7953\"], [0.7777777777777778, \"#fb9f3a\"], [0.8888888888888888, \"#fdca26\"], [1.0, \"#f0f921\"]]}, \"colorway\": [\"#636efa\", \"#EF553B\", \"#00cc96\", \"#ab63fa\", \"#FFA15A\", \"#19d3f3\", \"#FF6692\", \"#B6E880\", \"#FF97FF\", \"#FECB52\"], \"font\": {\"color\": \"#2a3f5f\"}, \"geo\": {\"bgcolor\": \"white\", \"lakecolor\": \"white\", \"landcolor\": \"#E5ECF6\", \"showlakes\": true, \"showland\": true, \"subunitcolor\": \"white\"}, \"hoverlabel\": {\"align\": \"left\"}, \"hovermode\": \"closest\", \"mapbox\": {\"style\": \"light\"}, \"paper_bgcolor\": \"white\", \"plot_bgcolor\": \"#E5ECF6\", \"polar\": {\"angularaxis\": {\"gridcolor\": \"white\", \"linecolor\": \"white\", \"ticks\": \"\"}, \"bgcolor\": \"#E5ECF6\", \"radialaxis\": {\"gridcolor\": \"white\", \"linecolor\": \"white\", \"ticks\": \"\"}}, \"scene\": {\"xaxis\": {\"backgroundcolor\": \"#E5ECF6\", \"gridcolor\": \"white\", \"gridwidth\": 2, \"linecolor\": \"white\", \"showbackground\": true, \"ticks\": \"\", \"zerolinecolor\": \"white\"}, \"yaxis\": {\"backgroundcolor\": \"#E5ECF6\", \"gridcolor\": \"white\", \"gridwidth\": 2, \"linecolor\": \"white\", \"showbackground\": true, \"ticks\": \"\", \"zerolinecolor\": \"white\"}, \"zaxis\": {\"backgroundcolor\": \"#E5ECF6\", \"gridcolor\": \"white\", \"gridwidth\": 2, \"linecolor\": \"white\", \"showbackground\": true, \"ticks\": \"\", \"zerolinecolor\": \"white\"}}, \"shapedefaults\": {\"line\": {\"color\": \"#2a3f5f\"}}, \"ternary\": {\"aaxis\": {\"gridcolor\": \"white\", \"linecolor\": \"white\", \"ticks\": \"\"}, \"baxis\": {\"gridcolor\": \"white\", \"linecolor\": \"white\", \"ticks\": \"\"}, \"bgcolor\": \"#E5ECF6\", \"caxis\": {\"gridcolor\": \"white\", \"linecolor\": \"white\", \"ticks\": \"\"}}, \"title\": {\"x\": 0.05}, \"xaxis\": {\"automargin\": true, \"gridcolor\": \"white\", \"linecolor\": \"white\", \"ticks\": \"\", \"title\": {\"standoff\": 15}, \"zerolinecolor\": \"white\", \"zerolinewidth\": 2}, \"yaxis\": {\"automargin\": true, \"gridcolor\": \"white\", \"linecolor\": \"white\", \"ticks\": \"\", \"title\": {\"standoff\": 15}, \"zerolinecolor\": \"white\", \"zerolinewidth\": 2}}}, \"title\": {\"text\": \"Movie Ratings by budget\"}, \"xaxis\": {\"title\": {\"text\": \"Budget\"}}, \"yaxis\": {\"title\": {\"text\": \"Movie Rating\"}}},\n",
              "                        {\"responsive\": true}\n",
              "                    ).then(function(){\n",
              "                            \n",
              "var gd = document.getElementById('4daca5b7-725a-40cc-bfc7-f0de2dffd4c5');\n",
              "var x = new MutationObserver(function (mutations, observer) {{\n",
              "        var display = window.getComputedStyle(gd).display;\n",
              "        if (!display || display === 'none') {{\n",
              "            console.log([gd, 'removed!']);\n",
              "            Plotly.purge(gd);\n",
              "            observer.disconnect();\n",
              "        }}\n",
              "}});\n",
              "\n",
              "// Listen for the removal of the full notebook cells\n",
              "var notebookContainer = gd.closest('#notebook-container');\n",
              "if (notebookContainer) {{\n",
              "    x.observe(notebookContainer, {childList: true});\n",
              "}}\n",
              "\n",
              "// Listen for the clearing of the current output cell\n",
              "var outputEl = gd.closest('.output');\n",
              "if (outputEl) {{\n",
              "    x.observe(outputEl, {childList: true});\n",
              "}}\n",
              "\n",
              "                        })\n",
              "                };\n",
              "                \n",
              "            </script>\n",
              "        </div>\n",
              "</body>\n",
              "</html>"
            ]
          },
          "metadata": {
            "tags": []
          }
        }
      ]
    },
    {
      "cell_type": "code",
      "metadata": {
        "id": "FmSXwsiqRasX",
        "colab_type": "code",
        "colab": {}
      },
      "source": [
        "from sklearn.preprocessing import StandardScaler\n",
        "from sklearn.decomposition import PCA"
      ],
      "execution_count": 0,
      "outputs": []
    },
    {
      "cell_type": "markdown",
      "metadata": {
        "colab_type": "text",
        "id": "rIGUfYG9tDAi"
      },
      "source": [
        "## Genre"
      ]
    },
    {
      "cell_type": "code",
      "metadata": {
        "id": "HrYgMFYiRasc",
        "colab_type": "code",
        "colab": {}
      },
      "source": [
        "genres = clean_movies[['title','genres']]"
      ],
      "execution_count": 0,
      "outputs": []
    },
    {
      "cell_type": "code",
      "metadata": {
        "id": "19x_EzK0Rasg",
        "colab_type": "code",
        "colab": {}
      },
      "source": [
        "import ast"
      ],
      "execution_count": 0,
      "outputs": []
    },
    {
      "cell_type": "code",
      "metadata": {
        "id": "W3j61q6fRasj",
        "colab_type": "code",
        "colab": {}
      },
      "source": [
        "bad_genres = [\n",
        "           'Aniplex',\n",
        " 'BROSTA TV',\n",
        " 'Carousel Productions',   \n",
        "  'GoHands',\n",
        "   'Mardock Scramble Production Committee',\n",
        "    'Odyssey Media',\n",
        "     'Pulser Productions',\n",
        " 'Rogue State',\n",
        "  'Sentai Filmworks',\n",
        "   'Telescene Film Group Productions',\n",
        " 'The Cartel',\n",
        "  'Vision View Entertainment',\n",
        "]\n",
        "\n",
        "#genre_set = genre_set.difference(bad_genres)"
      ],
      "execution_count": 0,
      "outputs": []
    },
    {
      "cell_type": "code",
      "metadata": {
        "id": "ZDSvnyI1Rasm",
        "colab_type": "code",
        "outputId": "d112d834-5008-4c72-ef77-a89bd2c47318",
        "colab": {
          "base_uri": "https://localhost:8080/",
          "height": 0
        }
      },
      "source": [
        "genres['genres_ls'] = [\n",
        "                    [d['name'] for d in ast.literal_eval(x) if d['name'] not in bad_genres ]\n",
        "                    for x in genres['genres']\n",
        "                    ]\n",
        "genres['genres_ls']"
      ],
      "execution_count": 46,
      "outputs": [
        {
          "output_type": "execute_result",
          "data": {
            "text/plain": [
              "5.0                                   [Crime, Comedy]\n",
              "6.0                         [Action, Thriller, Crime]\n",
              "11.0             [Adventure, Action, Science Fiction]\n",
              "12.0                              [Animation, Family]\n",
              "13.0                         [Comedy, Drama, Romance]\n",
              "                              ...                    \n",
              "103299.0    [Drama, Action, Thriller, Crime, Mystery]\n",
              "109161.0                      [Crime, Action, Comedy]\n",
              "110669.0                                      [Music]\n",
              "115210.0                                     [Horror]\n",
              "116977.0          [Animation, Action, Comedy, Family]\n",
              "Name: genres_ls, Length: 1552, dtype: object"
            ]
          },
          "metadata": {
            "tags": []
          },
          "execution_count": 46
        }
      ]
    },
    {
      "cell_type": "code",
      "metadata": {
        "id": "CeWsgHmoRasp",
        "colab_type": "code",
        "colab": {}
      },
      "source": [
        "from sklearn.preprocessing import MultiLabelBinarizer"
      ],
      "execution_count": 0,
      "outputs": []
    },
    {
      "cell_type": "code",
      "metadata": {
        "id": "zw9fcbigRass",
        "colab_type": "code",
        "colab": {}
      },
      "source": [
        "mlb = MultiLabelBinarizer()"
      ],
      "execution_count": 0,
      "outputs": []
    },
    {
      "cell_type": "code",
      "metadata": {
        "id": "aRKx3lrtRast",
        "colab_type": "code",
        "colab": {}
      },
      "source": [
        "mlb_ = mlb.fit_transform(genres['genres_ls'])"
      ],
      "execution_count": 0,
      "outputs": []
    },
    {
      "cell_type": "code",
      "metadata": {
        "id": "aS9oLntdRasx",
        "colab_type": "code",
        "outputId": "30d20a6f-7a09-4c89-bbbf-6934de454e90",
        "colab": {
          "base_uri": "https://localhost:8080/",
          "height": 0
        }
      },
      "source": [
        "encoded_genres = pd.DataFrame(mlb_, columns = mlb.classes_, index = genres.index)\n",
        "encoded_genres"
      ],
      "execution_count": 50,
      "outputs": [
        {
          "output_type": "execute_result",
          "data": {
            "text/html": [
              "<div>\n",
              "<style scoped>\n",
              "    .dataframe tbody tr th:only-of-type {\n",
              "        vertical-align: middle;\n",
              "    }\n",
              "\n",
              "    .dataframe tbody tr th {\n",
              "        vertical-align: top;\n",
              "    }\n",
              "\n",
              "    .dataframe thead th {\n",
              "        text-align: right;\n",
              "    }\n",
              "</style>\n",
              "<table border=\"1\" class=\"dataframe\">\n",
              "  <thead>\n",
              "    <tr style=\"text-align: right;\">\n",
              "      <th></th>\n",
              "      <th>Action</th>\n",
              "      <th>Adventure</th>\n",
              "      <th>Animation</th>\n",
              "      <th>Comedy</th>\n",
              "      <th>Crime</th>\n",
              "      <th>Documentary</th>\n",
              "      <th>Drama</th>\n",
              "      <th>Family</th>\n",
              "      <th>Fantasy</th>\n",
              "      <th>Foreign</th>\n",
              "      <th>History</th>\n",
              "      <th>Horror</th>\n",
              "      <th>Music</th>\n",
              "      <th>Mystery</th>\n",
              "      <th>Romance</th>\n",
              "      <th>Science Fiction</th>\n",
              "      <th>Thriller</th>\n",
              "      <th>War</th>\n",
              "      <th>Western</th>\n",
              "    </tr>\n",
              "  </thead>\n",
              "  <tbody>\n",
              "    <tr>\n",
              "      <th>5.0</th>\n",
              "      <td>0</td>\n",
              "      <td>0</td>\n",
              "      <td>0</td>\n",
              "      <td>1</td>\n",
              "      <td>1</td>\n",
              "      <td>0</td>\n",
              "      <td>0</td>\n",
              "      <td>0</td>\n",
              "      <td>0</td>\n",
              "      <td>0</td>\n",
              "      <td>0</td>\n",
              "      <td>0</td>\n",
              "      <td>0</td>\n",
              "      <td>0</td>\n",
              "      <td>0</td>\n",
              "      <td>0</td>\n",
              "      <td>0</td>\n",
              "      <td>0</td>\n",
              "      <td>0</td>\n",
              "    </tr>\n",
              "    <tr>\n",
              "      <th>6.0</th>\n",
              "      <td>1</td>\n",
              "      <td>0</td>\n",
              "      <td>0</td>\n",
              "      <td>0</td>\n",
              "      <td>1</td>\n",
              "      <td>0</td>\n",
              "      <td>0</td>\n",
              "      <td>0</td>\n",
              "      <td>0</td>\n",
              "      <td>0</td>\n",
              "      <td>0</td>\n",
              "      <td>0</td>\n",
              "      <td>0</td>\n",
              "      <td>0</td>\n",
              "      <td>0</td>\n",
              "      <td>0</td>\n",
              "      <td>1</td>\n",
              "      <td>0</td>\n",
              "      <td>0</td>\n",
              "    </tr>\n",
              "    <tr>\n",
              "      <th>11.0</th>\n",
              "      <td>1</td>\n",
              "      <td>1</td>\n",
              "      <td>0</td>\n",
              "      <td>0</td>\n",
              "      <td>0</td>\n",
              "      <td>0</td>\n",
              "      <td>0</td>\n",
              "      <td>0</td>\n",
              "      <td>0</td>\n",
              "      <td>0</td>\n",
              "      <td>0</td>\n",
              "      <td>0</td>\n",
              "      <td>0</td>\n",
              "      <td>0</td>\n",
              "      <td>0</td>\n",
              "      <td>1</td>\n",
              "      <td>0</td>\n",
              "      <td>0</td>\n",
              "      <td>0</td>\n",
              "    </tr>\n",
              "    <tr>\n",
              "      <th>12.0</th>\n",
              "      <td>0</td>\n",
              "      <td>0</td>\n",
              "      <td>1</td>\n",
              "      <td>0</td>\n",
              "      <td>0</td>\n",
              "      <td>0</td>\n",
              "      <td>0</td>\n",
              "      <td>1</td>\n",
              "      <td>0</td>\n",
              "      <td>0</td>\n",
              "      <td>0</td>\n",
              "      <td>0</td>\n",
              "      <td>0</td>\n",
              "      <td>0</td>\n",
              "      <td>0</td>\n",
              "      <td>0</td>\n",
              "      <td>0</td>\n",
              "      <td>0</td>\n",
              "      <td>0</td>\n",
              "    </tr>\n",
              "    <tr>\n",
              "      <th>13.0</th>\n",
              "      <td>0</td>\n",
              "      <td>0</td>\n",
              "      <td>0</td>\n",
              "      <td>1</td>\n",
              "      <td>0</td>\n",
              "      <td>0</td>\n",
              "      <td>1</td>\n",
              "      <td>0</td>\n",
              "      <td>0</td>\n",
              "      <td>0</td>\n",
              "      <td>0</td>\n",
              "      <td>0</td>\n",
              "      <td>0</td>\n",
              "      <td>0</td>\n",
              "      <td>1</td>\n",
              "      <td>0</td>\n",
              "      <td>0</td>\n",
              "      <td>0</td>\n",
              "      <td>0</td>\n",
              "    </tr>\n",
              "    <tr>\n",
              "      <th>...</th>\n",
              "      <td>...</td>\n",
              "      <td>...</td>\n",
              "      <td>...</td>\n",
              "      <td>...</td>\n",
              "      <td>...</td>\n",
              "      <td>...</td>\n",
              "      <td>...</td>\n",
              "      <td>...</td>\n",
              "      <td>...</td>\n",
              "      <td>...</td>\n",
              "      <td>...</td>\n",
              "      <td>...</td>\n",
              "      <td>...</td>\n",
              "      <td>...</td>\n",
              "      <td>...</td>\n",
              "      <td>...</td>\n",
              "      <td>...</td>\n",
              "      <td>...</td>\n",
              "      <td>...</td>\n",
              "    </tr>\n",
              "    <tr>\n",
              "      <th>103299.0</th>\n",
              "      <td>1</td>\n",
              "      <td>0</td>\n",
              "      <td>0</td>\n",
              "      <td>0</td>\n",
              "      <td>1</td>\n",
              "      <td>0</td>\n",
              "      <td>1</td>\n",
              "      <td>0</td>\n",
              "      <td>0</td>\n",
              "      <td>0</td>\n",
              "      <td>0</td>\n",
              "      <td>0</td>\n",
              "      <td>0</td>\n",
              "      <td>1</td>\n",
              "      <td>0</td>\n",
              "      <td>0</td>\n",
              "      <td>1</td>\n",
              "      <td>0</td>\n",
              "      <td>0</td>\n",
              "    </tr>\n",
              "    <tr>\n",
              "      <th>109161.0</th>\n",
              "      <td>1</td>\n",
              "      <td>0</td>\n",
              "      <td>0</td>\n",
              "      <td>1</td>\n",
              "      <td>1</td>\n",
              "      <td>0</td>\n",
              "      <td>0</td>\n",
              "      <td>0</td>\n",
              "      <td>0</td>\n",
              "      <td>0</td>\n",
              "      <td>0</td>\n",
              "      <td>0</td>\n",
              "      <td>0</td>\n",
              "      <td>0</td>\n",
              "      <td>0</td>\n",
              "      <td>0</td>\n",
              "      <td>0</td>\n",
              "      <td>0</td>\n",
              "      <td>0</td>\n",
              "    </tr>\n",
              "    <tr>\n",
              "      <th>110669.0</th>\n",
              "      <td>0</td>\n",
              "      <td>0</td>\n",
              "      <td>0</td>\n",
              "      <td>0</td>\n",
              "      <td>0</td>\n",
              "      <td>0</td>\n",
              "      <td>0</td>\n",
              "      <td>0</td>\n",
              "      <td>0</td>\n",
              "      <td>0</td>\n",
              "      <td>0</td>\n",
              "      <td>0</td>\n",
              "      <td>1</td>\n",
              "      <td>0</td>\n",
              "      <td>0</td>\n",
              "      <td>0</td>\n",
              "      <td>0</td>\n",
              "      <td>0</td>\n",
              "      <td>0</td>\n",
              "    </tr>\n",
              "    <tr>\n",
              "      <th>115210.0</th>\n",
              "      <td>0</td>\n",
              "      <td>0</td>\n",
              "      <td>0</td>\n",
              "      <td>0</td>\n",
              "      <td>0</td>\n",
              "      <td>0</td>\n",
              "      <td>0</td>\n",
              "      <td>0</td>\n",
              "      <td>0</td>\n",
              "      <td>0</td>\n",
              "      <td>0</td>\n",
              "      <td>1</td>\n",
              "      <td>0</td>\n",
              "      <td>0</td>\n",
              "      <td>0</td>\n",
              "      <td>0</td>\n",
              "      <td>0</td>\n",
              "      <td>0</td>\n",
              "      <td>0</td>\n",
              "    </tr>\n",
              "    <tr>\n",
              "      <th>116977.0</th>\n",
              "      <td>1</td>\n",
              "      <td>0</td>\n",
              "      <td>1</td>\n",
              "      <td>1</td>\n",
              "      <td>0</td>\n",
              "      <td>0</td>\n",
              "      <td>0</td>\n",
              "      <td>1</td>\n",
              "      <td>0</td>\n",
              "      <td>0</td>\n",
              "      <td>0</td>\n",
              "      <td>0</td>\n",
              "      <td>0</td>\n",
              "      <td>0</td>\n",
              "      <td>0</td>\n",
              "      <td>0</td>\n",
              "      <td>0</td>\n",
              "      <td>0</td>\n",
              "      <td>0</td>\n",
              "    </tr>\n",
              "  </tbody>\n",
              "</table>\n",
              "<p>1552 rows × 19 columns</p>\n",
              "</div>"
            ],
            "text/plain": [
              "          Action  Adventure  Animation  ...  Thriller  War  Western\n",
              "5.0            0          0          0  ...         0    0        0\n",
              "6.0            1          0          0  ...         1    0        0\n",
              "11.0           1          1          0  ...         0    0        0\n",
              "12.0           0          0          1  ...         0    0        0\n",
              "13.0           0          0          0  ...         0    0        0\n",
              "...          ...        ...        ...  ...       ...  ...      ...\n",
              "103299.0       1          0          0  ...         1    0        0\n",
              "109161.0       1          0          0  ...         0    0        0\n",
              "110669.0       0          0          0  ...         0    0        0\n",
              "115210.0       0          0          0  ...         0    0        0\n",
              "116977.0       1          0          1  ...         0    0        0\n",
              "\n",
              "[1552 rows x 19 columns]"
            ]
          },
          "metadata": {
            "tags": []
          },
          "execution_count": 50
        }
      ]
    },
    {
      "cell_type": "code",
      "metadata": {
        "id": "-Wt3kgUaRas0",
        "colab_type": "code",
        "outputId": "7099c046-d15f-4e81-c5f3-ede16dd0a8c5",
        "colab": {
          "base_uri": "https://localhost:8080/",
          "height": 0
        }
      },
      "source": [
        "encoded_genres = clean_movies.merge(encoded_genres, **merge_keys)\n",
        "encoded_genres"
      ],
      "execution_count": 51,
      "outputs": [
        {
          "output_type": "execute_result",
          "data": {
            "text/html": [
              "<div>\n",
              "<style scoped>\n",
              "    .dataframe tbody tr th:only-of-type {\n",
              "        vertical-align: middle;\n",
              "    }\n",
              "\n",
              "    .dataframe tbody tr th {\n",
              "        vertical-align: top;\n",
              "    }\n",
              "\n",
              "    .dataframe thead th {\n",
              "        text-align: right;\n",
              "    }\n",
              "</style>\n",
              "<table border=\"1\" class=\"dataframe\">\n",
              "  <thead>\n",
              "    <tr style=\"text-align: right;\">\n",
              "      <th></th>\n",
              "      <th>title</th>\n",
              "      <th>genres</th>\n",
              "      <th>release_date</th>\n",
              "      <th>budget</th>\n",
              "      <th>revenue</th>\n",
              "      <th>year</th>\n",
              "      <th>runtime</th>\n",
              "      <th>vote_average</th>\n",
              "      <th>vote_count</th>\n",
              "      <th>rating</th>\n",
              "      <th>num_votes</th>\n",
              "      <th>adjusted_revenue</th>\n",
              "      <th>decade</th>\n",
              "      <th>scaled_tmdb_vote</th>\n",
              "      <th>scaled_user_rating</th>\n",
              "      <th>PCA</th>\n",
              "      <th>q_budget</th>\n",
              "      <th>Action</th>\n",
              "      <th>Adventure</th>\n",
              "      <th>Animation</th>\n",
              "      <th>Comedy</th>\n",
              "      <th>Crime</th>\n",
              "      <th>Documentary</th>\n",
              "      <th>Drama</th>\n",
              "      <th>Family</th>\n",
              "      <th>Fantasy</th>\n",
              "      <th>Foreign</th>\n",
              "      <th>History</th>\n",
              "      <th>Horror</th>\n",
              "      <th>Music</th>\n",
              "      <th>Mystery</th>\n",
              "      <th>Romance</th>\n",
              "      <th>Science Fiction</th>\n",
              "      <th>Thriller</th>\n",
              "      <th>War</th>\n",
              "      <th>Western</th>\n",
              "    </tr>\n",
              "  </thead>\n",
              "  <tbody>\n",
              "    <tr>\n",
              "      <th>5.0</th>\n",
              "      <td>Four Rooms</td>\n",
              "      <td>[{'id': 80, 'name': 'Crime'}, {'id': 35, 'name...</td>\n",
              "      <td>1995-12-09</td>\n",
              "      <td>4000000.0</td>\n",
              "      <td>4300000.0</td>\n",
              "      <td>1995.0</td>\n",
              "      <td>98.0</td>\n",
              "      <td>6.5</td>\n",
              "      <td>539.0</td>\n",
              "      <td>3.079565</td>\n",
              "      <td>15258</td>\n",
              "      <td>6.680294e+06</td>\n",
              "      <td>1990.0</td>\n",
              "      <td>-0.172824</td>\n",
              "      <td>-0.423752</td>\n",
              "      <td>-0.604977</td>\n",
              "      <td>vlow</td>\n",
              "      <td>0</td>\n",
              "      <td>0</td>\n",
              "      <td>0</td>\n",
              "      <td>1</td>\n",
              "      <td>1</td>\n",
              "      <td>0</td>\n",
              "      <td>0</td>\n",
              "      <td>0</td>\n",
              "      <td>0</td>\n",
              "      <td>0</td>\n",
              "      <td>0</td>\n",
              "      <td>0</td>\n",
              "      <td>0</td>\n",
              "      <td>0</td>\n",
              "      <td>0</td>\n",
              "      <td>0</td>\n",
              "      <td>0</td>\n",
              "      <td>0</td>\n",
              "      <td>0</td>\n",
              "    </tr>\n",
              "    <tr>\n",
              "      <th>6.0</th>\n",
              "      <td>Judgment Night</td>\n",
              "      <td>[{'id': 28, 'name': 'Action'}, {'id': 53, 'nam...</td>\n",
              "      <td>1993-10-15</td>\n",
              "      <td>NaN</td>\n",
              "      <td>12136938.0</td>\n",
              "      <td>1993.0</td>\n",
              "      <td>110.0</td>\n",
              "      <td>6.4</td>\n",
              "      <td>79.0</td>\n",
              "      <td>3.841764</td>\n",
              "      <td>27895</td>\n",
              "      <td>1.988983e+07</td>\n",
              "      <td>1990.0</td>\n",
              "      <td>-0.290514</td>\n",
              "      <td>1.081219</td>\n",
              "      <td>-0.533044</td>\n",
              "      <td>NaN</td>\n",
              "      <td>1</td>\n",
              "      <td>0</td>\n",
              "      <td>0</td>\n",
              "      <td>0</td>\n",
              "      <td>1</td>\n",
              "      <td>0</td>\n",
              "      <td>0</td>\n",
              "      <td>0</td>\n",
              "      <td>0</td>\n",
              "      <td>0</td>\n",
              "      <td>0</td>\n",
              "      <td>0</td>\n",
              "      <td>0</td>\n",
              "      <td>0</td>\n",
              "      <td>0</td>\n",
              "      <td>0</td>\n",
              "      <td>1</td>\n",
              "      <td>0</td>\n",
              "      <td>0</td>\n",
              "    </tr>\n",
              "    <tr>\n",
              "      <th>11.0</th>\n",
              "      <td>Star Wars</td>\n",
              "      <td>[{'id': 12, 'name': 'Adventure'}, {'id': 28, '...</td>\n",
              "      <td>1977-05-25</td>\n",
              "      <td>11000000.0</td>\n",
              "      <td>775398007.0</td>\n",
              "      <td>1977.0</td>\n",
              "      <td>121.0</td>\n",
              "      <td>8.1</td>\n",
              "      <td>6778.0</td>\n",
              "      <td>3.660591</td>\n",
              "      <td>19475</td>\n",
              "      <td>3.028728e+09</td>\n",
              "      <td>1970.0</td>\n",
              "      <td>1.710224</td>\n",
              "      <td>0.723491</td>\n",
              "      <td>8.865144</td>\n",
              "      <td>low</td>\n",
              "      <td>1</td>\n",
              "      <td>1</td>\n",
              "      <td>0</td>\n",
              "      <td>0</td>\n",
              "      <td>0</td>\n",
              "      <td>0</td>\n",
              "      <td>0</td>\n",
              "      <td>0</td>\n",
              "      <td>0</td>\n",
              "      <td>0</td>\n",
              "      <td>0</td>\n",
              "      <td>0</td>\n",
              "      <td>0</td>\n",
              "      <td>0</td>\n",
              "      <td>0</td>\n",
              "      <td>1</td>\n",
              "      <td>0</td>\n",
              "      <td>0</td>\n",
              "      <td>0</td>\n",
              "    </tr>\n",
              "    <tr>\n",
              "      <th>12.0</th>\n",
              "      <td>Finding Nemo</td>\n",
              "      <td>[{'id': 16, 'name': 'Animation'}, {'id': 10751...</td>\n",
              "      <td>2003-05-30</td>\n",
              "      <td>94000000.0</td>\n",
              "      <td>940335536.0</td>\n",
              "      <td>2003.0</td>\n",
              "      <td>100.0</td>\n",
              "      <td>7.6</td>\n",
              "      <td>6292.0</td>\n",
              "      <td>2.672179</td>\n",
              "      <td>4475</td>\n",
              "      <td>1.210119e+09</td>\n",
              "      <td>2000.0</td>\n",
              "      <td>1.121771</td>\n",
              "      <td>-1.228141</td>\n",
              "      <td>3.453371</td>\n",
              "      <td>vhigh</td>\n",
              "      <td>0</td>\n",
              "      <td>0</td>\n",
              "      <td>1</td>\n",
              "      <td>0</td>\n",
              "      <td>0</td>\n",
              "      <td>0</td>\n",
              "      <td>0</td>\n",
              "      <td>1</td>\n",
              "      <td>0</td>\n",
              "      <td>0</td>\n",
              "      <td>0</td>\n",
              "      <td>0</td>\n",
              "      <td>0</td>\n",
              "      <td>0</td>\n",
              "      <td>0</td>\n",
              "      <td>0</td>\n",
              "      <td>0</td>\n",
              "      <td>0</td>\n",
              "      <td>0</td>\n",
              "    </tr>\n",
              "    <tr>\n",
              "      <th>13.0</th>\n",
              "      <td>Forrest Gump</td>\n",
              "      <td>[{'id': 35, 'name': 'Comedy'}, {'id': 18, 'nam...</td>\n",
              "      <td>1994-07-06</td>\n",
              "      <td>55000000.0</td>\n",
              "      <td>677945399.0</td>\n",
              "      <td>1994.0</td>\n",
              "      <td>142.0</td>\n",
              "      <td>8.2</td>\n",
              "      <td>8147.0</td>\n",
              "      <td>3.326442</td>\n",
              "      <td>1838</td>\n",
              "      <td>1.082774e+09</td>\n",
              "      <td>1990.0</td>\n",
              "      <td>1.827914</td>\n",
              "      <td>0.063710</td>\n",
              "      <td>3.721754</td>\n",
              "      <td>vhigh</td>\n",
              "      <td>0</td>\n",
              "      <td>0</td>\n",
              "      <td>0</td>\n",
              "      <td>1</td>\n",
              "      <td>0</td>\n",
              "      <td>0</td>\n",
              "      <td>1</td>\n",
              "      <td>0</td>\n",
              "      <td>0</td>\n",
              "      <td>0</td>\n",
              "      <td>0</td>\n",
              "      <td>0</td>\n",
              "      <td>0</td>\n",
              "      <td>0</td>\n",
              "      <td>1</td>\n",
              "      <td>0</td>\n",
              "      <td>0</td>\n",
              "      <td>0</td>\n",
              "      <td>0</td>\n",
              "    </tr>\n",
              "    <tr>\n",
              "      <th>...</th>\n",
              "      <td>...</td>\n",
              "      <td>...</td>\n",
              "      <td>...</td>\n",
              "      <td>...</td>\n",
              "      <td>...</td>\n",
              "      <td>...</td>\n",
              "      <td>...</td>\n",
              "      <td>...</td>\n",
              "      <td>...</td>\n",
              "      <td>...</td>\n",
              "      <td>...</td>\n",
              "      <td>...</td>\n",
              "      <td>...</td>\n",
              "      <td>...</td>\n",
              "      <td>...</td>\n",
              "      <td>...</td>\n",
              "      <td>...</td>\n",
              "      <td>...</td>\n",
              "      <td>...</td>\n",
              "      <td>...</td>\n",
              "      <td>...</td>\n",
              "      <td>...</td>\n",
              "      <td>...</td>\n",
              "      <td>...</td>\n",
              "      <td>...</td>\n",
              "      <td>...</td>\n",
              "      <td>...</td>\n",
              "      <td>...</td>\n",
              "      <td>...</td>\n",
              "      <td>...</td>\n",
              "      <td>...</td>\n",
              "      <td>...</td>\n",
              "      <td>...</td>\n",
              "      <td>...</td>\n",
              "      <td>...</td>\n",
              "      <td>...</td>\n",
              "    </tr>\n",
              "    <tr>\n",
              "      <th>103299.0</th>\n",
              "      <td>Traces of Red</td>\n",
              "      <td>[{'id': 18, 'name': 'Drama'}, {'id': 28, 'name...</td>\n",
              "      <td>1992-11-13</td>\n",
              "      <td>NaN</td>\n",
              "      <td>3206713.0</td>\n",
              "      <td>1992.0</td>\n",
              "      <td>105.0</td>\n",
              "      <td>7.3</td>\n",
              "      <td>4.0</td>\n",
              "      <td>3.382979</td>\n",
              "      <td>141</td>\n",
              "      <td>5.410226e+06</td>\n",
              "      <td>1990.0</td>\n",
              "      <td>0.768700</td>\n",
              "      <td>0.175343</td>\n",
              "      <td>0.110876</td>\n",
              "      <td>NaN</td>\n",
              "      <td>1</td>\n",
              "      <td>0</td>\n",
              "      <td>0</td>\n",
              "      <td>0</td>\n",
              "      <td>1</td>\n",
              "      <td>0</td>\n",
              "      <td>1</td>\n",
              "      <td>0</td>\n",
              "      <td>0</td>\n",
              "      <td>0</td>\n",
              "      <td>0</td>\n",
              "      <td>0</td>\n",
              "      <td>0</td>\n",
              "      <td>1</td>\n",
              "      <td>0</td>\n",
              "      <td>0</td>\n",
              "      <td>1</td>\n",
              "      <td>0</td>\n",
              "      <td>0</td>\n",
              "    </tr>\n",
              "    <tr>\n",
              "      <th>109161.0</th>\n",
              "      <td>The Squeeze</td>\n",
              "      <td>[{'id': 80, 'name': 'Crime'}, {'id': 28, 'name...</td>\n",
              "      <td>1987-07-10</td>\n",
              "      <td>NaN</td>\n",
              "      <td>2228951.0</td>\n",
              "      <td>1987.0</td>\n",
              "      <td>101.0</td>\n",
              "      <td>5.8</td>\n",
              "      <td>6.0</td>\n",
              "      <td>3.579167</td>\n",
              "      <td>120</td>\n",
              "      <td>4.640926e+06</td>\n",
              "      <td>1980.0</td>\n",
              "      <td>-0.996657</td>\n",
              "      <td>0.562718</td>\n",
              "      <td>-1.118563</td>\n",
              "      <td>NaN</td>\n",
              "      <td>1</td>\n",
              "      <td>0</td>\n",
              "      <td>0</td>\n",
              "      <td>1</td>\n",
              "      <td>1</td>\n",
              "      <td>0</td>\n",
              "      <td>0</td>\n",
              "      <td>0</td>\n",
              "      <td>0</td>\n",
              "      <td>0</td>\n",
              "      <td>0</td>\n",
              "      <td>0</td>\n",
              "      <td>0</td>\n",
              "      <td>0</td>\n",
              "      <td>0</td>\n",
              "      <td>0</td>\n",
              "      <td>0</td>\n",
              "      <td>0</td>\n",
              "      <td>0</td>\n",
              "    </tr>\n",
              "    <tr>\n",
              "      <th>110669.0</th>\n",
              "      <td>Wabash Avenue</td>\n",
              "      <td>[{'id': 10402, 'name': 'Music'}]</td>\n",
              "      <td>1950-03-31</td>\n",
              "      <td>2115000.0</td>\n",
              "      <td>2039000.0</td>\n",
              "      <td>1950.0</td>\n",
              "      <td>92.0</td>\n",
              "      <td>7.0</td>\n",
              "      <td>1.0</td>\n",
              "      <td>3.809249</td>\n",
              "      <td>173</td>\n",
              "      <td>2.039000e+06</td>\n",
              "      <td>1950.0</td>\n",
              "      <td>0.415628</td>\n",
              "      <td>1.017018</td>\n",
              "      <td>-0.082274</td>\n",
              "      <td>vlow</td>\n",
              "      <td>0</td>\n",
              "      <td>0</td>\n",
              "      <td>0</td>\n",
              "      <td>0</td>\n",
              "      <td>0</td>\n",
              "      <td>0</td>\n",
              "      <td>0</td>\n",
              "      <td>0</td>\n",
              "      <td>0</td>\n",
              "      <td>0</td>\n",
              "      <td>0</td>\n",
              "      <td>0</td>\n",
              "      <td>1</td>\n",
              "      <td>0</td>\n",
              "      <td>0</td>\n",
              "      <td>0</td>\n",
              "      <td>0</td>\n",
              "      <td>0</td>\n",
              "      <td>0</td>\n",
              "    </tr>\n",
              "    <tr>\n",
              "      <th>115210.0</th>\n",
              "      <td>Stitches</td>\n",
              "      <td>[{'id': 27, 'name': 'Horror'}]</td>\n",
              "      <td>2012-05-19</td>\n",
              "      <td>100000.0</td>\n",
              "      <td>95000.0</td>\n",
              "      <td>2012.0</td>\n",
              "      <td>86.0</td>\n",
              "      <td>5.5</td>\n",
              "      <td>94.0</td>\n",
              "      <td>3.731075</td>\n",
              "      <td>3144</td>\n",
              "      <td>9.795528e+04</td>\n",
              "      <td>2010.0</td>\n",
              "      <td>-1.349729</td>\n",
              "      <td>0.862663</td>\n",
              "      <td>-1.358279</td>\n",
              "      <td>vlow</td>\n",
              "      <td>0</td>\n",
              "      <td>0</td>\n",
              "      <td>0</td>\n",
              "      <td>0</td>\n",
              "      <td>0</td>\n",
              "      <td>0</td>\n",
              "      <td>0</td>\n",
              "      <td>0</td>\n",
              "      <td>0</td>\n",
              "      <td>0</td>\n",
              "      <td>0</td>\n",
              "      <td>1</td>\n",
              "      <td>0</td>\n",
              "      <td>0</td>\n",
              "      <td>0</td>\n",
              "      <td>0</td>\n",
              "      <td>0</td>\n",
              "      <td>0</td>\n",
              "      <td>0</td>\n",
              "    </tr>\n",
              "    <tr>\n",
              "      <th>116977.0</th>\n",
              "      <td>Foodfight!</td>\n",
              "      <td>[{'id': 16, 'name': 'Animation'}, {'id': 28, '...</td>\n",
              "      <td>2012-06-15</td>\n",
              "      <td>65000000.0</td>\n",
              "      <td>73706.0</td>\n",
              "      <td>2012.0</td>\n",
              "      <td>87.0</td>\n",
              "      <td>2.3</td>\n",
              "      <td>28.0</td>\n",
              "      <td>2.543182</td>\n",
              "      <td>880</td>\n",
              "      <td>7.599886e+04</td>\n",
              "      <td>2010.0</td>\n",
              "      <td>-5.115824</td>\n",
              "      <td>-1.482847</td>\n",
              "      <td>-4.231180</td>\n",
              "      <td>vhigh</td>\n",
              "      <td>1</td>\n",
              "      <td>0</td>\n",
              "      <td>1</td>\n",
              "      <td>1</td>\n",
              "      <td>0</td>\n",
              "      <td>0</td>\n",
              "      <td>0</td>\n",
              "      <td>1</td>\n",
              "      <td>0</td>\n",
              "      <td>0</td>\n",
              "      <td>0</td>\n",
              "      <td>0</td>\n",
              "      <td>0</td>\n",
              "      <td>0</td>\n",
              "      <td>0</td>\n",
              "      <td>0</td>\n",
              "      <td>0</td>\n",
              "      <td>0</td>\n",
              "      <td>0</td>\n",
              "    </tr>\n",
              "  </tbody>\n",
              "</table>\n",
              "<p>66832 rows × 36 columns</p>\n",
              "</div>"
            ],
            "text/plain": [
              "                   title  ... Western\n",
              "5.0           Four Rooms  ...       0\n",
              "6.0       Judgment Night  ...       0\n",
              "11.0           Star Wars  ...       0\n",
              "12.0        Finding Nemo  ...       0\n",
              "13.0        Forrest Gump  ...       0\n",
              "...                  ...  ...     ...\n",
              "103299.0   Traces of Red  ...       0\n",
              "109161.0     The Squeeze  ...       0\n",
              "110669.0   Wabash Avenue  ...       0\n",
              "115210.0        Stitches  ...       0\n",
              "116977.0      Foodfight!  ...       0\n",
              "\n",
              "[66832 rows x 36 columns]"
            ]
          },
          "metadata": {
            "tags": []
          },
          "execution_count": 51
        }
      ]
    },
    {
      "cell_type": "code",
      "metadata": {
        "id": "UOsevz0_Ras2",
        "colab_type": "code",
        "outputId": "41a92b74-efbd-4d1a-976e-be682f746405",
        "colab": {
          "base_uri": "https://localhost:8080/",
          "height": 0
        }
      },
      "source": [
        "for genre in mlb.classes_:\n",
        "    print(genre, encoded_genres[encoded_genres[genre] == 1]['vote_average'].mean())"
      ],
      "execution_count": 52,
      "outputs": [
        {
          "output_type": "stream",
          "text": [
            "Action 6.368047337278103\n",
            "Adventure 6.464166666666668\n",
            "Animation 6.5181818181818185\n",
            "Comedy 6.599013956303933\n",
            "Crime 6.600525787915338\n",
            "Documentary 7.06\n",
            "Drama 6.6025728133283295\n",
            "Family 6.493814432989691\n",
            "Fantasy 6.527692307692308\n",
            "Foreign 6.0\n",
            "History 6.9728813559322065\n",
            "Horror 6.329523809523811\n",
            "Music 6.574999999999999\n",
            "Mystery 6.828985507246377\n",
            "Romance 6.59998176041643\n",
            "Science Fiction 6.434319526627218\n",
            "Thriller 6.599510324119252\n",
            "War 7.116279069767442\n",
            "Western 7.095238095238094\n"
          ],
          "name": "stdout"
        }
      ]
    },
    {
      "cell_type": "code",
      "metadata": {
        "id": "OwR_0K-MRas5",
        "colab_type": "code",
        "colab": {}
      },
      "source": [
        "d = {g: [encoded_genres[encoded_genres[g] == 1]['PCA'].mean(),\n",
        "         encoded_genres[encoded_genres[g] == 1]['adjusted_revenue'].sum()]\n",
        "     for g in mlb.classes_}"
      ],
      "execution_count": 0,
      "outputs": []
    },
    {
      "cell_type": "code",
      "metadata": {
        "id": "eDmkCJQRRas7",
        "colab_type": "code",
        "outputId": "41266647-1647-4cf6-c842-6287e70f8947",
        "colab": {
          "base_uri": "https://localhost:8080/",
          "height": 0
        }
      },
      "source": [
        "df = pd.DataFrame.from_dict(d, orient='index',  columns = ['pca rating', 'total revenue'])\n",
        "df"
      ],
      "execution_count": 54,
      "outputs": [
        {
          "output_type": "execute_result",
          "data": {
            "text/html": [
              "<div>\n",
              "<style scoped>\n",
              "    .dataframe tbody tr th:only-of-type {\n",
              "        vertical-align: middle;\n",
              "    }\n",
              "\n",
              "    .dataframe tbody tr th {\n",
              "        vertical-align: top;\n",
              "    }\n",
              "\n",
              "    .dataframe thead th {\n",
              "        text-align: right;\n",
              "    }\n",
              "</style>\n",
              "<table border=\"1\" class=\"dataframe\">\n",
              "  <thead>\n",
              "    <tr style=\"text-align: right;\">\n",
              "      <th></th>\n",
              "      <th>pca rating</th>\n",
              "      <th>total revenue</th>\n",
              "    </tr>\n",
              "  </thead>\n",
              "  <tbody>\n",
              "    <tr>\n",
              "      <th>Action</th>\n",
              "      <td>0.020301</td>\n",
              "      <td>9.119107e+10</td>\n",
              "    </tr>\n",
              "    <tr>\n",
              "      <th>Adventure</th>\n",
              "      <td>0.378806</td>\n",
              "      <td>9.042168e+10</td>\n",
              "    </tr>\n",
              "    <tr>\n",
              "      <th>Animation</th>\n",
              "      <td>0.261648</td>\n",
              "      <td>1.372190e+10</td>\n",
              "    </tr>\n",
              "    <tr>\n",
              "      <th>Comedy</th>\n",
              "      <td>-0.347387</td>\n",
              "      <td>2.908821e+12</td>\n",
              "    </tr>\n",
              "    <tr>\n",
              "      <th>Crime</th>\n",
              "      <td>-0.346864</td>\n",
              "      <td>2.883037e+12</td>\n",
              "    </tr>\n",
              "    <tr>\n",
              "      <th>Documentary</th>\n",
              "      <td>-0.085474</td>\n",
              "      <td>2.820166e+08</td>\n",
              "    </tr>\n",
              "    <tr>\n",
              "      <th>Drama</th>\n",
              "      <td>-0.344216</td>\n",
              "      <td>2.932161e+12</td>\n",
              "    </tr>\n",
              "    <tr>\n",
              "      <th>Family</th>\n",
              "      <td>0.328039</td>\n",
              "      <td>3.411401e+10</td>\n",
              "    </tr>\n",
              "    <tr>\n",
              "      <th>Fantasy</th>\n",
              "      <td>0.308037</td>\n",
              "      <td>4.323811e+10</td>\n",
              "    </tr>\n",
              "    <tr>\n",
              "      <th>Foreign</th>\n",
              "      <td>-1.046721</td>\n",
              "      <td>4.106328e+06</td>\n",
              "    </tr>\n",
              "    <tr>\n",
              "      <th>History</th>\n",
              "      <td>0.190439</td>\n",
              "      <td>8.390535e+09</td>\n",
              "    </tr>\n",
              "    <tr>\n",
              "      <th>Horror</th>\n",
              "      <td>-0.466021</td>\n",
              "      <td>1.060188e+10</td>\n",
              "    </tr>\n",
              "    <tr>\n",
              "      <th>Music</th>\n",
              "      <td>-0.163118</td>\n",
              "      <td>6.592343e+09</td>\n",
              "    </tr>\n",
              "    <tr>\n",
              "      <th>Mystery</th>\n",
              "      <td>0.025770</td>\n",
              "      <td>1.785842e+10</td>\n",
              "    </tr>\n",
              "    <tr>\n",
              "      <th>Romance</th>\n",
              "      <td>-0.347252</td>\n",
              "      <td>2.883544e+12</td>\n",
              "    </tr>\n",
              "    <tr>\n",
              "      <th>Science Fiction</th>\n",
              "      <td>0.074629</td>\n",
              "      <td>4.584190e+10</td>\n",
              "    </tr>\n",
              "    <tr>\n",
              "      <th>Thriller</th>\n",
              "      <td>-0.346721</td>\n",
              "      <td>2.917061e+12</td>\n",
              "    </tr>\n",
              "    <tr>\n",
              "      <th>War</th>\n",
              "      <td>0.491545</td>\n",
              "      <td>8.984297e+09</td>\n",
              "    </tr>\n",
              "    <tr>\n",
              "      <th>Western</th>\n",
              "      <td>0.205011</td>\n",
              "      <td>2.296981e+09</td>\n",
              "    </tr>\n",
              "  </tbody>\n",
              "</table>\n",
              "</div>"
            ],
            "text/plain": [
              "                 pca rating  total revenue\n",
              "Action             0.020301   9.119107e+10\n",
              "Adventure          0.378806   9.042168e+10\n",
              "Animation          0.261648   1.372190e+10\n",
              "Comedy            -0.347387   2.908821e+12\n",
              "Crime             -0.346864   2.883037e+12\n",
              "Documentary       -0.085474   2.820166e+08\n",
              "Drama             -0.344216   2.932161e+12\n",
              "Family             0.328039   3.411401e+10\n",
              "Fantasy            0.308037   4.323811e+10\n",
              "Foreign           -1.046721   4.106328e+06\n",
              "History            0.190439   8.390535e+09\n",
              "Horror            -0.466021   1.060188e+10\n",
              "Music             -0.163118   6.592343e+09\n",
              "Mystery            0.025770   1.785842e+10\n",
              "Romance           -0.347252   2.883544e+12\n",
              "Science Fiction    0.074629   4.584190e+10\n",
              "Thriller          -0.346721   2.917061e+12\n",
              "War                0.491545   8.984297e+09\n",
              "Western            0.205011   2.296981e+09"
            ]
          },
          "metadata": {
            "tags": []
          },
          "execution_count": 54
        }
      ]
    },
    {
      "cell_type": "code",
      "metadata": {
        "id": "AnbfFWwPRas_",
        "colab_type": "code",
        "outputId": "1017c36e-24c1-403f-d637-33e636bb42f6",
        "colab": {
          "base_uri": "https://localhost:8080/",
          "height": 0
        }
      },
      "source": [
        "trace = go.Bar(\n",
        "    x=df.index,\n",
        "    y=df['pca rating']\n",
        ")\n",
        "\n",
        "fig = go.Figure(\n",
        "    data = trace,\n",
        "    #layout_x)\n",
        ")\n",
        "fig.update_xaxes(tickangle=45)\n",
        "fig.update_layout(\n",
        "    title_text = \"PCA Rating by Genre\"\n",
        ")"
      ],
      "execution_count": 55,
      "outputs": [
        {
          "output_type": "display_data",
          "data": {
            "text/html": [
              "<html>\n",
              "<head><meta charset=\"utf-8\" /></head>\n",
              "<body>\n",
              "    <div>\n",
              "            <script src=\"https://cdnjs.cloudflare.com/ajax/libs/mathjax/2.7.5/MathJax.js?config=TeX-AMS-MML_SVG\"></script><script type=\"text/javascript\">if (window.MathJax) {MathJax.Hub.Config({SVG: {font: \"STIX-Web\"}});}</script>\n",
              "                <script type=\"text/javascript\">window.PlotlyConfig = {MathJaxConfig: 'local'};</script>\n",
              "        <script src=\"https://cdn.plot.ly/plotly-latest.min.js\"></script>    \n",
              "            <div id=\"15054514-a498-48c8-baf2-13c163f42fd5\" class=\"plotly-graph-div\" style=\"height:525px; width:100%;\"></div>\n",
              "            <script type=\"text/javascript\">\n",
              "                \n",
              "                    window.PLOTLYENV=window.PLOTLYENV || {};\n",
              "                    \n",
              "                if (document.getElementById(\"15054514-a498-48c8-baf2-13c163f42fd5\")) {\n",
              "                    Plotly.newPlot(\n",
              "                        '15054514-a498-48c8-baf2-13c163f42fd5',\n",
              "                        [{\"type\": \"bar\", \"x\": [\"Action\", \"Adventure\", \"Animation\", \"Comedy\", \"Crime\", \"Documentary\", \"Drama\", \"Family\", \"Fantasy\", \"Foreign\", \"History\", \"Horror\", \"Music\", \"Mystery\", \"Romance\", \"Science Fiction\", \"Thriller\", \"War\", \"Western\"], \"y\": [0.020301206115562954, 0.3788064379870756, 0.26164758767654295, -0.34738706545600795, -0.3468642821629224, -0.08547419894554247, -0.34421587283473565, 0.3280390166491977, 0.30803652794365766, -1.0467210514098106, 0.1904386317055682, -0.4660210670535445, -0.1631184421128316, 0.025769928890797565, -0.34725151867819637, 0.07462878468515266, -0.3467212565488983, 0.49154494668044246, 0.20501081588331285]}],\n",
              "                        {\"template\": {\"data\": {\"bar\": [{\"error_x\": {\"color\": \"#2a3f5f\"}, \"error_y\": {\"color\": \"#2a3f5f\"}, \"marker\": {\"line\": {\"color\": \"#E5ECF6\", \"width\": 0.5}}, \"type\": \"bar\"}], \"barpolar\": [{\"marker\": {\"line\": {\"color\": \"#E5ECF6\", \"width\": 0.5}}, \"type\": \"barpolar\"}], \"carpet\": [{\"aaxis\": {\"endlinecolor\": \"#2a3f5f\", \"gridcolor\": \"white\", \"linecolor\": \"white\", \"minorgridcolor\": \"white\", \"startlinecolor\": \"#2a3f5f\"}, \"baxis\": {\"endlinecolor\": \"#2a3f5f\", \"gridcolor\": \"white\", \"linecolor\": \"white\", \"minorgridcolor\": \"white\", \"startlinecolor\": \"#2a3f5f\"}, \"type\": \"carpet\"}], \"choropleth\": [{\"colorbar\": {\"outlinewidth\": 0, \"ticks\": \"\"}, \"type\": \"choropleth\"}], \"contour\": [{\"colorbar\": {\"outlinewidth\": 0, \"ticks\": \"\"}, \"colorscale\": [[0.0, \"#0d0887\"], [0.1111111111111111, \"#46039f\"], [0.2222222222222222, \"#7201a8\"], [0.3333333333333333, \"#9c179e\"], [0.4444444444444444, \"#bd3786\"], [0.5555555555555556, \"#d8576b\"], [0.6666666666666666, \"#ed7953\"], [0.7777777777777778, \"#fb9f3a\"], [0.8888888888888888, \"#fdca26\"], [1.0, \"#f0f921\"]], \"type\": \"contour\"}], \"contourcarpet\": [{\"colorbar\": {\"outlinewidth\": 0, \"ticks\": \"\"}, \"type\": \"contourcarpet\"}], \"heatmap\": [{\"colorbar\": {\"outlinewidth\": 0, \"ticks\": \"\"}, \"colorscale\": [[0.0, \"#0d0887\"], [0.1111111111111111, \"#46039f\"], [0.2222222222222222, \"#7201a8\"], [0.3333333333333333, \"#9c179e\"], [0.4444444444444444, \"#bd3786\"], [0.5555555555555556, \"#d8576b\"], [0.6666666666666666, \"#ed7953\"], [0.7777777777777778, \"#fb9f3a\"], [0.8888888888888888, \"#fdca26\"], [1.0, \"#f0f921\"]], \"type\": \"heatmap\"}], \"heatmapgl\": [{\"colorbar\": {\"outlinewidth\": 0, \"ticks\": \"\"}, \"colorscale\": [[0.0, \"#0d0887\"], [0.1111111111111111, \"#46039f\"], [0.2222222222222222, \"#7201a8\"], [0.3333333333333333, \"#9c179e\"], [0.4444444444444444, \"#bd3786\"], [0.5555555555555556, \"#d8576b\"], [0.6666666666666666, \"#ed7953\"], [0.7777777777777778, \"#fb9f3a\"], [0.8888888888888888, \"#fdca26\"], [1.0, \"#f0f921\"]], \"type\": \"heatmapgl\"}], \"histogram\": [{\"marker\": {\"colorbar\": {\"outlinewidth\": 0, \"ticks\": \"\"}}, \"type\": \"histogram\"}], \"histogram2d\": [{\"colorbar\": {\"outlinewidth\": 0, \"ticks\": \"\"}, \"colorscale\": [[0.0, \"#0d0887\"], [0.1111111111111111, \"#46039f\"], [0.2222222222222222, \"#7201a8\"], [0.3333333333333333, \"#9c179e\"], [0.4444444444444444, \"#bd3786\"], [0.5555555555555556, \"#d8576b\"], [0.6666666666666666, \"#ed7953\"], [0.7777777777777778, \"#fb9f3a\"], [0.8888888888888888, \"#fdca26\"], [1.0, \"#f0f921\"]], \"type\": \"histogram2d\"}], \"histogram2dcontour\": [{\"colorbar\": {\"outlinewidth\": 0, \"ticks\": \"\"}, \"colorscale\": [[0.0, \"#0d0887\"], [0.1111111111111111, \"#46039f\"], [0.2222222222222222, \"#7201a8\"], [0.3333333333333333, \"#9c179e\"], [0.4444444444444444, \"#bd3786\"], [0.5555555555555556, \"#d8576b\"], [0.6666666666666666, \"#ed7953\"], [0.7777777777777778, \"#fb9f3a\"], [0.8888888888888888, \"#fdca26\"], [1.0, \"#f0f921\"]], \"type\": \"histogram2dcontour\"}], \"mesh3d\": [{\"colorbar\": {\"outlinewidth\": 0, \"ticks\": \"\"}, \"type\": \"mesh3d\"}], \"parcoords\": [{\"line\": {\"colorbar\": {\"outlinewidth\": 0, \"ticks\": \"\"}}, \"type\": \"parcoords\"}], \"pie\": [{\"automargin\": true, \"type\": \"pie\"}], \"scatter\": [{\"marker\": {\"colorbar\": {\"outlinewidth\": 0, \"ticks\": \"\"}}, \"type\": \"scatter\"}], \"scatter3d\": [{\"line\": {\"colorbar\": {\"outlinewidth\": 0, \"ticks\": \"\"}}, \"marker\": {\"colorbar\": {\"outlinewidth\": 0, \"ticks\": \"\"}}, \"type\": \"scatter3d\"}], \"scattercarpet\": [{\"marker\": {\"colorbar\": {\"outlinewidth\": 0, \"ticks\": \"\"}}, \"type\": \"scattercarpet\"}], \"scattergeo\": [{\"marker\": {\"colorbar\": {\"outlinewidth\": 0, \"ticks\": \"\"}}, \"type\": \"scattergeo\"}], \"scattergl\": [{\"marker\": {\"colorbar\": {\"outlinewidth\": 0, \"ticks\": \"\"}}, \"type\": \"scattergl\"}], \"scattermapbox\": [{\"marker\": {\"colorbar\": {\"outlinewidth\": 0, \"ticks\": \"\"}}, \"type\": \"scattermapbox\"}], \"scatterpolar\": [{\"marker\": {\"colorbar\": {\"outlinewidth\": 0, \"ticks\": \"\"}}, \"type\": \"scatterpolar\"}], \"scatterpolargl\": [{\"marker\": {\"colorbar\": {\"outlinewidth\": 0, \"ticks\": \"\"}}, \"type\": \"scatterpolargl\"}], \"scatterternary\": [{\"marker\": {\"colorbar\": {\"outlinewidth\": 0, \"ticks\": \"\"}}, \"type\": \"scatterternary\"}], \"surface\": [{\"colorbar\": {\"outlinewidth\": 0, \"ticks\": \"\"}, \"colorscale\": [[0.0, \"#0d0887\"], [0.1111111111111111, \"#46039f\"], [0.2222222222222222, \"#7201a8\"], [0.3333333333333333, \"#9c179e\"], [0.4444444444444444, \"#bd3786\"], [0.5555555555555556, \"#d8576b\"], [0.6666666666666666, \"#ed7953\"], [0.7777777777777778, \"#fb9f3a\"], [0.8888888888888888, \"#fdca26\"], [1.0, \"#f0f921\"]], \"type\": \"surface\"}], \"table\": [{\"cells\": {\"fill\": {\"color\": \"#EBF0F8\"}, \"line\": {\"color\": \"white\"}}, \"header\": {\"fill\": {\"color\": \"#C8D4E3\"}, \"line\": {\"color\": \"white\"}}, \"type\": \"table\"}]}, \"layout\": {\"annotationdefaults\": {\"arrowcolor\": \"#2a3f5f\", \"arrowhead\": 0, \"arrowwidth\": 1}, \"coloraxis\": {\"colorbar\": {\"outlinewidth\": 0, \"ticks\": \"\"}}, \"colorscale\": {\"diverging\": [[0, \"#8e0152\"], [0.1, \"#c51b7d\"], [0.2, \"#de77ae\"], [0.3, \"#f1b6da\"], [0.4, \"#fde0ef\"], [0.5, \"#f7f7f7\"], [0.6, \"#e6f5d0\"], [0.7, \"#b8e186\"], [0.8, \"#7fbc41\"], [0.9, \"#4d9221\"], [1, \"#276419\"]], \"sequential\": [[0.0, \"#0d0887\"], [0.1111111111111111, \"#46039f\"], [0.2222222222222222, \"#7201a8\"], [0.3333333333333333, \"#9c179e\"], [0.4444444444444444, \"#bd3786\"], [0.5555555555555556, \"#d8576b\"], [0.6666666666666666, \"#ed7953\"], [0.7777777777777778, \"#fb9f3a\"], [0.8888888888888888, \"#fdca26\"], [1.0, \"#f0f921\"]], \"sequentialminus\": [[0.0, \"#0d0887\"], [0.1111111111111111, \"#46039f\"], [0.2222222222222222, \"#7201a8\"], [0.3333333333333333, \"#9c179e\"], [0.4444444444444444, \"#bd3786\"], [0.5555555555555556, \"#d8576b\"], [0.6666666666666666, \"#ed7953\"], [0.7777777777777778, \"#fb9f3a\"], [0.8888888888888888, \"#fdca26\"], [1.0, \"#f0f921\"]]}, \"colorway\": [\"#636efa\", \"#EF553B\", \"#00cc96\", \"#ab63fa\", \"#FFA15A\", \"#19d3f3\", \"#FF6692\", \"#B6E880\", \"#FF97FF\", \"#FECB52\"], \"font\": {\"color\": \"#2a3f5f\"}, \"geo\": {\"bgcolor\": \"white\", \"lakecolor\": \"white\", \"landcolor\": \"#E5ECF6\", \"showlakes\": true, \"showland\": true, \"subunitcolor\": \"white\"}, \"hoverlabel\": {\"align\": \"left\"}, \"hovermode\": \"closest\", \"mapbox\": {\"style\": \"light\"}, \"paper_bgcolor\": \"white\", \"plot_bgcolor\": \"#E5ECF6\", \"polar\": {\"angularaxis\": {\"gridcolor\": \"white\", \"linecolor\": \"white\", \"ticks\": \"\"}, \"bgcolor\": \"#E5ECF6\", \"radialaxis\": {\"gridcolor\": \"white\", \"linecolor\": \"white\", \"ticks\": \"\"}}, \"scene\": {\"xaxis\": {\"backgroundcolor\": \"#E5ECF6\", \"gridcolor\": \"white\", \"gridwidth\": 2, \"linecolor\": \"white\", \"showbackground\": true, \"ticks\": \"\", \"zerolinecolor\": \"white\"}, \"yaxis\": {\"backgroundcolor\": \"#E5ECF6\", \"gridcolor\": \"white\", \"gridwidth\": 2, \"linecolor\": \"white\", \"showbackground\": true, \"ticks\": \"\", \"zerolinecolor\": \"white\"}, \"zaxis\": {\"backgroundcolor\": \"#E5ECF6\", \"gridcolor\": \"white\", \"gridwidth\": 2, \"linecolor\": \"white\", \"showbackground\": true, \"ticks\": \"\", \"zerolinecolor\": \"white\"}}, \"shapedefaults\": {\"line\": {\"color\": \"#2a3f5f\"}}, \"ternary\": {\"aaxis\": {\"gridcolor\": \"white\", \"linecolor\": \"white\", \"ticks\": \"\"}, \"baxis\": {\"gridcolor\": \"white\", \"linecolor\": \"white\", \"ticks\": \"\"}, \"bgcolor\": \"#E5ECF6\", \"caxis\": {\"gridcolor\": \"white\", \"linecolor\": \"white\", \"ticks\": \"\"}}, \"title\": {\"x\": 0.05}, \"xaxis\": {\"automargin\": true, \"gridcolor\": \"white\", \"linecolor\": \"white\", \"ticks\": \"\", \"title\": {\"standoff\": 15}, \"zerolinecolor\": \"white\", \"zerolinewidth\": 2}, \"yaxis\": {\"automargin\": true, \"gridcolor\": \"white\", \"linecolor\": \"white\", \"ticks\": \"\", \"title\": {\"standoff\": 15}, \"zerolinecolor\": \"white\", \"zerolinewidth\": 2}}}, \"title\": {\"text\": \"PCA Rating by Genre\"}, \"xaxis\": {\"tickangle\": 45}},\n",
              "                        {\"responsive\": true}\n",
              "                    ).then(function(){\n",
              "                            \n",
              "var gd = document.getElementById('15054514-a498-48c8-baf2-13c163f42fd5');\n",
              "var x = new MutationObserver(function (mutations, observer) {{\n",
              "        var display = window.getComputedStyle(gd).display;\n",
              "        if (!display || display === 'none') {{\n",
              "            console.log([gd, 'removed!']);\n",
              "            Plotly.purge(gd);\n",
              "            observer.disconnect();\n",
              "        }}\n",
              "}});\n",
              "\n",
              "// Listen for the removal of the full notebook cells\n",
              "var notebookContainer = gd.closest('#notebook-container');\n",
              "if (notebookContainer) {{\n",
              "    x.observe(notebookContainer, {childList: true});\n",
              "}}\n",
              "\n",
              "// Listen for the clearing of the current output cell\n",
              "var outputEl = gd.closest('.output');\n",
              "if (outputEl) {{\n",
              "    x.observe(outputEl, {childList: true});\n",
              "}}\n",
              "\n",
              "                        })\n",
              "                };\n",
              "                \n",
              "            </script>\n",
              "        </div>\n",
              "</body>\n",
              "</html>"
            ]
          },
          "metadata": {
            "tags": []
          }
        }
      ]
    },
    {
      "cell_type": "code",
      "metadata": {
        "id": "VnOA4Z83RatB",
        "colab_type": "code",
        "outputId": "b93d866c-2047-4fed-e06b-8fca1e2b8102",
        "colab": {
          "base_uri": "https://localhost:8080/",
          "height": 0
        }
      },
      "source": [
        "melted = df.reset_index().melt(id_vars='index')\n",
        "melted"
      ],
      "execution_count": 56,
      "outputs": [
        {
          "output_type": "execute_result",
          "data": {
            "text/html": [
              "<div>\n",
              "<style scoped>\n",
              "    .dataframe tbody tr th:only-of-type {\n",
              "        vertical-align: middle;\n",
              "    }\n",
              "\n",
              "    .dataframe tbody tr th {\n",
              "        vertical-align: top;\n",
              "    }\n",
              "\n",
              "    .dataframe thead th {\n",
              "        text-align: right;\n",
              "    }\n",
              "</style>\n",
              "<table border=\"1\" class=\"dataframe\">\n",
              "  <thead>\n",
              "    <tr style=\"text-align: right;\">\n",
              "      <th></th>\n",
              "      <th>index</th>\n",
              "      <th>variable</th>\n",
              "      <th>value</th>\n",
              "    </tr>\n",
              "  </thead>\n",
              "  <tbody>\n",
              "    <tr>\n",
              "      <th>0</th>\n",
              "      <td>Action</td>\n",
              "      <td>pca rating</td>\n",
              "      <td>2.030121e-02</td>\n",
              "    </tr>\n",
              "    <tr>\n",
              "      <th>1</th>\n",
              "      <td>Adventure</td>\n",
              "      <td>pca rating</td>\n",
              "      <td>3.788064e-01</td>\n",
              "    </tr>\n",
              "    <tr>\n",
              "      <th>2</th>\n",
              "      <td>Animation</td>\n",
              "      <td>pca rating</td>\n",
              "      <td>2.616476e-01</td>\n",
              "    </tr>\n",
              "    <tr>\n",
              "      <th>3</th>\n",
              "      <td>Comedy</td>\n",
              "      <td>pca rating</td>\n",
              "      <td>-3.473871e-01</td>\n",
              "    </tr>\n",
              "    <tr>\n",
              "      <th>4</th>\n",
              "      <td>Crime</td>\n",
              "      <td>pca rating</td>\n",
              "      <td>-3.468643e-01</td>\n",
              "    </tr>\n",
              "    <tr>\n",
              "      <th>5</th>\n",
              "      <td>Documentary</td>\n",
              "      <td>pca rating</td>\n",
              "      <td>-8.547420e-02</td>\n",
              "    </tr>\n",
              "    <tr>\n",
              "      <th>6</th>\n",
              "      <td>Drama</td>\n",
              "      <td>pca rating</td>\n",
              "      <td>-3.442159e-01</td>\n",
              "    </tr>\n",
              "    <tr>\n",
              "      <th>7</th>\n",
              "      <td>Family</td>\n",
              "      <td>pca rating</td>\n",
              "      <td>3.280390e-01</td>\n",
              "    </tr>\n",
              "    <tr>\n",
              "      <th>8</th>\n",
              "      <td>Fantasy</td>\n",
              "      <td>pca rating</td>\n",
              "      <td>3.080365e-01</td>\n",
              "    </tr>\n",
              "    <tr>\n",
              "      <th>9</th>\n",
              "      <td>Foreign</td>\n",
              "      <td>pca rating</td>\n",
              "      <td>-1.046721e+00</td>\n",
              "    </tr>\n",
              "    <tr>\n",
              "      <th>10</th>\n",
              "      <td>History</td>\n",
              "      <td>pca rating</td>\n",
              "      <td>1.904386e-01</td>\n",
              "    </tr>\n",
              "    <tr>\n",
              "      <th>11</th>\n",
              "      <td>Horror</td>\n",
              "      <td>pca rating</td>\n",
              "      <td>-4.660211e-01</td>\n",
              "    </tr>\n",
              "    <tr>\n",
              "      <th>12</th>\n",
              "      <td>Music</td>\n",
              "      <td>pca rating</td>\n",
              "      <td>-1.631184e-01</td>\n",
              "    </tr>\n",
              "    <tr>\n",
              "      <th>13</th>\n",
              "      <td>Mystery</td>\n",
              "      <td>pca rating</td>\n",
              "      <td>2.576993e-02</td>\n",
              "    </tr>\n",
              "    <tr>\n",
              "      <th>14</th>\n",
              "      <td>Romance</td>\n",
              "      <td>pca rating</td>\n",
              "      <td>-3.472515e-01</td>\n",
              "    </tr>\n",
              "    <tr>\n",
              "      <th>15</th>\n",
              "      <td>Science Fiction</td>\n",
              "      <td>pca rating</td>\n",
              "      <td>7.462878e-02</td>\n",
              "    </tr>\n",
              "    <tr>\n",
              "      <th>16</th>\n",
              "      <td>Thriller</td>\n",
              "      <td>pca rating</td>\n",
              "      <td>-3.467213e-01</td>\n",
              "    </tr>\n",
              "    <tr>\n",
              "      <th>17</th>\n",
              "      <td>War</td>\n",
              "      <td>pca rating</td>\n",
              "      <td>4.915449e-01</td>\n",
              "    </tr>\n",
              "    <tr>\n",
              "      <th>18</th>\n",
              "      <td>Western</td>\n",
              "      <td>pca rating</td>\n",
              "      <td>2.050108e-01</td>\n",
              "    </tr>\n",
              "    <tr>\n",
              "      <th>19</th>\n",
              "      <td>Action</td>\n",
              "      <td>total revenue</td>\n",
              "      <td>9.119107e+10</td>\n",
              "    </tr>\n",
              "    <tr>\n",
              "      <th>20</th>\n",
              "      <td>Adventure</td>\n",
              "      <td>total revenue</td>\n",
              "      <td>9.042168e+10</td>\n",
              "    </tr>\n",
              "    <tr>\n",
              "      <th>21</th>\n",
              "      <td>Animation</td>\n",
              "      <td>total revenue</td>\n",
              "      <td>1.372190e+10</td>\n",
              "    </tr>\n",
              "    <tr>\n",
              "      <th>22</th>\n",
              "      <td>Comedy</td>\n",
              "      <td>total revenue</td>\n",
              "      <td>2.908821e+12</td>\n",
              "    </tr>\n",
              "    <tr>\n",
              "      <th>23</th>\n",
              "      <td>Crime</td>\n",
              "      <td>total revenue</td>\n",
              "      <td>2.883037e+12</td>\n",
              "    </tr>\n",
              "    <tr>\n",
              "      <th>24</th>\n",
              "      <td>Documentary</td>\n",
              "      <td>total revenue</td>\n",
              "      <td>2.820166e+08</td>\n",
              "    </tr>\n",
              "    <tr>\n",
              "      <th>25</th>\n",
              "      <td>Drama</td>\n",
              "      <td>total revenue</td>\n",
              "      <td>2.932161e+12</td>\n",
              "    </tr>\n",
              "    <tr>\n",
              "      <th>26</th>\n",
              "      <td>Family</td>\n",
              "      <td>total revenue</td>\n",
              "      <td>3.411401e+10</td>\n",
              "    </tr>\n",
              "    <tr>\n",
              "      <th>27</th>\n",
              "      <td>Fantasy</td>\n",
              "      <td>total revenue</td>\n",
              "      <td>4.323811e+10</td>\n",
              "    </tr>\n",
              "    <tr>\n",
              "      <th>28</th>\n",
              "      <td>Foreign</td>\n",
              "      <td>total revenue</td>\n",
              "      <td>4.106328e+06</td>\n",
              "    </tr>\n",
              "    <tr>\n",
              "      <th>29</th>\n",
              "      <td>History</td>\n",
              "      <td>total revenue</td>\n",
              "      <td>8.390535e+09</td>\n",
              "    </tr>\n",
              "    <tr>\n",
              "      <th>30</th>\n",
              "      <td>Horror</td>\n",
              "      <td>total revenue</td>\n",
              "      <td>1.060188e+10</td>\n",
              "    </tr>\n",
              "    <tr>\n",
              "      <th>31</th>\n",
              "      <td>Music</td>\n",
              "      <td>total revenue</td>\n",
              "      <td>6.592343e+09</td>\n",
              "    </tr>\n",
              "    <tr>\n",
              "      <th>32</th>\n",
              "      <td>Mystery</td>\n",
              "      <td>total revenue</td>\n",
              "      <td>1.785842e+10</td>\n",
              "    </tr>\n",
              "    <tr>\n",
              "      <th>33</th>\n",
              "      <td>Romance</td>\n",
              "      <td>total revenue</td>\n",
              "      <td>2.883544e+12</td>\n",
              "    </tr>\n",
              "    <tr>\n",
              "      <th>34</th>\n",
              "      <td>Science Fiction</td>\n",
              "      <td>total revenue</td>\n",
              "      <td>4.584190e+10</td>\n",
              "    </tr>\n",
              "    <tr>\n",
              "      <th>35</th>\n",
              "      <td>Thriller</td>\n",
              "      <td>total revenue</td>\n",
              "      <td>2.917061e+12</td>\n",
              "    </tr>\n",
              "    <tr>\n",
              "      <th>36</th>\n",
              "      <td>War</td>\n",
              "      <td>total revenue</td>\n",
              "      <td>8.984297e+09</td>\n",
              "    </tr>\n",
              "    <tr>\n",
              "      <th>37</th>\n",
              "      <td>Western</td>\n",
              "      <td>total revenue</td>\n",
              "      <td>2.296981e+09</td>\n",
              "    </tr>\n",
              "  </tbody>\n",
              "</table>\n",
              "</div>"
            ],
            "text/plain": [
              "              index       variable         value\n",
              "0            Action     pca rating  2.030121e-02\n",
              "1         Adventure     pca rating  3.788064e-01\n",
              "2         Animation     pca rating  2.616476e-01\n",
              "3            Comedy     pca rating -3.473871e-01\n",
              "4             Crime     pca rating -3.468643e-01\n",
              "5       Documentary     pca rating -8.547420e-02\n",
              "6             Drama     pca rating -3.442159e-01\n",
              "7            Family     pca rating  3.280390e-01\n",
              "8           Fantasy     pca rating  3.080365e-01\n",
              "9           Foreign     pca rating -1.046721e+00\n",
              "10          History     pca rating  1.904386e-01\n",
              "11           Horror     pca rating -4.660211e-01\n",
              "12            Music     pca rating -1.631184e-01\n",
              "13          Mystery     pca rating  2.576993e-02\n",
              "14          Romance     pca rating -3.472515e-01\n",
              "15  Science Fiction     pca rating  7.462878e-02\n",
              "16         Thriller     pca rating -3.467213e-01\n",
              "17              War     pca rating  4.915449e-01\n",
              "18          Western     pca rating  2.050108e-01\n",
              "19           Action  total revenue  9.119107e+10\n",
              "20        Adventure  total revenue  9.042168e+10\n",
              "21        Animation  total revenue  1.372190e+10\n",
              "22           Comedy  total revenue  2.908821e+12\n",
              "23            Crime  total revenue  2.883037e+12\n",
              "24      Documentary  total revenue  2.820166e+08\n",
              "25            Drama  total revenue  2.932161e+12\n",
              "26           Family  total revenue  3.411401e+10\n",
              "27          Fantasy  total revenue  4.323811e+10\n",
              "28          Foreign  total revenue  4.106328e+06\n",
              "29          History  total revenue  8.390535e+09\n",
              "30           Horror  total revenue  1.060188e+10\n",
              "31            Music  total revenue  6.592343e+09\n",
              "32          Mystery  total revenue  1.785842e+10\n",
              "33          Romance  total revenue  2.883544e+12\n",
              "34  Science Fiction  total revenue  4.584190e+10\n",
              "35         Thriller  total revenue  2.917061e+12\n",
              "36              War  total revenue  8.984297e+09\n",
              "37          Western  total revenue  2.296981e+09"
            ]
          },
          "metadata": {
            "tags": []
          },
          "execution_count": 56
        }
      ]
    },
    {
      "cell_type": "code",
      "metadata": {
        "id": "UEw6kLmYRatE",
        "colab_type": "code",
        "colab": {}
      },
      "source": [
        ""
      ],
      "execution_count": 0,
      "outputs": []
    }
  ]
}