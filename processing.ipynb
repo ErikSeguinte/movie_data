{
  "nbformat": 4,
  "nbformat_minor": 0,
  "metadata": {
    "colab": {
      "name": "Untitled3.ipynb",
      "provenance": [],
      "include_colab_link": true
    },
    "kernelspec": {
      "name": "python3",
      "display_name": "Python 3"
    },
    "accelerator": "GPU"
  },
  "cells": [
    {
      "cell_type": "markdown",
      "execution_count": null,
      "metadata": {
        "colab_type": "text",
        "id": "view-in-github"
      },
      "outputs": [],
      "source": [
        "<a href=\"https://colab.research.google.com/github/ErikSeguinte/movie_data/blob/master/processing.ipynb\" target=\"_parent\"><img src=\"https://colab.research.google.com/assets/colab-badge.svg\" alt=\"Open In Colab\"/></a>"
      ]
    },
    {
      "cell_type": "code",
      "execution_count": null,
      "metadata": {},
      "outputs": [],
      "source": [
        "import pandas as pd\n",
        "import cufflinks as cf\n",
        "import numpy as np\n",
        "from plotly import graph_objs as go\n",
        "import altair as alt"
      ]
    },
    {
      "cell_type": "code",
      "execution_count": null,
      "metadata": {},
      "outputs": [],
      "source": [
        "def enable_plotly_in_cell():\n",
        "  import IPython\n",
        "  from plotly.offline import init_notebook_mode\n",
        "  display(IPython.core.display.HTML('''<script src=\"/static/components/requirejs/require.js\"></script>'''))\n",
        "  init_notebook_mode(connected=False)"
      ]
    },
    {
      "cell_type": "code",
      "execution_count": null,
      "metadata": {},
      "outputs": [],
      "source": [
        "cf.set_config_file(offline=True)"
      ]
    },
    {
      "cell_type": "markdown",
      "execution_count": null,
      "metadata": {
        "colab_type": "text",
        "id": "cHmXX2xrlfbZ"
      },
      "outputs": [],
      "source": [
        "* I previously pulled CSV files from Kaggle, but the files were too big to host on github.\n",
        "* I imported the files I wanted into pandas, and then exported them back out as compressed pickles.\n",
        "* I was able to compress a 700MB csv to a 3 MB Pickle"
      ]
    },
    {
      "cell_type": "code",
      "execution_count": null,
      "metadata": {},
      "outputs": [],
      "source": [
        "try: \n",
        "    movies = pd.read_pickle('data/movies.pkl.xz')\n",
        "    ratings = pd.read_pickle('data/ratings2.pkl.xz')\n",
        "except:\n",
        "    # Download pickles from github\n",
        "    !wget https://github.com/ErikSeguinte/movie_data/raw/master/data/ratings2.pkl.xz\n",
        "    !wget https://github.com/ErikSeguinte/movie_data/raw/master/data/movies.pkl.xz\n",
        "    # Unpickle dataframes\n",
        "    movies = pd.read_pickle('movies.pkl.xz')\n",
        "    ratings = pd.read_pickle('ratings2.pkl.xz')"
      ]
    },
    {
      "cell_type": "code",
      "execution_count": null,
      "metadata": {},
      "outputs": [],
      "source": [
        "movies.head(1)"
      ]
    },
    {
      "cell_type": "code",
      "execution_count": null,
      "metadata": {},
      "outputs": [],
      "source": [
        "ratings.shape"
      ]
    },
    {
      "cell_type": "code",
      "execution_count": null,
      "metadata": {
        "colab": {},
        "colab_type": "code",
        "id": "2I9hyuA4lLj9"
      },
      "outputs": [],
      "source": [
        "movies.shape"
      ]
    },
    {
      "cell_type": "markdown",
      "execution_count": null,
      "metadata": {
        "colab_type": "text",
        "id": "HiXoKaRQqYr9"
      },
      "outputs": [],
      "source": [
        "## Clean Movie DF"
      ]
    },
    {
      "cell_type": "code",
      "execution_count": null,
      "metadata": {},
      "outputs": [],
      "source": [
        "movies.dtypes"
      ]
    },
    {
      "cell_type": "markdown",
      "execution_count": null,
      "metadata": {
        "colab_type": "text",
        "id": "Y8o7MEkpmX3Z"
      },
      "outputs": [],
      "source": [
        "* Movies Dataframe has malformed data. `id` Should be numeric.\n",
        "* After inspection, it looks like there are rows that are missing a comma somewhere, making columns not line up, and adding the wrong data to columns. Let's clean those up.\n",
        "* All malformed rows have strings for IDs instead of numeric, so we will coerce them into numeric columns, and strings will be returned as `NaN`, which we'll then drop.\n",
        "\n",
        "* `budget` and `revanue` should also be numeric, but Nans won't be dropped\n",
        "\n",
        "\n",
        "\n",
        "\n"
      ]
    },
    {
      "cell_type": "code",
      "execution_count": null,
      "metadata": {},
      "outputs": [],
      "source": [
        "movies['id'] = pd.to_numeric(movies['id'], errors='coerce')\n",
        "movies = movies[movies['id'].notnull()]\n",
        "movies = movies.set_index('id')"
      ]
    },
    {
      "cell_type": "code",
      "execution_count": null,
      "metadata": {},
      "outputs": [],
      "source": [
        "def to_numeric(df, labels):\n",
        "    \n",
        "    for label in labels:\n",
        "        df[label] = pd.to_numeric(movies[label], errors='coerce').copy()\n",
        "    return df"
      ]
    },
    {
      "cell_type": "code",
      "execution_count": null,
      "metadata": {},
      "outputs": [],
      "source": [
        "movies = to_numeric(movies, ['budget', 'revenue', 'vote_average'])"
      ]
    },
    {
      "cell_type": "code",
      "execution_count": null,
      "metadata": {},
      "outputs": [],
      "source": [
        "movies['release_date'] =pd.to_datetime(movies['release_date'], infer_datetime_format= True)"
      ]
    },
    {
      "cell_type": "code",
      "execution_count": null,
      "metadata": {},
      "outputs": [],
      "source": [
        "clean_movies = movies[['title', 'release_date','budget', 'revenue', 'runtime', 'vote_average', 'vote_count']]"
      ]
    },
    {
      "cell_type": "code",
      "execution_count": null,
      "metadata": {},
      "outputs": [],
      "source": [
        "clean_movies.head()"
      ]
    },
    {
      "cell_type": "markdown",
      "execution_count": null,
      "metadata": {
        "colab_type": "text",
        "id": "iW-7lxUXqdJL"
      },
      "outputs": [],
      "source": [
        "## Process User Reviews\n",
        "* User reviews come in a collection of individual reviews where a review gives a movie a score of 1 to 5.\n",
        "* We will take the mean ratings for each movie"
      ]
    },
    {
      "cell_type": "code",
      "execution_count": null,
      "metadata": {},
      "outputs": [],
      "source": [
        "ratings"
      ]
    },
    {
      "cell_type": "code",
      "execution_count": null,
      "metadata": {},
      "outputs": [],
      "source": [
        "from sklearn.preprocessing import StandardScaler"
      ]
    },
    {
      "cell_type": "code",
      "execution_count": null,
      "metadata": {},
      "outputs": [],
      "source": [
        "scaler = StandardScaler()\n",
        "mean_rating = pd.DataFrame(scaler.fit_transform(ratings.groupby('movieId')[['rating']].mean()), columns = [\"rating\"])\n",
        "#mean_rating = pd.DataFrame(ratings.groupby('movieId')[['rating']].mean(), columns = [\"rating\"])"
      ]
    },
    {
      "cell_type": "code",
      "execution_count": null,
      "metadata": {},
      "outputs": [],
      "source": [
        "mean_rating"
      ]
    },
    {
      "cell_type": "code",
      "execution_count": null,
      "metadata": {},
      "outputs": [],
      "source": [
        "# Aggregate mean ratings and number of votes per movie\n",
        "movie_ratings =pd.DataFrame(ratings.groupby('movieId')[['rating']].agg(['mean', 'count']))['rating']\n",
        "movie_ratings = movie_ratings.rename({'mean': 'rating', 'count': 'num_votes'}, axis = 1)"
      ]
    },
    {
      "cell_type": "markdown",
      "execution_count": null,
      "metadata": {},
      "outputs": [],
      "source": [
        "* Lets drop any movies with less than 10 votes. Those are more easily swayed by outliers and aren't reliable."
      ]
    },
    {
      "cell_type": "code",
      "execution_count": null,
      "metadata": {},
      "outputs": [],
      "source": [
        "movie_ratings = movie_ratings[~(movie_ratings['num_votes'] < 1000)]"
      ]
    },
    {
      "cell_type": "markdown",
      "execution_count": null,
      "metadata": {
        "colab_type": "text",
        "id": "Ht36bnK3q0ra"
      },
      "outputs": [],
      "source": [
        "* And now we merge the averaged ratings back with the movie database.\n",
        "* Note that not all movies are present in the user votings."
      ]
    },
    {
      "cell_type": "code",
      "execution_count": null,
      "metadata": {},
      "outputs": [],
      "source": [
        "movie_ratings = clean_movies.merge(movie_ratings, left_index = True, right_index=True)"
      ]
    },
    {
      "cell_type": "code",
      "execution_count": null,
      "metadata": {},
      "outputs": [],
      "source": []
    },
    {
      "cell_type": "code",
      "execution_count": null,
      "metadata": {},
      "outputs": [],
      "source": [
        "movie_ratings[['title', 'rating']].sort_values(by='rating', ascending = False).nlargest(10, 'rating')"
      ]
    },
    {
      "cell_type": "markdown",
      "execution_count": null,
      "metadata": {},
      "outputs": [],
      "source": [
        "* The movie Database also provides a rating and suffer from a similar problem of some movies having a tiny sample size."
      ]
    },
    {
      "cell_type": "code",
      "execution_count": null,
      "metadata": {},
      "outputs": [],
      "source": [
        "movie_ratings[['title', 'vote_average', 'vote_count']].sort_values(by='vote_average', ascending = False).nlargest(10, 'vote_average')"
      ]
    },
    {
      "cell_type": "code",
      "execution_count": null,
      "metadata": {},
      "outputs": [],
      "source": [
        "# Dropping low sample size averages from Votes on the movie database\n",
        "movie_ratings = movie_ratings[~(movie_ratings['vote_count'] < 1000)]"
      ]
    },
    {
      "cell_type": "code",
      "execution_count": null,
      "metadata": {},
      "outputs": [],
      "source": [
        "movie_ratings.dtypes"
      ]
    },
    {
      "cell_type": "code",
      "execution_count": null,
      "metadata": {},
      "outputs": [],
      "source": [
        "movie_ratings.corr()"
      ]
    },
    {
      "cell_type": "code",
      "execution_count": null,
      "metadata": {},
      "outputs": [],
      "source": [
        "# Adding a year and decade to examine trends over time\n",
        "movie_ratings['year'] = movie_ratings['release_date'].dt.year"
      ]
    },
    {
      "cell_type": "code",
      "execution_count": null,
      "metadata": {},
      "outputs": [],
      "source": [
        "movie_ratings['decade'] = [x - (x%10) for x in movie_ratings['year']]"
      ]
    },
    {
      "cell_type": "code",
      "execution_count": null,
      "metadata": {},
      "outputs": [],
      "source": [
        "#enable_plotly_in_cell()\n",
        "movie_ratings.groupby('year')['vote_average'].mean().iplot(kind='bar')"
      ]
    },
    {
      "cell_type": "code",
      "execution_count": null,
      "metadata": {},
      "outputs": [],
      "source": [
        "alt.Chart(movie_ratings).mark_bar().encode(\n",
        "    alt.Y('mean(vote_average)'),\n",
        "    alt.X('year')\n",
        ")"
      ]
    },
    {
      "cell_type": "code",
      "execution_count": null,
      "metadata": {},
      "outputs": [],
      "source": [
        "movie_ratings"
      ]
    },
    {
      "cell_type": "code",
      "execution_count": null,
      "metadata": {},
      "outputs": [],
      "source": [
        "# enable_plotly_in_cell()\n",
        "movie_ratings.groupby('decade')['rating'].mean().iplot(kind='bar')"
      ]
    },
    {
      "cell_type": "markdown",
      "execution_count": null,
      "metadata": {},
      "outputs": [],
      "source": [
        "* I'd like to compare the votes from TMB to the user ratings, but they are on different scales. We'll use standard scaler to normalize them so we can more easily compare."
      ]
    },
    {
      "cell_type": "code",
      "execution_count": null,
      "metadata": {},
      "outputs": [],
      "source": [
        "from sklearn.preprocessing import StandardScaler\n",
        "scaler = StandardScaler()\n",
        "movie_ratings = movie_ratings.merge(\n",
        "    pd.DataFrame(\n",
        "        scaler.fit_transform(movie_ratings[['vote_average', 'rating']]),\n",
        "        index = movie_ratings.index,\n",
        "        columns = ['scaled_tmdb_vote', 'scaled_user_rating']\n",
        "    ),\n",
        "    left_index = True,\n",
        "    right_index = True,\n",
        ")"
      ]
    },
    {
      "cell_type": "code",
      "execution_count": null,
      "metadata": {},
      "outputs": [],
      "source": [
        "movie_ratings.groupby('year')[['scaled_user_rating', 'scaled_tmdb_vote']].mean().iplot(kind='bar')"
      ]
    },
    {
      "cell_type": "code",
      "execution_count": null,
      "metadata": {},
      "outputs": [],
      "source": [
        "movie_ratings.groupby('year')['vote_average'].mean()"
      ]
    },
    {
      "cell_type": "code",
      "execution_count": null,
      "metadata": {},
      "outputs": [],
      "source": [
        "movie_ratings.groupby('year')['scaled_tmdb_vote'].mean().index"
      ]
    },
    {
      "cell_type": "code",
      "execution_count": null,
      "metadata": {},
      "outputs": [],
      "source": [
        "traces = [\n",
        "    go.Bar(name='TMDB rating',\n",
        "        x = movie_ratings.groupby('year')['scaled_tmdb_vote'].mean().index,\n",
        "        y = movie_ratings.groupby('year')['scaled_tmdb_vote'].mean()\n",
        "    ),\n",
        "        go.Bar(name='TMDB rating',\n",
        "        x = movie_ratings.groupby('year')['scaled_user_rating'].mean().index,\n",
        "        y = movie_ratings.groupby('year')['scaled_user_rating'].mean()\n",
        "    )\n",
        "]\n",
        "\n",
        "go.Figure(data = traces,\n",
        "    layout_xaxis_tick0 = 1890\n",
        ")"
      ]
    },
    {
      "cell_type": "code",
      "execution_count": null,
      "metadata": {},
      "outputs": [],
      "source": [
        "# enable_plotly_in_cell()\n",
        "trace = go.Box(\n",
        "    x = movie_ratings[movie_ratings['decade'].notnull()]['decade'],\n",
        "    y = movie_ratings[movie_ratings['decade'].notnull()]['rating'],\n",
        "    \n",
        ")\n",
        "go.Figure(\n",
        "    trace,\n",
        "    layout_xaxis_title = \"Decade\",\n",
        "    layout_yaxis_title = \"Movie Rating\",\n",
        "    layout_title = \"Movie Ratings by decade\"\n",
        ")\n"
      ]
    },
    {
      "cell_type": "code",
      "execution_count": null,
      "metadata": {},
      "outputs": [],
      "source": [
        "movie_ratings['q_budget'] = pd.qcut(movie_ratings['budget'], labels = ['vlow', 'low', 'med', 'high', 'vhigh'], q = 5)"
      ]
    },
    {
      "cell_type": "code",
      "execution_count": null,
      "metadata": {},
      "outputs": [],
      "source": [
        "budget_ratings = movie_ratings[['title', 'budget', 'revenue', 'rating']].dropna()"
      ]
    },
    {
      "cell_type": "code",
      "execution_count": null,
      "metadata": {},
      "outputs": [],
      "source": [
        "budget_ratings.corr()"
      ]
    },
    {
      "cell_type": "code",
      "execution_count": null,
      "metadata": {},
      "outputs": [],
      "source": [
        "trace = go.Scatter(\n",
        "    y = budget_ratings['rating'],\n",
        "    x = budget_ratings['revenue'],\n",
        "    mode = 'markers'\n",
        ")\n",
        "\n",
        "go.Figure(\n",
        "    trace,\n",
        "    layout_xaxis_title = \"Budget\",\n",
        "    layout_yaxis_title = \"Movie Rating\",\n",
        "    layout_title = \"Movie Ratings by budget\",\n",
        "    \n",
        ")"
      ]
    },
    {
      "cell_type": "code",
      "execution_count": null,
      "metadata": {
        "colab": {},
        "colab_type": "code",
        "id": "zfeWFJgjOxzC"
      },
      "outputs": [],
      "source": [
        "movie_ratings.shape"
      ]
    },
    {
      "cell_type": "code",
      "execution_count": null,
      "metadata": {},
      "outputs": [],
      "source": [
        "from sklearn.preprocessing import StandardScaler, RobustScaler\n",
        "from sklearn.decomposition import PCA"
      ]
    },
    {
      "cell_type": "code",
      "execution_count": null,
      "metadata": {},
      "outputs": [],
      "source": [
        "all_ratings = movie_ratings[['vote_average','rating']].dropna()\n",
        "all_ratings"
      ]
    },
    {
      "cell_type": "code",
      "execution_count": null,
      "metadata": {
        "colab": {},
        "colab_type": "code",
        "id": "a89OhzNzOxzM"
      },
      "outputs": [],
      "source": [
        "all_ratings.isnull().sum()"
      ]
    },
    {
      "cell_type": "code",
      "execution_count": null,
      "metadata": {},
      "outputs": [],
      "source": [
        "scaler = StandardScaler()\n",
        "x =scaler.fit_transform(all_ratings)"
      ]
    },
    {
      "cell_type": "code",
      "execution_count": null,
      "metadata": {
        "colab": {},
        "colab_type": "code",
        "id": "AjsKGdlDOxzS"
      },
      "outputs": [],
      "source": [
        "pca = PCA(1)"
      ]
    },
    {
      "cell_type": "code",
      "execution_count": null,
      "metadata": {
        "colab": {},
        "colab_type": "code",
        "id": "2VpwWNKZOxzV"
      },
      "outputs": [],
      "source": [
        "x = pca.fit_transform(x)"
      ]
    },
    {
      "cell_type": "code",
      "execution_count": null,
      "metadata": {
        "colab": {},
        "colab_type": "code",
        "id": "RyRNZwRxOxza"
      },
      "outputs": [],
      "source": [
        "scaled_ratings = pd.DataFrame(x, index = all_ratings.index, columns=['scaled_rating'])"
      ]
    },
    {
      "cell_type": "code",
      "execution_count": null,
      "metadata": {
        "colab": {},
        "colab_type": "code",
        "id": "tXV0etYUOxzf"
      },
      "outputs": [],
      "source": [
        "scaled_ratings"
      ]
    },
    {
      "cell_type": "code",
      "execution_count": null,
      "metadata": {
        "colab": {},
        "colab_type": "code",
        "id": "XBLR2zi4Oxzj"
      },
      "outputs": [],
      "source": [
        "movie_ratings = movie_ratings.merge(scaled_ratings, left_index=True, right_index=True)"
      ]
    },
    {
      "cell_type": "code",
      "execution_count": null,
      "metadata": {
        "colab": {},
        "colab_type": "code",
        "id": "myIVO9IdOxzm"
      },
      "outputs": [],
      "source": [
        "movie_ratings.corr()"
      ]
    },
    {
      "cell_type": "code",
      "execution_count": null,
      "metadata": {
        "colab": {},
        "colab_type": "code",
        "id": "V3z5U5CNOxzq"
      },
      "outputs": [],
      "source": [
        "enable_plotly_in_cell()\n",
        "movie_ratings.groupby('year')['scaled_rating'].mean().iplot(kind='bar')"
      ]
    },
    {
      "cell_type": "code",
      "execution_count": null,
      "metadata": {
        "colab": {},
        "colab_type": "code",
        "id": "bK3smokzOxzt"
      },
      "outputs": [],
      "source": [
        "movie_ratings.groupby('year')['scaled_rating'].mean().iplot(kind='bar', title = \"Scaled Rating by Year\", xTitle=\"year\", yTitle=\"Scaled Rating\")"
      ]
    },
    {
      "cell_type": "code",
      "execution_count": null,
      "metadata": {
        "colab": {},
        "colab_type": "code",
        "id": "mHQCi9ieOxzw"
      },
      "outputs": [],
      "source": [
        "movie_ratings.groupby('decade')['scaled_rating'].mean().iplot(kind='bar')"
      ]
    },
    {
      "cell_type": "code",
      "execution_count": null,
      "metadata": {},
      "outputs": [],
      "source": [
        "budget_ratings = movie_ratings[['budget', 'rating']].dropna()"
      ]
    },
    {
      "cell_type": "code",
      "execution_count": null,
      "metadata": {},
      "outputs": [],
      "source": [
        "budget_ratings['q_budget'] = pd.qcut(budget_ratings['budget'], q = 5, labels = ['vlow', 'low', 'med', 'high', 'blockbuster'])\n"
      ]
    },
    {
      "cell_type": "code",
      "execution_count": null,
      "metadata": {},
      "outputs": [],
      "source": [
        "enable_plotly_in_cell()\n",
        "budget_ratings.groupby('q_budget')['rating'].mean().iplot(kind='bar')"
      ]
    },
    {
      "cell_type": "code",
      "execution_count": null,
      "metadata": {},
      "outputs": [],
      "source": [
        "movie_ratings.nlargest(25, 'rating')"
      ]
    },
    {
      "cell_type": "code",
      "execution_count": null,
      "metadata": {
        "colab": {},
        "colab_type": "code",
        "id": "uR2XsQqeQZeL"
      },
      "outputs": [],
      "source": [
        "enable_plotly_in_cell()\n",
        "trace = go.Scatter(\n",
        "    x = movie_ratings[\"budget\"],\n",
        "    y = movie_ratings['revenue'],\n",
        "    mode = \"markers\"\n",
        ")\n",
        "\n",
        "go.Figure(trace)"
      ]
    },
    {
      "cell_type": "code",
      "execution_count": null,
      "metadata": {
        "colab": {},
        "colab_type": "code",
        "id": "hK4E_hOIaQwO"
      },
      "outputs": [],
      "source": [
        ""
      ]
    }
  ]
}