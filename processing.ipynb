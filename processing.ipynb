{
  "nbformat": 4,
  "nbformat_minor": 0,
  "metadata": {
    "colab": {
      "name": "Untitled3.ipynb",
      "provenance": [],
      "include_colab_link": true
    },
    "kernelspec": {
      "name": "python3",
      "display_name": "Python 3"
    },
    "accelerator": "GPU"
  },
  "cells": [
    {
      "cell_type": "markdown",
      "metadata": {
        "id": "view-in-github",
        "colab_type": "text"
      },
      "source": [
        "<a href=\"https://colab.research.google.com/github/ErikSeguinte/movie_data/blob/master/processing.ipynb\" target=\"_parent\"><img src=\"https://colab.research.google.com/assets/colab-badge.svg\" alt=\"Open In Colab\"/></a>"
      ]
    },
    {
      "cell_type": "code",
      "metadata": {
        "id": "HraBs1PTtC79",
        "colab_type": "code",
        "colab": {}
      },
      "source": [
        "import pandas as pd\n",
        "import cufflinks as cf\n",
        "import numpy as np\n",
        "from plotly import graph_objs as go\n",
        "import altair as alt"
      ],
      "execution_count": 0,
      "outputs": []
    },
    {
      "cell_type": "code",
      "metadata": {
        "id": "3sPAxAdgtC8M",
        "colab_type": "code",
        "colab": {}
      },
      "source": [
        "def enable_plotly_in_cell():\n",
        "  import IPython\n",
        "  from plotly.offline import init_notebook_mode\n",
        "  display(IPython.core.display.HTML('''<script src=\"/static/components/requirejs/require.js\"></script>'''))\n",
        "  init_notebook_mode(connected=False)"
      ],
      "execution_count": 0,
      "outputs": []
    },
    {
      "cell_type": "code",
      "metadata": {
        "id": "fv2Udk8NtC8U",
        "colab_type": "code",
        "colab": {}
      },
      "source": [
        "cf.set_config_file(offline=True)"
      ],
      "execution_count": 0,
      "outputs": []
    },
    {
      "cell_type": "markdown",
      "metadata": {
        "colab_type": "text",
        "id": "cHmXX2xrlfbZ"
      },
      "source": [
        "* I previously pulled CSV files from Kaggle, but the files were too big to host on github.\n",
        "* I imported the files I wanted into pandas, and then exported them back out as compressed pickles.\n",
        "* I was able to compress a 700MB csv to a 3 MB Pickle"
      ]
    },
    {
      "cell_type": "code",
      "metadata": {
        "id": "QCJ2s7zOtC8e",
        "colab_type": "code",
        "colab": {
          "base_uri": "https://localhost:8080/",
          "height": 295
        },
        "outputId": "76147b78-853e-41e8-aef4-95f15e29c9e9"
      },
      "source": [
        "try: \n",
        "    movies = pd.read_pickle('data/movies.pkl.xz')\n",
        "    #ratings = pd.read_pickle('data/ratings2.pkl.xz')\n",
        "    #cpi = pd.read_csv('data/cpi.csv')\n",
        "    \n",
        "except:\n",
        "    # Download pickles from github\n",
        "    #!wget https://github.com/ErikSeguinte/movie_data/raw/master/data/ratings2.pkl.xz\n",
        "    !wget https://github.com/ErikSeguinte/movie_data/raw/master/data/movies.pkl.xz\n",
        "    #!wget 'https://datahub.io/core/cpi/r/cpi.csv'\n",
        "    #cpi = pd.read_csv('data/cpi.csv')\n",
        "    movies = pd.read_pickle('movies.pkl.xz')\n",
        "    #ratings = pd.read_pickle('ratings2.pkl.xz')"
      ],
      "execution_count": 87,
      "outputs": [
        {
          "output_type": "stream",
          "text": [
            "--2020-03-02 20:11:45--  https://github.com/ErikSeguinte/movie_data/raw/master/data/movies.pkl.xz\n",
            "Resolving github.com (github.com)... 140.82.114.3\n",
            "Connecting to github.com (github.com)|140.82.114.3|:443... connected.\n",
            "HTTP request sent, awaiting response... 302 Found\n",
            "Location: https://raw.githubusercontent.com/ErikSeguinte/movie_data/master/data/movies.pkl.xz [following]\n",
            "--2020-03-02 20:11:45--  https://raw.githubusercontent.com/ErikSeguinte/movie_data/master/data/movies.pkl.xz\n",
            "Resolving raw.githubusercontent.com (raw.githubusercontent.com)... 151.101.0.133, 151.101.64.133, 151.101.128.133, ...\n",
            "Connecting to raw.githubusercontent.com (raw.githubusercontent.com)|151.101.0.133|:443... connected.\n",
            "HTTP request sent, awaiting response... 200 OK\n",
            "Length: 7917036 (7.5M) [application/octet-stream]\n",
            "Saving to: ‘movies.pkl.xz.2’\n",
            "\n",
            "movies.pkl.xz.2     100%[===================>]   7.55M  --.-KB/s    in 0.06s   \n",
            "\n",
            "2020-03-02 20:11:45 (127 MB/s) - ‘movies.pkl.xz.2’ saved [7917036/7917036]\n",
            "\n"
          ],
          "name": "stdout"
        }
      ]
    },
    {
      "cell_type": "markdown",
      "metadata": {
        "colab_type": "text",
        "id": "HiXoKaRQqYr9"
      },
      "source": [
        "## Clean Movie DF"
      ]
    },
    {
      "cell_type": "code",
      "metadata": {
        "id": "KidwjrI1tC8n",
        "colab_type": "code",
        "colab": {}
      },
      "source": [
        "movies.dtypes"
      ],
      "execution_count": 0,
      "outputs": []
    },
    {
      "cell_type": "markdown",
      "metadata": {
        "colab_type": "text",
        "id": "Y8o7MEkpmX3Z"
      },
      "source": [
        "* Movies Dataframe has malformed data. `id` Should be numeric.\n",
        "* After inspection, it looks like there are rows that are missing a comma somewhere, making columns not line up, and adding the wrong data to columns. Let's clean those up.\n",
        "* All malformed rows have strings for IDs instead of numeric, so we will coerce them into numeric columns, and strings will be returned as `NaN`, which we'll then drop.\n",
        "\n",
        "* `budget` and `revanue` should also be numeric, but Nans won't be dropped\n",
        "\n",
        "\n",
        "\n",
        "\n"
      ]
    },
    {
      "cell_type": "code",
      "metadata": {
        "id": "0xoxsE6CtC8u",
        "colab_type": "code",
        "colab": {}
      },
      "source": [
        "movies['id'] = pd.to_numeric(movies['id'], errors='coerce')\n",
        "movies = movies[movies['id'].notnull()]\n",
        "movies = movies.set_index('id')"
      ],
      "execution_count": 0,
      "outputs": []
    },
    {
      "cell_type": "code",
      "metadata": {
        "id": "El0wS5uetC8z",
        "colab_type": "code",
        "colab": {}
      },
      "source": [
        "def to_numeric(df, labels):\n",
        "    \n",
        "    for label in labels:\n",
        "        df[label] = pd.to_numeric(movies[label], errors='coerce').copy()\n",
        "    return df"
      ],
      "execution_count": 0,
      "outputs": []
    },
    {
      "cell_type": "code",
      "metadata": {
        "id": "Pr5URg02tC86",
        "colab_type": "code",
        "colab": {}
      },
      "source": [
        "movies = to_numeric(movies, ['budget', 'revenue', 'vote_average'])"
      ],
      "execution_count": 0,
      "outputs": []
    },
    {
      "cell_type": "code",
      "metadata": {
        "id": "C6aoCFyktC8_",
        "colab_type": "code",
        "colab": {}
      },
      "source": [
        "movies['release_date'] =pd.to_datetime(movies['release_date'], infer_datetime_format= True)"
      ],
      "execution_count": 0,
      "outputs": []
    },
    {
      "cell_type": "code",
      "metadata": {
        "id": "oQT6Zu_5tC9F",
        "colab_type": "code",
        "colab": {}
      },
      "source": [
        "clean_movies = movies[['title', 'release_date','budget', 'revenue', 'runtime', 'vote_average', 'vote_count']]"
      ],
      "execution_count": 0,
      "outputs": []
    },
    {
      "cell_type": "markdown",
      "metadata": {
        "colab_type": "text",
        "id": "iW-7lxUXqdJL"
      },
      "source": [
        "## Process User Reviews\n",
        "* User reviews come in a collection of individual reviews where a review gives a movie a score of 1 to 5.\n",
        "* We will take the mean ratings for each movie"
      ]
    },
    {
      "cell_type": "code",
      "metadata": {
        "id": "mlPuvD86tC9N",
        "colab_type": "code",
        "colab": {}
      },
      "source": [
        "from sklearn.preprocessing import StandardScaler"
      ],
      "execution_count": 0,
      "outputs": []
    },
    {
      "cell_type": "code",
      "metadata": {
        "id": "rPlycWnGtC9S",
        "colab_type": "code",
        "colab": {}
      },
      "source": [
        "scaler = StandardScaler()\n",
        "mean_rating = pd.DataFrame(scaler.fit_transform(ratings.groupby('movieId')[['rating']].mean()), columns = [\"rating\"])\n",
        "#mean_rating = pd.DataFrame(ratings.groupby('movieId')[['rating']].mean(), columns = [\"rating\"])"
      ],
      "execution_count": 0,
      "outputs": []
    },
    {
      "cell_type": "code",
      "metadata": {
        "id": "Ts4KTaqdtC9W",
        "colab_type": "code",
        "colab": {}
      },
      "source": [
        "# Aggregate mean ratings and number of votes per movie\n",
        "movie_ratings =pd.DataFrame(ratings.groupby('movieId')[['rating']].agg(['mean', 'count']))['rating']\n",
        "movie_ratings = movie_ratings.rename({'mean': 'rating', 'count': 'num_votes'}, axis = 1)\n"
      ],
      "execution_count": 0,
      "outputs": []
    },
    {
      "cell_type": "code",
      "metadata": {
        "id": "2ioJzjNNtC9c",
        "colab_type": "code",
        "colab": {}
      },
      "source": [
        "ratings = None"
      ],
      "execution_count": 0,
      "outputs": []
    },
    {
      "cell_type": "markdown",
      "metadata": {
        "id": "NScOxazLtC9g",
        "colab_type": "text"
      },
      "source": [
        "* Lets drop any movies with less than 10 votes. Those are more easily swayed by outliers and aren't reliable."
      ]
    },
    {
      "cell_type": "code",
      "metadata": {
        "id": "2ZCSwEDUtC9i",
        "colab_type": "code",
        "colab": {}
      },
      "source": [
        "movie_ratings = movie_ratings[~(movie_ratings['num_votes'] < 100)]"
      ],
      "execution_count": 0,
      "outputs": []
    },
    {
      "cell_type": "markdown",
      "metadata": {
        "colab_type": "text",
        "id": "Ht36bnK3q0ra"
      },
      "source": [
        "* And now we merge the averaged ratings back with the movie database.\n",
        "* Note that not all movies are present in the user votings."
      ]
    },
    {
      "cell_type": "code",
      "metadata": {
        "id": "VDXusiXCtC9p",
        "colab_type": "code",
        "colab": {}
      },
      "source": [
        "movie_ratings = clean_movies.merge(movie_ratings, left_index = True, right_index=True)"
      ],
      "execution_count": 0,
      "outputs": []
    },
    {
      "cell_type": "code",
      "metadata": {
        "id": "__lpCTfwtC9t",
        "colab_type": "code",
        "colab": {}
      },
      "source": [
        "movie_ratings[['title', 'rating']].nlargest(10, 'rating')"
      ],
      "execution_count": 0,
      "outputs": []
    },
    {
      "cell_type": "markdown",
      "metadata": {
        "id": "N1eWDvY9tC9x",
        "colab_type": "text"
      },
      "source": [
        "* The movie Database also provides a rating and suffer from a similar problem of some movies having a tiny sample size."
      ]
    },
    {
      "cell_type": "code",
      "metadata": {
        "id": "xgLA8gKEtC9y",
        "colab_type": "code",
        "colab": {}
      },
      "source": [
        "movie_ratings[['title', 'vote_average', 'vote_count']].sort_values(by='vote_average', ascending = False).nlargest(10, 'vote_average')"
      ],
      "execution_count": 0,
      "outputs": []
    },
    {
      "cell_type": "code",
      "metadata": {
        "id": "IRTGwsfctC92",
        "colab_type": "code",
        "colab": {}
      },
      "source": [
        "movie_ratings[['title', 'revenue']].nlargest(10, 'revenue')"
      ],
      "execution_count": 0,
      "outputs": []
    },
    {
      "cell_type": "markdown",
      "metadata": {
        "id": "r-9nL1-6tC97",
        "colab_type": "text"
      },
      "source": [
        "## Inflation\n",
        "* Inflation means that a 1940 dollar is worth more than a 2020 dollar. Let's adjust Revenue for that.\n",
        "* The Consumer price index can be used to convert to standarized dollars.\n",
        "* Here, we'll be using 2014 dollars.\n",
        "* Years later than 2014 will not be adjusted.\n",
        "$$ \\textrm{adjusted dollars} = \\frac{\\textrm{New CPI}}{\\textrm{Base CPI}}$$\n",
        "* where x is the current cpi and y is the cpi of that year "
      ]
    },
    {
      "cell_type": "code",
      "metadata": {
        "id": "rcEPbCHntC98",
        "colab_type": "code",
        "colab": {}
      },
      "source": [
        "!wget 'https://datahub.io/core/cpi/r/cpi.csv'"
      ],
      "execution_count": 0,
      "outputs": []
    },
    {
      "cell_type": "code",
      "metadata": {
        "id": "aZWEHE9mtC-A",
        "colab_type": "code",
        "colab": {}
      },
      "source": [
        "cpi = cpi[cpi['Country Name'] == 'United States'][['Year', 'CPI']]"
      ],
      "execution_count": 0,
      "outputs": []
    },
    {
      "cell_type": "code",
      "metadata": {
        "id": "IPwYN-A8tC-F",
        "colab_type": "code",
        "colab": {}
      },
      "source": [
        "cpi = cpi.set_index(cpi['Year'])"
      ],
      "execution_count": 0,
      "outputs": []
    },
    {
      "cell_type": "code",
      "metadata": {
        "id": "jRVpzuOQtC-J",
        "colab_type": "code",
        "colab": {}
      },
      "source": [
        "def adjust_dollars(value, year):\n",
        "    year = int(year)\n",
        "    try:\n",
        "        current = cpi.loc[2014,'CPI']\n",
        "        base = cpi.loc[year,'CPI']\n",
        "        adjusted_value = value * (current/base)\n",
        "        return adjusted_value\n",
        "    except: \n",
        "        return value"
      ],
      "execution_count": 0,
      "outputs": []
    },
    {
      "cell_type": "code",
      "metadata": {
        "id": "2rlGIe_CtC-M",
        "colab_type": "code",
        "colab": {}
      },
      "source": [
        "clean_movies['year']= clean_movies['release_date'].dt.year"
      ],
      "execution_count": 0,
      "outputs": []
    },
    {
      "cell_type": "code",
      "metadata": {
        "id": "PTTbCZqftC-Q",
        "colab_type": "code",
        "colab": {}
      },
      "source": [
        "df = clean_movies[clean_movies['revenue'].notnull() & clean_movies['year'].notnull()]\n",
        "df"
      ],
      "execution_count": 0,
      "outputs": []
    },
    {
      "cell_type": "code",
      "metadata": {
        "id": "UiPMqW7CtC-V",
        "colab_type": "code",
        "colab": {}
      },
      "source": [
        "adjusted = pd.DataFrame([adjust_dollars(x,y) for x,y in zip(df['revenue'], df['year'])], index = df.index, columns = ['adjusted_revenue'])"
      ],
      "execution_count": 0,
      "outputs": []
    },
    {
      "cell_type": "code",
      "metadata": {
        "id": "bIQBS-3FtC-Z",
        "colab_type": "code",
        "colab": {}
      },
      "source": [
        "clean_movies.merge(adjusted, left_index=True, right_index=True).nlargest(10,'adjusted_revenue')"
      ],
      "execution_count": 0,
      "outputs": []
    },
    {
      "cell_type": "code",
      "metadata": {
        "id": "1R3BGJDltC-d",
        "colab_type": "code",
        "colab": {}
      },
      "source": [
        "movie_ratings.corr()"
      ],
      "execution_count": 0,
      "outputs": []
    },
    {
      "cell_type": "code",
      "metadata": {
        "id": "mFL1T9fptC-g",
        "colab_type": "code",
        "colab": {}
      },
      "source": [
        "# Adding a year and decade to examine trends over time\n",
        "movie_ratings['year'] = movie_ratings['release_date'].dt.year"
      ],
      "execution_count": 0,
      "outputs": []
    },
    {
      "cell_type": "code",
      "metadata": {
        "id": "2yhG5yx1tC-k",
        "colab_type": "code",
        "colab": {}
      },
      "source": [
        "movie_ratings['decade'] = [x - (x%10) for x in movie_ratings['year']]"
      ],
      "execution_count": 0,
      "outputs": []
    },
    {
      "cell_type": "code",
      "metadata": {
        "id": "7VyU2V3gtC-n",
        "colab_type": "code",
        "colab": {}
      },
      "source": [
        "#enable_plotly_in_cell()\n",
        "movie_ratings.groupby('year')['vote_average'].mean().iplot(kind='bar')"
      ],
      "execution_count": 0,
      "outputs": []
    },
    {
      "cell_type": "code",
      "metadata": {
        "id": "i_cMvteFtC-q",
        "colab_type": "code",
        "colab": {}
      },
      "source": [
        "alt.Chart(movie_ratings).mark_bar().encode(\n",
        "    alt.Y('mean(vote_average)'),\n",
        "    alt.X('year')\n",
        ")"
      ],
      "execution_count": 0,
      "outputs": []
    },
    {
      "cell_type": "code",
      "metadata": {
        "id": "OSZ20hBHtC-u",
        "colab_type": "code",
        "colab": {}
      },
      "source": [
        "alt.Chart(movie_ratings).mark_bar().encode(\n",
        "    alt.Y('mean(rating)'),\n",
        "    alt.X('year')\n",
        ")"
      ],
      "execution_count": 0,
      "outputs": []
    },
    {
      "cell_type": "code",
      "metadata": {
        "id": "Qkd2jspWtC-x",
        "colab_type": "code",
        "colab": {}
      },
      "source": [
        "alt.Chart(movie_ratings).mark_bar().encode(\n",
        "    alt.Y('mean(vote_average)'),\n",
        "    alt.X('decade')\n",
        ")"
      ],
      "execution_count": 0,
      "outputs": []
    },
    {
      "cell_type": "code",
      "metadata": {
        "id": "1RJkhE2FtC-0",
        "colab_type": "code",
        "colab": {}
      },
      "source": [
        "movie_ratings"
      ],
      "execution_count": 0,
      "outputs": []
    },
    {
      "cell_type": "code",
      "metadata": {
        "id": "CsINrqZKtC-3",
        "colab_type": "code",
        "colab": {}
      },
      "source": [
        "# enable_plotly_in_cell()\n",
        "movie_ratings.groupby('decade')['rating'].mean().iplot(kind='bar')"
      ],
      "execution_count": 0,
      "outputs": []
    },
    {
      "cell_type": "markdown",
      "metadata": {
        "id": "pz4qcRPrtC-6",
        "colab_type": "text"
      },
      "source": [
        "* I'd like to compare the votes from TMB to the user ratings, but they are on different scales. We'll use standard scaler to normalize them so we can more easily compare."
      ]
    },
    {
      "cell_type": "code",
      "metadata": {
        "id": "L167nirktC-7",
        "colab_type": "code",
        "colab": {}
      },
      "source": [
        "from sklearn.preprocessing import StandardScaler\n",
        "scaler = StandardScaler()\n",
        "to_scale = movie_ratings[movie_ratings['vote_average'].notnull() & movie_ratings['year'].notnull() & movie_ratings['rating'].notnull()][['vote_average', 'rating']]\n",
        "scaled = scaler.fit_transform(to_scale)\n",
        "movie_ratings = movie_ratings.merge(\n",
        "    pd.DataFrame(\n",
        "        scaled,\n",
        "        index = to_scale.index,\n",
        "        columns = ['scaled_tmdb_vote', 'scaled_user_rating']\n",
        "    ),\n",
        "    left_index = True,\n",
        "    right_index = True,\n",
        ")"
      ],
      "execution_count": 0,
      "outputs": []
    },
    {
      "cell_type": "code",
      "metadata": {
        "id": "UG-XkrzVtC--",
        "colab_type": "code",
        "colab": {}
      },
      "source": [
        "movie_ratings"
      ],
      "execution_count": 0,
      "outputs": []
    },
    {
      "cell_type": "code",
      "metadata": {
        "id": "lEwn5OejtC_C",
        "colab_type": "code",
        "colab": {}
      },
      "source": [
        "traces = [\n",
        "    go.Bar(name='TMDB rating',\n",
        "        x = movie_ratings.groupby('year')['scaled_tmdb_vote'].mean().index,\n",
        "        y = movie_ratings.groupby('year')['scaled_tmdb_vote'].mean()\n",
        "    ),\n",
        "        go.Bar(name='user rating',\n",
        "        x = movie_ratings.groupby('year')['scaled_user_rating'].mean().index,\n",
        "        y = movie_ratings.groupby('year')['scaled_user_rating'].mean()\n",
        "    )\n",
        "]\n",
        "\n",
        "go.Figure(data = traces,\n",
        "    layout_xaxis_tick0 = 1890\n",
        ")"
      ],
      "execution_count": 0,
      "outputs": []
    },
    {
      "cell_type": "code",
      "metadata": {
        "id": "b_6j78DhtC_G",
        "colab_type": "code",
        "colab": {}
      },
      "source": [
        "from sklearn.decomposition import PCA\n",
        "\n",
        "pca = PCA(1)\n",
        "\n",
        "pca_df = pd.DataFrame(pca.fit_transform(scaled), index=to_scale.index, columns = ['PCA'])\n",
        "\n",
        "movie_ratings = movie_ratings.merge(pca_df, left_index = True, right_index = True)\n",
        "movie_ratings.head(2)"
      ],
      "execution_count": 0,
      "outputs": []
    },
    {
      "cell_type": "code",
      "metadata": {
        "id": "sQpnw6_FtC_J",
        "colab_type": "code",
        "colab": {}
      },
      "source": [
        "movie_ratings[['title', 'PCA']].nlargest(10, 'PCA')"
      ],
      "execution_count": 0,
      "outputs": []
    },
    {
      "cell_type": "code",
      "metadata": {
        "id": "koGSGxJqtC_O",
        "colab_type": "code",
        "colab": {}
      },
      "source": [
        "# enable_plotly_in_cell()\n",
        "trace = go.Box(\n",
        "    x = movie_ratings[movie_ratings['decade'].notnull()]['decade'],\n",
        "    y = movie_ratings[movie_ratings['decade'].notnull()]['rating'],\n",
        "    \n",
        ")\n",
        "go.Figure(\n",
        "    trace,\n",
        "    layout_xaxis_title = \"Decade\",\n",
        "    layout_yaxis_title = \"Movie Rating\",\n",
        "    layout_title = \"Movie Ratings by decade\"\n",
        ")\n"
      ],
      "execution_count": 0,
      "outputs": []
    },
    {
      "cell_type": "code",
      "metadata": {
        "id": "ZpDEeMA0tC_S",
        "colab_type": "code",
        "colab": {}
      },
      "source": [
        "movie_ratings['q_budget'] = pd.qcut(movie_ratings['budget'], labels = ['vlow', 'low', 'med', 'high', 'vhigh'], q = 5)"
      ],
      "execution_count": 0,
      "outputs": []
    },
    {
      "cell_type": "code",
      "metadata": {
        "id": "XlO7JSe8tC_V",
        "colab_type": "code",
        "colab": {}
      },
      "source": [
        "budget_ratings = movie_ratings[['title', 'budget', 'revenue', 'rating']].dropna()"
      ],
      "execution_count": 0,
      "outputs": []
    },
    {
      "cell_type": "code",
      "metadata": {
        "id": "P-D4rXEMtC_Y",
        "colab_type": "code",
        "colab": {}
      },
      "source": [
        "budget_ratings.corr()"
      ],
      "execution_count": 0,
      "outputs": []
    },
    {
      "cell_type": "code",
      "metadata": {
        "id": "CFHj52ZctC_c",
        "colab_type": "code",
        "colab": {}
      },
      "source": [
        "trace = go.Scatter(\n",
        "    y = budget_ratings['rating'],\n",
        "    x = budget_ratings['revenue'],\n",
        "    mode = 'markers'\n",
        ")\n",
        "\n",
        "go.Figure(\n",
        "    trace,\n",
        "    layout_xaxis_title = \"Budget\",\n",
        "    layout_yaxis_title = \"Movie Rating\",\n",
        "    layout_title = \"Movie Ratings by budget\",\n",
        "    \n",
        ")"
      ],
      "execution_count": 0,
      "outputs": []
    },
    {
      "cell_type": "code",
      "metadata": {
        "id": "9zrbNJTOtC_e",
        "colab_type": "code",
        "colab": {}
      },
      "source": [
        "movie_ratings.shape"
      ],
      "execution_count": 0,
      "outputs": []
    },
    {
      "cell_type": "code",
      "metadata": {
        "id": "rfz4U4ghtC_w",
        "colab_type": "code",
        "colab": {}
      },
      "source": [
        "from sklearn.preprocessing import StandardScaler, RobustScaler\n",
        "from sklearn.decomposition import PCA"
      ],
      "execution_count": 0,
      "outputs": []
    },
    {
      "cell_type": "code",
      "metadata": {
        "id": "dPTjBpvFtC_z",
        "colab_type": "code",
        "colab": {}
      },
      "source": [
        "all_ratings = movie_ratings[['vote_average','rating']].dropna()\n",
        "all_ratings"
      ],
      "execution_count": 0,
      "outputs": []
    },
    {
      "cell_type": "code",
      "metadata": {
        "id": "neg64SbPtC_2",
        "colab_type": "code",
        "colab": {}
      },
      "source": [
        "all_ratings.isnull().sum()"
      ],
      "execution_count": 0,
      "outputs": []
    },
    {
      "cell_type": "code",
      "metadata": {
        "id": "60Btb-bItC_4",
        "colab_type": "code",
        "colab": {}
      },
      "source": [
        "scaler = StandardScaler()\n",
        "x =scaler.fit_transform(all_ratings)"
      ],
      "execution_count": 0,
      "outputs": []
    },
    {
      "cell_type": "code",
      "metadata": {
        "id": "QnNJq98dtC_6",
        "colab_type": "code",
        "colab": {}
      },
      "source": [
        "pca = PCA(1)"
      ],
      "execution_count": 0,
      "outputs": []
    },
    {
      "cell_type": "code",
      "metadata": {
        "id": "gSZXaIC-tC_9",
        "colab_type": "code",
        "colab": {}
      },
      "source": [
        "x = pca.fit_transform(x)"
      ],
      "execution_count": 0,
      "outputs": []
    },
    {
      "cell_type": "code",
      "metadata": {
        "id": "Pru9txWZtDAA",
        "colab_type": "code",
        "colab": {}
      },
      "source": [
        "scaled_ratings = pd.DataFrame(x, index = all_ratings.index, columns=['scaled_rating'])"
      ],
      "execution_count": 0,
      "outputs": []
    },
    {
      "cell_type": "code",
      "metadata": {
        "id": "StOZ5kyctDAD",
        "colab_type": "code",
        "colab": {}
      },
      "source": [
        "scaled_ratings"
      ],
      "execution_count": 0,
      "outputs": []
    },
    {
      "cell_type": "code",
      "metadata": {
        "id": "0WNiPR_TtDAI",
        "colab_type": "code",
        "colab": {}
      },
      "source": [
        "movie_ratings = movie_ratings.merge(scaled_ratings, left_index=True, right_index=True)"
      ],
      "execution_count": 0,
      "outputs": []
    },
    {
      "cell_type": "code",
      "metadata": {
        "id": "IQqIakjktDAK",
        "colab_type": "code",
        "colab": {}
      },
      "source": [
        "movie_ratings.corr()"
      ],
      "execution_count": 0,
      "outputs": []
    },
    {
      "cell_type": "code",
      "metadata": {
        "id": "FLUWZzsytDAN",
        "colab_type": "code",
        "colab": {}
      },
      "source": [
        "enable_plotly_in_cell()\n",
        "movie_ratings.groupby('year')['scaled_rating'].mean().iplot(kind='bar')"
      ],
      "execution_count": 0,
      "outputs": []
    },
    {
      "cell_type": "code",
      "metadata": {
        "id": "daNc73IgtDAQ",
        "colab_type": "code",
        "colab": {}
      },
      "source": [
        "movie_ratings.groupby('year')['scaled_rating'].mean().iplot(kind='bar', title = \"Scaled Rating by Year\", xTitle=\"year\", yTitle=\"Scaled Rating\")"
      ],
      "execution_count": 0,
      "outputs": []
    },
    {
      "cell_type": "code",
      "metadata": {
        "id": "ip92vqoDtDAS",
        "colab_type": "code",
        "colab": {}
      },
      "source": [
        "movie_ratings.groupby('decade')['scaled_rating'].mean().iplot(kind='bar')"
      ],
      "execution_count": 0,
      "outputs": []
    },
    {
      "cell_type": "code",
      "metadata": {
        "id": "uTy55BbntDAU",
        "colab_type": "code",
        "colab": {}
      },
      "source": [
        "budget_ratings = movie_ratings[['budget', 'rating']].dropna()"
      ],
      "execution_count": 0,
      "outputs": []
    },
    {
      "cell_type": "code",
      "metadata": {
        "id": "ykmj_ikdtDAW",
        "colab_type": "code",
        "colab": {}
      },
      "source": [
        "budget_ratings['q_budget'] = pd.qcut(budget_ratings['budget'], q = 5, labels = ['vlow', 'low', 'med', 'high', 'blockbuster'])\n"
      ],
      "execution_count": 0,
      "outputs": []
    },
    {
      "cell_type": "code",
      "metadata": {
        "id": "aHCmUNHDtDAZ",
        "colab_type": "code",
        "colab": {}
      },
      "source": [
        "enable_plotly_in_cell()\n",
        "budget_ratings.groupby('q_budget')['rating'].mean().iplot(kind='bar')"
      ],
      "execution_count": 0,
      "outputs": []
    },
    {
      "cell_type": "code",
      "metadata": {
        "id": "C3IGzoQGtDAb",
        "colab_type": "code",
        "colab": {}
      },
      "source": [
        "movie_ratings.nlargest(25, 'rating')"
      ],
      "execution_count": 0,
      "outputs": []
    },
    {
      "cell_type": "code",
      "metadata": {
        "id": "Gtg02g42tDAe",
        "colab_type": "code",
        "colab": {}
      },
      "source": [
        "enable_plotly_in_cell()\n",
        "trace = go.Scatter(\n",
        "    x = movie_ratings[\"budget\"],\n",
        "    y = movie_ratings['revenue'],\n",
        "    mode = \"markers\"\n",
        ")\n",
        "\n",
        "go.Figure(trace)"
      ],
      "execution_count": 0,
      "outputs": []
    },
    {
      "cell_type": "code",
      "metadata": {
        "colab_type": "code",
        "id": "hK4E_hOIaQwO",
        "colab": {}
      },
      "source": [
        ""
      ],
      "execution_count": 0,
      "outputs": []
    },
    {
      "cell_type": "markdown",
      "metadata": {
        "id": "rIGUfYG9tDAi",
        "colab_type": "text"
      },
      "source": [
        "## Genre"
      ]
    },
    {
      "cell_type": "code",
      "metadata": {
        "id": "tmzQdsTmtDAj",
        "colab_type": "code",
        "colab": {}
      },
      "source": [
        "genres = movies[['title','genres']]"
      ],
      "execution_count": 0,
      "outputs": []
    },
    {
      "cell_type": "code",
      "metadata": {
        "id": "fJYBjNkwtDAm",
        "colab_type": "code",
        "colab": {
          "base_uri": "https://localhost:8080/",
          "height": 69
        },
        "outputId": "c3787895-336c-420f-b6bd-aec88f243293"
      },
      "source": [
        "genres\n",
        "genres.iloc[9]"
      ],
      "execution_count": 12,
      "outputs": [
        {
          "output_type": "execute_result",
          "data": {
            "text/plain": [
              "title                                             GoldenEye\n",
              "genres    [{'id': 12, 'name': 'Adventure'}, {'id': 28, '...\n",
              "Name: 9, dtype: object"
            ]
          },
          "metadata": {
            "tags": []
          },
          "execution_count": 12
        }
      ]
    },
    {
      "cell_type": "code",
      "metadata": {
        "id": "lRiTiT2dtDAr",
        "colab_type": "code",
        "colab": {}
      },
      "source": [
        "import json"
      ],
      "execution_count": 0,
      "outputs": []
    },
    {
      "cell_type": "code",
      "metadata": {
        "id": "vuOFfG7KtDAt",
        "colab_type": "code",
        "colab": {}
      },
      "source": [
        "def convert_json(str):\n",
        "    # str = str.replace(\"\\'\", \"\\\"\")\n",
        "    return ast.literal_eval(str)"
      ],
      "execution_count": 0,
      "outputs": []
    },
    {
      "cell_type": "code",
      "metadata": {
        "id": "s4x7XPGBtDAv",
        "colab_type": "code",
        "colab": {}
      },
      "source": [
        "import ast"
      ],
      "execution_count": 0,
      "outputs": []
    },
    {
      "cell_type": "code",
      "metadata": {
        "id": "ogyJcpot17Er",
        "colab_type": "code",
        "colab": {
          "base_uri": "https://localhost:8080/",
          "height": 225
        },
        "outputId": "d237e98f-d75c-4a7b-e26a-421c47e94d84"
      },
      "source": [
        "genres['genres'] = [\n",
        "                    [d['name'] for d in ast.literal_eval(x)\n",
        "                    ] for x in genres['genres']]\n",
        "genres['genres']"
      ],
      "execution_count": 89,
      "outputs": [
        {
          "output_type": "execute_result",
          "data": {
            "text/plain": [
              "0         [Animation, Comedy, Family]\n",
              "1        [Adventure, Fantasy, Family]\n",
              "2                   [Romance, Comedy]\n",
              "3            [Comedy, Drama, Romance]\n",
              "4                            [Comedy]\n",
              "                     ...             \n",
              "45461                 [Drama, Family]\n",
              "45462                         [Drama]\n",
              "45463       [Action, Drama, Thriller]\n",
              "45464                              []\n",
              "45465                              []\n",
              "Name: genres, Length: 45466, dtype: object"
            ]
          },
          "metadata": {
            "tags": []
          },
          "execution_count": 89
        }
      ]
    },
    {
      "cell_type": "code",
      "metadata": {
        "id": "dXLh2mLl3G-9",
        "colab_type": "code",
        "colab": {}
      },
      "source": [
        "from sklearn.preprocessing import MultiLabelBinarizer"
      ],
      "execution_count": 0,
      "outputs": []
    },
    {
      "cell_type": "code",
      "metadata": {
        "id": "3SQVileG3HVW",
        "colab_type": "code",
        "colab": {}
      },
      "source": [
        "mlb = MultiLabelBinarizer()"
      ],
      "execution_count": 0,
      "outputs": []
    },
    {
      "cell_type": "code",
      "metadata": {
        "id": "AMVSfzUP3L_x",
        "colab_type": "code",
        "colab": {}
      },
      "source": [
        "mlb_ = mlb.fit_transform(genres['genres'])"
      ],
      "execution_count": 0,
      "outputs": []
    },
    {
      "cell_type": "code",
      "metadata": {
        "id": "7PhV7DW6udiG",
        "colab_type": "code",
        "colab": {}
      },
      "source": [
        "bad_genres = [\n",
        "           'Aniplex',\n",
        " 'BROSTA TV',\n",
        " 'Carousel Productions',   \n",
        "  'GoHands',\n",
        "   'Mardock Scramble Production Committee',\n",
        "    'Odyssey Media',\n",
        "     'Pulser Productions',\n",
        " 'Rogue State',\n",
        "  'Sentai Filmworks',\n",
        "   'Telescene Film Group Productions',\n",
        " 'The Cartel',\n",
        "  'Vision View Entertainment',\n",
        "]\n",
        "\n",
        "#genre_set = genre_set.difference(bad_genres)"
      ],
      "execution_count": 0,
      "outputs": []
    },
    {
      "cell_type": "code",
      "metadata": {
        "id": "_4P45pjP0M4T",
        "colab_type": "code",
        "colab": {}
      },
      "source": [
        "encoded_genres = pd.DataFrame(mlb_, columns = mlb.classes_, index = genres.index)"
      ],
      "execution_count": 0,
      "outputs": []
    },
    {
      "cell_type": "code",
      "metadata": {
        "id": "2MtpYjpR0QGb",
        "colab_type": "code",
        "colab": {
          "base_uri": "https://localhost:8080/",
          "height": 441
        },
        "outputId": "cbaf7412-ec3a-4275-fd72-1fb8a69c72c4"
      },
      "source": [
        "encoded_genres.drop(labels = bad_genres, axis = 1)"
      ],
      "execution_count": 105,
      "outputs": [
        {
          "output_type": "execute_result",
          "data": {
            "text/html": [
              "<div>\n",
              "<style scoped>\n",
              "    .dataframe tbody tr th:only-of-type {\n",
              "        vertical-align: middle;\n",
              "    }\n",
              "\n",
              "    .dataframe tbody tr th {\n",
              "        vertical-align: top;\n",
              "    }\n",
              "\n",
              "    .dataframe thead th {\n",
              "        text-align: right;\n",
              "    }\n",
              "</style>\n",
              "<table border=\"1\" class=\"dataframe\">\n",
              "  <thead>\n",
              "    <tr style=\"text-align: right;\">\n",
              "      <th></th>\n",
              "      <th>Action</th>\n",
              "      <th>Adventure</th>\n",
              "      <th>Animation</th>\n",
              "      <th>Comedy</th>\n",
              "      <th>Crime</th>\n",
              "      <th>Documentary</th>\n",
              "      <th>Drama</th>\n",
              "      <th>Family</th>\n",
              "      <th>Fantasy</th>\n",
              "      <th>Foreign</th>\n",
              "      <th>History</th>\n",
              "      <th>Horror</th>\n",
              "      <th>Music</th>\n",
              "      <th>Mystery</th>\n",
              "      <th>Romance</th>\n",
              "      <th>Science Fiction</th>\n",
              "      <th>TV Movie</th>\n",
              "      <th>Thriller</th>\n",
              "      <th>War</th>\n",
              "      <th>Western</th>\n",
              "    </tr>\n",
              "  </thead>\n",
              "  <tbody>\n",
              "    <tr>\n",
              "      <th>0</th>\n",
              "      <td>0</td>\n",
              "      <td>0</td>\n",
              "      <td>1</td>\n",
              "      <td>1</td>\n",
              "      <td>0</td>\n",
              "      <td>0</td>\n",
              "      <td>0</td>\n",
              "      <td>1</td>\n",
              "      <td>0</td>\n",
              "      <td>0</td>\n",
              "      <td>0</td>\n",
              "      <td>0</td>\n",
              "      <td>0</td>\n",
              "      <td>0</td>\n",
              "      <td>0</td>\n",
              "      <td>0</td>\n",
              "      <td>0</td>\n",
              "      <td>0</td>\n",
              "      <td>0</td>\n",
              "      <td>0</td>\n",
              "    </tr>\n",
              "    <tr>\n",
              "      <th>1</th>\n",
              "      <td>0</td>\n",
              "      <td>1</td>\n",
              "      <td>0</td>\n",
              "      <td>0</td>\n",
              "      <td>0</td>\n",
              "      <td>0</td>\n",
              "      <td>0</td>\n",
              "      <td>1</td>\n",
              "      <td>1</td>\n",
              "      <td>0</td>\n",
              "      <td>0</td>\n",
              "      <td>0</td>\n",
              "      <td>0</td>\n",
              "      <td>0</td>\n",
              "      <td>0</td>\n",
              "      <td>0</td>\n",
              "      <td>0</td>\n",
              "      <td>0</td>\n",
              "      <td>0</td>\n",
              "      <td>0</td>\n",
              "    </tr>\n",
              "    <tr>\n",
              "      <th>2</th>\n",
              "      <td>0</td>\n",
              "      <td>0</td>\n",
              "      <td>0</td>\n",
              "      <td>1</td>\n",
              "      <td>0</td>\n",
              "      <td>0</td>\n",
              "      <td>0</td>\n",
              "      <td>0</td>\n",
              "      <td>0</td>\n",
              "      <td>0</td>\n",
              "      <td>0</td>\n",
              "      <td>0</td>\n",
              "      <td>0</td>\n",
              "      <td>0</td>\n",
              "      <td>1</td>\n",
              "      <td>0</td>\n",
              "      <td>0</td>\n",
              "      <td>0</td>\n",
              "      <td>0</td>\n",
              "      <td>0</td>\n",
              "    </tr>\n",
              "    <tr>\n",
              "      <th>3</th>\n",
              "      <td>0</td>\n",
              "      <td>0</td>\n",
              "      <td>0</td>\n",
              "      <td>1</td>\n",
              "      <td>0</td>\n",
              "      <td>0</td>\n",
              "      <td>1</td>\n",
              "      <td>0</td>\n",
              "      <td>0</td>\n",
              "      <td>0</td>\n",
              "      <td>0</td>\n",
              "      <td>0</td>\n",
              "      <td>0</td>\n",
              "      <td>0</td>\n",
              "      <td>1</td>\n",
              "      <td>0</td>\n",
              "      <td>0</td>\n",
              "      <td>0</td>\n",
              "      <td>0</td>\n",
              "      <td>0</td>\n",
              "    </tr>\n",
              "    <tr>\n",
              "      <th>4</th>\n",
              "      <td>0</td>\n",
              "      <td>0</td>\n",
              "      <td>0</td>\n",
              "      <td>1</td>\n",
              "      <td>0</td>\n",
              "      <td>0</td>\n",
              "      <td>0</td>\n",
              "      <td>0</td>\n",
              "      <td>0</td>\n",
              "      <td>0</td>\n",
              "      <td>0</td>\n",
              "      <td>0</td>\n",
              "      <td>0</td>\n",
              "      <td>0</td>\n",
              "      <td>0</td>\n",
              "      <td>0</td>\n",
              "      <td>0</td>\n",
              "      <td>0</td>\n",
              "      <td>0</td>\n",
              "      <td>0</td>\n",
              "    </tr>\n",
              "    <tr>\n",
              "      <th>...</th>\n",
              "      <td>...</td>\n",
              "      <td>...</td>\n",
              "      <td>...</td>\n",
              "      <td>...</td>\n",
              "      <td>...</td>\n",
              "      <td>...</td>\n",
              "      <td>...</td>\n",
              "      <td>...</td>\n",
              "      <td>...</td>\n",
              "      <td>...</td>\n",
              "      <td>...</td>\n",
              "      <td>...</td>\n",
              "      <td>...</td>\n",
              "      <td>...</td>\n",
              "      <td>...</td>\n",
              "      <td>...</td>\n",
              "      <td>...</td>\n",
              "      <td>...</td>\n",
              "      <td>...</td>\n",
              "      <td>...</td>\n",
              "    </tr>\n",
              "    <tr>\n",
              "      <th>45461</th>\n",
              "      <td>0</td>\n",
              "      <td>0</td>\n",
              "      <td>0</td>\n",
              "      <td>0</td>\n",
              "      <td>0</td>\n",
              "      <td>0</td>\n",
              "      <td>1</td>\n",
              "      <td>1</td>\n",
              "      <td>0</td>\n",
              "      <td>0</td>\n",
              "      <td>0</td>\n",
              "      <td>0</td>\n",
              "      <td>0</td>\n",
              "      <td>0</td>\n",
              "      <td>0</td>\n",
              "      <td>0</td>\n",
              "      <td>0</td>\n",
              "      <td>0</td>\n",
              "      <td>0</td>\n",
              "      <td>0</td>\n",
              "    </tr>\n",
              "    <tr>\n",
              "      <th>45462</th>\n",
              "      <td>0</td>\n",
              "      <td>0</td>\n",
              "      <td>0</td>\n",
              "      <td>0</td>\n",
              "      <td>0</td>\n",
              "      <td>0</td>\n",
              "      <td>1</td>\n",
              "      <td>0</td>\n",
              "      <td>0</td>\n",
              "      <td>0</td>\n",
              "      <td>0</td>\n",
              "      <td>0</td>\n",
              "      <td>0</td>\n",
              "      <td>0</td>\n",
              "      <td>0</td>\n",
              "      <td>0</td>\n",
              "      <td>0</td>\n",
              "      <td>0</td>\n",
              "      <td>0</td>\n",
              "      <td>0</td>\n",
              "    </tr>\n",
              "    <tr>\n",
              "      <th>45463</th>\n",
              "      <td>1</td>\n",
              "      <td>0</td>\n",
              "      <td>0</td>\n",
              "      <td>0</td>\n",
              "      <td>0</td>\n",
              "      <td>0</td>\n",
              "      <td>1</td>\n",
              "      <td>0</td>\n",
              "      <td>0</td>\n",
              "      <td>0</td>\n",
              "      <td>0</td>\n",
              "      <td>0</td>\n",
              "      <td>0</td>\n",
              "      <td>0</td>\n",
              "      <td>0</td>\n",
              "      <td>0</td>\n",
              "      <td>0</td>\n",
              "      <td>1</td>\n",
              "      <td>0</td>\n",
              "      <td>0</td>\n",
              "    </tr>\n",
              "    <tr>\n",
              "      <th>45464</th>\n",
              "      <td>0</td>\n",
              "      <td>0</td>\n",
              "      <td>0</td>\n",
              "      <td>0</td>\n",
              "      <td>0</td>\n",
              "      <td>0</td>\n",
              "      <td>0</td>\n",
              "      <td>0</td>\n",
              "      <td>0</td>\n",
              "      <td>0</td>\n",
              "      <td>0</td>\n",
              "      <td>0</td>\n",
              "      <td>0</td>\n",
              "      <td>0</td>\n",
              "      <td>0</td>\n",
              "      <td>0</td>\n",
              "      <td>0</td>\n",
              "      <td>0</td>\n",
              "      <td>0</td>\n",
              "      <td>0</td>\n",
              "    </tr>\n",
              "    <tr>\n",
              "      <th>45465</th>\n",
              "      <td>0</td>\n",
              "      <td>0</td>\n",
              "      <td>0</td>\n",
              "      <td>0</td>\n",
              "      <td>0</td>\n",
              "      <td>0</td>\n",
              "      <td>0</td>\n",
              "      <td>0</td>\n",
              "      <td>0</td>\n",
              "      <td>0</td>\n",
              "      <td>0</td>\n",
              "      <td>0</td>\n",
              "      <td>0</td>\n",
              "      <td>0</td>\n",
              "      <td>0</td>\n",
              "      <td>0</td>\n",
              "      <td>0</td>\n",
              "      <td>0</td>\n",
              "      <td>0</td>\n",
              "      <td>0</td>\n",
              "    </tr>\n",
              "  </tbody>\n",
              "</table>\n",
              "<p>45466 rows × 20 columns</p>\n",
              "</div>"
            ],
            "text/plain": [
              "       Action  Adventure  Animation  Comedy  ...  TV Movie  Thriller  War  Western\n",
              "0           0          0          1       1  ...         0         0    0        0\n",
              "1           0          1          0       0  ...         0         0    0        0\n",
              "2           0          0          0       1  ...         0         0    0        0\n",
              "3           0          0          0       1  ...         0         0    0        0\n",
              "4           0          0          0       1  ...         0         0    0        0\n",
              "...       ...        ...        ...     ...  ...       ...       ...  ...      ...\n",
              "45461       0          0          0       0  ...         0         0    0        0\n",
              "45462       0          0          0       0  ...         0         0    0        0\n",
              "45463       1          0          0       0  ...         0         1    0        0\n",
              "45464       0          0          0       0  ...         0         0    0        0\n",
              "45465       0          0          0       0  ...         0         0    0        0\n",
              "\n",
              "[45466 rows x 20 columns]"
            ]
          },
          "metadata": {
            "tags": []
          },
          "execution_count": 105
        }
      ]
    },
    {
      "cell_type": "code",
      "metadata": {
        "id": "H6JAEQjf5rKv",
        "colab_type": "code",
        "colab": {}
      },
      "source": [
        ""
      ],
      "execution_count": 0,
      "outputs": []
    }
  ]
}