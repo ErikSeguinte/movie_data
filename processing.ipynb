{
  "nbformat": 4,
  "nbformat_minor": 0,
  "metadata": {
    "colab": {
      "name": "Untitled3.ipynb",
      "provenance": [],
      "include_colab_link": true
    },
    "kernelspec": {
      "name": "python3",
      "display_name": "Python 3"
    },
    "accelerator": "GPU"
  },
  "cells": [
    {
      "cell_type": "markdown",
      "metadata": {
        "id": "view-in-github",
        "colab_type": "text"
      },
      "source": [
        "<a href=\"https://colab.research.google.com/github/ErikSeguinte/movie_data/blob/master/processing.ipynb\" target=\"_parent\"><img src=\"https://colab.research.google.com/assets/colab-badge.svg\" alt=\"Open In Colab\"/></a>"
      ]
    },
    {
      "cell_type": "code",
      "metadata": {
        "id": "DfzPSpsWOxwG",
        "colab_type": "code",
        "colab": {}
      },
      "source": [
        "import pandas as pd\n",
        "import cufflinks as cf\n",
        "import numpy as np\n",
        "from plotly import graph_objs as go"
      ],
      "execution_count": 0,
      "outputs": []
    },
    {
      "cell_type": "code",
      "metadata": {
        "id": "BOx7-OzuOxwb",
        "colab_type": "code",
        "colab": {}
      },
      "source": [
        "def enable_plotly_in_cell():\n",
        "  import IPython\n",
        "  from plotly.offline import init_notebook_mode\n",
        "  display(IPython.core.display.HTML('''<script src=\"/static/components/requirejs/require.js\"></script>'''))\n",
        "  init_notebook_mode(connected=False)"
      ],
      "execution_count": 0,
      "outputs": []
    },
    {
      "cell_type": "code",
      "metadata": {
        "id": "ALAkY5NSOxwj",
        "colab_type": "code",
        "colab": {}
      },
      "source": [
        "cf.set_config_file(offline=True)"
      ],
      "execution_count": 0,
      "outputs": []
    },
    {
      "cell_type": "markdown",
      "metadata": {
        "colab_type": "text",
        "id": "cHmXX2xrlfbZ"
      },
      "source": [
        "* I previously pulled CSV files from Kaggle, but the files were too big to host on github.\n",
        "* I imported the files I wanted into pandas, and then exported them back out as compressed pickles.\n",
        "* I was able to compress a 700MB csv to a 3 MB Pickle"
      ]
    },
    {
      "cell_type": "code",
      "metadata": {
        "id": "_gFq8RJ6Oxwx",
        "colab_type": "code",
        "colab": {}
      },
      "source": [
        "try: \n",
        "    movies = pd.read_pickle('data/movies.pkl.xz')\n",
        "    ratings = pd.read_pickle('data/ratings.pkl.xz')\n",
        "except:\n",
        "    # Download pickles from github\n",
        "    !wget https://github.com/ErikSeguinte/movie_data/raw/master/data/ratings.pkl.xz\n",
        "    !wget https://github.com/ErikSeguinte/movie_data/raw/master/data/movies.pkl.xz\n",
        "    # Unpickle dataframes\n",
        "    movies = pd.read_pickle('movies.pkl.xz')\n",
        "    ratings = pd.read_pickle('ratings.pkl.xz')"
      ],
      "execution_count": 0,
      "outputs": []
    },
    {
      "cell_type": "code",
      "metadata": {
        "colab_type": "code",
        "id": "hlOmBoAAoVXR",
        "colab": {}
      },
      "source": [
        "movies.head(1)"
      ],
      "execution_count": 0,
      "outputs": []
    },
    {
      "cell_type": "code",
      "metadata": {
        "colab_type": "code",
        "id": "d5HAeY2Tqb9F",
        "colab": {}
      },
      "source": [
        "ratings.shape"
      ],
      "execution_count": 0,
      "outputs": []
    },
    {
      "cell_type": "code",
      "metadata": {
        "colab_type": "code",
        "id": "2I9hyuA4lLj9",
        "colab": {}
      },
      "source": [
        "movies.shape"
      ],
      "execution_count": 0,
      "outputs": []
    },
    {
      "cell_type": "markdown",
      "metadata": {
        "id": "HiXoKaRQqYr9",
        "colab_type": "text"
      },
      "source": [
        "## Clean Movie DF"
      ]
    },
    {
      "cell_type": "code",
      "metadata": {
        "id": "ygum3v8fOxxV",
        "colab_type": "code",
        "colab": {}
      },
      "source": [
        "movies.dtypes"
      ],
      "execution_count": 0,
      "outputs": []
    },
    {
      "cell_type": "markdown",
      "metadata": {
        "colab_type": "text",
        "id": "Y8o7MEkpmX3Z"
      },
      "source": [
        "* Movies Dataframe has malformed data. `id` Should be numeric.\n",
        "* After inspection, it looks like there are rows that are missing a comma somewhere, making columns not line up, and adding the wrong data to columns. Let's clean those up.\n",
        "* All malformed rows have strings for IDs instead of numeric, so we will coerce them into numeric columns, and strings will be returned as `NaN`, which we'll then drop.\n",
        "\n",
        "* `budget` and `revanue` should also be numeric, but Nans won't be dropped\n",
        "\n",
        "\n",
        "\n",
        "\n"
      ]
    },
    {
      "cell_type": "code",
      "metadata": {
        "id": "5gkaW-QrOxxp",
        "colab_type": "code",
        "colab": {}
      },
      "source": [
        "movies['id'] = pd.to_numeric(movies['id'], errors='coerce')\n",
        "movies = movies[movies['id'].notnull()]\n",
        "movies['id'] = movies['id'].astype('Int64')\n",
        "movies = movies.set_index('id')"
      ],
      "execution_count": 0,
      "outputs": []
    },
    {
      "cell_type": "code",
      "metadata": {
        "id": "6zMQd1RTdn1m",
        "colab_type": "code",
        "colab": {}
      },
      "source": [
        "def to_numeric(df, labels):\n",
        "    \n",
        "    for label in labels:\n",
        "        df[label] = pd.to_numeric(movies[label], errors='coerce').copy()\n",
        "    df = df.replace({\"0\": np.NaN, 0: np.NaN, 0.0:np.NaN})\n",
        "    return df"
      ],
      "execution_count": 0,
      "outputs": []
    },
    {
      "cell_type": "code",
      "metadata": {
        "id": "rJeOTNHSd7w9",
        "colab_type": "code",
        "colab": {}
      },
      "source": [
        "movies = to_numeric(movies, ['budget', 'revenue', 'vote_average'])"
      ],
      "execution_count": 0,
      "outputs": []
    },
    {
      "cell_type": "code",
      "metadata": {
        "id": "R9PRUH19Oxx3",
        "colab_type": "code",
        "colab": {}
      },
      "source": [
        "movies['revenue'].value_counts()"
      ],
      "execution_count": 0,
      "outputs": []
    },
    {
      "cell_type": "code",
      "metadata": {
        "id": "lhfWj_MYqDSv",
        "colab_type": "code",
        "colab": {}
      },
      "source": [
        "movies['budget'].isnull().sum()"
      ],
      "execution_count": 0,
      "outputs": []
    },
    {
      "cell_type": "code",
      "metadata": {
        "id": "PnqoGOa_OxyA",
        "colab_type": "code",
        "colab": {}
      },
      "source": [
        "movies['release_date'] =pd.to_datetime(movies['release_date'], infer_datetime_format= True)"
      ],
      "execution_count": 0,
      "outputs": []
    },
    {
      "cell_type": "code",
      "metadata": {
        "id": "v9cLV51lOxyE",
        "colab_type": "code",
        "colab": {}
      },
      "source": [
        "clean_movies = movies[['title', 'release_date','budget', 'revenue', 'runtime', 'vote_average']]"
      ],
      "execution_count": 0,
      "outputs": []
    },
    {
      "cell_type": "code",
      "metadata": {
        "id": "NG1At8jZOxyI",
        "colab_type": "code",
        "colab": {}
      },
      "source": [
        "clean_movies.head()"
      ],
      "execution_count": 0,
      "outputs": []
    },
    {
      "cell_type": "markdown",
      "metadata": {
        "id": "iW-7lxUXqdJL",
        "colab_type": "text"
      },
      "source": [
        "## Process User Reviews\n",
        "* User reviews come in a collection of individual reviews where a review gives a movie a score of 1 to 5.\n",
        "* We will take the mean ratings for each movie"
      ]
    },
    {
      "cell_type": "code",
      "metadata": {
        "id": "mYHD8JsFOxyN",
        "colab_type": "code",
        "colab": {}
      },
      "source": [
        "mean_rating = ratings.groupby('movieId')[['rating']].mean()"
      ],
      "execution_count": 0,
      "outputs": []
    },
    {
      "cell_type": "code",
      "metadata": {
        "id": "pAPsIybuOxyV",
        "colab_type": "code",
        "colab": {}
      },
      "source": [
        "avg_ratings = mean_rating"
      ],
      "execution_count": 0,
      "outputs": []
    },
    {
      "cell_type": "markdown",
      "metadata": {
        "id": "Ht36bnK3q0ra",
        "colab_type": "text"
      },
      "source": [
        "* And now we merge the averaged ratings back with the movie database.\n",
        "* Note that not all movies are present in the user votings."
      ]
    },
    {
      "cell_type": "code",
      "metadata": {
        "id": "dIY3gf6TOxyZ",
        "colab_type": "code",
        "colab": {}
      },
      "source": [
        "movie_ratings = clean_movies.merge(avg_ratings, left_index = True, right_index=True)"
      ],
      "execution_count": 0,
      "outputs": []
    },
    {
      "cell_type": "code",
      "metadata": {
        "id": "wKa0W434Oxyc",
        "colab_type": "code",
        "colab": {}
      },
      "source": [
        "movie_ratings.dtypes"
      ],
      "execution_count": 0,
      "outputs": []
    },
    {
      "cell_type": "code",
      "metadata": {
        "id": "QjFMdkc8Oxyg",
        "colab_type": "code",
        "colab": {}
      },
      "source": [
        "movie_ratings['year'] = movie_ratings['release_date'].dt.year.astype('Int64')"
      ],
      "execution_count": 0,
      "outputs": []
    },
    {
      "cell_type": "code",
      "metadata": {
        "id": "GIp2FGHoOxyv",
        "colab_type": "code",
        "colab": {}
      },
      "source": [
        "movie_ratings['decade'] = [x - (x%10) for x in movie_ratings['year']]\n",
        "movie_ratings['decade'] = movie_ratings['decade'].astype('Int64')"
      ],
      "execution_count": 0,
      "outputs": []
    },
    {
      "cell_type": "code",
      "metadata": {
        "id": "naxMxoROSIJ7",
        "colab_type": "code",
        "colab": {}
      },
      "source": [
        ""
      ],
      "execution_count": 0,
      "outputs": []
    },
    {
      "cell_type": "code",
      "metadata": {
        "id": "NdyzJ_fuOxyj",
        "colab_type": "code",
        "colab": {}
      },
      "source": [
        "top = [int(x) for x in movie_ratings.nlargest(5, 'rating_mean').index.to_list()]"
      ],
      "execution_count": 0,
      "outputs": []
    },
    {
      "cell_type": "code",
      "metadata": {
        "id": "PnLjwY3NOxyl",
        "colab_type": "code",
        "colab": {}
      },
      "source": [
        "# enable_plotly_in_cell()\n",
        "ratings[ratings['movieId'].isin(top)].boxplot( by= 'movieId', column ='rating')"
      ],
      "execution_count": 0,
      "outputs": []
    },
    {
      "cell_type": "code",
      "metadata": {
        "id": "Tg0W_YHnOxyp",
        "colab_type": "code",
        "colab": {}
      },
      "source": [
        "#enable_plotly_in_cell()\n",
        "movie_ratings.groupby('year')['rating_mean'].mean().iplot(kind='bar')"
      ],
      "execution_count": 0,
      "outputs": []
    },
    {
      "cell_type": "code",
      "metadata": {
        "id": "rNt66VBzOxyz",
        "colab_type": "code",
        "colab": {}
      },
      "source": [
        "movie_ratings['decade']"
      ],
      "execution_count": 0,
      "outputs": []
    },
    {
      "cell_type": "code",
      "metadata": {
        "id": "Hduyjnm4Oxy2",
        "colab_type": "code",
        "colab": {}
      },
      "source": [
        "# enable_plotly_in_cell()\n",
        "movie_ratings.groupby('decade')['rating_mean'].mean().iplot(kind='bar')"
      ],
      "execution_count": 0,
      "outputs": []
    },
    {
      "cell_type": "code",
      "metadata": {
        "id": "-q2sNiMKOxy6",
        "colab_type": "code",
        "colab": {}
      },
      "source": [
        "# enable_plotly_in_cell()\n",
        "trace = go.Box(\n",
        "    x = movie_ratings[movie_ratings['decade'].notnull()]['decade'],\n",
        "    y = movie_ratings[movie_ratings['decade'].notnull()]['rating_mean']\n",
        "    \n",
        ")\n",
        "go.Figure(trace)\n"
      ],
      "execution_count": 0,
      "outputs": []
    },
    {
      "cell_type": "code",
      "metadata": {
        "id": "d7PgSyYEOxy9",
        "colab_type": "code",
        "colab": {}
      },
      "source": [
        "# enable_plotly_in_cell()\n",
        "trace = go.Box(\n",
        "    x = movie_ratings[movie_ratings['year'].notnull()]['year'],\n",
        "    y = movie_ratings[movie_ratings['year'].notnull()]['rating_mean'],\n",
        "    \n",
        ")\n",
        "go.Figure(trace)"
      ],
      "execution_count": 0,
      "outputs": []
    },
    {
      "cell_type": "code",
      "metadata": {
        "id": "2KR0duIqnvO1",
        "colab_type": "code",
        "colab": {}
      },
      "source": [
        "trace = go.Bar(\n",
        "    x = movie_ratings['qbudget'],\n",
        "    y=movie_ratings['scaled_rating']\n",
        ")"
      ],
      "execution_count": 0,
      "outputs": []
    },
    {
      "cell_type": "code",
      "metadata": {
        "id": "zfeWFJgjOxzC",
        "colab_type": "code",
        "colab": {}
      },
      "source": [
        "movie_ratings.shape"
      ],
      "execution_count": 0,
      "outputs": []
    },
    {
      "cell_type": "code",
      "metadata": {
        "id": "BeX6DYwVOxzF",
        "colab_type": "code",
        "colab": {}
      },
      "source": [
        "from sklearn.preprocessing import StandardScaler\n",
        "from sklearn.decomposition import PCA"
      ],
      "execution_count": 0,
      "outputs": []
    },
    {
      "cell_type": "code",
      "metadata": {
        "id": "4KzvqJLpOxzI",
        "colab_type": "code",
        "colab": {}
      },
      "source": [
        "all_ratings = movie_ratings[['vote_average','rating']].dropna()\n",
        "all_ratings"
      ],
      "execution_count": 0,
      "outputs": []
    },
    {
      "cell_type": "code",
      "metadata": {
        "id": "a89OhzNzOxzM",
        "colab_type": "code",
        "colab": {}
      },
      "source": [
        "all_ratings.isnull().sum()"
      ],
      "execution_count": 0,
      "outputs": []
    },
    {
      "cell_type": "code",
      "metadata": {
        "id": "vAQzoItLOxzO",
        "colab_type": "code",
        "colab": {}
      },
      "source": [
        "scaler = StandardScaler()\n",
        "x =scaler.fit_transform(all_ratings)"
      ],
      "execution_count": 0,
      "outputs": []
    },
    {
      "cell_type": "code",
      "metadata": {
        "id": "AjsKGdlDOxzS",
        "colab_type": "code",
        "colab": {}
      },
      "source": [
        "pca = PCA(1)"
      ],
      "execution_count": 0,
      "outputs": []
    },
    {
      "cell_type": "code",
      "metadata": {
        "id": "2VpwWNKZOxzV",
        "colab_type": "code",
        "colab": {}
      },
      "source": [
        "x = pca.fit_transform(x)"
      ],
      "execution_count": 0,
      "outputs": []
    },
    {
      "cell_type": "code",
      "metadata": {
        "id": "RyRNZwRxOxza",
        "colab_type": "code",
        "colab": {}
      },
      "source": [
        "scaled_ratings = pd.DataFrame(x, index = all_ratings.index, columns=['scaled_rating'])"
      ],
      "execution_count": 0,
      "outputs": []
    },
    {
      "cell_type": "code",
      "metadata": {
        "id": "tXV0etYUOxzf",
        "colab_type": "code",
        "colab": {}
      },
      "source": [
        "scaled_ratings"
      ],
      "execution_count": 0,
      "outputs": []
    },
    {
      "cell_type": "code",
      "metadata": {
        "id": "XBLR2zi4Oxzj",
        "colab_type": "code",
        "colab": {}
      },
      "source": [
        "movie_ratings = movie_ratings.merge(scaled_ratings, left_index=True, right_index=True)"
      ],
      "execution_count": 0,
      "outputs": []
    },
    {
      "cell_type": "code",
      "metadata": {
        "id": "myIVO9IdOxzm",
        "colab_type": "code",
        "colab": {}
      },
      "source": [
        "movie_ratings.corr()"
      ],
      "execution_count": 0,
      "outputs": []
    },
    {
      "cell_type": "code",
      "metadata": {
        "id": "V3z5U5CNOxzq",
        "colab_type": "code",
        "colab": {}
      },
      "source": [
        "enable_plotly_in_cell()\n",
        "movie_ratings.groupby('year')['scaled_rating'].mean().iplot(kind='bar')"
      ],
      "execution_count": 0,
      "outputs": []
    },
    {
      "cell_type": "code",
      "metadata": {
        "id": "bK3smokzOxzt",
        "colab_type": "code",
        "colab": {}
      },
      "source": [
        "movie_ratings.groupby('year')['scaled_rating'].mean().iplot(kind='bar', title = \"Scaled Rating by Year\", xTitle=\"year\", yTitle=\"Scaled Rating\")"
      ],
      "execution_count": 0,
      "outputs": []
    },
    {
      "cell_type": "code",
      "metadata": {
        "id": "mHQCi9ieOxzw",
        "colab_type": "code",
        "colab": {}
      },
      "source": [
        "movie_ratings.groupby('decade')['scaled_rating'].mean().iplot(kind='bar')"
      ],
      "execution_count": 0,
      "outputs": []
    },
    {
      "cell_type": "code",
      "metadata": {
        "id": "6dVTbyWxOxzz",
        "colab_type": "code",
        "colab": {}
      },
      "source": [
        "budget_ratings = movie_ratings[['budget', 'scaled_rating']].dropna()"
      ],
      "execution_count": 0,
      "outputs": []
    },
    {
      "cell_type": "code",
      "metadata": {
        "id": "O6pe6oU5Oxz2",
        "colab_type": "code",
        "colab": {}
      },
      "source": [
        "budget_ratings['qbudget'] = pd.qcut(budget_ratings['budget'], q = 5, labels = ['vlow', 'low', 'med', 'high', 'blockbuster'])\n"
      ],
      "execution_count": 0,
      "outputs": []
    },
    {
      "cell_type": "code",
      "metadata": {
        "id": "gogXs5mAOxz5",
        "colab_type": "code",
        "colab": {}
      },
      "source": [
        "enable_plotly_in_cell()\n",
        "budget_ratings.groupby('qbudget')['scaled_rating'].mean()"
      ],
      "execution_count": 0,
      "outputs": []
    },
    {
      "cell_type": "code",
      "metadata": {
        "id": "FAUImwN_Oxz9",
        "colab_type": "code",
        "colab": {}
      },
      "source": [
        "movie_ratings.nlargest(25, 'scaled_rating')"
      ],
      "execution_count": 0,
      "outputs": []
    },
    {
      "cell_type": "code",
      "metadata": {
        "id": "uR2XsQqeQZeL",
        "colab_type": "code",
        "colab": {}
      },
      "source": [
        "enable_plotly_in_cell()\n",
        "trace = go.Scatter(\n",
        "    x = movie_ratings[\"budget\"],\n",
        "    y = movie_ratings['revenue'],\n",
        "    mode = \"markers\"\n",
        ")\n",
        "\n",
        "go.Figure(trace)"
      ],
      "execution_count": 0,
      "outputs": []
    },
    {
      "cell_type": "code",
      "metadata": {
        "id": "hK4E_hOIaQwO",
        "colab_type": "code",
        "colab": {}
      },
      "source": [
        ""
      ],
      "execution_count": 0,
      "outputs": []
    }
  ]
}