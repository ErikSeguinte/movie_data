{
  "nbformat": 4,
  "nbformat_minor": 0,
  "metadata": {
    "colab": {
      "name": "Untitled3.ipynb",
      "provenance": [],
      "authorship_tag": "ABX9TyMCs9Z0PsYy/ZR4wi2DP0t8",
      "include_colab_link": true
    },
    "kernelspec": {
      "name": "python3",
      "display_name": "Python 3"
    },
    "accelerator": "GPU"
  },
  "cells": [
    {
      "cell_type": "markdown",
      "metadata": {
        "colab_type": "text",
        "id": "view-in-github"
      },
      "source": [
        "<a href=\"https://colab.research.google.com/github/ErikSeguinte/movie_data/blob/master/processing.ipynb\" target=\"_parent\"><img src=\"https://colab.research.google.com/assets/colab-badge.svg\" alt=\"Open In Colab\"/></a>"
      ]
    },
    {
      "cell_type": "code",
      "execution_count": 1,
      "metadata": {},
      "outputs": [
        {
          "data": {
            "text/html": "        <script type=\"text/javascript\">\n        window.PlotlyConfig = {MathJaxConfig: 'local'};\n        if (window.MathJax) {MathJax.Hub.Config({SVG: {font: \"STIX-Web\"}});}\n        if (typeof require !== 'undefined') {\n        require.undef(\"plotly\");\n        requirejs.config({\n            paths: {\n                'plotly': ['https://cdn.plot.ly/plotly-latest.min']\n            }\n        });\n        require(['plotly'], function(Plotly) {\n            window._Plotly = Plotly;\n        });\n        }\n        </script>\n        "
          },
          "metadata": {},
          "output_type": "display_data"
        }
      ],
      "source": [
        "import pandas as pd\n",
        "import cufflinks as cf\n",
        "import numpy as np\n",
        "from plotly import graph_objs as go"
      ]
    },
    {
      "cell_type": "code",
      "execution_count": 2,
      "metadata": {},
      "outputs": [],
      "source": [
        "def enable_plotly_in_cell():\n",
        "  import IPython\n",
        "  from plotly.offline import init_notebook_mode\n",
        "  display(IPython.core.display.HTML('''<script src=\"/static/components/requirejs/require.js\"></script>'''))\n",
        "  init_notebook_mode(connected=False)"
      ]
    },
    {
      "cell_type": "code",
      "execution_count": 3,
      "metadata": {},
      "outputs": [
        {
          "data": {
            "text/html": "        <script type=\"text/javascript\">\n        window.PlotlyConfig = {MathJaxConfig: 'local'};\n        if (window.MathJax) {MathJax.Hub.Config({SVG: {font: \"STIX-Web\"}});}\n        if (typeof require !== 'undefined') {\n        require.undef(\"plotly\");\n        requirejs.config({\n            paths: {\n                'plotly': ['https://cdn.plot.ly/plotly-latest.min']\n            }\n        });\n        require(['plotly'], function(Plotly) {\n            window._Plotly = Plotly;\n        });\n        }\n        </script>\n        "
          },
          "metadata": {},
          "output_type": "display_data"
        }
      ],
      "source": [
        "cf.set_config_file(offline=True)"
      ]
    },
    {
      "cell_type": "markdown",
      "metadata": {
        "colab_type": "text",
        "id": "cHmXX2xrlfbZ"
      },
      "source": [
        "* I previously pulled CSV files from Kaggle, but the files were too big to host on github.\n",
        "* I imported the files I wanted into pandas, and then exported them back out as compressed pickles.\n",
        "* I was able to compress a 700MB csv to a 3 MB Pickle"
      ]
    },
    {
      "cell_type": "code",
      "execution_count": 4,
      "metadata": {},
      "outputs": [],
      "source": [
        "try: \n",
        "    movies = pd.read_pickle('data/movies.pkl.xz')\n",
        "    ratings = pd.read_pickle('data/ratings.pkl.xz')\n",
        "except:\n",
        "    # Download pickles from github\n",
        "    !wget https://github.com/ErikSeguinte/movie_data/raw/master/data/ratings.pkl.xz\n",
        "    !wget https://github.com/ErikSeguinte/movie_data/raw/master/data/movies.pkl.xz\n",
        "    # Unpickle dataframes\n",
        "    movies = pd.read_pickle('movies.pkl.xz')\n",
        "    ratings = pd.read_pickle('ratings.pkl.xz')"
      ]
    },
    {
      "cell_type": "code",
      "execution_count": 0,
      "metadata": {
        "colab": {},
        "colab_type": "code",
        "id": "hlOmBoAAoVXR"
      },
      "outputs": [],
      "source": [
        "movies.head(1)"
      ]
    },
    {
      "cell_type": "code",
      "execution_count": 0,
      "metadata": {
        "colab": {},
        "colab_type": "code",
        "id": "XkjrVCS1mPzb"
      },
      "outputs": [],
      "source": [
        "ratings.dtypes"
      ]
    },
    {
      "cell_type": "code",
      "execution_count": 0,
      "metadata": {
        "colab": {},
        "colab_type": "code",
        "id": "0acPCXzopc_M"
      },
      "outputs": [],
      "source": [
        "ratings['datetime'] = pd.to_datetime(\n",
        "    ratings['timestamp'], \n",
        "    infer_datetime_format=True, \n",
        "    unit = 's')"
      ]
    },
    {
      "cell_type": "code",
      "execution_count": 0,
      "metadata": {
        "colab": {},
        "colab_type": "code",
        "id": "d5HAeY2Tqb9F"
      },
      "outputs": [],
      "source": [
        "ratings.shape"
      ]
    },
    {
      "cell_type": "code",
      "execution_count": 0,
      "metadata": {
        "colab": {},
        "colab_type": "code",
        "id": "2I9hyuA4lLj9"
      },
      "outputs": [],
      "source": [
        "movies.shape"
      ]
    },
    {
      "cell_type": "code",
      "execution_count": 0,
      "metadata": {
        "colab": {},
        "colab_type": "code",
        "id": "UUGEKRH2lRqU"
      },
      "outputs": [],
      "source": [
        "movies.dtypes"
      ]
    },
    {
      "cell_type": "markdown",
      "metadata": {
        "colab_type": "text",
        "id": "Y8o7MEkpmX3Z"
      },
      "source": [
        "* Movies Dataframe has malformed data. `id` Should be numeric.\n",
        "* After inspection, it looks like there are rows that are missing a comma somewhere, making columns not line up, and adding the wrong data to columns. Let's clean those up.\n",
        "* All malformed rows have strings for IDs instead of numeric, so we will coerce them into numeric columns, and strings will be returned as `NaN`, which we'll then drop.\n",
        "\n",
        "* `budget` and `revanue` should also be numeric, but Nans won't be dropped\n",
        "\n",
        "\n",
        "\n",
        "\n"
      ]
    },
    {
      "cell_type": "code",
      "execution_count": 0,
      "metadata": {
        "colab": {},
        "colab_type": "code",
        "id": "ijtWHWFovAFY"
      },
      "outputs": [],
      "source": [
        "ratings.dtypes"
      ]
    },
    {
      "cell_type": "code",
      "execution_count": 0,
      "metadata": {
        "colab": {},
        "colab_type": "code",
        "id": "qWXR5BWZ5Ptm"
      },
      "outputs": [],
      "source": [
        "ratings['rating'].value_counts()"
      ]
    },
    {
      "cell_type": "code",
      "execution_count": 0,
      "metadata": {
        "colab": {},
        "colab_type": "code",
        "id": "FVi3csIr0ucM"
      },
      "outputs": [],
      "source": [
        "movies['id'] = pd.to_numeric(movies['id'], errors='coerce')"
      ]
    },
    {
      "cell_type": "code",
      "execution_count": 0,
      "metadata": {
        "colab": {},
        "colab_type": "code",
        "id": "AdBt55eu1UXV"
      },
      "outputs": [],
      "source": [
        "movies = movies[movies['id'].notnull()]"
      ]
    },
    {
      "cell_type": "code",
      "execution_count": 0,
      "metadata": {
        "colab": {},
        "colab_type": "code",
        "id": "Zk8DzXi12J1W"
      },
      "outputs": [],
      "source": [
        "movies['id'] = movies['id'].astype(int)"
      ]
    },
    {
      "cell_type": "code",
      "execution_count": 0,
      "metadata": {
        "colab": {},
        "colab_type": "code",
        "id": "mPWjLX1_n3fa"
      },
      "outputs": [],
      "source": [
        "movies['id'].dtype"
      ]
    },
    {
      "cell_type": "code",
      "execution_count": 0,
      "metadata": {
        "colab": {},
        "colab_type": "code",
        "id": "_Lju7Sh_uPBp"
      },
      "outputs": [],
      "source": [
        "movies['budget'] = pd.to_numeric(movies['budget'], errors='coerce')"
      ]
    },
    {
      "cell_type": "code",
      "execution_count": 0,
      "metadata": {
        "colab": {},
        "colab_type": "code",
        "id": "faGBoo0kvWYx"
      },
      "outputs": [],
      "source": [
        "movies['revenue'] = pd.to_numeric(movies['revenue'], errors='coerce')"
      ]
    },
    {
      "cell_type": "code",
      "execution_count": 0,
      "metadata": {
        "colab": {},
        "colab_type": "code",
        "id": "cZJQJK0HvsAl"
      },
      "outputs": [],
      "source": [
        "movies['revenue'].value_counts()"
      ]
    },
    {
      "cell_type": "code",
      "execution_count": 0,
      "metadata": {
        "colab": {},
        "colab_type": "code",
        "id": "9UfeD-iItxkw"
      },
      "outputs": [],
      "source": [
        "movies = movies.replace({0: np.NaN, 0.0: np.NaN})"
      ]
    },
    {
      "cell_type": "code",
      "execution_count": 0,
      "metadata": {
        "colab": {},
        "colab_type": "code",
        "id": "eUC2R1mpwiRR"
      },
      "outputs": [],
      "source": [
        "movies['release_date'] =pd.to_datetime(movies['release_date'], infer_datetime_format= True)"
      ]
    },
    {
      "cell_type": "code",
      "execution_count": 0,
      "metadata": {
        "colab": {},
        "colab_type": "code",
        "id": "Pd56blsjsURC"
      },
      "outputs": [],
      "source": [
        "clean_movies = movies[['id','title', 'release_date','budget', 'revenue', 'runtime']]"
      ]
    },
    {
      "cell_type": "code",
      "execution_count": 0,
      "metadata": {
        "colab": {},
        "colab_type": "code",
        "id": "ip9aJTFAoqtD"
      },
      "outputs": [],
      "source": [
        "clean_movies.head()"
      ]
    },
    {
      "cell_type": "code",
      "execution_count": 0,
      "metadata": {
        "colab": {},
        "colab_type": "code",
        "id": "lpBSTJSgrBeI"
      },
      "outputs": [],
      "source": [
        "mean_rating = ratings.groupby('movieId', as_index=False)[['movieId','rating']].mean()"
      ]
    },
    {
      "cell_type": "code",
      "execution_count": 0,
      "metadata": {
        "colab": {},
        "colab_type": "code",
        "id": "0H90gj1uxQgJ"
      },
      "outputs": [],
      "source": [
        "median_rating = ratings.groupby('movieId', as_index=False)[['movieId','rating']].median()\n"
      ]
    },
    {
      "cell_type": "code",
      "execution_count": 0,
      "metadata": {
        "colab": {},
        "colab_type": "code",
        "id": "FNF7K6AsyHqt"
      },
      "outputs": [],
      "source": [
        "avg_ratings = mean_rating.merge(median_rating, on =\"movieId\", suffixes = ('_mean', '_median'))"
      ]
    },
    {
      "cell_type": "code",
      "execution_count": 0,
      "metadata": {
        "colab": {},
        "colab_type": "code",
        "id": "qmmSma-DuOEW"
      },
      "outputs": [],
      "source": [
        "movie_ratings = clean_movies.merge(avg_ratings, left_on='id', right_on='movieId')"
      ]
    },
    {
      "cell_type": "code",
      "execution_count": 0,
      "metadata": {
        "colab": {},
        "colab_type": "code",
        "id": "CoHnW_uW6JaL"
      },
      "outputs": [],
      "source": [
        "movie_ratings.nlargest(10, 'rating_mean')"
      ]
    },
    {
      "cell_type": "code",
      "execution_count": 0,
      "metadata": {
        "colab": {},
        "colab_type": "code",
        "id": "2JdR4OKw2YTc"
      },
      "outputs": [],
      "source": [
        "movie_ratings['year'] = pd.to_datetime(clean_movies['release_date'], infer_datetime_format=True).dt.year"
      ]
    },
    {
      "cell_type": "code",
      "execution_count": 0,
      "metadata": {
        "colab": {},
        "colab_type": "code",
        "id": "6YpWfKHe0VTF"
      },
      "outputs": [],
      "source": [
        "top = [int(x) for x in movie_ratings.nlargest(5, 'rating_mean')['id'].to_list()]"
      ]
    },
    {
      "cell_type": "code",
      "execution_count": 0,
      "metadata": {
        "colab": {},
        "colab_type": "code",
        "id": "m_uOgakq3Y0I"
      },
      "outputs": [],
      "source": [
        "enable_plotly_in_cell()\n",
        "ratings[ratings['movieId'].isin(top)].boxplot( by= 'movieId', column ='rating')"
      ]
    },
    {
      "cell_type": "code",
      "execution_count": 0,
      "metadata": {
        "colab": {},
        "colab_type": "code",
        "id": "QmOCwlrq4CZD"
      },
      "outputs": [],
      "source": [
        "enable_plotly_in_cell()\n",
        "movie_ratings.groupby('year')['rating_mean'].mean().iplot(kind='bar')"
      ]
    },
    {
      "cell_type": "code",
      "execution_count": 0,
      "metadata": {
        "colab": {},
        "colab_type": "code",
        "id": "GL3lyM9R4jXO"
      },
      "outputs": [],
      "source": [
        "movie_ratings['decade'] = [x - (x%10) for x in movie_ratings['year']]"
      ]
    },
    {
      "cell_type": "code",
      "execution_count": 0,
      "metadata": {
        "colab": {},
        "colab_type": "code",
        "id": "9OpfC_vn5OV_"
      },
      "outputs": [],
      "source": [
        "enable_plotly_in_cell()\n",
        "movie_ratings.groupby('decade')['rating_mean'].mean().iplot(kind='bar')"
      ]
    },
    {
      "cell_type": "code",
      "execution_count": 0,
      "metadata": {
        "colab": {},
        "colab_type": "code",
        "id": "s2yrsrBY9yPe"
      },
      "outputs": [],
      "source": [
        "enable_plotly_in_cell()\n",
        "trace = go.Box(\n",
        "    x = movie_ratings['decade'],\n",
        "    y = movie_ratings['rating_mean'],\n",
        "    \n",
        ")\n",
        "go.Figure(trace)\n"
      ]
    },
    {
      "cell_type": "code",
      "execution_count": 0,
      "metadata": {
        "colab": {},
        "colab_type": "code",
        "id": "K6QtHbhp-Vyj"
      },
      "outputs": [],
      "source": [
        "enable_plotly_in_cell()\n",
        "trace = go.Box(\n",
        "    x = movie_ratings['year'],\n",
        "    y = movie_ratings['rating_median'],\n",
        "    \n",
        ")\n",
        "go.Figure(trace)"
      ]
    },
    {
      "cell_type": "code",
      "execution_count": 0,
      "metadata": {
        "colab": {},
        "colab_type": "code",
        "id": "X06j2mapAARC"
      },
      "outputs": [],
      "source": [
        "enable_plotly_in_cell()\n",
        "movie_ratings[['budget', 'rating_mean']].iplot(kind = 'scatter', x = 'budget', y = 'rating_mean')"
      ]
    },
    {
      "cell_type": "code",
      "execution_count": 0,
      "metadata": {
        "colab": {},
        "colab_type": "code",
        "id": "9t-qmeUdCMi-"
      },
      "outputs": [],
      "source": [
        ""
      ]
    }
  ]
}